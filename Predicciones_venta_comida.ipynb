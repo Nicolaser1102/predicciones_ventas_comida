{
  "nbformat": 4,
  "nbformat_minor": 0,
  "metadata": {
    "colab": {
      "name": "Predicciones_venta_comida.ipynb",
      "provenance": [],
      "collapsed_sections": [],
      "include_colab_link": true
    },
    "kernelspec": {
      "name": "python3",
      "display_name": "Python 3"
    },
    "language_info": {
      "name": "python"
    }
  },
  "cells": [
    {
      "cell_type": "markdown",
      "metadata": {
        "id": "view-in-github",
        "colab_type": "text"
      },
      "source": [
        "<a href=\"https://colab.research.google.com/github/Nicolaser1102/predicciones_ventas_comida/blob/main/Predicciones_venta_comida.ipynb\" target=\"_parent\"><img src=\"https://colab.research.google.com/assets/colab-badge.svg\" alt=\"Open In Colab\"/></a>"
      ]
    },
    {
      "cell_type": "markdown",
      "source": [
        "#CODING DOJO\n",
        "Fecha creación:15/1/2022\n",
        "\n",
        "Fecha de actualización: 6/2/2022\n",
        "\n",
        "Esteban Simbaña\n",
        "\n",
        "Proyecto 1 - Coding Dojo"
      ],
      "metadata": {
        "id": "33qGmYd5f7iy"
      }
    },
    {
      "cell_type": "code",
      "execution_count": 391,
      "metadata": {
        "colab": {
          "base_uri": "https://localhost:8080/"
        },
        "id": "Hfw9ktITvagr",
        "outputId": "204f6235-822d-4aca-ecfb-000270cfddab"
      },
      "outputs": [
        {
          "output_type": "stream",
          "name": "stdout",
          "text": [
            "Drive already mounted at /content/drive; to attempt to forcibly remount, call drive.mount(\"/content/drive\", force_remount=True).\n"
          ]
        }
      ],
      "source": [
        "from google.colab import drive\n",
        "drive.mount('/content/drive')\n"
      ]
    },
    {
      "cell_type": "code",
      "source": [
        "import numpy as np"
      ],
      "metadata": {
        "id": "swTb9m_5MuiO"
      },
      "execution_count": 459,
      "outputs": []
    },
    {
      "cell_type": "code",
      "source": [
        "import pandas as pd\n",
        "\n",
        "nombrearchivo = '/content/drive/MyDrive/Coding Dojo/Códigos/Solutions/data_sales/sales_predictions.csv'\n",
        "sales_predictions_df = pd.read_csv(nombrearchivo)\n",
        "sales_predictions_df1 = sales_predictions_df\n",
        "sales_predictions_df"
      ],
      "metadata": {
        "colab": {
          "base_uri": "https://localhost:8080/",
          "height": 641
        },
        "id": "Jkb_eVSwvoj3",
        "outputId": "7b6967b6-fe31-4dd4-e105-651114223de3"
      },
      "execution_count": 392,
      "outputs": [
        {
          "output_type": "execute_result",
          "data": {
            "text/html": [
              "\n",
              "  <div id=\"df-554c0b40-11e4-46c0-ae39-1e32372f30c7\">\n",
              "    <div class=\"colab-df-container\">\n",
              "      <div>\n",
              "<style scoped>\n",
              "    .dataframe tbody tr th:only-of-type {\n",
              "        vertical-align: middle;\n",
              "    }\n",
              "\n",
              "    .dataframe tbody tr th {\n",
              "        vertical-align: top;\n",
              "    }\n",
              "\n",
              "    .dataframe thead th {\n",
              "        text-align: right;\n",
              "    }\n",
              "</style>\n",
              "<table border=\"1\" class=\"dataframe\">\n",
              "  <thead>\n",
              "    <tr style=\"text-align: right;\">\n",
              "      <th></th>\n",
              "      <th>Item_Identifier</th>\n",
              "      <th>Item_Weight</th>\n",
              "      <th>Item_Fat_Content</th>\n",
              "      <th>Item_Visibility</th>\n",
              "      <th>Item_Type</th>\n",
              "      <th>Item_MRP</th>\n",
              "      <th>Outlet_Identifier</th>\n",
              "      <th>Outlet_Establishment_Year</th>\n",
              "      <th>Outlet_Size</th>\n",
              "      <th>Outlet_Location_Type</th>\n",
              "      <th>Outlet_Type</th>\n",
              "      <th>Item_Outlet_Sales</th>\n",
              "    </tr>\n",
              "  </thead>\n",
              "  <tbody>\n",
              "    <tr>\n",
              "      <th>0</th>\n",
              "      <td>FDA15</td>\n",
              "      <td>9.300</td>\n",
              "      <td>Low Fat</td>\n",
              "      <td>0.016047</td>\n",
              "      <td>Dairy</td>\n",
              "      <td>249.8092</td>\n",
              "      <td>OUT049</td>\n",
              "      <td>1999</td>\n",
              "      <td>Medium</td>\n",
              "      <td>Tier 1</td>\n",
              "      <td>Supermarket Type1</td>\n",
              "      <td>3735.1380</td>\n",
              "    </tr>\n",
              "    <tr>\n",
              "      <th>1</th>\n",
              "      <td>DRC01</td>\n",
              "      <td>5.920</td>\n",
              "      <td>Regular</td>\n",
              "      <td>0.019278</td>\n",
              "      <td>Soft Drinks</td>\n",
              "      <td>48.2692</td>\n",
              "      <td>OUT018</td>\n",
              "      <td>2009</td>\n",
              "      <td>Medium</td>\n",
              "      <td>Tier 3</td>\n",
              "      <td>Supermarket Type2</td>\n",
              "      <td>443.4228</td>\n",
              "    </tr>\n",
              "    <tr>\n",
              "      <th>2</th>\n",
              "      <td>FDN15</td>\n",
              "      <td>17.500</td>\n",
              "      <td>Low Fat</td>\n",
              "      <td>0.016760</td>\n",
              "      <td>Meat</td>\n",
              "      <td>141.6180</td>\n",
              "      <td>OUT049</td>\n",
              "      <td>1999</td>\n",
              "      <td>Medium</td>\n",
              "      <td>Tier 1</td>\n",
              "      <td>Supermarket Type1</td>\n",
              "      <td>2097.2700</td>\n",
              "    </tr>\n",
              "    <tr>\n",
              "      <th>3</th>\n",
              "      <td>FDX07</td>\n",
              "      <td>19.200</td>\n",
              "      <td>Regular</td>\n",
              "      <td>0.000000</td>\n",
              "      <td>Fruits and Vegetables</td>\n",
              "      <td>182.0950</td>\n",
              "      <td>OUT010</td>\n",
              "      <td>1998</td>\n",
              "      <td>NaN</td>\n",
              "      <td>Tier 3</td>\n",
              "      <td>Grocery Store</td>\n",
              "      <td>732.3800</td>\n",
              "    </tr>\n",
              "    <tr>\n",
              "      <th>4</th>\n",
              "      <td>NCD19</td>\n",
              "      <td>8.930</td>\n",
              "      <td>Low Fat</td>\n",
              "      <td>0.000000</td>\n",
              "      <td>Household</td>\n",
              "      <td>53.8614</td>\n",
              "      <td>OUT013</td>\n",
              "      <td>1987</td>\n",
              "      <td>High</td>\n",
              "      <td>Tier 3</td>\n",
              "      <td>Supermarket Type1</td>\n",
              "      <td>994.7052</td>\n",
              "    </tr>\n",
              "    <tr>\n",
              "      <th>...</th>\n",
              "      <td>...</td>\n",
              "      <td>...</td>\n",
              "      <td>...</td>\n",
              "      <td>...</td>\n",
              "      <td>...</td>\n",
              "      <td>...</td>\n",
              "      <td>...</td>\n",
              "      <td>...</td>\n",
              "      <td>...</td>\n",
              "      <td>...</td>\n",
              "      <td>...</td>\n",
              "      <td>...</td>\n",
              "    </tr>\n",
              "    <tr>\n",
              "      <th>8518</th>\n",
              "      <td>FDF22</td>\n",
              "      <td>6.865</td>\n",
              "      <td>Low Fat</td>\n",
              "      <td>0.056783</td>\n",
              "      <td>Snack Foods</td>\n",
              "      <td>214.5218</td>\n",
              "      <td>OUT013</td>\n",
              "      <td>1987</td>\n",
              "      <td>High</td>\n",
              "      <td>Tier 3</td>\n",
              "      <td>Supermarket Type1</td>\n",
              "      <td>2778.3834</td>\n",
              "    </tr>\n",
              "    <tr>\n",
              "      <th>8519</th>\n",
              "      <td>FDS36</td>\n",
              "      <td>8.380</td>\n",
              "      <td>Regular</td>\n",
              "      <td>0.046982</td>\n",
              "      <td>Baking Goods</td>\n",
              "      <td>108.1570</td>\n",
              "      <td>OUT045</td>\n",
              "      <td>2002</td>\n",
              "      <td>NaN</td>\n",
              "      <td>Tier 2</td>\n",
              "      <td>Supermarket Type1</td>\n",
              "      <td>549.2850</td>\n",
              "    </tr>\n",
              "    <tr>\n",
              "      <th>8520</th>\n",
              "      <td>NCJ29</td>\n",
              "      <td>10.600</td>\n",
              "      <td>Low Fat</td>\n",
              "      <td>0.035186</td>\n",
              "      <td>Health and Hygiene</td>\n",
              "      <td>85.1224</td>\n",
              "      <td>OUT035</td>\n",
              "      <td>2004</td>\n",
              "      <td>Small</td>\n",
              "      <td>Tier 2</td>\n",
              "      <td>Supermarket Type1</td>\n",
              "      <td>1193.1136</td>\n",
              "    </tr>\n",
              "    <tr>\n",
              "      <th>8521</th>\n",
              "      <td>FDN46</td>\n",
              "      <td>7.210</td>\n",
              "      <td>Regular</td>\n",
              "      <td>0.145221</td>\n",
              "      <td>Snack Foods</td>\n",
              "      <td>103.1332</td>\n",
              "      <td>OUT018</td>\n",
              "      <td>2009</td>\n",
              "      <td>Medium</td>\n",
              "      <td>Tier 3</td>\n",
              "      <td>Supermarket Type2</td>\n",
              "      <td>1845.5976</td>\n",
              "    </tr>\n",
              "    <tr>\n",
              "      <th>8522</th>\n",
              "      <td>DRG01</td>\n",
              "      <td>14.800</td>\n",
              "      <td>Low Fat</td>\n",
              "      <td>0.044878</td>\n",
              "      <td>Soft Drinks</td>\n",
              "      <td>75.4670</td>\n",
              "      <td>OUT046</td>\n",
              "      <td>1997</td>\n",
              "      <td>Small</td>\n",
              "      <td>Tier 1</td>\n",
              "      <td>Supermarket Type1</td>\n",
              "      <td>765.6700</td>\n",
              "    </tr>\n",
              "  </tbody>\n",
              "</table>\n",
              "<p>8523 rows × 12 columns</p>\n",
              "</div>\n",
              "      <button class=\"colab-df-convert\" onclick=\"convertToInteractive('df-554c0b40-11e4-46c0-ae39-1e32372f30c7')\"\n",
              "              title=\"Convert this dataframe to an interactive table.\"\n",
              "              style=\"display:none;\">\n",
              "        \n",
              "  <svg xmlns=\"http://www.w3.org/2000/svg\" height=\"24px\"viewBox=\"0 0 24 24\"\n",
              "       width=\"24px\">\n",
              "    <path d=\"M0 0h24v24H0V0z\" fill=\"none\"/>\n",
              "    <path d=\"M18.56 5.44l.94 2.06.94-2.06 2.06-.94-2.06-.94-.94-2.06-.94 2.06-2.06.94zm-11 1L8.5 8.5l.94-2.06 2.06-.94-2.06-.94L8.5 2.5l-.94 2.06-2.06.94zm10 10l.94 2.06.94-2.06 2.06-.94-2.06-.94-.94-2.06-.94 2.06-2.06.94z\"/><path d=\"M17.41 7.96l-1.37-1.37c-.4-.4-.92-.59-1.43-.59-.52 0-1.04.2-1.43.59L10.3 9.45l-7.72 7.72c-.78.78-.78 2.05 0 2.83L4 21.41c.39.39.9.59 1.41.59.51 0 1.02-.2 1.41-.59l7.78-7.78 2.81-2.81c.8-.78.8-2.07 0-2.86zM5.41 20L4 18.59l7.72-7.72 1.47 1.35L5.41 20z\"/>\n",
              "  </svg>\n",
              "      </button>\n",
              "      \n",
              "  <style>\n",
              "    .colab-df-container {\n",
              "      display:flex;\n",
              "      flex-wrap:wrap;\n",
              "      gap: 12px;\n",
              "    }\n",
              "\n",
              "    .colab-df-convert {\n",
              "      background-color: #E8F0FE;\n",
              "      border: none;\n",
              "      border-radius: 50%;\n",
              "      cursor: pointer;\n",
              "      display: none;\n",
              "      fill: #1967D2;\n",
              "      height: 32px;\n",
              "      padding: 0 0 0 0;\n",
              "      width: 32px;\n",
              "    }\n",
              "\n",
              "    .colab-df-convert:hover {\n",
              "      background-color: #E2EBFA;\n",
              "      box-shadow: 0px 1px 2px rgba(60, 64, 67, 0.3), 0px 1px 3px 1px rgba(60, 64, 67, 0.15);\n",
              "      fill: #174EA6;\n",
              "    }\n",
              "\n",
              "    [theme=dark] .colab-df-convert {\n",
              "      background-color: #3B4455;\n",
              "      fill: #D2E3FC;\n",
              "    }\n",
              "\n",
              "    [theme=dark] .colab-df-convert:hover {\n",
              "      background-color: #434B5C;\n",
              "      box-shadow: 0px 1px 3px 1px rgba(0, 0, 0, 0.15);\n",
              "      filter: drop-shadow(0px 1px 2px rgba(0, 0, 0, 0.3));\n",
              "      fill: #FFFFFF;\n",
              "    }\n",
              "  </style>\n",
              "\n",
              "      <script>\n",
              "        const buttonEl =\n",
              "          document.querySelector('#df-554c0b40-11e4-46c0-ae39-1e32372f30c7 button.colab-df-convert');\n",
              "        buttonEl.style.display =\n",
              "          google.colab.kernel.accessAllowed ? 'block' : 'none';\n",
              "\n",
              "        async function convertToInteractive(key) {\n",
              "          const element = document.querySelector('#df-554c0b40-11e4-46c0-ae39-1e32372f30c7');\n",
              "          const dataTable =\n",
              "            await google.colab.kernel.invokeFunction('convertToInteractive',\n",
              "                                                     [key], {});\n",
              "          if (!dataTable) return;\n",
              "\n",
              "          const docLinkHtml = 'Like what you see? Visit the ' +\n",
              "            '<a target=\"_blank\" href=https://colab.research.google.com/notebooks/data_table.ipynb>data table notebook</a>'\n",
              "            + ' to learn more about interactive tables.';\n",
              "          element.innerHTML = '';\n",
              "          dataTable['output_type'] = 'display_data';\n",
              "          await google.colab.output.renderOutput(dataTable, element);\n",
              "          const docLink = document.createElement('div');\n",
              "          docLink.innerHTML = docLinkHtml;\n",
              "          element.appendChild(docLink);\n",
              "        }\n",
              "      </script>\n",
              "    </div>\n",
              "  </div>\n",
              "  "
            ],
            "text/plain": [
              "     Item_Identifier  Item_Weight  ...        Outlet_Type  Item_Outlet_Sales\n",
              "0              FDA15        9.300  ...  Supermarket Type1          3735.1380\n",
              "1              DRC01        5.920  ...  Supermarket Type2           443.4228\n",
              "2              FDN15       17.500  ...  Supermarket Type1          2097.2700\n",
              "3              FDX07       19.200  ...      Grocery Store           732.3800\n",
              "4              NCD19        8.930  ...  Supermarket Type1           994.7052\n",
              "...              ...          ...  ...                ...                ...\n",
              "8518           FDF22        6.865  ...  Supermarket Type1          2778.3834\n",
              "8519           FDS36        8.380  ...  Supermarket Type1           549.2850\n",
              "8520           NCJ29       10.600  ...  Supermarket Type1          1193.1136\n",
              "8521           FDN46        7.210  ...  Supermarket Type2          1845.5976\n",
              "8522           DRG01       14.800  ...  Supermarket Type1           765.6700\n",
              "\n",
              "[8523 rows x 12 columns]"
            ]
          },
          "metadata": {},
          "execution_count": 392
        }
      ]
    },
    {
      "cell_type": "markdown",
      "source": [
        "Como inicio, se muestran los tipos de datos para su análisis "
      ],
      "metadata": {
        "id": "bOQ-DthXgIqB"
      }
    },
    {
      "cell_type": "code",
      "source": [
        "sales_predictions_df.info()"
      ],
      "metadata": {
        "colab": {
          "base_uri": "https://localhost:8080/"
        },
        "id": "gPxJmL6MgOBQ",
        "outputId": "4591ad52-eeb9-43a0-d756-5715318eb558"
      },
      "execution_count": 393,
      "outputs": [
        {
          "output_type": "stream",
          "name": "stdout",
          "text": [
            "<class 'pandas.core.frame.DataFrame'>\n",
            "RangeIndex: 8523 entries, 0 to 8522\n",
            "Data columns (total 12 columns):\n",
            " #   Column                     Non-Null Count  Dtype  \n",
            "---  ------                     --------------  -----  \n",
            " 0   Item_Identifier            8523 non-null   object \n",
            " 1   Item_Weight                7060 non-null   float64\n",
            " 2   Item_Fat_Content           8523 non-null   object \n",
            " 3   Item_Visibility            8523 non-null   float64\n",
            " 4   Item_Type                  8523 non-null   object \n",
            " 5   Item_MRP                   8523 non-null   float64\n",
            " 6   Outlet_Identifier          8523 non-null   object \n",
            " 7   Outlet_Establishment_Year  8523 non-null   int64  \n",
            " 8   Outlet_Size                6113 non-null   object \n",
            " 9   Outlet_Location_Type       8523 non-null   object \n",
            " 10  Outlet_Type                8523 non-null   object \n",
            " 11  Item_Outlet_Sales          8523 non-null   float64\n",
            "dtypes: float64(4), int64(1), object(7)\n",
            "memory usage: 799.2+ KB\n"
          ]
        }
      ]
    },
    {
      "cell_type": "markdown",
      "source": [
        "\n",
        "\n",
        "*   Como se puede observar los datos en total recogidos serían de \"8523\" de los cuales en la columna de ('Item_Weight' , 'Outlet_Size') se encuentran datos faltantes \n",
        "\n",
        "*   Por otro lado, también podemos asegurar que cada tipo de variables corresponde lógicamente con los datos presentados en la sales_datadf\n",
        "\n"
      ],
      "metadata": {
        "id": "wprpceCFgnBA"
      }
    },
    {
      "cell_type": "markdown",
      "source": [
        "#  Datos faltantes \n",
        "Ahora se analiza los datos faltantes"
      ],
      "metadata": {
        "id": "e3cVWYWPhgaD"
      }
    },
    {
      "cell_type": "code",
      "source": [
        "sales_predictions_df.isnull().sum()"
      ],
      "metadata": {
        "colab": {
          "base_uri": "https://localhost:8080/"
        },
        "id": "E5BSoFMRghi2",
        "outputId": "7b751bab-cdb8-40d0-c8a8-77184f0f2637"
      },
      "execution_count": 394,
      "outputs": [
        {
          "output_type": "execute_result",
          "data": {
            "text/plain": [
              "Item_Identifier                 0\n",
              "Item_Weight                  1463\n",
              "Item_Fat_Content                0\n",
              "Item_Visibility                 0\n",
              "Item_Type                       0\n",
              "Item_MRP                        0\n",
              "Outlet_Identifier               0\n",
              "Outlet_Establishment_Year       0\n",
              "Outlet_Size                  2410\n",
              "Outlet_Location_Type            0\n",
              "Outlet_Type                     0\n",
              "Item_Outlet_Sales               0\n",
              "dtype: int64"
            ]
          },
          "metadata": {},
          "execution_count": 394
        }
      ]
    },
    {
      "cell_type": "markdown",
      "source": [
        "Ahora se analiza que porcentaje de datos faltantes hay respectivamente "
      ],
      "metadata": {
        "id": "RZljeBigiRax"
      }
    },
    {
      "cell_type": "markdown",
      "source": [
        "Porcentaje datos faltantes de 'Item_Weight'"
      ],
      "metadata": {
        "id": "fBVWSstYl8u-"
      }
    },
    {
      "cell_type": "code",
      "source": [
        "item_weight_missing = pd.isnull(sales_predictions_df['Item_Weight']).sum()\n",
        "item_weight_missing #se guarda en una variable el total de datos faltantes "
      ],
      "metadata": {
        "colab": {
          "base_uri": "https://localhost:8080/"
        },
        "id": "ThlBdYDoiKZY",
        "outputId": "ed241210-5046-4c1f-cc6e-008e8916aa2d"
      },
      "execution_count": 395,
      "outputs": [
        {
          "output_type": "execute_result",
          "data": {
            "text/plain": [
              "1463"
            ]
          },
          "metadata": {},
          "execution_count": 395
        }
      ]
    },
    {
      "cell_type": "markdown",
      "source": [
        "Se dividen para el total de datos y se multiplican por \"100\""
      ],
      "metadata": {
        "id": "HX_LOao2i7Ay"
      }
    },
    {
      "cell_type": "code",
      "source": [
        "count_iw = sales_predictions_df['Item_Weight'].count()\n",
        "count_iw\n",
        "#como la funcion cuenta solo los datos que tienen valor\n",
        "#sumamos los datos para tener el total de datos"
      ],
      "metadata": {
        "colab": {
          "base_uri": "https://localhost:8080/"
        },
        "id": "8ZwtkBwgi5B-",
        "outputId": "7ce15ada-0713-4ce4-f472-c1c0425e3b8a"
      },
      "execution_count": 396,
      "outputs": [
        {
          "output_type": "execute_result",
          "data": {
            "text/plain": [
              "7060"
            ]
          },
          "metadata": {},
          "execution_count": 396
        }
      ]
    },
    {
      "cell_type": "code",
      "source": [
        "total_item_weight = item_weight_missing +  count_iw\n",
        "total_item_weight"
      ],
      "metadata": {
        "colab": {
          "base_uri": "https://localhost:8080/"
        },
        "id": "nNGdz9qbkjN4",
        "outputId": "9aa22456-f53b-468d-8dc5-cb30a1e2bd00"
      },
      "execution_count": 397,
      "outputs": [
        {
          "output_type": "execute_result",
          "data": {
            "text/plain": [
              "8523"
            ]
          },
          "metadata": {},
          "execution_count": 397
        }
      ]
    },
    {
      "cell_type": "code",
      "source": [
        "\n",
        "#ahora si realizamos la conversion a porcentaje\n",
        "prcent_iw_missing = (item_weight_missing/total_item_weight)*100\n",
        "prcent_iw_missing #17.16 es el porcentaje de valores faltantes en la columna 'Item_Weight'"
      ],
      "metadata": {
        "colab": {
          "base_uri": "https://localhost:8080/"
        },
        "id": "wySqZkOIht3K",
        "outputId": "3fd58e1b-4332-43e7-90f0-d628e9c20bfb"
      },
      "execution_count": 398,
      "outputs": [
        {
          "output_type": "execute_result",
          "data": {
            "text/plain": [
              "17.165317376510618"
            ]
          },
          "metadata": {},
          "execution_count": 398
        }
      ]
    },
    {
      "cell_type": "markdown",
      "source": [
        "Porcentaje datos faltantes en 'Outlet_Size'"
      ],
      "metadata": {
        "id": "E80P_jffmFii"
      }
    },
    {
      "cell_type": "code",
      "source": [
        "#ahora utilizaremos un método más automatizado para mostrar el porcentaje de datos de 'Outlet_Size'\n",
        "sales_predictions_df['Outlet_Size'].isna().sum()/len(sales_predictions_df)*100\n",
        "#nos muestra en pantalla el porcentaje total"
      ],
      "metadata": {
        "colab": {
          "base_uri": "https://localhost:8080/"
        },
        "id": "ziKEeET0lEU5",
        "outputId": "29a35762-66ee-4642-c80e-22cfcd489e0a"
      },
      "execution_count": 399,
      "outputs": [
        {
          "output_type": "execute_result",
          "data": {
            "text/plain": [
              "28.27642848762173"
            ]
          },
          "metadata": {},
          "execution_count": 399
        }
      ]
    },
    {
      "cell_type": "code",
      "source": [
        "#Mostramos todos los datos faltantes en porcentaje\n",
        "sales_predictions_df.isna().sum()/len(sales_predictions_df)*100"
      ],
      "metadata": {
        "colab": {
          "base_uri": "https://localhost:8080/"
        },
        "id": "HzcaB6WSmjwA",
        "outputId": "7f90379d-a07e-4cd9-eca7-b674ede28b9f"
      },
      "execution_count": 400,
      "outputs": [
        {
          "output_type": "execute_result",
          "data": {
            "text/plain": [
              "Item_Identifier               0.000000\n",
              "Item_Weight                  17.165317\n",
              "Item_Fat_Content              0.000000\n",
              "Item_Visibility               0.000000\n",
              "Item_Type                     0.000000\n",
              "Item_MRP                      0.000000\n",
              "Outlet_Identifier             0.000000\n",
              "Outlet_Establishment_Year     0.000000\n",
              "Outlet_Size                  28.276428\n",
              "Outlet_Location_Type          0.000000\n",
              "Outlet_Type                   0.000000\n",
              "Item_Outlet_Sales             0.000000\n",
              "dtype: float64"
            ]
          },
          "metadata": {},
          "execution_count": 400
        }
      ]
    },
    {
      "cell_type": "markdown",
      "source": [
        "\n",
        "*   Observamos que la variable 'Outlet_Size' tiene un 28% de datos faltantes por lo que se debería considerar eliminar la variable si no es prioritaria \n",
        "*  Mientras tanto, la variable 'Item_Weight' se podría inferir un dato para imputarlo a los datos faltantes.\n",
        "\n",
        "\n"
      ],
      "metadata": {
        "id": "Bi-MYIWHm9sp"
      }
    },
    {
      "cell_type": "markdown",
      "source": [
        "# Datos estadísticos "
      ],
      "metadata": {
        "id": "X2914XztnhzC"
      }
    },
    {
      "cell_type": "code",
      "source": [
        "#mostramos los datos estadísticos de la df\n",
        "sales_predictions_df.describe()"
      ],
      "metadata": {
        "colab": {
          "base_uri": "https://localhost:8080/",
          "height": 300
        },
        "id": "SQLXjOxJnqxM",
        "outputId": "0c01ab55-7d4b-4ab4-e977-fe68e80e9cc3"
      },
      "execution_count": 401,
      "outputs": [
        {
          "output_type": "execute_result",
          "data": {
            "text/html": [
              "\n",
              "  <div id=\"df-649a2269-8511-46d7-8ab9-09aa8cb82161\">\n",
              "    <div class=\"colab-df-container\">\n",
              "      <div>\n",
              "<style scoped>\n",
              "    .dataframe tbody tr th:only-of-type {\n",
              "        vertical-align: middle;\n",
              "    }\n",
              "\n",
              "    .dataframe tbody tr th {\n",
              "        vertical-align: top;\n",
              "    }\n",
              "\n",
              "    .dataframe thead th {\n",
              "        text-align: right;\n",
              "    }\n",
              "</style>\n",
              "<table border=\"1\" class=\"dataframe\">\n",
              "  <thead>\n",
              "    <tr style=\"text-align: right;\">\n",
              "      <th></th>\n",
              "      <th>Item_Weight</th>\n",
              "      <th>Item_Visibility</th>\n",
              "      <th>Item_MRP</th>\n",
              "      <th>Outlet_Establishment_Year</th>\n",
              "      <th>Item_Outlet_Sales</th>\n",
              "    </tr>\n",
              "  </thead>\n",
              "  <tbody>\n",
              "    <tr>\n",
              "      <th>count</th>\n",
              "      <td>7060.000000</td>\n",
              "      <td>8523.000000</td>\n",
              "      <td>8523.000000</td>\n",
              "      <td>8523.000000</td>\n",
              "      <td>8523.000000</td>\n",
              "    </tr>\n",
              "    <tr>\n",
              "      <th>mean</th>\n",
              "      <td>12.857645</td>\n",
              "      <td>0.066132</td>\n",
              "      <td>140.992782</td>\n",
              "      <td>1997.831867</td>\n",
              "      <td>2181.288914</td>\n",
              "    </tr>\n",
              "    <tr>\n",
              "      <th>std</th>\n",
              "      <td>4.643456</td>\n",
              "      <td>0.051598</td>\n",
              "      <td>62.275067</td>\n",
              "      <td>8.371760</td>\n",
              "      <td>1706.499616</td>\n",
              "    </tr>\n",
              "    <tr>\n",
              "      <th>min</th>\n",
              "      <td>4.555000</td>\n",
              "      <td>0.000000</td>\n",
              "      <td>31.290000</td>\n",
              "      <td>1985.000000</td>\n",
              "      <td>33.290000</td>\n",
              "    </tr>\n",
              "    <tr>\n",
              "      <th>25%</th>\n",
              "      <td>8.773750</td>\n",
              "      <td>0.026989</td>\n",
              "      <td>93.826500</td>\n",
              "      <td>1987.000000</td>\n",
              "      <td>834.247400</td>\n",
              "    </tr>\n",
              "    <tr>\n",
              "      <th>50%</th>\n",
              "      <td>12.600000</td>\n",
              "      <td>0.053931</td>\n",
              "      <td>143.012800</td>\n",
              "      <td>1999.000000</td>\n",
              "      <td>1794.331000</td>\n",
              "    </tr>\n",
              "    <tr>\n",
              "      <th>75%</th>\n",
              "      <td>16.850000</td>\n",
              "      <td>0.094585</td>\n",
              "      <td>185.643700</td>\n",
              "      <td>2004.000000</td>\n",
              "      <td>3101.296400</td>\n",
              "    </tr>\n",
              "    <tr>\n",
              "      <th>max</th>\n",
              "      <td>21.350000</td>\n",
              "      <td>0.328391</td>\n",
              "      <td>266.888400</td>\n",
              "      <td>2009.000000</td>\n",
              "      <td>13086.964800</td>\n",
              "    </tr>\n",
              "  </tbody>\n",
              "</table>\n",
              "</div>\n",
              "      <button class=\"colab-df-convert\" onclick=\"convertToInteractive('df-649a2269-8511-46d7-8ab9-09aa8cb82161')\"\n",
              "              title=\"Convert this dataframe to an interactive table.\"\n",
              "              style=\"display:none;\">\n",
              "        \n",
              "  <svg xmlns=\"http://www.w3.org/2000/svg\" height=\"24px\"viewBox=\"0 0 24 24\"\n",
              "       width=\"24px\">\n",
              "    <path d=\"M0 0h24v24H0V0z\" fill=\"none\"/>\n",
              "    <path d=\"M18.56 5.44l.94 2.06.94-2.06 2.06-.94-2.06-.94-.94-2.06-.94 2.06-2.06.94zm-11 1L8.5 8.5l.94-2.06 2.06-.94-2.06-.94L8.5 2.5l-.94 2.06-2.06.94zm10 10l.94 2.06.94-2.06 2.06-.94-2.06-.94-.94-2.06-.94 2.06-2.06.94z\"/><path d=\"M17.41 7.96l-1.37-1.37c-.4-.4-.92-.59-1.43-.59-.52 0-1.04.2-1.43.59L10.3 9.45l-7.72 7.72c-.78.78-.78 2.05 0 2.83L4 21.41c.39.39.9.59 1.41.59.51 0 1.02-.2 1.41-.59l7.78-7.78 2.81-2.81c.8-.78.8-2.07 0-2.86zM5.41 20L4 18.59l7.72-7.72 1.47 1.35L5.41 20z\"/>\n",
              "  </svg>\n",
              "      </button>\n",
              "      \n",
              "  <style>\n",
              "    .colab-df-container {\n",
              "      display:flex;\n",
              "      flex-wrap:wrap;\n",
              "      gap: 12px;\n",
              "    }\n",
              "\n",
              "    .colab-df-convert {\n",
              "      background-color: #E8F0FE;\n",
              "      border: none;\n",
              "      border-radius: 50%;\n",
              "      cursor: pointer;\n",
              "      display: none;\n",
              "      fill: #1967D2;\n",
              "      height: 32px;\n",
              "      padding: 0 0 0 0;\n",
              "      width: 32px;\n",
              "    }\n",
              "\n",
              "    .colab-df-convert:hover {\n",
              "      background-color: #E2EBFA;\n",
              "      box-shadow: 0px 1px 2px rgba(60, 64, 67, 0.3), 0px 1px 3px 1px rgba(60, 64, 67, 0.15);\n",
              "      fill: #174EA6;\n",
              "    }\n",
              "\n",
              "    [theme=dark] .colab-df-convert {\n",
              "      background-color: #3B4455;\n",
              "      fill: #D2E3FC;\n",
              "    }\n",
              "\n",
              "    [theme=dark] .colab-df-convert:hover {\n",
              "      background-color: #434B5C;\n",
              "      box-shadow: 0px 1px 3px 1px rgba(0, 0, 0, 0.15);\n",
              "      filter: drop-shadow(0px 1px 2px rgba(0, 0, 0, 0.3));\n",
              "      fill: #FFFFFF;\n",
              "    }\n",
              "  </style>\n",
              "\n",
              "      <script>\n",
              "        const buttonEl =\n",
              "          document.querySelector('#df-649a2269-8511-46d7-8ab9-09aa8cb82161 button.colab-df-convert');\n",
              "        buttonEl.style.display =\n",
              "          google.colab.kernel.accessAllowed ? 'block' : 'none';\n",
              "\n",
              "        async function convertToInteractive(key) {\n",
              "          const element = document.querySelector('#df-649a2269-8511-46d7-8ab9-09aa8cb82161');\n",
              "          const dataTable =\n",
              "            await google.colab.kernel.invokeFunction('convertToInteractive',\n",
              "                                                     [key], {});\n",
              "          if (!dataTable) return;\n",
              "\n",
              "          const docLinkHtml = 'Like what you see? Visit the ' +\n",
              "            '<a target=\"_blank\" href=https://colab.research.google.com/notebooks/data_table.ipynb>data table notebook</a>'\n",
              "            + ' to learn more about interactive tables.';\n",
              "          element.innerHTML = '';\n",
              "          dataTable['output_type'] = 'display_data';\n",
              "          await google.colab.output.renderOutput(dataTable, element);\n",
              "          const docLink = document.createElement('div');\n",
              "          docLink.innerHTML = docLinkHtml;\n",
              "          element.appendChild(docLink);\n",
              "        }\n",
              "      </script>\n",
              "    </div>\n",
              "  </div>\n",
              "  "
            ],
            "text/plain": [
              "       Item_Weight  ...  Item_Outlet_Sales\n",
              "count  7060.000000  ...        8523.000000\n",
              "mean     12.857645  ...        2181.288914\n",
              "std       4.643456  ...        1706.499616\n",
              "min       4.555000  ...          33.290000\n",
              "25%       8.773750  ...         834.247400\n",
              "50%      12.600000  ...        1794.331000\n",
              "75%      16.850000  ...        3101.296400\n",
              "max      21.350000  ...       13086.964800\n",
              "\n",
              "[8 rows x 5 columns]"
            ]
          },
          "metadata": {},
          "execution_count": 401
        }
      ]
    },
    {
      "cell_type": "markdown",
      "source": [
        "\n",
        "\n",
        "1.   Se observa que la variable 'Item Weight' (la variable que tiene datos faltantes que podrían ser modificados) no esta tan dispersa con una variación estándar \"std\" de 4,64 \n",
        "2.   La variable 'Oulet_Size' no se muestra por ser una variable categórica \n",
        "3. Se nota que hay una gran variación entre los datos de 'Item_Oulet_Sales' pero no hay gran problema porque tiene sentido su variación ya que pueden haber productos que se vendieron más o menos, debido a su popularidad, necesidad del cliente,etc.\n"
      ],
      "metadata": {
        "id": "XFbIjSsCnbiA"
      }
    },
    {
      "cell_type": "markdown",
      "source": [
        "# Rellenar datos faltantes "
      ],
      "metadata": {
        "id": "OFpBEpEFo9pC"
      }
    },
    {
      "cell_type": "markdown",
      "source": [
        "Como se mostró anteriormente se puede modificar los datos faltantes de la variable 'Item_Weight'\n",
        "Ya que es una variable de tipo númerica se puede optar por reemplazar los datos por el promedio \"mean\" de la variable."
      ],
      "metadata": {
        "id": "YEOLPQ7epBDL"
      }
    },
    {
      "cell_type": "code",
      "source": [
        "#mostramos en una variable el promedio de la columna 'Item_Weight'\n",
        "mean_Item_Weight = sales_predictions_df1['Item_Weight'].mean()\n",
        "mean_Item_Weight"
      ],
      "metadata": {
        "colab": {
          "base_uri": "https://localhost:8080/"
        },
        "id": "afzaGMOSm4S7",
        "outputId": "12555fda-ad67-48e6-ae10-12efbfd9596b"
      },
      "execution_count": 402,
      "outputs": [
        {
          "output_type": "execute_result",
          "data": {
            "text/plain": [
              "12.857645184136183"
            ]
          },
          "metadata": {},
          "execution_count": 402
        }
      ]
    },
    {
      "cell_type": "code",
      "source": [
        "#ahora reemplazamos en sales_prediction_df1\n",
        "sales_predictions_df1['Item_Weight'] = sales_predictions_df1['Item_Weight'].fillna(mean_Item_Weight)\n",
        "sales_predictions_df1.head()"
      ],
      "metadata": {
        "colab": {
          "base_uri": "https://localhost:8080/",
          "height": 337
        },
        "id": "ZfAh_YaGpkqx",
        "outputId": "879e7231-a6f9-4635-9b02-01c688a3b28e"
      },
      "execution_count": 403,
      "outputs": [
        {
          "output_type": "execute_result",
          "data": {
            "text/html": [
              "\n",
              "  <div id=\"df-3d15ec4c-d19a-4120-a741-796dac3948cc\">\n",
              "    <div class=\"colab-df-container\">\n",
              "      <div>\n",
              "<style scoped>\n",
              "    .dataframe tbody tr th:only-of-type {\n",
              "        vertical-align: middle;\n",
              "    }\n",
              "\n",
              "    .dataframe tbody tr th {\n",
              "        vertical-align: top;\n",
              "    }\n",
              "\n",
              "    .dataframe thead th {\n",
              "        text-align: right;\n",
              "    }\n",
              "</style>\n",
              "<table border=\"1\" class=\"dataframe\">\n",
              "  <thead>\n",
              "    <tr style=\"text-align: right;\">\n",
              "      <th></th>\n",
              "      <th>Item_Identifier</th>\n",
              "      <th>Item_Weight</th>\n",
              "      <th>Item_Fat_Content</th>\n",
              "      <th>Item_Visibility</th>\n",
              "      <th>Item_Type</th>\n",
              "      <th>Item_MRP</th>\n",
              "      <th>Outlet_Identifier</th>\n",
              "      <th>Outlet_Establishment_Year</th>\n",
              "      <th>Outlet_Size</th>\n",
              "      <th>Outlet_Location_Type</th>\n",
              "      <th>Outlet_Type</th>\n",
              "      <th>Item_Outlet_Sales</th>\n",
              "    </tr>\n",
              "  </thead>\n",
              "  <tbody>\n",
              "    <tr>\n",
              "      <th>0</th>\n",
              "      <td>FDA15</td>\n",
              "      <td>9.30</td>\n",
              "      <td>Low Fat</td>\n",
              "      <td>0.016047</td>\n",
              "      <td>Dairy</td>\n",
              "      <td>249.8092</td>\n",
              "      <td>OUT049</td>\n",
              "      <td>1999</td>\n",
              "      <td>Medium</td>\n",
              "      <td>Tier 1</td>\n",
              "      <td>Supermarket Type1</td>\n",
              "      <td>3735.1380</td>\n",
              "    </tr>\n",
              "    <tr>\n",
              "      <th>1</th>\n",
              "      <td>DRC01</td>\n",
              "      <td>5.92</td>\n",
              "      <td>Regular</td>\n",
              "      <td>0.019278</td>\n",
              "      <td>Soft Drinks</td>\n",
              "      <td>48.2692</td>\n",
              "      <td>OUT018</td>\n",
              "      <td>2009</td>\n",
              "      <td>Medium</td>\n",
              "      <td>Tier 3</td>\n",
              "      <td>Supermarket Type2</td>\n",
              "      <td>443.4228</td>\n",
              "    </tr>\n",
              "    <tr>\n",
              "      <th>2</th>\n",
              "      <td>FDN15</td>\n",
              "      <td>17.50</td>\n",
              "      <td>Low Fat</td>\n",
              "      <td>0.016760</td>\n",
              "      <td>Meat</td>\n",
              "      <td>141.6180</td>\n",
              "      <td>OUT049</td>\n",
              "      <td>1999</td>\n",
              "      <td>Medium</td>\n",
              "      <td>Tier 1</td>\n",
              "      <td>Supermarket Type1</td>\n",
              "      <td>2097.2700</td>\n",
              "    </tr>\n",
              "    <tr>\n",
              "      <th>3</th>\n",
              "      <td>FDX07</td>\n",
              "      <td>19.20</td>\n",
              "      <td>Regular</td>\n",
              "      <td>0.000000</td>\n",
              "      <td>Fruits and Vegetables</td>\n",
              "      <td>182.0950</td>\n",
              "      <td>OUT010</td>\n",
              "      <td>1998</td>\n",
              "      <td>NaN</td>\n",
              "      <td>Tier 3</td>\n",
              "      <td>Grocery Store</td>\n",
              "      <td>732.3800</td>\n",
              "    </tr>\n",
              "    <tr>\n",
              "      <th>4</th>\n",
              "      <td>NCD19</td>\n",
              "      <td>8.93</td>\n",
              "      <td>Low Fat</td>\n",
              "      <td>0.000000</td>\n",
              "      <td>Household</td>\n",
              "      <td>53.8614</td>\n",
              "      <td>OUT013</td>\n",
              "      <td>1987</td>\n",
              "      <td>High</td>\n",
              "      <td>Tier 3</td>\n",
              "      <td>Supermarket Type1</td>\n",
              "      <td>994.7052</td>\n",
              "    </tr>\n",
              "  </tbody>\n",
              "</table>\n",
              "</div>\n",
              "      <button class=\"colab-df-convert\" onclick=\"convertToInteractive('df-3d15ec4c-d19a-4120-a741-796dac3948cc')\"\n",
              "              title=\"Convert this dataframe to an interactive table.\"\n",
              "              style=\"display:none;\">\n",
              "        \n",
              "  <svg xmlns=\"http://www.w3.org/2000/svg\" height=\"24px\"viewBox=\"0 0 24 24\"\n",
              "       width=\"24px\">\n",
              "    <path d=\"M0 0h24v24H0V0z\" fill=\"none\"/>\n",
              "    <path d=\"M18.56 5.44l.94 2.06.94-2.06 2.06-.94-2.06-.94-.94-2.06-.94 2.06-2.06.94zm-11 1L8.5 8.5l.94-2.06 2.06-.94-2.06-.94L8.5 2.5l-.94 2.06-2.06.94zm10 10l.94 2.06.94-2.06 2.06-.94-2.06-.94-.94-2.06-.94 2.06-2.06.94z\"/><path d=\"M17.41 7.96l-1.37-1.37c-.4-.4-.92-.59-1.43-.59-.52 0-1.04.2-1.43.59L10.3 9.45l-7.72 7.72c-.78.78-.78 2.05 0 2.83L4 21.41c.39.39.9.59 1.41.59.51 0 1.02-.2 1.41-.59l7.78-7.78 2.81-2.81c.8-.78.8-2.07 0-2.86zM5.41 20L4 18.59l7.72-7.72 1.47 1.35L5.41 20z\"/>\n",
              "  </svg>\n",
              "      </button>\n",
              "      \n",
              "  <style>\n",
              "    .colab-df-container {\n",
              "      display:flex;\n",
              "      flex-wrap:wrap;\n",
              "      gap: 12px;\n",
              "    }\n",
              "\n",
              "    .colab-df-convert {\n",
              "      background-color: #E8F0FE;\n",
              "      border: none;\n",
              "      border-radius: 50%;\n",
              "      cursor: pointer;\n",
              "      display: none;\n",
              "      fill: #1967D2;\n",
              "      height: 32px;\n",
              "      padding: 0 0 0 0;\n",
              "      width: 32px;\n",
              "    }\n",
              "\n",
              "    .colab-df-convert:hover {\n",
              "      background-color: #E2EBFA;\n",
              "      box-shadow: 0px 1px 2px rgba(60, 64, 67, 0.3), 0px 1px 3px 1px rgba(60, 64, 67, 0.15);\n",
              "      fill: #174EA6;\n",
              "    }\n",
              "\n",
              "    [theme=dark] .colab-df-convert {\n",
              "      background-color: #3B4455;\n",
              "      fill: #D2E3FC;\n",
              "    }\n",
              "\n",
              "    [theme=dark] .colab-df-convert:hover {\n",
              "      background-color: #434B5C;\n",
              "      box-shadow: 0px 1px 3px 1px rgba(0, 0, 0, 0.15);\n",
              "      filter: drop-shadow(0px 1px 2px rgba(0, 0, 0, 0.3));\n",
              "      fill: #FFFFFF;\n",
              "    }\n",
              "  </style>\n",
              "\n",
              "      <script>\n",
              "        const buttonEl =\n",
              "          document.querySelector('#df-3d15ec4c-d19a-4120-a741-796dac3948cc button.colab-df-convert');\n",
              "        buttonEl.style.display =\n",
              "          google.colab.kernel.accessAllowed ? 'block' : 'none';\n",
              "\n",
              "        async function convertToInteractive(key) {\n",
              "          const element = document.querySelector('#df-3d15ec4c-d19a-4120-a741-796dac3948cc');\n",
              "          const dataTable =\n",
              "            await google.colab.kernel.invokeFunction('convertToInteractive',\n",
              "                                                     [key], {});\n",
              "          if (!dataTable) return;\n",
              "\n",
              "          const docLinkHtml = 'Like what you see? Visit the ' +\n",
              "            '<a target=\"_blank\" href=https://colab.research.google.com/notebooks/data_table.ipynb>data table notebook</a>'\n",
              "            + ' to learn more about interactive tables.';\n",
              "          element.innerHTML = '';\n",
              "          dataTable['output_type'] = 'display_data';\n",
              "          await google.colab.output.renderOutput(dataTable, element);\n",
              "          const docLink = document.createElement('div');\n",
              "          docLink.innerHTML = docLinkHtml;\n",
              "          element.appendChild(docLink);\n",
              "        }\n",
              "      </script>\n",
              "    </div>\n",
              "  </div>\n",
              "  "
            ],
            "text/plain": [
              "  Item_Identifier  Item_Weight  ...        Outlet_Type  Item_Outlet_Sales\n",
              "0           FDA15         9.30  ...  Supermarket Type1          3735.1380\n",
              "1           DRC01         5.92  ...  Supermarket Type2           443.4228\n",
              "2           FDN15        17.50  ...  Supermarket Type1          2097.2700\n",
              "3           FDX07        19.20  ...      Grocery Store           732.3800\n",
              "4           NCD19         8.93  ...  Supermarket Type1           994.7052\n",
              "\n",
              "[5 rows x 12 columns]"
            ]
          },
          "metadata": {},
          "execution_count": 403
        }
      ]
    },
    {
      "cell_type": "code",
      "source": [
        "#verificamos los datos faltantes\n",
        "sales_predictions_df1.isna().sum()"
      ],
      "metadata": {
        "colab": {
          "base_uri": "https://localhost:8080/"
        },
        "id": "_n6PBKpJp8Mk",
        "outputId": "10d366c3-4b6d-4c23-a32e-df2677da2d08"
      },
      "execution_count": 404,
      "outputs": [
        {
          "output_type": "execute_result",
          "data": {
            "text/plain": [
              "Item_Identifier                 0\n",
              "Item_Weight                     0\n",
              "Item_Fat_Content                0\n",
              "Item_Visibility                 0\n",
              "Item_Type                       0\n",
              "Item_MRP                        0\n",
              "Outlet_Identifier               0\n",
              "Outlet_Establishment_Year       0\n",
              "Outlet_Size                  2410\n",
              "Outlet_Location_Type            0\n",
              "Outlet_Type                     0\n",
              "Item_Outlet_Sales               0\n",
              "dtype: int64"
            ]
          },
          "metadata": {},
          "execution_count": 404
        }
      ]
    },
    {
      "cell_type": "markdown",
      "source": [
        "# Eliminar datos faltantes\n"
      ],
      "metadata": {
        "id": "ZptH7rCwtBpW"
      }
    },
    {
      "cell_type": "markdown",
      "source": [
        "Eliminamos las filas con variables faltantes en la columna de 'Oulet_Size'"
      ],
      "metadata": {
        "id": "J2qmiyy3tGX_"
      }
    },
    {
      "cell_type": "code",
      "source": [
        "sales_predictions_df1 = sales_predictions_df1.dropna(subset=['Outlet_Size'])\n",
        "sales_predictions_df1.head()"
      ],
      "metadata": {
        "colab": {
          "base_uri": "https://localhost:8080/",
          "height": 250
        },
        "id": "dvj2kTEntNf3",
        "outputId": "179104df-b997-42a4-c879-cf0f3c39c1d6"
      },
      "execution_count": 405,
      "outputs": [
        {
          "output_type": "execute_result",
          "data": {
            "text/html": [
              "\n",
              "  <div id=\"df-30f90d19-f335-408e-af01-b6e121a686c8\">\n",
              "    <div class=\"colab-df-container\">\n",
              "      <div>\n",
              "<style scoped>\n",
              "    .dataframe tbody tr th:only-of-type {\n",
              "        vertical-align: middle;\n",
              "    }\n",
              "\n",
              "    .dataframe tbody tr th {\n",
              "        vertical-align: top;\n",
              "    }\n",
              "\n",
              "    .dataframe thead th {\n",
              "        text-align: right;\n",
              "    }\n",
              "</style>\n",
              "<table border=\"1\" class=\"dataframe\">\n",
              "  <thead>\n",
              "    <tr style=\"text-align: right;\">\n",
              "      <th></th>\n",
              "      <th>Item_Identifier</th>\n",
              "      <th>Item_Weight</th>\n",
              "      <th>Item_Fat_Content</th>\n",
              "      <th>Item_Visibility</th>\n",
              "      <th>Item_Type</th>\n",
              "      <th>Item_MRP</th>\n",
              "      <th>Outlet_Identifier</th>\n",
              "      <th>Outlet_Establishment_Year</th>\n",
              "      <th>Outlet_Size</th>\n",
              "      <th>Outlet_Location_Type</th>\n",
              "      <th>Outlet_Type</th>\n",
              "      <th>Item_Outlet_Sales</th>\n",
              "    </tr>\n",
              "  </thead>\n",
              "  <tbody>\n",
              "    <tr>\n",
              "      <th>0</th>\n",
              "      <td>FDA15</td>\n",
              "      <td>9.300</td>\n",
              "      <td>Low Fat</td>\n",
              "      <td>0.016047</td>\n",
              "      <td>Dairy</td>\n",
              "      <td>249.8092</td>\n",
              "      <td>OUT049</td>\n",
              "      <td>1999</td>\n",
              "      <td>Medium</td>\n",
              "      <td>Tier 1</td>\n",
              "      <td>Supermarket Type1</td>\n",
              "      <td>3735.1380</td>\n",
              "    </tr>\n",
              "    <tr>\n",
              "      <th>1</th>\n",
              "      <td>DRC01</td>\n",
              "      <td>5.920</td>\n",
              "      <td>Regular</td>\n",
              "      <td>0.019278</td>\n",
              "      <td>Soft Drinks</td>\n",
              "      <td>48.2692</td>\n",
              "      <td>OUT018</td>\n",
              "      <td>2009</td>\n",
              "      <td>Medium</td>\n",
              "      <td>Tier 3</td>\n",
              "      <td>Supermarket Type2</td>\n",
              "      <td>443.4228</td>\n",
              "    </tr>\n",
              "    <tr>\n",
              "      <th>2</th>\n",
              "      <td>FDN15</td>\n",
              "      <td>17.500</td>\n",
              "      <td>Low Fat</td>\n",
              "      <td>0.016760</td>\n",
              "      <td>Meat</td>\n",
              "      <td>141.6180</td>\n",
              "      <td>OUT049</td>\n",
              "      <td>1999</td>\n",
              "      <td>Medium</td>\n",
              "      <td>Tier 1</td>\n",
              "      <td>Supermarket Type1</td>\n",
              "      <td>2097.2700</td>\n",
              "    </tr>\n",
              "    <tr>\n",
              "      <th>4</th>\n",
              "      <td>NCD19</td>\n",
              "      <td>8.930</td>\n",
              "      <td>Low Fat</td>\n",
              "      <td>0.000000</td>\n",
              "      <td>Household</td>\n",
              "      <td>53.8614</td>\n",
              "      <td>OUT013</td>\n",
              "      <td>1987</td>\n",
              "      <td>High</td>\n",
              "      <td>Tier 3</td>\n",
              "      <td>Supermarket Type1</td>\n",
              "      <td>994.7052</td>\n",
              "    </tr>\n",
              "    <tr>\n",
              "      <th>5</th>\n",
              "      <td>FDP36</td>\n",
              "      <td>10.395</td>\n",
              "      <td>Regular</td>\n",
              "      <td>0.000000</td>\n",
              "      <td>Baking Goods</td>\n",
              "      <td>51.4008</td>\n",
              "      <td>OUT018</td>\n",
              "      <td>2009</td>\n",
              "      <td>Medium</td>\n",
              "      <td>Tier 3</td>\n",
              "      <td>Supermarket Type2</td>\n",
              "      <td>556.6088</td>\n",
              "    </tr>\n",
              "  </tbody>\n",
              "</table>\n",
              "</div>\n",
              "      <button class=\"colab-df-convert\" onclick=\"convertToInteractive('df-30f90d19-f335-408e-af01-b6e121a686c8')\"\n",
              "              title=\"Convert this dataframe to an interactive table.\"\n",
              "              style=\"display:none;\">\n",
              "        \n",
              "  <svg xmlns=\"http://www.w3.org/2000/svg\" height=\"24px\"viewBox=\"0 0 24 24\"\n",
              "       width=\"24px\">\n",
              "    <path d=\"M0 0h24v24H0V0z\" fill=\"none\"/>\n",
              "    <path d=\"M18.56 5.44l.94 2.06.94-2.06 2.06-.94-2.06-.94-.94-2.06-.94 2.06-2.06.94zm-11 1L8.5 8.5l.94-2.06 2.06-.94-2.06-.94L8.5 2.5l-.94 2.06-2.06.94zm10 10l.94 2.06.94-2.06 2.06-.94-2.06-.94-.94-2.06-.94 2.06-2.06.94z\"/><path d=\"M17.41 7.96l-1.37-1.37c-.4-.4-.92-.59-1.43-.59-.52 0-1.04.2-1.43.59L10.3 9.45l-7.72 7.72c-.78.78-.78 2.05 0 2.83L4 21.41c.39.39.9.59 1.41.59.51 0 1.02-.2 1.41-.59l7.78-7.78 2.81-2.81c.8-.78.8-2.07 0-2.86zM5.41 20L4 18.59l7.72-7.72 1.47 1.35L5.41 20z\"/>\n",
              "  </svg>\n",
              "      </button>\n",
              "      \n",
              "  <style>\n",
              "    .colab-df-container {\n",
              "      display:flex;\n",
              "      flex-wrap:wrap;\n",
              "      gap: 12px;\n",
              "    }\n",
              "\n",
              "    .colab-df-convert {\n",
              "      background-color: #E8F0FE;\n",
              "      border: none;\n",
              "      border-radius: 50%;\n",
              "      cursor: pointer;\n",
              "      display: none;\n",
              "      fill: #1967D2;\n",
              "      height: 32px;\n",
              "      padding: 0 0 0 0;\n",
              "      width: 32px;\n",
              "    }\n",
              "\n",
              "    .colab-df-convert:hover {\n",
              "      background-color: #E2EBFA;\n",
              "      box-shadow: 0px 1px 2px rgba(60, 64, 67, 0.3), 0px 1px 3px 1px rgba(60, 64, 67, 0.15);\n",
              "      fill: #174EA6;\n",
              "    }\n",
              "\n",
              "    [theme=dark] .colab-df-convert {\n",
              "      background-color: #3B4455;\n",
              "      fill: #D2E3FC;\n",
              "    }\n",
              "\n",
              "    [theme=dark] .colab-df-convert:hover {\n",
              "      background-color: #434B5C;\n",
              "      box-shadow: 0px 1px 3px 1px rgba(0, 0, 0, 0.15);\n",
              "      filter: drop-shadow(0px 1px 2px rgba(0, 0, 0, 0.3));\n",
              "      fill: #FFFFFF;\n",
              "    }\n",
              "  </style>\n",
              "\n",
              "      <script>\n",
              "        const buttonEl =\n",
              "          document.querySelector('#df-30f90d19-f335-408e-af01-b6e121a686c8 button.colab-df-convert');\n",
              "        buttonEl.style.display =\n",
              "          google.colab.kernel.accessAllowed ? 'block' : 'none';\n",
              "\n",
              "        async function convertToInteractive(key) {\n",
              "          const element = document.querySelector('#df-30f90d19-f335-408e-af01-b6e121a686c8');\n",
              "          const dataTable =\n",
              "            await google.colab.kernel.invokeFunction('convertToInteractive',\n",
              "                                                     [key], {});\n",
              "          if (!dataTable) return;\n",
              "\n",
              "          const docLinkHtml = 'Like what you see? Visit the ' +\n",
              "            '<a target=\"_blank\" href=https://colab.research.google.com/notebooks/data_table.ipynb>data table notebook</a>'\n",
              "            + ' to learn more about interactive tables.';\n",
              "          element.innerHTML = '';\n",
              "          dataTable['output_type'] = 'display_data';\n",
              "          await google.colab.output.renderOutput(dataTable, element);\n",
              "          const docLink = document.createElement('div');\n",
              "          docLink.innerHTML = docLinkHtml;\n",
              "          element.appendChild(docLink);\n",
              "        }\n",
              "      </script>\n",
              "    </div>\n",
              "  </div>\n",
              "  "
            ],
            "text/plain": [
              "  Item_Identifier  Item_Weight  ...        Outlet_Type  Item_Outlet_Sales\n",
              "0           FDA15        9.300  ...  Supermarket Type1          3735.1380\n",
              "1           DRC01        5.920  ...  Supermarket Type2           443.4228\n",
              "2           FDN15       17.500  ...  Supermarket Type1          2097.2700\n",
              "4           NCD19        8.930  ...  Supermarket Type1           994.7052\n",
              "5           FDP36       10.395  ...  Supermarket Type2           556.6088\n",
              "\n",
              "[5 rows x 12 columns]"
            ]
          },
          "metadata": {},
          "execution_count": 405
        }
      ]
    },
    {
      "cell_type": "markdown",
      "source": [
        "- Se encuentra que las clasificaciones están innecesariamente clasificadas en 5 tipos, ya que podría reducirse a solo 2 clasificaciones (Low Fat Y Regular)\n",
        "\n",
        "*   Las comidas referentes a \"Low Fat\", \"low fat\" y \"LF\"; las podemos incluir en una sola clasificación\n",
        "\n",
        "      * Tomamos en cuenta a \"LF\" como \"Low Fat\" porque es una abreviatura de la misma. \n",
        "      \n",
        "\n",
        "*   Las comidas referentes a \"Regular\" y \"reg\" se pueden unir para crear una sola clasificación \n",
        "![xd.png](data:image/png;base64,iVBORw0KGgoAAAANSUhEUgAAAtUAAAFJCAIAAADbnUaZAAAAAXNSR0IArs4c6QAAAARnQU1BAACxjwv8YQUAAAAJcEhZcwAADsMAAA7DAcdvqGQAAFAtSURBVHhe7d3rtiVHcT3683D9MueFbP5whBFCiJstbG42dxA2FnewYWCQDMI2ICzJSAKBz5dzYuecKztWRkZU1rr1bvX8DY8amTMic63eUlXl2G7g//r/RERERK7sv/7rP373u9+89tqrr7/+O/s/nT9ERETk6nT+EBERkVvT+UNERERuTecPERERuTWdP0REROTWdP4QERGRW9P5Q0RERG5N5w8RERG5NZ0/RERE5NZ0/hAREZFb0/lDREREbk3nDxEREbk1nT9ERETk1nT+EBERkVs7/fzxwGGUY98WdgcsOywcY81h4ZHiV2kY3RY/u2F0Nm63hd03x49vGJ2KuzSMHBYOmDosNHF6WSfvie8DjO4ZfrmGUY59W9j9BOAfuGF0Nm63hd03x49vGDksOCzIbT2u5w/D2gHTY6w9UvwqDaPb4mc3jM7G7baw++b48Q2jU3GXhpHDwgFTh4UmTi+FO566Jxc3jO4ZfrmGUY59W9j9BOAfuGF0Nm63hd03x49vGDWMEmySW9H54+r4VRpGt8XPbhidjdttYffN8eMbRmfgRrOtWDhg6rBwKHHSIDkft2sY7cTFDaN7hl+uYZRj3xZ2PwH4B24YnY3bbWH3zfHjG0Zr35mtchM6f8gp+PPdwu6b48c3jM7AjRpGDaNjrDWMmiw5H7drGO3ExQ2je4ZfrmGUY98WdstJ+EPcwu6b48c3jPJ/ixgdMJXrewTnD0Z7cGXTpyh1PcQAUJKL48+3YXSf8Js1jM7AjRpGDaPjf+tQAkZNlpyP2zWMduLihtE9wy/XMMqxr2Ekl8afb8PoPuE3a2JiEHZMG0ZyfY/x+cOgajg/rhpUO6YHTAOWj7HWMGqypGPaMNq5A7DWZMkUOxpGZ+wG7GsYLeACh4UZdjgsBCw3WXIObtQwahi1kKOkwUwTjg7QM2DtWFECNEyxo8kSjwWHhYDlA6YBy8dYS7CpYZRjX8NoD65ssgQYNYyOsXbANGD5GGsNoyZLCuxrGF1nz01c4LAwww6HhYDlZj3xWGgYyfU9QecPRgHLDaMEm7baDPsaRg2jnTsYps4Qom2KHQ2j/V9gwKaGUYmtCTYdME2w6YBpjn1n4EYNo4ZRCzlKGkxMptAGjBJ1A3aIWM6xr2GUYNMB04DlhlGCTTPsaBjl2Ncw2oMrc1kPlndMA5YbRgk2rX2lApsaRtfZs8DWBJsOmCbYdMA0x74c+w6YyvXdo7//wdYZdjR+iqrh/LhqUDWcJ9hU7gzTcAqdhvOG0Rk7ZNg6w46G0UX3zLD13jSfg3slHx2nwPmpX5jzncuBC46xVmLrRZtXegCdEcsNoxz7SmydYcdJuMXaD8Rwni+chlPonGJHw+iie2bYem+ap9h0wFRu4rE8f/QEY+OnGAMSw3mzmWDaMW1iYorQcN4wutoOU+xoGO38AhE7SmxNvoBh1DC6RDPnB0zPw71mn8L5zgRWQkw7pk2WZNjUMEo+3XDeMGoYNYxmISdNlkBMIvQAoxz7SmydYccB0yTn5ACh4bzZTDDtmDYxMUU4xY6G0UX3zLA1+QKGUcPoEs2cHzCdYccBU7mVx/v8YYaxn5osAUYNoxl2NFkCjBpGe0LDqMmSjmnDaIYdDaM9X2CKHaVpJ0JgdDBNOkYHQ4KejmnD6DzcqxkSTA3nocEgMZw3jBpGDaMEm5osmWJHw+iAaRMTgxAYHQwJeoBRE6e7cFnDKMe+Eltn2NEwahg1jBpGTZYAo4bRDDuaLAFGDaMZdjSMLrpnZtqJEBgdTJOO0cGQoKdj2jAKWD5gKjek8wcxOsaaE3MkwKhhtCc0jJos6Zg2jGbY0TDa8wWm2FGKnUg8Fpo4HbDQxKnHtGEUsBywfIy1ZkgwNZyHBoPEcN4wahg1jAKWnZgjmWJHw+iAaZMlHgtNnHaMmmEKaFvBBQ2jHPtKbJ1hR8OoYdQwahg1WQKMGkbHWHNijgQYNYxm2NEwuuiemdiJxGOhidMBC02cekwbRsdYO2Aqt/VY/v1TnwxjPzUxyaATGM3EBiTAqGG0JzSMmizpmDaMZtjRMNrzBabY0TBKsKlh5LDQxOmAhSZOPaYNo4DlgOWA5eOPRgkYNX6KKjBqGDWMGkYHTGdiA5IpdjSMDpg2WeKx0AzTTFzooVpgX8Mox76G0R5c2TBqGDWMGkZNTDLoBEYzsQEJMGoYzbCjYXSdPafY1DByWGjidMBCE6ce04bRMdYaRnJz757zB3KDKcQkk3UOYWxDAowaRntCw6jJko5pw2iGHQ2jPV9gih0NowSbGkYOC02cDlho4tRj2jAKWA5YDlg+/miUOqZ5D6OGUcOoYXQcwhDGNiRT7GgYHTBtssRjoRmmGSwERgHLM+xoGOXY1zDagysbRg2jhlHDqIlJJuscwtiGBBg1jGbY0TC6zp5TbGoYOSw0cTpgoYlTj2nD6BhrDSO5ucf1/GE4P2A6a+akQTLFjoZRw6jJEmDUMNoTGkZNlnRMG0Yz7GgY7fkCU+xoGCXY1DByWGjidMBCE6ce04ZRwHLAcsDy8Uej1DHNexg1jBpGTZYAoyZLptjRMDpg2mSJx0ITp+u4xmEhYLlhlGNfw2gPrmwYNYwaRg2jJkum2NEwahg1WQKMGkYz7GgYXWfPKTY1jBwWmjgdsNDEqce0YST3j84fD7GjYdQwarIEGDWM9oSGUZMlHdOG0Qw7GkZ7vsAUOxpGCTYdMG0YHUyTjtHBkKCnY9owOhu3O/5olDqmeQ+jhlHDqMkSYNRkyRQ7GkYHTJuYGITA6GBI0LMLVzaMApYbRjn2NYz24MqGUcOoYdQwarJkih0No4ZRkyXAqGE0w46G0XX2nGLTAdOG0cE06RgdDAl6OqYNI7l/LnP+KMRmJLtwZcMofAGmC82MDiEnSY9h1GQJMGoY7QkNo4bRQmiYzrCjYbTzC0TsaBjl2Ncwahg1jC7RzPkB00vgjgdMHRaOsdYwahg1jJosAUZNlmTY1DA6Dg3TPV/AcN4wOoScHMQQCTAKWN4Sm5HswpUNo4ZRw6hh1DAqQ072bMhJgwQYNYxm2NEwus6eGfY1jBpGDaNLNHN+wPQYaw0jubkn8fwxFXumC2OIBBg1jPaEhlHD6DjMsHWGHQ2jnV8gYkfDKMe+Eluv2Xw+7njA9BhrB0wPmDaMGkZNTMx6CCgNWCux9dLNKz0Gu0Usb4nNSHbhyoZRw6hh1DBqGC184dgzXRhDJMCoYTTDjobRdfbMsK/E1ms2e6w1jOTmHuPzh2GUhIZRw2iGHWUPxDYkwKhhtCc0jBpGDSNnCNE2xY6G0f4vMGBHw6jE1gSbDpgm2HTANMe+S+COB0yPsXbA9IBpw6hh1DBa/qNxcgyliOUc+xpGCTYdMJ1hx84NPXZsic1IduHKhlHDqGHUMGoYNYxm2FH2QGxDAowaRjPsaBhdZ88CWxNsOmCaYNMB0xz7jrHWMJKbe4LOH8DCAVOHhYMYxmnHqGG0JzSMGkYHTJssmWJHw+ikL+Cxo2G0gAscFmbY4bAQsNxkyUVwxwOmx1g7YHrAtGHUMGoYNYwOYojEcH7AdIYdTZZ4LDgszLDjgOkx1hwWcuzbEpuR7MKVDaOGUcOoYdQwclg4YOqwcBDDOO0YNYxm2NEwus6em7jAYWGGHQ4LActNlgxYaxjJzZ1+/pBHjndPw0hERORxoPPHfZcdL5B3TEVERB4HOn/cdzxflNgqIiLymND54zHAU0aOfSIiIo8JnT8eGzxrHGNNRETksaLzh4iIiNyazh8iIiJyazp/iIiIyK3p/CEiIiK3pvOHiIiI3JrOHyIiInJrOn+IiIjIren8ISIiIrem84eIiIjcms4fIiIicms6f4iIiMit6fwhIiIit6bzh4iIiNyazh8iIiJyazp/iIiIyK3p/CEiIiK3pvOHiIiI3JrOHyIiInJrOn+IiIjIren8ISIiIrem84eIiIjcms4fIiIicms6f4iIiMitnXL++H9F5InB215E5KJ0/hCRCm97EZGL0vlDRCq87UVELkrnDxGp8LYXEbkonT9EpMLbXkTkonT+EJEKb3sRkYvS+UNEKrztRUQuSucPEanwthcRuSidP0Skwts+8SCHKtreNfof7T7AlwFGW+pmVCOWcys9my6yyWnan3KC5fvk4t/qEf4xdf4QkQpv+wXxQXY/n+DnsD/RPflD4Zt0TLfUzahGLF/ZzT4oOvmjb/+dL/KJfpNH+GPX+UNEKrztF8QH2SN8tL3r2c/2hB9vvaquXtvj+NG3/84X+US/ySP8sev8ISIV3vYL4oMMiV0BYcd05+OvL8HA+Nxg2jHNc2A629+gZPy0jzEAlDqmrg35OqwCRsehYbqlbq6rtWEhtgJGCzabsaHhfPa5HDXDtLDSaT1dlqzggobR4QsgNAg7pocehIuw0HDuEoOpD1vLQ0yPc0xjvpfOHyJS4W2/ID6MhifUynjT3Y5b2BqamSabFCXjq34coWo4P8baGq5xpjnCTXVzXa35hcMm63vWndOPqD+r3tDb7Mx2Xv8IKPbxpWLsp5uGtRyVey6O/fRkOn+ISIW3/YL4SBqSPt3sLFgnFNM4Nn7qx8ZPMTaYGj+NY4Op8VOMzXS6ggvKDTFeVC9BNWK55NsWl0TFwljqyTCI+Yq6OVYv9SnZPsX+MckUa31paJv2QFE6jc4fIlLhbb+geGBB8fxaf6JZp28uphgPUOqYNj7BGHySjcEnfgwxqcV+n/jxonoJqhHLJd+2uCQqFsZST4ZBzFdYc8TaMdZO+hQPm5g+xQCy3MQkU6z1paFt2gNF6TQ6f4hIhbf9guKBBf75FaG0aWguphgPUDKcOz7HGHySjcEnfgwxqcV+n/jxonpJXa0NC7EVMFpQNMdSTzDwDTHZtNlsDdCnw2BR2+NOnw4DyHITk0yx1peGNt8T9RIGZ9L5Q0QqvO0XxKfSkFzk+WVr/fJi6scDlIyfxjH4JBuDT/wYYlKL/T7x40X1krpaq7flaMuuTXqCgW+Iyaa6OVZ7cuanZPsU+8ckU6z1paFt2jMoSrvo/CG388477/z3f//3yy+//P3vf//FF1+06y9+8YvXX3/9T3/6Ezuu749//ONvfvObG3/oY423/YL4VFp/tK0/0azTNxdTjI2fxrHxUz8Gn2Rj8AnGZjpdwQXlhhivqPvr6qZ6Z4627NqkJxj4hphsqptjtSdnfkq2T7F/TDLFWl8a2qY9UJROo/OH3MKf//znN954ww4cn/70pz/0oQ998IMffOaZZ+z64Q9/+HOf+9xPfvKTt956i61X9uqrrz7//PNf//rX3377bUZS4m2/oHhggZ9m403WPKzdnHZMQw6+hDH4JBvDkGA6YG0N1zgszD69hv7IVzE+gV877LO+bd256yPWPxTWP9rYtCdDqTY0t23m+/jpMPbTTcNajvKxOWHJyXT+kKuzw8fvf//7z3/+83bgeN/73mdnji984QsvvPCCXW1syUc/+tGf/vSn7L6y//iP//jLv/zLv/3bv7Wv9L//+79MJcfbfkF8Kg1JnALna4Yl9dQgMZwfMG361A86n2RjyBLTx8jXYRUwamJSQ3/kqxifYFiL3YDRAi44xlrDKOy5ktQ2++8+9QDTIcd0E7sbTHuOAcQpYIxwERYazhtGsw3jFDhvhunJdP64gL/4i7/gqLTY5p2w5DTZB13kC7zxxhtf/vKXn3rqqeeee+573/vem2+++ceD11577cUXX/zWt751s99G6PyxF2972Wn61B4SkSeZzh/nwht65T19wrv8Iq//FdkHnf8F/vSnP/34xz9+pvnBD37w1ltv/fnPf2at/WrETh52EPEh2OHAQpOdEhYbhur0/NG3wlQ83vayE04bEcsiTzydP86FN/TKe/qEd/n5r/9F2Qed/wXsNf/FL37xve99r11tzLS98qNeslOLnUt++9vf2nHhtddeGw4oNn7nnXf+53/+5z8b29amQwN+uWJVu/7hD3+wqV0tH84f9kHotPzVV1+1Hv291AFve9mPJw6HBRHR+eNM/vU8fVVbCBgjnEKb4byJU+D8gGnD6IDp7KNZaCVco14FhDBMTUzMr3/960984hPve9/7Xn75ZTslILQXv73133rrrTeP2bsfpZ/85Ce26v9p/uqv/urv//7v7XyAk4GdIezk8c///M/PPvssGj784Q/b1EIcQexqx45/+Id/sIVYbkefT37yk8899xwONDh/WL991n/91399/vOfR+f73//+T3/607/61a+wjwBvexGRi9L54yz+jVu/j20cG7qhk6P9Y3Na21DthlI2hpiYV155BX/J9PXXX7f3PUI7Yfz4xz/+0pe+ZO9+z84Ndij50Y9+ZGeFD37wg5/97GdxdLDzwac+9Sk7ytjJwPb5yle+8oEPfOCjH/3oFxob2PSrX/2qlazhN7/5jR0jbMnzzz9vyz/3uc89/fTTdrx46qmn7LTRzx/WbMeRz3zmM7bWOu3LWKeNba3toCNIx9teROSidP44S/E+Xnw9m6IzDrqiBLuWXG+T6fnj7bfffuGFF+xlb7l573vf+573vMeOBXYosXf/xz72MTs9vPjii2+88cabb75piR1ELLGjxjvvvPPDH/7QzhN2QPnpT3/6+8YG9hEW2sHFGuzMYc12jLDzilVtk29+85t2+LAjiD9/vPrqq9/+9rdt1Sc+8Qn8v2ns+td//deWfOMb39D/F6bjbS8iclE6f5yufgEvvp5NlpteKnZb33Zlt0HdmY09Oz08//zzdsL42c9+1v//L3/+85/t9f+LX/zi5Zdffumll37yk59Yjx0L/u3f/s2m/+f//J+/+7u/s3ODteH/HfPzn//cThh2XrFDzJe+9CU7SdgR4a233rKqsTOKnWYs/PKXv2zHCGt79tlnbas//OEPVsWvTP7mb/5mOH/Y2I41dtr4/ve/b1/j61//+jPPPGMHFzuC2LlE54+Ot72IyEXp/HE6e+NGrG29ub0sN71U72bjjtFx2PUSBl1MoO7Mxp6dEr72ta+9733vs5e9HQ4Q4lhg73hjhxI7CnzkIx+xd78dDuwsYucDO0nYqcLarNl6LP/4xz/+/ve/H3+xw04SP/zhD+14gd1s8IMf/MA+wkrWaW0f+9jHXnnlFRx3bJPft//2keH8YVt98pOftGY769jmduywk41t++tf//rtt9/GR4vhbS8iclE6f5xo84UdGzaXROfstrJtt7lb55M+toHPPXuR/+xnP/vQhz70gQ984MUXX7RXu50n8IsNHEEswd/n+MxnPoP/dvb3vOc9n/70p/H3Sa3tj3/840svvfTcc89Zj51g8PuPf/qnf+q//7DBP/7jP1poJdvBzjHPPvvsz3/+c1toVdvkjTfesKPG9Pcfdmqx/q9//eu//OUv7RPtyIKvx28vOn+IyHXo/HGi7HXb89iwuaSLm5ywW7HkhN26IcE0Ww52wrCTh73m7QDxta997T//8z9ff/31N998066vvPKKHRqeeuqpD3/4w3ZMsRPDq6+++pGPfMQ6v/vd7/7+97+3tZbgP8xiVzsffP/737eq9dgJw04exhba9Omnn/7BD35gDZ/73Oes2a6//e1vbblt8p3vfCf7+x/YykJrM7bVt771LfxFV377Jx5vexGRi9L54xT167ZXfZuN/XQwdHK0f2xOaxuq3VCKbUhi7tm73E4b9l7Hf1DFrp/5zGc+//nPf/azn+2JHR3w1zXsxGBjO44888wzduD4yle+8qlPfcrOE/j/mNhWr7322he/+EVb9fGPf/zLjQ1saucYK1mDtVkz/h8rttw+CP+978P5w04/dkCx72Brn3/+eeu0HewsYl/mX//1X3X+6Hjbi4hclM4fp6hft8MLGzBGOIU2w3kTp8D5AdOG0QHT2Uez0Eq4Rr0KCAdZ7tnBwo4Xv/jFL+w0YIcJOwrgQPD000/bIeNXv/pV/8sc6PzRj35kRwFrMPiv5XjllVf+dPjv/7CjwwsvvGAHFDTY4Bvf+Ab+vqo1WNsvf/lLO3zYQqs+9dRTtvy5557Df/7W2MAOQPj7Jb/+9a+/8IUvoNN86EMf+s53voP/apD2dRocRVauUZ2vXE3d4K9RnS9ceduLiFyUzh9yrpXzh7E3up0M/vjHP9rb3Q4cL730kh0p7NBgieX+fW/jd95556233rK2l19++Te/+Y2dSHyPnTNs1Wuvvfbv//7v+F/wt2n/jYUNbK19ih01rMFOGL/97W8/8YlP2FkH/8Uetpvtj35s9bvf/Q5b4a+A9K0eCsGE78n6V3q83rOr2WT9Kz3en3X+EJGr0PlDzrJ4+PDsGGEveDtP2NUfOwa+jdExa7Cq8ZvY2I4RL7zwwve+9z073NhB5M033/yXf/mXZ5555pOf/GT/D+AMpls9FN/Z/gr1eKW/6NnVbE7rT3p424uIXJTOH3Kiu/9/zP7Dx7XZYeWll1569tlnn3766a985Ss/+tGPvvnNbz733HN2/vj2t7/99sn/K7vLb+sj2SrIqtOeXc1dtgqy6nHO215E5KJ0/pB3lf9t/3ldO3Z89KMf7X//w44jX/3qV998883sVykb1t7TD8UeX4W6H/p4V7OJPb4KdT+0MW97EZGL0vlD3m3sCPL222//8pe//O53v/vNb37z29/+9s9+9rPfu/+1/VP4t3ImvLnTK/hxpvfsajYYZ1fw44x+/yEi16Hzh7ybnXXm6LK3eLzC+njlauoGf4X18cKVt72IyEXp/CFyBXh/P0KX+wK87e+ZBw8ecPQ4u29/itt8n0t9yrv734GVP901fgK3/Knq/CGyxf9KAOLbPfaAz311Je+yNm+60PjcV1fyhre9XMGVnvUnb3u9hb7hUn/q0/a5xjc5xznfYdfaxeZb/kx0/hA5Q/b+hnqcVb0s7+qt6nFW9fT3P67pSs/6k7e93kLfcKk/9Wn7XOObnOOc77Br7WLzLX8mOn+IbFl7Tz9U98Sqz6drfThtMOs9serzUOVtn8MDy67QQ8C0Yzp7xrHQMEo2N3Hc6ncQdkwPPQgNQmBUYmvD6LBhDIHz3NCDVYZzh4VQYtpkieF8a2dca2iGLBmw1mDqw9byENNkKw89aDYIPRZcifOA5WQ3TJGbHgKmU0N1Ou1XaJU7fgxoMJznayN2NIzykKODoQqcn0fnD5Fl/t28dwxI/DUqdshKK2NA4q/R8Q687XPD8yhOOcrHJpvawJd8joFpLZMeM4z71OdmmEZZvw2ykhlKUda8uGfWtrjcDKWhGg0NfbproY2HKUf5eOpul7w/K522pJ5yFAyl6dSuPu9jH5qsZ5pPDdVsWrRl45Pp/CGyZeUtvtLjxWrs7GMfQlyy0uPFauxsY972ueKBZfo0PrBOKE3zlR4oSoX1fYrOqWwfU5RgccliG8TE27XVwDcMzcUm9bZF/2IpG8N0iamng2GTYeoHMM2Hni5bO1Vv2JOsrVhyMp0/RK4gvsshecen6mohfhDEvP6Itd9/cNRk08Xnl4XQpxjANF/pgaK0yBZCn2IAw9TExMv2MUUpsh7oUwyMH8O0DWKSsU7oUwwyvmFoLjapty36F0vZGKZLTD0dDJsMUz+AaT70dNnaqWIT6NNhAMPUxGQvnT9Etvh3dn2FLAE/hrrf+Ib6ClkCfgxlP2/7XP2c6lMbRCgZzl3zMIBpvtIDw6qOUY59Yec+gNYyYm2mV2NbUeqsBH06DEyrj3oJgy4mg7b6Tp8Og4xvGJr9JhFKU7Hak8VSNobpElNPB6j6niEZlk/zoafL1k7FZuhTP2iVeb/H2ql0/hBZEN/ZUdYT3+5ezKf92XKv/oi66h3387bPDY+hbFo8rWIpWzXNV3ogJpDlUOwzlOp9omwfU5RgcUm23BQ7TBX99ULjG4bm9U0Gsb/YalrKxjBdYurpAFXfMyTD8mk+9HTZ2ql6w57YwI8xMH58KTp/iGzxb2j/bo65Fztjv09g2u/bpg3GjyF2xn6fQOjnbZ8bHkzZND6/TihN85UeiAlkORT7DKWicyrbxxQlWFyy2AYx8XZtNfANQ3OxSb1t0b9YysYwXWLq6QBV3zMkw/JpPvR02dqpesOeZG3FkpPp/CGywL+nwxua1sdZNerVbJOYQz3OqtHl/v6HWRkbm/YkloaByXrMMO5Tn5thOojNPRlKxiexOsiah4XTUuwpShxtlYbqYKj6/qEU+YahOSut7Fn0Z6Uzl5h6GsWGlc2z3Kz0RNMdwKY9iSWOyh1Oo/OHyJbs/V2/xWNn7IGsp49jWDR3sTP2QNbTxrztc8UDy8QpcH7AtMG05xjANM96wKaAMUKDEBjl2Ndg2nMMvNZ1h/Pc0INVhnOHhaTfYDrkmBrOt3bGtYBOwHTIMY1Ynn1KnALnOfSg2SD0WMj358g1cB6WcNTU0yg2+CTbbboKOM/XTrWld4apwbTnGHQ+uetuOD+Pzh8iC7I3txfe3DuSWB0Upc73xA3rJFYPeNu/K1zquSki59P5Q2RL9p6OV1hJPF+ddmYN8QorieeroZO3/WNoOG3o8CFyr+j8ISIV3vaPp7vfFB8wEpH7QecPkS3ZrwfiNarzlaupG/w1qvOFK297EZGL0vlDZAHexzXfk/Wv9Hi9Z1ezyfpXejz979+KyHXo/CGyJb6z/RXq8Up/0bOr2ZzWn/TwthcRuSidP0QWLL+tj2SrIKtOe3Y1d9kqyKrHOW97EZGL0vlDZMvae/qh2OOrUPdDH+9qNrHHV6HuhzbmbS8iclE6f4gs8G/lTHhzp1fw40zv2dVsMM6u4McZ/f5DRK5D5w+RLdlbPF5hfbxyNXWDv8L6eOHK215E5KJ0/hC5Ary/H6HLfQHe9iIiF6Xzh8gW/ysBiG/32AM+99WVvMvavOlC43NfXckb3vYiIhel84fIGbL3N9TjrOpleVdvVY+zqqe//yEi16Hzh8iWtff0Q3VPrPp8utaH0waz3hOrPg9V3vYiIhel84fIMv9u3jsGJP4aFTtkpZUxIPHX6HgH3vYiIhel84fIlpW3+EqPF6uxs499CHHJSo8Xq7GzjXnbi4hclM4fIlcQ3+WQvONTdbUQPwhiXn+Efv8hIteh84fIFv/Orq+QJeDHUPcb31BfIUvAj6Hs520vInJROn+ILIjv7CjriW93L+bT/my5V39EXfWO+3nbn+TBgwcc3SfZt9qbr7Mdpli+kItveIIzv8N9+CPstfidizYrTbFcWmy7FHwxw/l5dP4Q2eLf0P7dHHMvdsZ+n8C037dNG4wfQ+yM/T6B0M/b/iSXek5dj/+G1/u2t/k5LH7Kff6Hcp+/W+b8H/s5f+pb/sT8Z13kc3X+EFng39PhDU3r46wa9Wq2ScyhHmfV6Ly//3HLh+NpLv5InbrNz2HxU+7zP5T7/N0y5//Yz/lT3+wnNnzQRT5X5w+RLdn7u36Lx87YA1lPH8ewaO5iZ+yBrKeNedvn8CSyKyCEOO0YHTBdzjND53TaQxt0PcfUtJY7cdzqdxBuWunEhoZzh4WtEq41NAOjZH9Me+6n5q5jtjCOW/0Owo7pcR6nwLnDwuEj+tWLydTdLgeM3J6AsGN66EFYK9oWd5jq3wEQdkwbRg2jhtFOJy/0dP4QWZC9ub3w5t6RxOqgKHW+J25YJ7F6wNs+NzzFVsZm75JheWZom06zbW08LQ3hMOWotNlW7LleGqqZoc1Ph/Gu6TAwrWXSY84Zm6GEqQ8hJtHQ06c28KVi7KeFom1xh6n2+el346jp0yxfZ0tOWBXp/CGyJXtPxyusJJ6vTjuzhniFlcTz1dDJ2z4Xn0Q9iYOuKEGxpDbsPEz9wGRjs9lvhmmmbovVnpxWqvm29f0Xpz5f6YFYWunpkAx5bIuyrfwAstzEZKpoW9xhaljbp3HPorTO1gLn59H5Q0QqvO1z8WHUk+lz6u7p1fQpBoOYZ52DYedh6gcmG5vNfjNMM9YWsTbbpCenlWq+bX3/xanPV3ogllZ6umkpttWsH/oUA8hyE5Opos1KEWtbhs7pwrbfnT7F4BwX2UTnD5Et2a8H4jWq85WrqRv8NarzhStv+1x8Ek2fdDaGPh0Gg9Y7Yq2ENt88JLEEfmw2+80wzdRtsdqT00o132bjqJcwgMWpz1d6IJZWerppKbZNWRv06TCALDcxmSraFneYGtb6qY2hTzEwyIHRfuesBZ0/RBbgfVzzPVn/So/Xe3Y1m6x/pcdb+M+/xMdQT+KgK0qQ5Zuw0C8fklgCPzab/WaYZuq2WO3JaaWabyuWDKXFqc9XeiCWVno6n2Ace6aKrYZSlpuYTBVtiztMDWv7NO6ZfcrJn37ywk7nD5Et8Z3tr1CPV/qLnl3N5rT+pIe3fa540sVBV5SgWFJDm28eklgCPzab/WaYZuq2WO3JaaWab1vff3Hq85UeiKWVns4nGMeeqWKroZTlJiZTRdviDlPD2j6Ne2afsvjp6xuu0/lDZMHy2/pItgqy6rRnV3OXrYKsepzzts/ZY8g/iaZjH5q7BVtLTDbeFJtP+Ig+XempbbYtfkRdGqqZoc1Ps7FZnC7ucM7YDKVh2q+bhra7jQ5JLHEUxn5aKNoWd5ga1vZpzIsSR6W2wcPOxVU1nT9Etqy9px+KPb4KdT/08a5mE3t8Fep+aGPe9jk8idrT6Q5C8FNUAVPkgNxwfsA05LXY75NhDBgjhD71edZTW2mzHuDcYWGrhOsm9BvOk/1Pm/p8cwlw3sQpcO6w0Eq4dsO01vYgTHuOAcQpYIywhv5BL2FwgmGtn959wAGmyA1CYLSGa3auyuj8IbLAv5Uz4c2dXsGPM71nV7PBOLuCH2dO+vsfIrc0/Bt4D/+F/L+b08bvYjp/iGzJ3uLxCuvjlaupG/wV1scLV972OZ0/5JY2Txs6fzwudP4QuQK8vx+hy30B3vY5nT/kxuxfuY5RExO5z3T+ENnifyUA8e0ee8DnvrqSd1mbN11ofO6rK3nD215E5KJ0/hA5Q/b+hnqcVb0s7+qt6nFW9c77378VEcno/CGyZe09/VDdE6s+n6714bTBrPfEqs9Dlbe9iMhF6fwhssy/m/eOAYm/RsUOWWllDEj8NTregbe9iMhF6fwhsmXlLb7S48Vq7OxjH0JcstLjxWrsbGPe9iIiF6Xzh8gVxHc5JO/4VF0txA+CmNcfod9/iMh16PwhssW/s+srZAn4MdT9xjfUV8gS8GMo+3nbi4hclM4fIgviOzvKeuLb3Yv5tD9b7tUfUVe9437e9iIiF6Xzh8gW/4b27+aYe7Ez9vsEpv2+bdpg/BhiZ+z3CYR+3vYiIhel84fIAv+eDm9oWh9n1ahXs01iDvU4q0b6+x8ich06f4hsyd7f9Vs8dsYeyHr6OIZFcxc7Yw9kPW3M215E5KJ0/hBZkL25vfDm3pHE6qAodb4nblgnsXrA215E5KJ0/hDZkr2n4xVWEs9Xp51ZQ7zCSuL5aujkbS8iclE6f4hIhbe9iMhF6fwhsiX79UC8RnW+cjV1g79Gdb5w5W0vInJROn+ILMD7uOZ7sv6VHq/37Go2Wf9Kj3fSf/7lwYMHwwBs6kt9/KS5zR98+ik9vIc//PvzlbJvsvINd/0pTvsj358f1Jl0/hDZEt/Z/gr1eKW/6NnVbE7rT3p42+8xfT768GYP0HfNk3ov/MHjH78nT+xPZsU5P5xda0/7oJv9s7v2B+n8IbJg+W19JFsFWXXas6u5y1ZBVj3OedvvMX1s+fBd8wC9t/AHj3/8njyxP5kV5/xwdq097YNu9s/u2h+k84fIlrX39EOxx1eh7oc+3tVsYo+vQt0Pbczbfos9qgDjHvbBFKqG8+PnHaZDjqnhvMEUuelhhyRCCT2mh4Bpx3S2GwsNo2RzE8etfgdhx/TQg3BFtqQn9W59OfQQMO2YzjZkoWGUbG7iuNXvIOyYHnoQGoTAKBhK02m/Qqvc8WNAg+E8XzuFBnQahB4Lx6U4Bc4bTJEbhB3TQw/CARqAUb7haXT+EFng38qZ8OZOr+DHmd6zq9lgnF3BjzNrv//wzyP/eBpyjo7HpmjzUzNUOQqdfezDqbZuex+TjU02tYEv+RwD01omPWYY+2ltWMhR06f1blb1DXHKUT422dQGvuRzDExrmfSYYdynPjfDtKvbMLWrz/vYhybrmeZTdXNWWhwXJY5C22Ao+Wmxap3OHyJbsrd4vML6eOVq6gZ/hfXxwpW3fS4+iXqSPbCyMUyXmxM645JBthCKfU4oTfOVHohJ5rT9vWwVFJucUJrmKz1QlDLDkrjDsNU0H3q6bO1UrPZkpbS+fGVJ5Eu7Fi7S+UPkCvD+foQu9wV42+eKB1P2/MrGMF1uTuiMSwbZQij2me5sIfQpBjDNV3ogJpnT9veyVVBsMt3WQuhTDGCar/RAUcoMS+IOw1bTfOjpsrVTsdqTldL68pUlkS/tWrhI5w+RLf5XAhDf7rEHfO6rK3mXtXnThcbnvrqSN7ztc8WDKXt+DeOolzAAlAa9hAFkeZQtBL9PhJLh3DUPA5jmKz0Qkylri1gr9/eGaja1QYSS4dw1DwOY5is9MKzqGM2g6nuGZFg+zYeeLls7Fas9sUHUS8Ogy0orSyJf2rVwkc4fImfI3t9Qj7Oql+VdvVU9zqrewt//KB5M2fMrGw+G0gmdxRKoP2Jln1jKVk3zlR6IyVS9sNjfG6rZtNgklrJV03ylB2ICWW5Q8g1DMqyd5kNPl62ditWeFAuLnqy0siTypV0LF+n8IbJl7T39UN0Tqz6frvXhtMGs98Sqz0OVt32ueDBlz69sDNPl5oTOuGSQLYRinxNK03ylB2IyVS8s9veGajaNm5xQmuYrPRATyHKDkm8YkmHtNB96umztVKz2ZKW0vnxlSeRLuxYu0vlDZJl/N+8dAxJ/jYodstLKGJD4a3S8A2/70vCc6tMh5yg8uRbbzGJnn8YdBtlC8NOVsbFpT2JpGJisxwxjP81kPT2Pg6mhWkxXxsamPYmlYWCyHjOM+9TnZpgOYtUn2VZZblZ6Iqv6hqE5K+0dm6LNTwdDyU+LVet0/hDZsvIWX+nxYjV29rEPIS5Z6fFiNXa2MW/7LXePsQbjHmJgsjFYApw3wxTQZjhvsmlrvINpNJQ2p8D5AdMG055jANM86wGbAsYIjR97m3kcTA3VzSlwfsC0wbTnGMA0z3rApoAxQoMQGCVig0+Gap9OVwHn+dopVO/WNwg9Fso90WA4bzangDHCCD2G81lyDp0/RK4gvsshecen6mohfhDEvP6Ik/77T+UaLvXQf5fRj+VMj/AHqPOHyBb/zq6vkCXgx1D3G99QXyFLwI+h7OdtL7c1vBX0lgX9WM50r36AOn+ILIjv7CjriW93L+bT/my5V39EXfWO+3nby83Zu6FjJPqxnI0/u4bRI6Lzh8gW/4b27+aYe7Ez9vsEpv2+bdpg/BhiZ+z3CYR+3vYiIhel84fIAv+eDm9oWh9n1ahXs01iDvU4q0b6+x8ich06f4hsyd7f9Vs8dsYeyHr6OIZFcxc7Yw9kPW3M215E5KJ0/hBZkL25vfDm3pHE6qAodb4nblgnsXrA215E5KJ0/hDZkr2n4xVWEs9Xp51ZQ7zCSuL5aujkbS8iclE6f4hIhbe9iMhF6fwhsiX79UC8RnW+cjV1g79Gdb5w5W0vInJROn+ILMD7uOZ7sv6VHq/37Go2Wf9Kj6f//IuIXIfOHyJb4jvbX6Eer/QXPbuazWn9SQ9vexGRi9L5Q2TB8tv6SLYKsuq0Z1dzl62CrHqc87YXEbkonT9Etqy9px+KPb4KdT/08a5mE3t8Fep+aGPe9iIiF6Xzh8gC/1bOhDd3egU/zvSeXc0G4+wKfpzR7z9E5Dp0/hDZkr3F4xXWxytXUzf4K6yPF6687UVELkrnD5ErwPv7EbrcF+BtLyJyUTp/iGzxvxKA+HaPPeBzX13Ju6zNmy40PvfVlbzhbS8iclE6f4icIXt/Qz3Oql6Wd/VW9Tiregt//+PBgwccBVaaYnm/Yu0529ZO2Pl6X+bRerf+uQbX+GNme+7NV9jaKZYv5PwNdf4Q2bL2nn6o7olVn0/X+nDaYNZ7YtXnocrbPlc8hm75yLv4Z+31yL/AORa//H37M17p+1z7j+n3v8Zn3eYf0/mfovOHyDL/bt47BiT+GhU7ZKWVMSDx1+h4B972ueIxdPHn4C0/a69H/gXOsfjl79uf8Urf59p/TL//NT7rNv+Yzv8UnT9Etqy8xVd6vFiNnX3sQ4hLVnq8WI2dbczbPlc8hs55QtnajtFhQ4QGIWCK3CAETIccU8P5oc1DMs27aYKrh5LhvMEUuUFYY2vD6HgfJAZTw3mOfQ2j8oO8oQqcl9CGfoPQY6FhFFZ1qBbYd9yJKXKD0GDsE4gJDPl02kMbdD3H1LSWO3Hc6ncQFhZ7gHOHha0SrufQ+UPkCuK7HJJ3fKquFuIHQczrj3hEv/8YFvapDXxpGC+WzFAdBh2SYq2ZLi+WDOOsNDU09OndLknJDKWpYrnp06ItG2esp1iSTe/W5Ksy2ZK7vWYlDHwJYgJDPp36cBhPS0M4TDlK7GoYmtdLQ/UEOn+IbPHv7PoKWQJ+DHW/8Q31FbIE/BjKft72ueIxdNoTKq7qyUVKi5112G22LS4xsdM7Z596Z+MbiuVZW7EkUyxZL8XO6ITdMMiqU9naODDZ2Gz2m2Ea1Q2x2pPTSifT+UNkQXxnR1lPfLt7MZ/2Z8u9+iPqqnfcz9s+VzyGrBSxtoZrFh6C66XFzmx5Zzn0KQYmG8N0iYmdGeuEPsUAhqmJySBrsBz6dBjAMDUxGSwusRD6FAMYplOxZ3O3acPQPBiWxB388mxsNvvNMI2sIWJttrwnp5VOpvOHyBb/hvbv5ph7sTP2+wSm/b5t2mD8GGJn7PcJhH7e9rniMXTyE8oWQp8Og+6Ekk0j1g7NMenuups+HQYmG8N0iYmdA2uAPh0G0FpGrCWGBiwxfeoHrTLv91hLxAaftA3u9OkwgGE6FXs2d5s2DM0DVGN/T2IJ/Nhs9pthGtUNsdqT00on0/lDZIF/T4c3NK2Ps2rUq9kmMYd6nFWjR/H3P4on3UVKsdND1fdkY+jJmUtM7PQutc+UX1J/kB9jYPx4UVwy3RmyUuyMTtjN5xgPnVFsG5JYAj82m/1mmEZ1Q6z25LTSyXT+ENmSvb/rt3jsjD2Q9fRxDIvmLnbGHsh62pi3fa54DJ32hCqedBcpFZ0G45hAsfbMJSZ2eufsU+9sfEOxPGsrlmSKJeul2BmdsJvPMR46o9g2JLEEfmw2+80wjeqGWO3JaaWT6fwhsiB7c3vhzb0jidVBUep8T9ywTmL1gLd9rngMnfaEGlbZtCd+bIZxUeLoYL1qimab9sSX/NhkpaItis09GUrGJ7EaFf027UkscVTuMGU92RI/Nq2RSSxxVPJt2dj0aewZOqdiT9wHsrHp05WezK6GYvO6NFRPoPOHyJbsPR2vsJJ4vjrtzBriFVYSz1dDJ2/7HJ5Eg17CYC9sApj2HFdACJgiNwhhmALaDOfOEMZph+mQ+7BDyXDe1NOobUCY9hwDr3Xd4bzEVrdhh2nPMeh8ctfdcF5CG/oNwo5pg2nPMYBWv8N5jn1hOUdNn9Ztmdjmk2EMGCOEPvV51pPZbDDWA5w7LGyVcD2Hzh8iUuFtL3JR57+9buYx+qqPF50/RLZkvx6I16jOV66mbvDXqM4XrrztRS5K5w/R+UNkAd7HNd+T9a/0eL1nV7PJ+ld6vIX//IvICR6Ll7p9SR0+rkfnD5Et8Z3tr1CPV/qLnl3N5rT+pIe3vYjIRen8IbJg+W19JFsFWXXas6u5y1ZBVj3OeduLiFyUzh8iW9be0w/FHl+Fuh/6eFeziT2+CnU/tDFvexGRi9L5Q2SBfytnwps7vYIfZ3rPrmaDcXYFP87o9x8ich06f4hsyd7i8Qrr45WrqRv8FdbHC1fe9iIiF6Xzh8gV4P39CF3uC/C2FxG5KJ0/RLb4XwlAfLvHHvC5r67kXdbmTRcan/vqSt7wthcRuSidP0TOkL2/oR5nVS/Lu3qrepxVPf39DxG5Dp0/RLasvacfqnti1efTtT6cNpj1nlj1eajythcRuSidP0SW+Xfz3jEg8deo2CErrYwBib9GxzvwthcRuSidP0S2rLzFV3q8WI2dfexDiEtWerxYjZ1tzNteROSidP4QuYL4LofkHZ+qq4X4QRDz+iP0+w8RuQ6dP0S2+Hd2fYUsAT+Gut/4hvoKWQJ+DGU/b3sRkYvS+UNkQXxnR1lPfLt7MZ/2Z8u9+iPqqnfcz9teROSidP4Q2eLf0P7dHHMvdsZ+n8C037dNG4wfQ+yM/T6B0M/bXkTkonT+EFng39PhDU3r46wa9Wq2ScyhHmfV6FH//Y8HDx5wdJIzl9/Sk/Mnrb1r/iCXYj+QG/xMFj/Ct7XvddYX0/lDZEv2/q7f4rEz9kDW08cxLJq72Bl7IOtpY972uTOfQVd1n7/b4ISv6pc8Rn9SGRT/7G72j3Xxg3rbRb6Yzh8iC7I3txfe3DuSWB0Upc73xA3rJFYPeNvnbvaIPMF9/m6DE76qX/IY/UllUPyzu9k/1sUP6m0X+WI6f4hsyd7T8Qorieer086sIV5hJfF8NXTytk/YY6hj5ELOG0x77qfmrmO2MI5b/Q7CjulxHqfAucPC4SP61YuJd7f4gJHbChB2TA89CKfQZjh3icHUh63lIabHOaYx73yD6SFg2jGdbcVCwyjZ3MRxq99B2DE99CA0CIFRjn0No8NuMQTOE2hAp0HYMZ1taxgdMG0YJTtnUwzuuhuEHdNDD8Jab+6Qn0bnDxGp8LbPDc8gPx3Gu6bDwLSWSY85Z2yGEqY+hJh0Q6lPbeBLxdhPB0MnR+UOi2M/jYaGOOUoH5tsagNf8jkGprVMesww7lOfm2E6yJptkJXMUBq0pfPmlfFgKC3u0Kc28KVi7KeF3rbYX9P5Q2RL9uuBeI3qfOVq6gZ/jep84crbPuefRPGplD2wFqc+X+mBWFrp6ZAMeWzrsh38ALLcxASKTl8a2qY9UJQG2Z5Q7HNCaZqv9EBRyqxvUnRG2dpik8Xd1nfYm5uYTBU7nEDnD5EFeB/XfE/Wv9Lj9Z5dzSbrX+nxFv7zL/5JVDzXhtLi1OcrPRBLKz3dtBTbpqwN+hQDyHITEyg6fWlom/ZAURpke0Kxz3RnC6FPMYBpvtIDRWmFrYI+xQCGqYlJl60tNlncbX2HvbmJyVSxwwl0/hDZEt/Z/gr1eKW/6NnVbE7rT3p42+f8k8jGUS9hAItTn6/0QCyt9HTTUmzzrAp9Ogwgy01MoOj0paHN90S9hEFmaMimNohQMpy75mEA03ylB4ZVHaMEm8K2fQCtZcRaMJT6NC4pSp0vre+wNzcxmSp2OIHOHyILlt/WR7JVkFWnPbuau2wVZNXjnLd9zj+JiqfSUFqc+nylB2JppafzCcaxxyt2GEpZbmICRacvDW3TnkFRgmxPOO0jslXTfKUHYgJZbopNhlKxSZStjZsUpc6X1nfYm5uYTBU7nEDnD5Eta+/ph2KPr0LdD328q9nEHl+Fuh/amLd9zj+JiufaUFqc+nylB2JppafzCcaxxyt2GEpZbmICRacvDW3THihKg2xPKPY5oTTNV3ogJpDlpthkKBWdUba22GRxt/Ud9uYmJlPFDifQ+UNkgX8rZ8KbO72CH2d6z65mg3F2BT/O7Pz9h/HTbGwWp4s7nDM2Q2mY9mtmqN6tPySxxFEY++lg6OQoH5sTlkTFnmZl27ikJ7E0DEzWY4Zxn/rcDFMvdvZkKBmfxKo3VLOFixuetluf+tz46TD200JvW+yv6fwhsiV7i8crrI9XrqZu8FdYHy9cedvn2rPrDuezxJw29fnmEuC8iVPg3GGhlXDthulUW0qY9hwDiFPAGOEU2gznDaPZ8jgFzpthGtX9cQqcHzBtMO05BjDNsx6wKWCM0CAERgk2NZj2HAOvdd3hPDE0xClw3jBKPpSjA3Qazg+YthxXP4A4BYwRGj8e9FLRs07nD5ErwPv7EbrcF+Bt/yQZnq0XedTKVemf0eNI5w+RLf5XAhDf7rEHfO6rK3mXtXnThcbnvrqSN7zt3702Txt6t903m//I5LGg84fIGbL3N9TjrOpleVdvVY+zqveo//dvb8NeYB2jJiZyT+AfDTCSx43OHyJb1t7TD9U9serz6VofThvMek+s+jxUeduLiFyUzh8iy/y7ee8YkPhrVOyQlVbGgMRfo+MdeNuLiFyUzh8iW1be4is9XqzGzj72IcQlKz1erMbONuZtLyJyUTp/iFxBfJdD8o5P1dVC/CCIef0R+v2HiFyHzh8iW/w7u75CloAfQ91vfEN9hSwBP4ayn7e9iMhF6fwhsiC+s6OsJ77dvZhP+7PlXv0RddU77udtLyJyUTp/iGzxb2j/bo65Fztjv09g2u/bpg3GjyF2xn6fQOjnbS8iclE6f4gs8O/p8Iam9XFWjXo12yTmUI+zaqS//yEi16Hzh8iW7P1dv8VjZ+yBrKePY1g0d7Ez9kDW08a87UVELkrnD5EF2ZvbC2/uHUmsDopS53vihnUSqwe87UVELkrnD5Et2Xs6XmEl8Xx12pk1xCusJJ6vhk7e9iIiF6Xzh4hUeNuLiFyUzh8iW7JfD8RrVOcrV1M3+GtU5wtX3vYiIhel84fIAryPa74n61/p8XrPrmaT9a/0ePrPv4jIdej8IbIlvrP9FerxSn/Rs6vZnNaf9PC2l3vs3fG/QX+v/hT39kfav9jKNzzhT3HLP7jOHyILlt/WR7JVkFWnPbuau2wVZNXjnLf9u0LxbL3lY/ci/Bd+7L78/Xdvf6S7vthi86P6d0nnD5Eta+/ph2KPr0LdD328q9nEHl+Fuh/amLf9u0LxbL3lY/ciHtU74wlxb3+ku77YYvOj+ndJ5w+RBf6tnAlv7vQKfpzpPbuaDcbZFfw4s/X7j/i0Gp5lwHlTT2F9iY07RocGhKaHHZKOacMoLM+wqWF0wHS2AwtbmwNbZ9/NYOrD1vIQ0+Mc05iDr5oeAqYd02SfjlGyuYnjVr+DsGN66EFoEAKjEtrQbxBCnALnDgsNo4ZRw+iA6Wy3AftcZx/7EFrjHc6THo4O2grC1Iet5SGmIT+Nzh8iW7K3eLzC+njlauoGf4X18cKVt30iPol64kvZ2MQdTN3Tp0XuSz7HIBpK0+XR4qrFtqmVPW1clDgqlwyGapxylI9NNrWBL/kcA9NaJj1mGPepz80wnWqr0505yscmmxZt2TiadsYB1M0wTLth7TDlKB+fTOcPkSvA+/sRutwX4G2fGB5DfRofT1kpdsLQH5fHhVmpWNL5UmzLFq7nPVnf3CzuM7RNe6AoedmGUGxyQmmar/RAUdq0sttKT1eUoFgy2Mx9w8omWY8p2vo0Li82XKTzh8gW/ysBiG/32AM+99WVvMvavOlC43NfXckb3va56cOreFoNpdgJQ3+2HCyEPsUAstzzpdiWLVzPe7K+uVncZ2ib9kBR8rINodhkuq2F0KcYwDRf6YGitGllt6LHsxD6FINBzNc7YfoRu5qjYqtih3rPFTp/iJwhe39DPc6qXpZ39Vb1OKt6C//5l+nDq3haDaXYCch9dZpAnw4DyHLPl2JbvbBjdBx2m6UolnriS0Ob74l6CYOpoZpNbRChZDh3zcMApvlKDwyrOkal2NYTP4hQMpyHVQY5MNrazdvMfUPdbNesAXx16OzTuy0ClE6m84fIlrX39EN1T6z6fLrWh9MGs94Tqz4PVd72JTyJ/PMoPpt6MpRiJyD31SGJC7NSsaTzpdhWLPT2ftCm4pv40tA27RkUJZNtCKftn62a5is9EBPIcq/YLQ6iYvlgZbfBrq2K5l7KeowvDW0ry0+m84fIMv9u3jsGJP4aFTtkpZUxIPHX6HgH3vYlPJuKp5jJHmSxE5D76pDEhVmpWNL5UmwrFnrFB62UosV9hrZpDxQlL9sQik1OKE3zlR6ICWS5V+wWB91KaXDOksF0q5VNsh5TtPVpXF5suEjnD5EtK2/xlR4vVmNnH/sQ4pKVHi9WY2cb87Yv4UmUPblMMfbTQSz5ZKjebXRIYmkYRNkSc/6qxbaplT2HTU5YMig2NCt7xiU9iaVhYLIeM4z71OdmmE611enOHK2NjU17EksclTsMpp1xAHUzDNNuuhayUrbVLjp/iFxBfJdD8o5P1dVC/CCIef0Ry//9p9PnkYXA+QHTluM6FUtDcrfFAaY9xwB8Dph6LLgS57Nmj00NowOmax9XYOtxM6MW4trFKXDeDNNB3RynwPkB0wbTnmMA0zzrAZsCxggNQmDUDNMOeWu/gxDiFDg/YNpgitwgBEYHTEMese9422HQtcY7nCc9HDlt0R2MEUKcAufn0flDZIt/Z9dXyBLwY6j7jW+or5Al4MdQ9vO233KpR5LILiv/4mU9+pf20dL5Q2RBfGdHWU98u3sxn/Zny736I+qqd9zP236LHuVyA8O/Zov/1un8cT/p/CGyxb+h/bs55l7sjP0+gWm/b5s2GD+G2Bn7fQKhn7d9zh7ieo7LzeDfN2B0qvN3kHPo/CGywL+nwxua1sdZNerVbJOYQz3OqtG763//VkTuD50/RLZk7+/6LR47Yw9kPX0cw6K5i52xB7KeNuZtLyJyUTp/iCzI3txeeHPvSGJ1UJQ63xM3rJNYPeBtLyJyUTp/iGzJ3tPxCiuJ56vTzqwhXmEl8Xw1dPK2FxG5KJ0/RKTC215E5KJ0/hDZkv16IF6jOl+5mrrBX6M6X7jythcRuSidP0QW4H1c8z1Z/0qP13t2NZusf6XH03/+RUSuQ+cPkS3xne2vUI9X+oueXc3mtP6kh7e9iMhF6fwhsmD5bX0kWwVZddqzq7nLVkFWPc5524uIXJTOHyJb1t7TD8UeX4W6H/p4V7OJPb4KdT+0MW97EZGL0vlDZIF/K2fCmzu9gh9nes+uZoNxdgU/zuj3HyJyHTp/iGzJ3uLxCuvjlaupG/wV1scLV972IiIXpfOHyBXg/f0IXe4L8LYXEbkonT9EtvhfCUB8u8ce8LmvruRd1uZNFxqf++pK3vC2FxG5KJ0/RM6Qvb+hHmdVL8u7eqt6nFU9/f0PEbkOnT9Etqy9px+qe2LV59O1Ppw2mPWeWPV5qPK2zz148ICjwEpTLN8n1/tWfeeVjzj5a9jCDKpoexL4P2wfr/wErv1T2vVlbuCRfw2dP0SW+Xfz3jEg8deo2CErrYwBib9Gxzvwts8VT7F78px9tHb9EC7yE4ubPLH/IPoffOUncO2f0pX2P3nbzYXX/oHo/CGyZeUtvtLjxWrs7GMfQlyy0uPFauxsY972ueIhde3n12Nh1w/hIj+xuMkT+w+i/8FXfgLX/ildaf+Tt91ceO0fiM4fIlcQ3+WQvONTdbUQPwhiXn/Eo/j9B1bZFXoImHZMZx/EQsMo2dzEcavfQdgxPfQgLPQe39yXA0LjxxCTTdkmdgWExo/NUOoYLYjNPmmb3eG8qaeDlbU+7OOhc6ovB4QeCwtbdVxw2LmHGJheGkLg3GHBbdUhMZxvLcc1gzZgVO58Ap0/RLb4d3Z9hSwBP4a63/iG+gpZAn4MZT9v+1zxMDrtOdWeb+Mjj5PjPbOxyaY28CWfY2Bay6THDGM/zfQe39yWTrb1oRmmi+IqS3zYxz40m/mm2DndMxubuINXN2Pqwz4eOqesx7cNS4pSZljSp1kOQ5WjZlo6eflQjYYGP91cu0LnD5EF8Z0dZT3x7e7FfNqfLffqj6ir3nE/b/tc8SQ67SFVPPVMn8bNTyhN85UeiEk0XT4sXOlZFxeufJzJ8nXrG2al2DkYFsZ9/A7TMBN7iuWbGy7uNrQtrvKK3UyxPNuwW9z5ZDp/iGzxb2j/bo65Fztjv09g2u/bpg3GjyF2xn6fQOjnbZ8rHkNWiljLDT3ZNG413dxC6FMMYJqv9EBMounyYWHsGRp2iWs3Pw6yfBe/ttgwK8XOwbAw7uN3mIaZ2FMs39xwcbehbXGVV+xmiuXZht3izifT+UNkgX9Phzc0rY+zatSr2SYxh3qcVaNH9/c/umxqgwglw7lrHgYwzVd6ICbRdPmwcOixa09OENcOSZ9mubFxx2iN7+/juElWip0DNPi2IYklPyjEHr88QikTG3riS0ObTaNewmDg89Y+6iUMupgMfMMJyzfp/CGyJXt/12/x2Bl7IOvp4xgWzV3sjD2Q9bQxb/tc8Rg67Qk1rMqmuz43WzXNV3ogJtF0+bDQ9/gxBnvFhUOSfUT2iVmeQb9fFXfoyVCKnQM0+LYhiSU/KMSeXcsHi7sNbcUHZaViNy+Wimaod95cvknnD5EF2ZvbC2/uHUmsDopS53vihnUSqwe87XPFY+i0J9SwKpvGzU8oTfOVHohJNF0+LFzpWRcXrnycyT4xyzPo96viDj0ZSrFzgAbfNiSx5AeF2FMs39xwcbehbXGVV+xmiuXZht3izifT+UNkS/aejldYSTxfnXZmDfEKK4nnq6GTt32ueAyd9oQaVhXTlbGxaU9iaRiYrMcMYz/N9B7fPCyc9phhuiiuWvk4G09zM0w3ob/YpBj7aSb2+GQ6XtzWtw1LilJmWNKnQ87RQVGdllZ6YCgN1Who8NPNtSt0/hCRCm/73N1jLOglDHYZVm1OgfMDpg2mPccApnnWAzYFjBEWeo9vHhZOe6AoZYpNwE9tDBgjNAiBUTNMM9O2ttkdzg+YthzXWuzxyXS8vq1dAaHHwsJWHRccdu4hBsaPu7sFDecOC8c7AOfLy3EtoNNwXu58Ap0/RLZkvx6I16jOV66mbvDXqM4XrrztZeZSD+LHyOIf+Qn8ycheOn+ILMD7uOZ7sv6VHq/37Go2Wf9Kj6f//VtneKc+ma9YnT/kUnT+ENkS39n+CvV4pb/o2dVsTutPenjbS2Ov1Y6RHNMPRxbp/CGyYPltfSRbBVl12rOructWQVY9znnbi4hclM4fIlvW3tMPxR5fhbof+nhXs4k9vgp1P7Qxb3sRkYvS+UNkgX8rZ8KbO72CH2d6z65mg3F2BT/O6PcfInIdOn+IbMne4vEK6+OVq6kb/BXWxwtX3vYiIhel84fIFeD9/Qhd7gvwthcRuSidP0S2+F8JQHy7xx7wua+u5F3W5k0XGp/76kre8LYXEbkonT9EzpC9v6EeZ1Uvy7t6q3qcVT39/Q8RuQ6dP0S2rL2nH6p7YtXn07U+nDaY9Z5Y9Xmo8rYXEbkonT9Elvl3894xIPHXqNghK62MAYm/Rsc78LYXEbkonT9Etqy8xVd6vFiNnX3sQ4hLVnq8WI2dbczbXkTkonT+ELmC+C6H5B2fqquF+EEQ8/oj9PsPEbkOnT9Etvh3dn2FLAE/hrrf+Ib6ClkCfgxlP297EZGL0vlDZEF8Z0dZT3y7ezGf9mfLvfoj6qp33M/bXkTkonT+ENni39D+3RxzL3bGfp/AtN+3TRuMH0PsjP0+gdDP215E5KJ0/hBZ4N/T4Q1N6+OsGvVqtknMoR5n1Uh//0NErkPnD5Et2fu7fovHztgDWU8fx7Bo7mJn7IGsp4152z+GHjx4wNGxLPcu1RP1Vactv7F7+G0f+TexLxC/Q/Gt0B+x/ATT+UNkQfbm9sKbe0cSq4Oi1PmeuGGdxOoBb/vH0DmP+Ou9Hi61821eYP1TbvNx91/2cyh+PvrRZXT+ENmSvafjFVYSz1ennVlDvMJK4vlq6ORt/xg657l/vXfGpXa+zVutf8ptPu7+y34Oxc9HP7qMzh8iUuFtn8Pj1a6A0GOhYXTA9LADQkBuOD825NNpv0Kr3PFjQIPhPF/r+Rzj1nsHYcf00NNDDLrWcofzA6ZNlhjOF5ZPsaNh1MJh4CG8W9D0EDDtmCb7dIySzU0ct/odhB3TQw9CgxAYzbBjbWFMuqL0hNP5Q2RL9uuBeI3qfOVq6gZ/jep84crbPteexkfPaI6aYjqMixJHzhBOp3b1eR/70GQ909wbGoYpR3mbz42fZmNzqeWDrC0OPAt9Hqcc5WOTTW3gSz7HwLSWSY8Zxn3qczNMO59nYy/LTVF6wun8IbIA7+Oa78n6V3q83rOr2WT9Kz3ewn/+JT5ee3Lxkjf0x+XDqmk+9HTZWq/Yp0/jwmkptsHJy6dtmZXl032GMJvGtSeUpvlKDxSl6ITlxbYrn/hk0vlDZEt8Z/sr1OOV/qJnV7M5rT/p4W2fKx7WnoXQpxh0KyVv6I/Lh1XTfOjpsrVesU+fxoXTUmyLrAf6FAPjxzBtW2H90KfDwBvCbBrXZrtBn2IA03ylB4pSdMLyYlsrRaw92XT+EFmw/LY+kq2CrDrt2dXcZasgqx7nvO1z8WHqk/awvdOnw6DzpQglD6EvDcmwapoPPV221iv26dO4cFqKbZ2VoE+HgWn1EWvHVUYBy/mn9IE3hNnUBhFKhnPXPAxgmq/0wLCqY3Qs5j1ZX9IVpSeczh8iW9be0w/FHl+Fuh/6eFeziT2+CnU/tDFv+9yuh/VppSm0+eYhGfaZ5kNPl631in36NC6clmIbnLk8mnaufMrKwmw6XQuxlK2a5is9EBOY5sXyXftAUXrC6fwhssC/lTPhzZ1ewY8zvWdXs8E4u4IfZ+793//wpSEZVk3zoafL1nrFPn0aF05LsQ1OXr6+oSmWx4E3hNk0rj2hNM1XeiAmMM2L5bv2gaL0hNP5Q2RL9haPV1gfr1xN3eCvsD5euPK2z9nj1T9hs7FpjWlnUeIoiKViYZ9muVnp6aYLISvZuE99bvy06ClKHOVjM0wh9vQkDrwhLKYrY2PTnsTSMDBZjxnGfepzM0w7n2djL8tNUXrC6fwhcgV4fz9Cl/sCvO1zeLzaFRB2TBtMkQNygzFCQG44n4lVnwzVPp2uAs7ztd56v00B4x5i0LWWO5w3jBpMhxxTw3m+rWEUsNxg2vNh4A3h5hQ4P2DaYNpzDGCaZz1gU8AYoUEIjGbYUX5Eh85BL2EQFaUngc4fIlv8rwQgvt1jD/jcV1fyLmvzpguNz311JW942+cu9Qx9wp/FclX6t+se0vlD5AzZ+xvqcVb1sryrt6rHWdU76e9/rBhW6fUgF6R/ux4LOn+IbFl7Tz9U98Sqz6drfThtMOs9serzUOVtnzv54W4LO0YiF8J/sRpGcs/o/CGyzL+b944Bib9GxQ5ZaWUMSPw1Ot6Bt72IyEXp/CGyZeUtvtLjxWrs7GMfQlyy0uPFauxsY972IiIXpfOHyBXEdzkk7/hUXS3ED4KY1x+h33+IyHXo/CGyxb+z6ytkCfgx1P3GN9RXyBLwYyj7eduLiFyUzh8iC+I7O8p64tvdi/m0P1vu1R9RV73jft72IiIXdXT+eP13/z8lZpEgcdrMvAAAAABJRU5ErkJggg==)\n",
        "\n",
        "Link: https://acronym24.com/lf-meaning-in-food/\n"
      ],
      "metadata": {
        "id": "iWgv2tjxWOVa"
      }
    },
    {
      "cell_type": "code",
      "source": [
        "#reemplazamos los valores en la df principal\n",
        "sales_predictions_df1['Item_Fat_Content'] =sales_predictions_df1['Item_Fat_Content'].replace(['low fat','LF'],'Low Fat')"
      ],
      "metadata": {
        "id": "oDWkgO9ycGPU",
        "colab": {
          "base_uri": "https://localhost:8080/"
        },
        "outputId": "147685fc-911e-4a8a-8017-3c5c270bbe81"
      },
      "execution_count": 406,
      "outputs": [
        {
          "output_type": "stream",
          "name": "stderr",
          "text": [
            "/usr/local/lib/python3.7/dist-packages/ipykernel_launcher.py:2: SettingWithCopyWarning: \n",
            "A value is trying to be set on a copy of a slice from a DataFrame.\n",
            "Try using .loc[row_indexer,col_indexer] = value instead\n",
            "\n",
            "See the caveats in the documentation: https://pandas.pydata.org/pandas-docs/stable/user_guide/indexing.html#returning-a-view-versus-a-copy\n",
            "  \n"
          ]
        }
      ]
    },
    {
      "cell_type": "code",
      "source": [
        "sales_predictions_df1['Item_Fat_Content'] = sales_predictions_df1['Item_Fat_Content'].replace('reg','Regular')\n",
        "sales_predictions_df1.tail()"
      ],
      "metadata": {
        "colab": {
          "base_uri": "https://localhost:8080/",
          "height": 441
        },
        "id": "zCOk12j2FzeN",
        "outputId": "69fa552a-5bdc-4c2a-b456-9e09574595bc"
      },
      "execution_count": 407,
      "outputs": [
        {
          "output_type": "stream",
          "name": "stderr",
          "text": [
            "/usr/local/lib/python3.7/dist-packages/ipykernel_launcher.py:1: SettingWithCopyWarning: \n",
            "A value is trying to be set on a copy of a slice from a DataFrame.\n",
            "Try using .loc[row_indexer,col_indexer] = value instead\n",
            "\n",
            "See the caveats in the documentation: https://pandas.pydata.org/pandas-docs/stable/user_guide/indexing.html#returning-a-view-versus-a-copy\n",
            "  \"\"\"Entry point for launching an IPython kernel.\n"
          ]
        },
        {
          "output_type": "execute_result",
          "data": {
            "text/html": [
              "\n",
              "  <div id=\"df-aadedcfd-449f-421d-9052-030160ea9859\">\n",
              "    <div class=\"colab-df-container\">\n",
              "      <div>\n",
              "<style scoped>\n",
              "    .dataframe tbody tr th:only-of-type {\n",
              "        vertical-align: middle;\n",
              "    }\n",
              "\n",
              "    .dataframe tbody tr th {\n",
              "        vertical-align: top;\n",
              "    }\n",
              "\n",
              "    .dataframe thead th {\n",
              "        text-align: right;\n",
              "    }\n",
              "</style>\n",
              "<table border=\"1\" class=\"dataframe\">\n",
              "  <thead>\n",
              "    <tr style=\"text-align: right;\">\n",
              "      <th></th>\n",
              "      <th>Item_Identifier</th>\n",
              "      <th>Item_Weight</th>\n",
              "      <th>Item_Fat_Content</th>\n",
              "      <th>Item_Visibility</th>\n",
              "      <th>Item_Type</th>\n",
              "      <th>Item_MRP</th>\n",
              "      <th>Outlet_Identifier</th>\n",
              "      <th>Outlet_Establishment_Year</th>\n",
              "      <th>Outlet_Size</th>\n",
              "      <th>Outlet_Location_Type</th>\n",
              "      <th>Outlet_Type</th>\n",
              "      <th>Item_Outlet_Sales</th>\n",
              "    </tr>\n",
              "  </thead>\n",
              "  <tbody>\n",
              "    <tr>\n",
              "      <th>8517</th>\n",
              "      <td>FDF53</td>\n",
              "      <td>20.750</td>\n",
              "      <td>Regular</td>\n",
              "      <td>0.083607</td>\n",
              "      <td>Frozen Foods</td>\n",
              "      <td>178.8318</td>\n",
              "      <td>OUT046</td>\n",
              "      <td>1997</td>\n",
              "      <td>Small</td>\n",
              "      <td>Tier 1</td>\n",
              "      <td>Supermarket Type1</td>\n",
              "      <td>3608.6360</td>\n",
              "    </tr>\n",
              "    <tr>\n",
              "      <th>8518</th>\n",
              "      <td>FDF22</td>\n",
              "      <td>6.865</td>\n",
              "      <td>Low Fat</td>\n",
              "      <td>0.056783</td>\n",
              "      <td>Snack Foods</td>\n",
              "      <td>214.5218</td>\n",
              "      <td>OUT013</td>\n",
              "      <td>1987</td>\n",
              "      <td>High</td>\n",
              "      <td>Tier 3</td>\n",
              "      <td>Supermarket Type1</td>\n",
              "      <td>2778.3834</td>\n",
              "    </tr>\n",
              "    <tr>\n",
              "      <th>8520</th>\n",
              "      <td>NCJ29</td>\n",
              "      <td>10.600</td>\n",
              "      <td>Low Fat</td>\n",
              "      <td>0.035186</td>\n",
              "      <td>Health and Hygiene</td>\n",
              "      <td>85.1224</td>\n",
              "      <td>OUT035</td>\n",
              "      <td>2004</td>\n",
              "      <td>Small</td>\n",
              "      <td>Tier 2</td>\n",
              "      <td>Supermarket Type1</td>\n",
              "      <td>1193.1136</td>\n",
              "    </tr>\n",
              "    <tr>\n",
              "      <th>8521</th>\n",
              "      <td>FDN46</td>\n",
              "      <td>7.210</td>\n",
              "      <td>Regular</td>\n",
              "      <td>0.145221</td>\n",
              "      <td>Snack Foods</td>\n",
              "      <td>103.1332</td>\n",
              "      <td>OUT018</td>\n",
              "      <td>2009</td>\n",
              "      <td>Medium</td>\n",
              "      <td>Tier 3</td>\n",
              "      <td>Supermarket Type2</td>\n",
              "      <td>1845.5976</td>\n",
              "    </tr>\n",
              "    <tr>\n",
              "      <th>8522</th>\n",
              "      <td>DRG01</td>\n",
              "      <td>14.800</td>\n",
              "      <td>Low Fat</td>\n",
              "      <td>0.044878</td>\n",
              "      <td>Soft Drinks</td>\n",
              "      <td>75.4670</td>\n",
              "      <td>OUT046</td>\n",
              "      <td>1997</td>\n",
              "      <td>Small</td>\n",
              "      <td>Tier 1</td>\n",
              "      <td>Supermarket Type1</td>\n",
              "      <td>765.6700</td>\n",
              "    </tr>\n",
              "  </tbody>\n",
              "</table>\n",
              "</div>\n",
              "      <button class=\"colab-df-convert\" onclick=\"convertToInteractive('df-aadedcfd-449f-421d-9052-030160ea9859')\"\n",
              "              title=\"Convert this dataframe to an interactive table.\"\n",
              "              style=\"display:none;\">\n",
              "        \n",
              "  <svg xmlns=\"http://www.w3.org/2000/svg\" height=\"24px\"viewBox=\"0 0 24 24\"\n",
              "       width=\"24px\">\n",
              "    <path d=\"M0 0h24v24H0V0z\" fill=\"none\"/>\n",
              "    <path d=\"M18.56 5.44l.94 2.06.94-2.06 2.06-.94-2.06-.94-.94-2.06-.94 2.06-2.06.94zm-11 1L8.5 8.5l.94-2.06 2.06-.94-2.06-.94L8.5 2.5l-.94 2.06-2.06.94zm10 10l.94 2.06.94-2.06 2.06-.94-2.06-.94-.94-2.06-.94 2.06-2.06.94z\"/><path d=\"M17.41 7.96l-1.37-1.37c-.4-.4-.92-.59-1.43-.59-.52 0-1.04.2-1.43.59L10.3 9.45l-7.72 7.72c-.78.78-.78 2.05 0 2.83L4 21.41c.39.39.9.59 1.41.59.51 0 1.02-.2 1.41-.59l7.78-7.78 2.81-2.81c.8-.78.8-2.07 0-2.86zM5.41 20L4 18.59l7.72-7.72 1.47 1.35L5.41 20z\"/>\n",
              "  </svg>\n",
              "      </button>\n",
              "      \n",
              "  <style>\n",
              "    .colab-df-container {\n",
              "      display:flex;\n",
              "      flex-wrap:wrap;\n",
              "      gap: 12px;\n",
              "    }\n",
              "\n",
              "    .colab-df-convert {\n",
              "      background-color: #E8F0FE;\n",
              "      border: none;\n",
              "      border-radius: 50%;\n",
              "      cursor: pointer;\n",
              "      display: none;\n",
              "      fill: #1967D2;\n",
              "      height: 32px;\n",
              "      padding: 0 0 0 0;\n",
              "      width: 32px;\n",
              "    }\n",
              "\n",
              "    .colab-df-convert:hover {\n",
              "      background-color: #E2EBFA;\n",
              "      box-shadow: 0px 1px 2px rgba(60, 64, 67, 0.3), 0px 1px 3px 1px rgba(60, 64, 67, 0.15);\n",
              "      fill: #174EA6;\n",
              "    }\n",
              "\n",
              "    [theme=dark] .colab-df-convert {\n",
              "      background-color: #3B4455;\n",
              "      fill: #D2E3FC;\n",
              "    }\n",
              "\n",
              "    [theme=dark] .colab-df-convert:hover {\n",
              "      background-color: #434B5C;\n",
              "      box-shadow: 0px 1px 3px 1px rgba(0, 0, 0, 0.15);\n",
              "      filter: drop-shadow(0px 1px 2px rgba(0, 0, 0, 0.3));\n",
              "      fill: #FFFFFF;\n",
              "    }\n",
              "  </style>\n",
              "\n",
              "      <script>\n",
              "        const buttonEl =\n",
              "          document.querySelector('#df-aadedcfd-449f-421d-9052-030160ea9859 button.colab-df-convert');\n",
              "        buttonEl.style.display =\n",
              "          google.colab.kernel.accessAllowed ? 'block' : 'none';\n",
              "\n",
              "        async function convertToInteractive(key) {\n",
              "          const element = document.querySelector('#df-aadedcfd-449f-421d-9052-030160ea9859');\n",
              "          const dataTable =\n",
              "            await google.colab.kernel.invokeFunction('convertToInteractive',\n",
              "                                                     [key], {});\n",
              "          if (!dataTable) return;\n",
              "\n",
              "          const docLinkHtml = 'Like what you see? Visit the ' +\n",
              "            '<a target=\"_blank\" href=https://colab.research.google.com/notebooks/data_table.ipynb>data table notebook</a>'\n",
              "            + ' to learn more about interactive tables.';\n",
              "          element.innerHTML = '';\n",
              "          dataTable['output_type'] = 'display_data';\n",
              "          await google.colab.output.renderOutput(dataTable, element);\n",
              "          const docLink = document.createElement('div');\n",
              "          docLink.innerHTML = docLinkHtml;\n",
              "          element.appendChild(docLink);\n",
              "        }\n",
              "      </script>\n",
              "    </div>\n",
              "  </div>\n",
              "  "
            ],
            "text/plain": [
              "     Item_Identifier  Item_Weight  ...        Outlet_Type  Item_Outlet_Sales\n",
              "8517           FDF53       20.750  ...  Supermarket Type1          3608.6360\n",
              "8518           FDF22        6.865  ...  Supermarket Type1          2778.3834\n",
              "8520           NCJ29       10.600  ...  Supermarket Type1          1193.1136\n",
              "8521           FDN46        7.210  ...  Supermarket Type2          1845.5976\n",
              "8522           DRG01       14.800  ...  Supermarket Type1           765.6700\n",
              "\n",
              "[5 rows x 12 columns]"
            ]
          },
          "metadata": {},
          "execution_count": 407
        }
      ]
    },
    {
      "cell_type": "markdown",
      "source": [
        "# Base de datos final \n"
      ],
      "metadata": {
        "id": "wMY0TO7YwEDF"
      }
    },
    {
      "cell_type": "markdown",
      "source": [
        "Aplicados los cambios se mostraría la df final, teniendo en cuenta que con la poca información del negocio no podríamos borrar ninguna columna del todo ya que no conocemos a profundidad la base de datos"
      ],
      "metadata": {
        "id": "vVRhz-LFwIVa"
      }
    },
    {
      "cell_type": "code",
      "source": [
        "#base de datos final (aplicado un data_cleaning)"
      ],
      "metadata": {
        "id": "9qlH1zmowEhP"
      },
      "execution_count": 408,
      "outputs": []
    },
    {
      "cell_type": "code",
      "source": [
        "sales_predictions_df1"
      ],
      "metadata": {
        "colab": {
          "base_uri": "https://localhost:8080/",
          "height": 641
        },
        "id": "wildYQbIv-Sk",
        "outputId": "7c921d2d-b260-4f7f-fdef-14732d7d0d29"
      },
      "execution_count": 409,
      "outputs": [
        {
          "output_type": "execute_result",
          "data": {
            "text/html": [
              "\n",
              "  <div id=\"df-a7d78c00-b70a-4ce2-9675-3a2372c11c88\">\n",
              "    <div class=\"colab-df-container\">\n",
              "      <div>\n",
              "<style scoped>\n",
              "    .dataframe tbody tr th:only-of-type {\n",
              "        vertical-align: middle;\n",
              "    }\n",
              "\n",
              "    .dataframe tbody tr th {\n",
              "        vertical-align: top;\n",
              "    }\n",
              "\n",
              "    .dataframe thead th {\n",
              "        text-align: right;\n",
              "    }\n",
              "</style>\n",
              "<table border=\"1\" class=\"dataframe\">\n",
              "  <thead>\n",
              "    <tr style=\"text-align: right;\">\n",
              "      <th></th>\n",
              "      <th>Item_Identifier</th>\n",
              "      <th>Item_Weight</th>\n",
              "      <th>Item_Fat_Content</th>\n",
              "      <th>Item_Visibility</th>\n",
              "      <th>Item_Type</th>\n",
              "      <th>Item_MRP</th>\n",
              "      <th>Outlet_Identifier</th>\n",
              "      <th>Outlet_Establishment_Year</th>\n",
              "      <th>Outlet_Size</th>\n",
              "      <th>Outlet_Location_Type</th>\n",
              "      <th>Outlet_Type</th>\n",
              "      <th>Item_Outlet_Sales</th>\n",
              "    </tr>\n",
              "  </thead>\n",
              "  <tbody>\n",
              "    <tr>\n",
              "      <th>0</th>\n",
              "      <td>FDA15</td>\n",
              "      <td>9.300</td>\n",
              "      <td>Low Fat</td>\n",
              "      <td>0.016047</td>\n",
              "      <td>Dairy</td>\n",
              "      <td>249.8092</td>\n",
              "      <td>OUT049</td>\n",
              "      <td>1999</td>\n",
              "      <td>Medium</td>\n",
              "      <td>Tier 1</td>\n",
              "      <td>Supermarket Type1</td>\n",
              "      <td>3735.1380</td>\n",
              "    </tr>\n",
              "    <tr>\n",
              "      <th>1</th>\n",
              "      <td>DRC01</td>\n",
              "      <td>5.920</td>\n",
              "      <td>Regular</td>\n",
              "      <td>0.019278</td>\n",
              "      <td>Soft Drinks</td>\n",
              "      <td>48.2692</td>\n",
              "      <td>OUT018</td>\n",
              "      <td>2009</td>\n",
              "      <td>Medium</td>\n",
              "      <td>Tier 3</td>\n",
              "      <td>Supermarket Type2</td>\n",
              "      <td>443.4228</td>\n",
              "    </tr>\n",
              "    <tr>\n",
              "      <th>2</th>\n",
              "      <td>FDN15</td>\n",
              "      <td>17.500</td>\n",
              "      <td>Low Fat</td>\n",
              "      <td>0.016760</td>\n",
              "      <td>Meat</td>\n",
              "      <td>141.6180</td>\n",
              "      <td>OUT049</td>\n",
              "      <td>1999</td>\n",
              "      <td>Medium</td>\n",
              "      <td>Tier 1</td>\n",
              "      <td>Supermarket Type1</td>\n",
              "      <td>2097.2700</td>\n",
              "    </tr>\n",
              "    <tr>\n",
              "      <th>4</th>\n",
              "      <td>NCD19</td>\n",
              "      <td>8.930</td>\n",
              "      <td>Low Fat</td>\n",
              "      <td>0.000000</td>\n",
              "      <td>Household</td>\n",
              "      <td>53.8614</td>\n",
              "      <td>OUT013</td>\n",
              "      <td>1987</td>\n",
              "      <td>High</td>\n",
              "      <td>Tier 3</td>\n",
              "      <td>Supermarket Type1</td>\n",
              "      <td>994.7052</td>\n",
              "    </tr>\n",
              "    <tr>\n",
              "      <th>5</th>\n",
              "      <td>FDP36</td>\n",
              "      <td>10.395</td>\n",
              "      <td>Regular</td>\n",
              "      <td>0.000000</td>\n",
              "      <td>Baking Goods</td>\n",
              "      <td>51.4008</td>\n",
              "      <td>OUT018</td>\n",
              "      <td>2009</td>\n",
              "      <td>Medium</td>\n",
              "      <td>Tier 3</td>\n",
              "      <td>Supermarket Type2</td>\n",
              "      <td>556.6088</td>\n",
              "    </tr>\n",
              "    <tr>\n",
              "      <th>...</th>\n",
              "      <td>...</td>\n",
              "      <td>...</td>\n",
              "      <td>...</td>\n",
              "      <td>...</td>\n",
              "      <td>...</td>\n",
              "      <td>...</td>\n",
              "      <td>...</td>\n",
              "      <td>...</td>\n",
              "      <td>...</td>\n",
              "      <td>...</td>\n",
              "      <td>...</td>\n",
              "      <td>...</td>\n",
              "    </tr>\n",
              "    <tr>\n",
              "      <th>8517</th>\n",
              "      <td>FDF53</td>\n",
              "      <td>20.750</td>\n",
              "      <td>Regular</td>\n",
              "      <td>0.083607</td>\n",
              "      <td>Frozen Foods</td>\n",
              "      <td>178.8318</td>\n",
              "      <td>OUT046</td>\n",
              "      <td>1997</td>\n",
              "      <td>Small</td>\n",
              "      <td>Tier 1</td>\n",
              "      <td>Supermarket Type1</td>\n",
              "      <td>3608.6360</td>\n",
              "    </tr>\n",
              "    <tr>\n",
              "      <th>8518</th>\n",
              "      <td>FDF22</td>\n",
              "      <td>6.865</td>\n",
              "      <td>Low Fat</td>\n",
              "      <td>0.056783</td>\n",
              "      <td>Snack Foods</td>\n",
              "      <td>214.5218</td>\n",
              "      <td>OUT013</td>\n",
              "      <td>1987</td>\n",
              "      <td>High</td>\n",
              "      <td>Tier 3</td>\n",
              "      <td>Supermarket Type1</td>\n",
              "      <td>2778.3834</td>\n",
              "    </tr>\n",
              "    <tr>\n",
              "      <th>8520</th>\n",
              "      <td>NCJ29</td>\n",
              "      <td>10.600</td>\n",
              "      <td>Low Fat</td>\n",
              "      <td>0.035186</td>\n",
              "      <td>Health and Hygiene</td>\n",
              "      <td>85.1224</td>\n",
              "      <td>OUT035</td>\n",
              "      <td>2004</td>\n",
              "      <td>Small</td>\n",
              "      <td>Tier 2</td>\n",
              "      <td>Supermarket Type1</td>\n",
              "      <td>1193.1136</td>\n",
              "    </tr>\n",
              "    <tr>\n",
              "      <th>8521</th>\n",
              "      <td>FDN46</td>\n",
              "      <td>7.210</td>\n",
              "      <td>Regular</td>\n",
              "      <td>0.145221</td>\n",
              "      <td>Snack Foods</td>\n",
              "      <td>103.1332</td>\n",
              "      <td>OUT018</td>\n",
              "      <td>2009</td>\n",
              "      <td>Medium</td>\n",
              "      <td>Tier 3</td>\n",
              "      <td>Supermarket Type2</td>\n",
              "      <td>1845.5976</td>\n",
              "    </tr>\n",
              "    <tr>\n",
              "      <th>8522</th>\n",
              "      <td>DRG01</td>\n",
              "      <td>14.800</td>\n",
              "      <td>Low Fat</td>\n",
              "      <td>0.044878</td>\n",
              "      <td>Soft Drinks</td>\n",
              "      <td>75.4670</td>\n",
              "      <td>OUT046</td>\n",
              "      <td>1997</td>\n",
              "      <td>Small</td>\n",
              "      <td>Tier 1</td>\n",
              "      <td>Supermarket Type1</td>\n",
              "      <td>765.6700</td>\n",
              "    </tr>\n",
              "  </tbody>\n",
              "</table>\n",
              "<p>6113 rows × 12 columns</p>\n",
              "</div>\n",
              "      <button class=\"colab-df-convert\" onclick=\"convertToInteractive('df-a7d78c00-b70a-4ce2-9675-3a2372c11c88')\"\n",
              "              title=\"Convert this dataframe to an interactive table.\"\n",
              "              style=\"display:none;\">\n",
              "        \n",
              "  <svg xmlns=\"http://www.w3.org/2000/svg\" height=\"24px\"viewBox=\"0 0 24 24\"\n",
              "       width=\"24px\">\n",
              "    <path d=\"M0 0h24v24H0V0z\" fill=\"none\"/>\n",
              "    <path d=\"M18.56 5.44l.94 2.06.94-2.06 2.06-.94-2.06-.94-.94-2.06-.94 2.06-2.06.94zm-11 1L8.5 8.5l.94-2.06 2.06-.94-2.06-.94L8.5 2.5l-.94 2.06-2.06.94zm10 10l.94 2.06.94-2.06 2.06-.94-2.06-.94-.94-2.06-.94 2.06-2.06.94z\"/><path d=\"M17.41 7.96l-1.37-1.37c-.4-.4-.92-.59-1.43-.59-.52 0-1.04.2-1.43.59L10.3 9.45l-7.72 7.72c-.78.78-.78 2.05 0 2.83L4 21.41c.39.39.9.59 1.41.59.51 0 1.02-.2 1.41-.59l7.78-7.78 2.81-2.81c.8-.78.8-2.07 0-2.86zM5.41 20L4 18.59l7.72-7.72 1.47 1.35L5.41 20z\"/>\n",
              "  </svg>\n",
              "      </button>\n",
              "      \n",
              "  <style>\n",
              "    .colab-df-container {\n",
              "      display:flex;\n",
              "      flex-wrap:wrap;\n",
              "      gap: 12px;\n",
              "    }\n",
              "\n",
              "    .colab-df-convert {\n",
              "      background-color: #E8F0FE;\n",
              "      border: none;\n",
              "      border-radius: 50%;\n",
              "      cursor: pointer;\n",
              "      display: none;\n",
              "      fill: #1967D2;\n",
              "      height: 32px;\n",
              "      padding: 0 0 0 0;\n",
              "      width: 32px;\n",
              "    }\n",
              "\n",
              "    .colab-df-convert:hover {\n",
              "      background-color: #E2EBFA;\n",
              "      box-shadow: 0px 1px 2px rgba(60, 64, 67, 0.3), 0px 1px 3px 1px rgba(60, 64, 67, 0.15);\n",
              "      fill: #174EA6;\n",
              "    }\n",
              "\n",
              "    [theme=dark] .colab-df-convert {\n",
              "      background-color: #3B4455;\n",
              "      fill: #D2E3FC;\n",
              "    }\n",
              "\n",
              "    [theme=dark] .colab-df-convert:hover {\n",
              "      background-color: #434B5C;\n",
              "      box-shadow: 0px 1px 3px 1px rgba(0, 0, 0, 0.15);\n",
              "      filter: drop-shadow(0px 1px 2px rgba(0, 0, 0, 0.3));\n",
              "      fill: #FFFFFF;\n",
              "    }\n",
              "  </style>\n",
              "\n",
              "      <script>\n",
              "        const buttonEl =\n",
              "          document.querySelector('#df-a7d78c00-b70a-4ce2-9675-3a2372c11c88 button.colab-df-convert');\n",
              "        buttonEl.style.display =\n",
              "          google.colab.kernel.accessAllowed ? 'block' : 'none';\n",
              "\n",
              "        async function convertToInteractive(key) {\n",
              "          const element = document.querySelector('#df-a7d78c00-b70a-4ce2-9675-3a2372c11c88');\n",
              "          const dataTable =\n",
              "            await google.colab.kernel.invokeFunction('convertToInteractive',\n",
              "                                                     [key], {});\n",
              "          if (!dataTable) return;\n",
              "\n",
              "          const docLinkHtml = 'Like what you see? Visit the ' +\n",
              "            '<a target=\"_blank\" href=https://colab.research.google.com/notebooks/data_table.ipynb>data table notebook</a>'\n",
              "            + ' to learn more about interactive tables.';\n",
              "          element.innerHTML = '';\n",
              "          dataTable['output_type'] = 'display_data';\n",
              "          await google.colab.output.renderOutput(dataTable, element);\n",
              "          const docLink = document.createElement('div');\n",
              "          docLink.innerHTML = docLinkHtml;\n",
              "          element.appendChild(docLink);\n",
              "        }\n",
              "      </script>\n",
              "    </div>\n",
              "  </div>\n",
              "  "
            ],
            "text/plain": [
              "     Item_Identifier  Item_Weight  ...        Outlet_Type  Item_Outlet_Sales\n",
              "0              FDA15        9.300  ...  Supermarket Type1          3735.1380\n",
              "1              DRC01        5.920  ...  Supermarket Type2           443.4228\n",
              "2              FDN15       17.500  ...  Supermarket Type1          2097.2700\n",
              "4              NCD19        8.930  ...  Supermarket Type1           994.7052\n",
              "5              FDP36       10.395  ...  Supermarket Type2           556.6088\n",
              "...              ...          ...  ...                ...                ...\n",
              "8517           FDF53       20.750  ...  Supermarket Type1          3608.6360\n",
              "8518           FDF22        6.865  ...  Supermarket Type1          2778.3834\n",
              "8520           NCJ29       10.600  ...  Supermarket Type1          1193.1136\n",
              "8521           FDN46        7.210  ...  Supermarket Type2          1845.5976\n",
              "8522           DRG01       14.800  ...  Supermarket Type1           765.6700\n",
              "\n",
              "[6113 rows x 12 columns]"
            ]
          },
          "metadata": {},
          "execution_count": 409
        }
      ]
    },
    {
      "cell_type": "markdown",
      "source": [
        "# **Visualización de datos** \n",
        "\n"
      ],
      "metadata": {
        "id": "2Gyla_IVIPeq"
      }
    },
    {
      "cell_type": "code",
      "source": [
        "#mostramos la df con la que vamos a trabajar \n",
        "sales_predictions_df1"
      ],
      "metadata": {
        "colab": {
          "base_uri": "https://localhost:8080/",
          "height": 641
        },
        "id": "b8Nv865aIgai",
        "outputId": "b5cef252-b0c0-43a1-c781-e4e43f2ef971"
      },
      "execution_count": 390,
      "outputs": [
        {
          "output_type": "execute_result",
          "data": {
            "text/html": [
              "\n",
              "  <div id=\"df-dc21f4c5-e35a-4c6e-94bc-cafca172f95d\">\n",
              "    <div class=\"colab-df-container\">\n",
              "      <div>\n",
              "<style scoped>\n",
              "    .dataframe tbody tr th:only-of-type {\n",
              "        vertical-align: middle;\n",
              "    }\n",
              "\n",
              "    .dataframe tbody tr th {\n",
              "        vertical-align: top;\n",
              "    }\n",
              "\n",
              "    .dataframe thead th {\n",
              "        text-align: right;\n",
              "    }\n",
              "</style>\n",
              "<table border=\"1\" class=\"dataframe\">\n",
              "  <thead>\n",
              "    <tr style=\"text-align: right;\">\n",
              "      <th></th>\n",
              "      <th>Item_Identifier</th>\n",
              "      <th>Item_Weight</th>\n",
              "      <th>Item_Fat_Content</th>\n",
              "      <th>Item_Visibility</th>\n",
              "      <th>Item_Type</th>\n",
              "      <th>Item_MRP</th>\n",
              "      <th>Outlet_Identifier</th>\n",
              "      <th>Outlet_Establishment_Year</th>\n",
              "      <th>Outlet_Size</th>\n",
              "      <th>Outlet_Location_Type</th>\n",
              "      <th>Outlet_Type</th>\n",
              "      <th>Item_Outlet_Sales</th>\n",
              "    </tr>\n",
              "  </thead>\n",
              "  <tbody>\n",
              "    <tr>\n",
              "      <th>0</th>\n",
              "      <td>FDA15</td>\n",
              "      <td>9.300</td>\n",
              "      <td>Low Fat</td>\n",
              "      <td>0.016047</td>\n",
              "      <td>Dairy</td>\n",
              "      <td>249.8092</td>\n",
              "      <td>OUT049</td>\n",
              "      <td>1999</td>\n",
              "      <td>Medium</td>\n",
              "      <td>Tier 1</td>\n",
              "      <td>Supermarket Type1</td>\n",
              "      <td>3735.1380</td>\n",
              "    </tr>\n",
              "    <tr>\n",
              "      <th>1</th>\n",
              "      <td>DRC01</td>\n",
              "      <td>5.920</td>\n",
              "      <td>Regular</td>\n",
              "      <td>0.019278</td>\n",
              "      <td>Soft Drinks</td>\n",
              "      <td>48.2692</td>\n",
              "      <td>OUT018</td>\n",
              "      <td>2009</td>\n",
              "      <td>Medium</td>\n",
              "      <td>Tier 3</td>\n",
              "      <td>Supermarket Type2</td>\n",
              "      <td>443.4228</td>\n",
              "    </tr>\n",
              "    <tr>\n",
              "      <th>2</th>\n",
              "      <td>FDN15</td>\n",
              "      <td>17.500</td>\n",
              "      <td>Low Fat</td>\n",
              "      <td>0.016760</td>\n",
              "      <td>Meat</td>\n",
              "      <td>141.6180</td>\n",
              "      <td>OUT049</td>\n",
              "      <td>1999</td>\n",
              "      <td>Medium</td>\n",
              "      <td>Tier 1</td>\n",
              "      <td>Supermarket Type1</td>\n",
              "      <td>2097.2700</td>\n",
              "    </tr>\n",
              "    <tr>\n",
              "      <th>3</th>\n",
              "      <td>FDX07</td>\n",
              "      <td>19.200</td>\n",
              "      <td>Regular</td>\n",
              "      <td>0.000000</td>\n",
              "      <td>Fruits and Vegetables</td>\n",
              "      <td>182.0950</td>\n",
              "      <td>OUT010</td>\n",
              "      <td>1998</td>\n",
              "      <td>NaN</td>\n",
              "      <td>Tier 3</td>\n",
              "      <td>Grocery Store</td>\n",
              "      <td>732.3800</td>\n",
              "    </tr>\n",
              "    <tr>\n",
              "      <th>4</th>\n",
              "      <td>NCD19</td>\n",
              "      <td>8.930</td>\n",
              "      <td>Low Fat</td>\n",
              "      <td>0.000000</td>\n",
              "      <td>Household</td>\n",
              "      <td>53.8614</td>\n",
              "      <td>OUT013</td>\n",
              "      <td>1987</td>\n",
              "      <td>High</td>\n",
              "      <td>Tier 3</td>\n",
              "      <td>Supermarket Type1</td>\n",
              "      <td>994.7052</td>\n",
              "    </tr>\n",
              "    <tr>\n",
              "      <th>...</th>\n",
              "      <td>...</td>\n",
              "      <td>...</td>\n",
              "      <td>...</td>\n",
              "      <td>...</td>\n",
              "      <td>...</td>\n",
              "      <td>...</td>\n",
              "      <td>...</td>\n",
              "      <td>...</td>\n",
              "      <td>...</td>\n",
              "      <td>...</td>\n",
              "      <td>...</td>\n",
              "      <td>...</td>\n",
              "    </tr>\n",
              "    <tr>\n",
              "      <th>8518</th>\n",
              "      <td>FDF22</td>\n",
              "      <td>6.865</td>\n",
              "      <td>Low Fat</td>\n",
              "      <td>0.056783</td>\n",
              "      <td>Snack Foods</td>\n",
              "      <td>214.5218</td>\n",
              "      <td>OUT013</td>\n",
              "      <td>1987</td>\n",
              "      <td>High</td>\n",
              "      <td>Tier 3</td>\n",
              "      <td>Supermarket Type1</td>\n",
              "      <td>2778.3834</td>\n",
              "    </tr>\n",
              "    <tr>\n",
              "      <th>8519</th>\n",
              "      <td>FDS36</td>\n",
              "      <td>8.380</td>\n",
              "      <td>Regular</td>\n",
              "      <td>0.046982</td>\n",
              "      <td>Baking Goods</td>\n",
              "      <td>108.1570</td>\n",
              "      <td>OUT045</td>\n",
              "      <td>2002</td>\n",
              "      <td>NaN</td>\n",
              "      <td>Tier 2</td>\n",
              "      <td>Supermarket Type1</td>\n",
              "      <td>549.2850</td>\n",
              "    </tr>\n",
              "    <tr>\n",
              "      <th>8520</th>\n",
              "      <td>NCJ29</td>\n",
              "      <td>10.600</td>\n",
              "      <td>Low Fat</td>\n",
              "      <td>0.035186</td>\n",
              "      <td>Health and Hygiene</td>\n",
              "      <td>85.1224</td>\n",
              "      <td>OUT035</td>\n",
              "      <td>2004</td>\n",
              "      <td>Small</td>\n",
              "      <td>Tier 2</td>\n",
              "      <td>Supermarket Type1</td>\n",
              "      <td>1193.1136</td>\n",
              "    </tr>\n",
              "    <tr>\n",
              "      <th>8521</th>\n",
              "      <td>FDN46</td>\n",
              "      <td>7.210</td>\n",
              "      <td>Regular</td>\n",
              "      <td>0.145221</td>\n",
              "      <td>Snack Foods</td>\n",
              "      <td>103.1332</td>\n",
              "      <td>OUT018</td>\n",
              "      <td>2009</td>\n",
              "      <td>Medium</td>\n",
              "      <td>Tier 3</td>\n",
              "      <td>Supermarket Type2</td>\n",
              "      <td>1845.5976</td>\n",
              "    </tr>\n",
              "    <tr>\n",
              "      <th>8522</th>\n",
              "      <td>DRG01</td>\n",
              "      <td>14.800</td>\n",
              "      <td>Low Fat</td>\n",
              "      <td>0.044878</td>\n",
              "      <td>Soft Drinks</td>\n",
              "      <td>75.4670</td>\n",
              "      <td>OUT046</td>\n",
              "      <td>1997</td>\n",
              "      <td>Small</td>\n",
              "      <td>Tier 1</td>\n",
              "      <td>Supermarket Type1</td>\n",
              "      <td>765.6700</td>\n",
              "    </tr>\n",
              "  </tbody>\n",
              "</table>\n",
              "<p>8523 rows × 12 columns</p>\n",
              "</div>\n",
              "      <button class=\"colab-df-convert\" onclick=\"convertToInteractive('df-dc21f4c5-e35a-4c6e-94bc-cafca172f95d')\"\n",
              "              title=\"Convert this dataframe to an interactive table.\"\n",
              "              style=\"display:none;\">\n",
              "        \n",
              "  <svg xmlns=\"http://www.w3.org/2000/svg\" height=\"24px\"viewBox=\"0 0 24 24\"\n",
              "       width=\"24px\">\n",
              "    <path d=\"M0 0h24v24H0V0z\" fill=\"none\"/>\n",
              "    <path d=\"M18.56 5.44l.94 2.06.94-2.06 2.06-.94-2.06-.94-.94-2.06-.94 2.06-2.06.94zm-11 1L8.5 8.5l.94-2.06 2.06-.94-2.06-.94L8.5 2.5l-.94 2.06-2.06.94zm10 10l.94 2.06.94-2.06 2.06-.94-2.06-.94-.94-2.06-.94 2.06-2.06.94z\"/><path d=\"M17.41 7.96l-1.37-1.37c-.4-.4-.92-.59-1.43-.59-.52 0-1.04.2-1.43.59L10.3 9.45l-7.72 7.72c-.78.78-.78 2.05 0 2.83L4 21.41c.39.39.9.59 1.41.59.51 0 1.02-.2 1.41-.59l7.78-7.78 2.81-2.81c.8-.78.8-2.07 0-2.86zM5.41 20L4 18.59l7.72-7.72 1.47 1.35L5.41 20z\"/>\n",
              "  </svg>\n",
              "      </button>\n",
              "      \n",
              "  <style>\n",
              "    .colab-df-container {\n",
              "      display:flex;\n",
              "      flex-wrap:wrap;\n",
              "      gap: 12px;\n",
              "    }\n",
              "\n",
              "    .colab-df-convert {\n",
              "      background-color: #E8F0FE;\n",
              "      border: none;\n",
              "      border-radius: 50%;\n",
              "      cursor: pointer;\n",
              "      display: none;\n",
              "      fill: #1967D2;\n",
              "      height: 32px;\n",
              "      padding: 0 0 0 0;\n",
              "      width: 32px;\n",
              "    }\n",
              "\n",
              "    .colab-df-convert:hover {\n",
              "      background-color: #E2EBFA;\n",
              "      box-shadow: 0px 1px 2px rgba(60, 64, 67, 0.3), 0px 1px 3px 1px rgba(60, 64, 67, 0.15);\n",
              "      fill: #174EA6;\n",
              "    }\n",
              "\n",
              "    [theme=dark] .colab-df-convert {\n",
              "      background-color: #3B4455;\n",
              "      fill: #D2E3FC;\n",
              "    }\n",
              "\n",
              "    [theme=dark] .colab-df-convert:hover {\n",
              "      background-color: #434B5C;\n",
              "      box-shadow: 0px 1px 3px 1px rgba(0, 0, 0, 0.15);\n",
              "      filter: drop-shadow(0px 1px 2px rgba(0, 0, 0, 0.3));\n",
              "      fill: #FFFFFF;\n",
              "    }\n",
              "  </style>\n",
              "\n",
              "      <script>\n",
              "        const buttonEl =\n",
              "          document.querySelector('#df-dc21f4c5-e35a-4c6e-94bc-cafca172f95d button.colab-df-convert');\n",
              "        buttonEl.style.display =\n",
              "          google.colab.kernel.accessAllowed ? 'block' : 'none';\n",
              "\n",
              "        async function convertToInteractive(key) {\n",
              "          const element = document.querySelector('#df-dc21f4c5-e35a-4c6e-94bc-cafca172f95d');\n",
              "          const dataTable =\n",
              "            await google.colab.kernel.invokeFunction('convertToInteractive',\n",
              "                                                     [key], {});\n",
              "          if (!dataTable) return;\n",
              "\n",
              "          const docLinkHtml = 'Like what you see? Visit the ' +\n",
              "            '<a target=\"_blank\" href=https://colab.research.google.com/notebooks/data_table.ipynb>data table notebook</a>'\n",
              "            + ' to learn more about interactive tables.';\n",
              "          element.innerHTML = '';\n",
              "          dataTable['output_type'] = 'display_data';\n",
              "          await google.colab.output.renderOutput(dataTable, element);\n",
              "          const docLink = document.createElement('div');\n",
              "          docLink.innerHTML = docLinkHtml;\n",
              "          element.appendChild(docLink);\n",
              "        }\n",
              "      </script>\n",
              "    </div>\n",
              "  </div>\n",
              "  "
            ],
            "text/plain": [
              "     Item_Identifier  Item_Weight  ...        Outlet_Type  Item_Outlet_Sales\n",
              "0              FDA15        9.300  ...  Supermarket Type1          3735.1380\n",
              "1              DRC01        5.920  ...  Supermarket Type2           443.4228\n",
              "2              FDN15       17.500  ...  Supermarket Type1          2097.2700\n",
              "3              FDX07       19.200  ...      Grocery Store           732.3800\n",
              "4              NCD19        8.930  ...  Supermarket Type1           994.7052\n",
              "...              ...          ...  ...                ...                ...\n",
              "8518           FDF22        6.865  ...  Supermarket Type1          2778.3834\n",
              "8519           FDS36        8.380  ...  Supermarket Type1           549.2850\n",
              "8520           NCJ29       10.600  ...  Supermarket Type1          1193.1136\n",
              "8521           FDN46        7.210  ...  Supermarket Type2          1845.5976\n",
              "8522           DRG01       14.800  ...  Supermarket Type1           765.6700\n",
              "\n",
              "[8523 rows x 12 columns]"
            ]
          },
          "metadata": {},
          "execution_count": 390
        }
      ]
    },
    {
      "cell_type": "markdown",
      "source": [
        "## Gráfico 1"
      ],
      "metadata": {
        "id": "uzKlpB6xPg40"
      }
    },
    {
      "cell_type": "code",
      "source": [
        "#importamos librerías para la visualiación de datos\n",
        "import matplotlib.pyplot as plt\n",
        "import seaborn as sns"
      ],
      "metadata": {
        "id": "Fgo0dtOwMHnJ"
      },
      "execution_count": null,
      "outputs": []
    },
    {
      "cell_type": "code",
      "source": [
        "#se ve la diferente información que nos muestra la tabla \n",
        "sales_predictions_df1.info()"
      ],
      "metadata": {
        "colab": {
          "base_uri": "https://localhost:8080/"
        },
        "id": "1nno9pCyIiqP",
        "outputId": "7fb6c0a0-84d8-48db-fe7c-cd419b39006b"
      },
      "execution_count": null,
      "outputs": [
        {
          "output_type": "stream",
          "name": "stdout",
          "text": [
            "<class 'pandas.core.frame.DataFrame'>\n",
            "Int64Index: 6113 entries, 0 to 8522\n",
            "Data columns (total 12 columns):\n",
            " #   Column                     Non-Null Count  Dtype  \n",
            "---  ------                     --------------  -----  \n",
            " 0   Item_Identifier            6113 non-null   object \n",
            " 1   Item_Weight                6113 non-null   float64\n",
            " 2   Item_Fat_Content           6113 non-null   object \n",
            " 3   Item_Visibility            6113 non-null   float64\n",
            " 4   Item_Type                  6113 non-null   object \n",
            " 5   Item_MRP                   6113 non-null   float64\n",
            " 6   Outlet_Identifier          6113 non-null   object \n",
            " 7   Outlet_Establishment_Year  6113 non-null   int64  \n",
            " 8   Outlet_Size                6113 non-null   object \n",
            " 9   Outlet_Location_Type       6113 non-null   object \n",
            " 10  Outlet_Type                6113 non-null   object \n",
            " 11  Item_Outlet_Sales          6113 non-null   float64\n",
            "dtypes: float64(4), int64(1), object(7)\n",
            "memory usage: 620.9+ KB\n"
          ]
        }
      ]
    },
    {
      "cell_type": "code",
      "source": [
        "#suma de todas las ventas por supermercado \n",
        "grafico1 =sales_predictions_df1.groupby('Outlet_Type')['Item_Outlet_Sales'].mean()\n",
        "grafico1 "
      ],
      "metadata": {
        "colab": {
          "base_uri": "https://localhost:8080/"
        },
        "id": "TuXLEC9fLRBq",
        "outputId": "c8979788-8d70-47e9-ff82-43615d765f78"
      },
      "execution_count": null,
      "outputs": [
        {
          "output_type": "execute_result",
          "data": {
            "text/plain": [
              "Outlet_Type\n",
              "Grocery Store         340.329723\n",
              "Supermarket Type1    2340.986430\n",
              "Supermarket Type2    1995.498739\n",
              "Supermarket Type3    3694.038558\n",
              "Name: Item_Outlet_Sales, dtype: float64"
            ]
          },
          "metadata": {},
          "execution_count": 23
        }
      ]
    },
    {
      "cell_type": "code",
      "source": [
        "#Valores eje_y\n",
        "grafico1_ejey =list(grafico1.values)\n",
        "grafico1_ejey"
      ],
      "metadata": {
        "colab": {
          "base_uri": "https://localhost:8080/"
        },
        "id": "xq92_7PBPsyW",
        "outputId": "954f8a85-4310-403f-f7ed-80e19a819f17"
      },
      "execution_count": null,
      "outputs": [
        {
          "output_type": "execute_result",
          "data": {
            "text/plain": [
              "[340.3297227272727, 2340.9864298764105, 1995.498739224138, 3694.0385576470585]"
            ]
          },
          "metadata": {},
          "execution_count": 24
        }
      ]
    },
    {
      "cell_type": "code",
      "source": [
        "#valores eje x\n",
        "grafico1_ejex = list(grafico1.keys())  \n",
        "grafico1_ejex"
      ],
      "metadata": {
        "colab": {
          "base_uri": "https://localhost:8080/"
        },
        "id": "nOPt3jAYP-zp",
        "outputId": "7464eb9c-f94f-4914-866e-d4f3f9aa839b"
      },
      "execution_count": null,
      "outputs": [
        {
          "output_type": "execute_result",
          "data": {
            "text/plain": [
              "['Grocery Store',\n",
              " 'Supermarket Type1',\n",
              " 'Supermarket Type2',\n",
              " 'Supermarket Type3']"
            ]
          },
          "metadata": {},
          "execution_count": 25
        }
      ]
    },
    {
      "cell_type": "code",
      "source": [
        "#definiendo los ejes x y y porcedemos a realizar un grafico de barras que nos muestre que \n",
        "#supermercado vende más \n",
        "\n",
        "#creamos gráfica\n",
        "plt.figure(figsize=(12,9))\n",
        "plt.barh (grafico1_ejex,grafico1_ejey);\n",
        "plt.ylabel('Supermercados', fontsize=30)\n",
        "plt.xlabel('Promedio de ventas', fontsize=30)\n",
        "plt.title('Promedio de ventas por supermercado',fontsize=30)\n",
        "plt.xticks(rotation=45,fontsize = 25)\n",
        "plt.yticks(fontsize=25)\n",
        "plt.grid()\n",
        "plt.show()\n",
        "\n"
      ],
      "metadata": {
        "colab": {
          "base_uri": "https://localhost:8080/",
          "height": 651
        },
        "id": "2WRNqRwKQGXJ",
        "outputId": "de4eae2d-e5f3-4a5a-c940-63c3048f34b5"
      },
      "execution_count": null,
      "outputs": [
        {
          "output_type": "display_data",
          "data": {
            "image/png": "[encoded data removed]",
            "text/plain": [
              "<Figure size 864x648 with 1 Axes>"
            ]
          },
          "metadata": {
            "needs_background": "light"
          }
        }
      ]
    },
    {
      "cell_type": "markdown",
      "source": [
        "**Conclusión**\n",
        "- El gráfico muestra que hay más ventas en el Supermercado N°3 mientras que el que menos ventas tiene es el Grocery Store  \n",
        "- Los Supermercados N°1 y N°2 tienen un número de ventas similar"
      ],
      "metadata": {
        "id": "f4ns9UcibKaA"
      }
    },
    {
      "cell_type": "markdown",
      "source": [
        "## Gráfico 2"
      ],
      "metadata": {
        "id": "DdgHKOLFcVFt"
      }
    },
    {
      "cell_type": "code",
      "source": [
        "#vemos otros datos de la tabla\n",
        "sales_predictions_df1.describe()"
      ],
      "metadata": {
        "colab": {
          "base_uri": "https://localhost:8080/",
          "height": 300
        },
        "id": "lXO8T1uOUFQf",
        "outputId": "be89f35e-4425-4f66-bcd9-239376fdfaab"
      },
      "execution_count": null,
      "outputs": [
        {
          "output_type": "execute_result",
          "data": {
            "text/html": [
              "\n",
              "  <div id=\"df-fa8d7f55-219c-4bf8-af83-73301c140922\">\n",
              "    <div class=\"colab-df-container\">\n",
              "      <div>\n",
              "<style scoped>\n",
              "    .dataframe tbody tr th:only-of-type {\n",
              "        vertical-align: middle;\n",
              "    }\n",
              "\n",
              "    .dataframe tbody tr th {\n",
              "        vertical-align: top;\n",
              "    }\n",
              "\n",
              "    .dataframe thead th {\n",
              "        text-align: right;\n",
              "    }\n",
              "</style>\n",
              "<table border=\"1\" class=\"dataframe\">\n",
              "  <thead>\n",
              "    <tr style=\"text-align: right;\">\n",
              "      <th></th>\n",
              "      <th>Item_Weight</th>\n",
              "      <th>Item_Visibility</th>\n",
              "      <th>Item_MRP</th>\n",
              "      <th>Outlet_Establishment_Year</th>\n",
              "      <th>Item_Outlet_Sales</th>\n",
              "    </tr>\n",
              "  </thead>\n",
              "  <tbody>\n",
              "    <tr>\n",
              "      <th>count</th>\n",
              "      <td>6113.000000</td>\n",
              "      <td>6113.000000</td>\n",
              "      <td>6113.000000</td>\n",
              "      <td>6113.000000</td>\n",
              "      <td>6113.000000</td>\n",
              "    </tr>\n",
              "    <tr>\n",
              "      <th>mean</th>\n",
              "      <td>12.888856</td>\n",
              "      <td>0.064505</td>\n",
              "      <td>141.256859</td>\n",
              "      <td>1995.794373</td>\n",
              "      <td>2322.688445</td>\n",
              "    </tr>\n",
              "    <tr>\n",
              "      <th>std</th>\n",
              "      <td>4.073798</td>\n",
              "      <td>0.050092</td>\n",
              "      <td>62.229701</td>\n",
              "      <td>8.842615</td>\n",
              "      <td>1741.592093</td>\n",
              "    </tr>\n",
              "    <tr>\n",
              "      <th>min</th>\n",
              "      <td>4.555000</td>\n",
              "      <td>0.000000</td>\n",
              "      <td>31.290000</td>\n",
              "      <td>1985.000000</td>\n",
              "      <td>33.955800</td>\n",
              "    </tr>\n",
              "    <tr>\n",
              "      <th>25%</th>\n",
              "      <td>9.800000</td>\n",
              "      <td>0.026681</td>\n",
              "      <td>94.012000</td>\n",
              "      <td>1987.000000</td>\n",
              "      <td>974.731200</td>\n",
              "    </tr>\n",
              "    <tr>\n",
              "      <th>50%</th>\n",
              "      <td>12.857645</td>\n",
              "      <td>0.052811</td>\n",
              "      <td>143.178600</td>\n",
              "      <td>1997.000000</td>\n",
              "      <td>1928.156800</td>\n",
              "    </tr>\n",
              "    <tr>\n",
              "      <th>75%</th>\n",
              "      <td>15.700000</td>\n",
              "      <td>0.092834</td>\n",
              "      <td>185.892400</td>\n",
              "      <td>2004.000000</td>\n",
              "      <td>3271.075400</td>\n",
              "    </tr>\n",
              "    <tr>\n",
              "      <th>max</th>\n",
              "      <td>21.350000</td>\n",
              "      <td>0.328391</td>\n",
              "      <td>266.888400</td>\n",
              "      <td>2009.000000</td>\n",
              "      <td>13086.964800</td>\n",
              "    </tr>\n",
              "  </tbody>\n",
              "</table>\n",
              "</div>\n",
              "      <button class=\"colab-df-convert\" onclick=\"convertToInteractive('df-fa8d7f55-219c-4bf8-af83-73301c140922')\"\n",
              "              title=\"Convert this dataframe to an interactive table.\"\n",
              "              style=\"display:none;\">\n",
              "        \n",
              "  <svg xmlns=\"http://www.w3.org/2000/svg\" height=\"24px\"viewBox=\"0 0 24 24\"\n",
              "       width=\"24px\">\n",
              "    <path d=\"M0 0h24v24H0V0z\" fill=\"none\"/>\n",
              "    <path d=\"M18.56 5.44l.94 2.06.94-2.06 2.06-.94-2.06-.94-.94-2.06-.94 2.06-2.06.94zm-11 1L8.5 8.5l.94-2.06 2.06-.94-2.06-.94L8.5 2.5l-.94 2.06-2.06.94zm10 10l.94 2.06.94-2.06 2.06-.94-2.06-.94-.94-2.06-.94 2.06-2.06.94z\"/><path d=\"M17.41 7.96l-1.37-1.37c-.4-.4-.92-.59-1.43-.59-.52 0-1.04.2-1.43.59L10.3 9.45l-7.72 7.72c-.78.78-.78 2.05 0 2.83L4 21.41c.39.39.9.59 1.41.59.51 0 1.02-.2 1.41-.59l7.78-7.78 2.81-2.81c.8-.78.8-2.07 0-2.86zM5.41 20L4 18.59l7.72-7.72 1.47 1.35L5.41 20z\"/>\n",
              "  </svg>\n",
              "      </button>\n",
              "      \n",
              "  <style>\n",
              "    .colab-df-container {\n",
              "      display:flex;\n",
              "      flex-wrap:wrap;\n",
              "      gap: 12px;\n",
              "    }\n",
              "\n",
              "    .colab-df-convert {\n",
              "      background-color: #E8F0FE;\n",
              "      border: none;\n",
              "      border-radius: 50%;\n",
              "      cursor: pointer;\n",
              "      display: none;\n",
              "      fill: #1967D2;\n",
              "      height: 32px;\n",
              "      padding: 0 0 0 0;\n",
              "      width: 32px;\n",
              "    }\n",
              "\n",
              "    .colab-df-convert:hover {\n",
              "      background-color: #E2EBFA;\n",
              "      box-shadow: 0px 1px 2px rgba(60, 64, 67, 0.3), 0px 1px 3px 1px rgba(60, 64, 67, 0.15);\n",
              "      fill: #174EA6;\n",
              "    }\n",
              "\n",
              "    [theme=dark] .colab-df-convert {\n",
              "      background-color: #3B4455;\n",
              "      fill: #D2E3FC;\n",
              "    }\n",
              "\n",
              "    [theme=dark] .colab-df-convert:hover {\n",
              "      background-color: #434B5C;\n",
              "      box-shadow: 0px 1px 3px 1px rgba(0, 0, 0, 0.15);\n",
              "      filter: drop-shadow(0px 1px 2px rgba(0, 0, 0, 0.3));\n",
              "      fill: #FFFFFF;\n",
              "    }\n",
              "  </style>\n",
              "\n",
              "      <script>\n",
              "        const buttonEl =\n",
              "          document.querySelector('#df-fa8d7f55-219c-4bf8-af83-73301c140922 button.colab-df-convert');\n",
              "        buttonEl.style.display =\n",
              "          google.colab.kernel.accessAllowed ? 'block' : 'none';\n",
              "\n",
              "        async function convertToInteractive(key) {\n",
              "          const element = document.querySelector('#df-fa8d7f55-219c-4bf8-af83-73301c140922');\n",
              "          const dataTable =\n",
              "            await google.colab.kernel.invokeFunction('convertToInteractive',\n",
              "                                                     [key], {});\n",
              "          if (!dataTable) return;\n",
              "\n",
              "          const docLinkHtml = 'Like what you see? Visit the ' +\n",
              "            '<a target=\"_blank\" href=https://colab.research.google.com/notebooks/data_table.ipynb>data table notebook</a>'\n",
              "            + ' to learn more about interactive tables.';\n",
              "          element.innerHTML = '';\n",
              "          dataTable['output_type'] = 'display_data';\n",
              "          await google.colab.output.renderOutput(dataTable, element);\n",
              "          const docLink = document.createElement('div');\n",
              "          docLink.innerHTML = docLinkHtml;\n",
              "          element.appendChild(docLink);\n",
              "        }\n",
              "      </script>\n",
              "    </div>\n",
              "  </div>\n",
              "  "
            ],
            "text/plain": [
              "       Item_Weight  ...  Item_Outlet_Sales\n",
              "count  6113.000000  ...        6113.000000\n",
              "mean     12.888856  ...        2322.688445\n",
              "std       4.073798  ...        1741.592093\n",
              "min       4.555000  ...          33.955800\n",
              "25%       9.800000  ...         974.731200\n",
              "50%      12.857645  ...        1928.156800\n",
              "75%      15.700000  ...        3271.075400\n",
              "max      21.350000  ...       13086.964800\n",
              "\n",
              "[8 rows x 5 columns]"
            ]
          },
          "metadata": {},
          "execution_count": 27
        }
      ]
    },
    {
      "cell_type": "code",
      "source": [
        "#realizamos la grafica con el objetivo de obtener 'ventas en relacion con el años de funcionamiento'\n",
        "sns.barplot(x=\"Outlet_Establishment_Year\", y=\"Item_Outlet_Sales\", data=sales_predictions_df1);"
      ],
      "metadata": {
        "colab": {
          "base_uri": "https://localhost:8080/",
          "height": 280
        },
        "id": "ldIw_vsnjK_y",
        "outputId": "bcac1fa0-fe55-412e-f98a-8fbb7000ca30"
      },
      "execution_count": null,
      "outputs": [
        {
          "output_type": "display_data",
          "data": {
            "image/png": "[encoded data removed]",
            "text/plain": [
              "<Figure size 432x288 with 1 Axes>"
            ]
          },
          "metadata": {
            "needs_background": "light"
          }
        }
      ]
    },
    {
      "cell_type": "code",
      "source": [
        "\n",
        "plt.figure(figsize=(12,9),dpi = 75)\n",
        "a = sns.barplot(x=\"Outlet_Establishment_Year\", y=\"Item_Outlet_Sales\", data=sales_predictions_df1);\n",
        "#Realizaremos algunos ajustes\n",
        "a.set_title('Ventas en relación con el año de funcionamiento')\n",
        "a.set_xlabel('Año de establecimiento')\n",
        "a.set_ylabel('Número de ventas')\n",
        "pass"
      ],
      "metadata": {
        "colab": {
          "base_uri": "https://localhost:8080/",
          "height": 588
        },
        "id": "y2uc0msQPKlW",
        "outputId": "f61e6577-5038-4ad1-96dd-96d4539a1249"
      },
      "execution_count": null,
      "outputs": [
        {
          "output_type": "display_data",
          "data": {
            "image/png": "[encoded data removed]",
            "text/plain": [
              "<Figure size 900x675 with 1 Axes>"
            ]
          },
          "metadata": {
            "needs_background": "light"
          }
        }
      ]
    },
    {
      "cell_type": "markdown",
      "source": [
        "**Conclusión**\n",
        "- En el año 2009 se pueden ver reducidas las ventas por lo que se deberían encontrar causas del porque ocurre este descenso y aplicar estrategias para subir las ventas."
      ],
      "metadata": {
        "id": "I4ubiK0eQuhz"
      }
    },
    {
      "cell_type": "markdown",
      "source": [
        "##Gráfico 3 \n"
      ],
      "metadata": {
        "id": "Epu6sjsiPMut"
      }
    },
    {
      "cell_type": "code",
      "source": [
        "#conocemos los datos de cuanto es el promedio de ventas por tipo de producto\n",
        "grafico3 =sales_predictions_df1.groupby('Item_Type')['Item_Outlet_Sales'].mean()\n",
        "grafico3"
      ],
      "metadata": {
        "colab": {
          "base_uri": "https://localhost:8080/"
        },
        "id": "bnb-BYjXj1HW",
        "outputId": "39c88f9c-7005-4bc1-b638-60f40bd367ff"
      },
      "execution_count": null,
      "outputs": [
        {
          "output_type": "execute_result",
          "data": {
            "text/plain": [
              "Item_Type\n",
              "Baking Goods             2066.375730\n",
              "Breads                   2407.302188\n",
              "Breakfast                2303.524727\n",
              "Canned                   2303.547845\n",
              "Dairy                    2352.180121\n",
              "Frozen Foods             2262.479339\n",
              "Fruits and Vegetables    2434.420413\n",
              "Hard Drinks              2310.942315\n",
              "Health and Hygiene       2186.035472\n",
              "Household                2442.158504\n",
              "Meat                     2348.076214\n",
              "Others                   1989.491595\n",
              "Seafood                  2433.918743\n",
              "Snack Foods              2427.803649\n",
              "Soft Drinks              2086.753774\n",
              "Starchy Foods            2537.401846\n",
              "Name: Item_Outlet_Sales, dtype: float64"
            ]
          },
          "metadata": {},
          "execution_count": 30
        }
      ]
    },
    {
      "cell_type": "code",
      "source": [
        "#datos para el eje y\n",
        "grafico3_ejey = list(grafico3.values)\n",
        "grafico3_ejey"
      ],
      "metadata": {
        "colab": {
          "base_uri": "https://localhost:8080/"
        },
        "id": "Y5jKDasL-cUS",
        "outputId": "6d8f2ccc-5237-4e77-e278-4cdc0dd81657"
      },
      "execution_count": null,
      "outputs": [
        {
          "output_type": "execute_result",
          "data": {
            "text/plain": [
              "[2066.375729589633,\n",
              " 2407.302187709497,\n",
              " 2303.5247265822786,\n",
              " 2303.5478450106157,\n",
              " 2352.180120967742,\n",
              " 2262.479338536585,\n",
              " 2434.420412910532,\n",
              " 2310.9423148648652,\n",
              " 2186.035471934605,\n",
              " 2442.158503543914,\n",
              " 2348.076213592233,\n",
              " 1989.4915951219511,\n",
              " 2433.9187434782607,\n",
              " 2427.8036486175115,\n",
              " 2086.7537743589746,\n",
              " 2537.4018457142856]"
            ]
          },
          "metadata": {},
          "execution_count": 31
        }
      ]
    },
    {
      "cell_type": "code",
      "source": [
        "#datos para el eje x\n",
        "grafico3_ejex = list(grafico3.keys())\n",
        "grafico3_ejex"
      ],
      "metadata": {
        "colab": {
          "base_uri": "https://localhost:8080/"
        },
        "id": "N0x7bXTODXdX",
        "outputId": "bbfb1b9d-c05d-43af-e0d9-90be3f842d8c"
      },
      "execution_count": null,
      "outputs": [
        {
          "output_type": "execute_result",
          "data": {
            "text/plain": [
              "['Baking Goods',\n",
              " 'Breads',\n",
              " 'Breakfast',\n",
              " 'Canned',\n",
              " 'Dairy',\n",
              " 'Frozen Foods',\n",
              " 'Fruits and Vegetables',\n",
              " 'Hard Drinks',\n",
              " 'Health and Hygiene',\n",
              " 'Household',\n",
              " 'Meat',\n",
              " 'Others',\n",
              " 'Seafood',\n",
              " 'Snack Foods',\n",
              " 'Soft Drinks',\n",
              " 'Starchy Foods']"
            ]
          },
          "metadata": {},
          "execution_count": 32
        }
      ]
    },
    {
      "cell_type": "code",
      "source": [
        "#realizamos la figura\n",
        "figura = plt.figure(figsize=(13,10),dpi = 75)\n",
        "ax = figura.gca()\n",
        "plt.pie(grafico3_ejey, labels=grafico3_ejex,autopct=\"%0.1f %%\")\n",
        "ax.set_title('Promedio de ventas por tipo de producto')\n",
        "\n",
        "\n",
        "pass"
      ],
      "metadata": {
        "colab": {
          "base_uri": "https://localhost:8080/",
          "height": 613
        },
        "id": "cE7YDmn5Dyn1",
        "outputId": "d5ee1695-f93e-441d-8d6c-5d6f68f45bea"
      },
      "execution_count": null,
      "outputs": [
        {
          "output_type": "display_data",
          "data": {
            "image/png": "[encoded data removed]",
            "text/plain": [
              "<Figure size 975x750 with 1 Axes>"
            ]
          },
          "metadata": {}
        }
      ]
    },
    {
      "cell_type": "markdown",
      "source": [
        "**Conlusión** \n",
        "- Se observa en la gráfica que no hay variación respecto al porcentaje con que los productos se venden en las diferentes tiendas, infiriendo que todos los productos tienen su respectivo protagonismo al ser elegidos por los usuarios"
      ],
      "metadata": {
        "id": "i1MiV3JgIIn6"
      }
    },
    {
      "cell_type": "markdown",
      "source": [
        "# Grafico 4 (Productos únicos por supermercado vs promedio de ventas)"
      ],
      "metadata": {
        "id": "G9kX6p7Qq66S"
      }
    },
    {
      "cell_type": "code",
      "source": [
        "datos_grafico4 = sales_predictions_df1.groupby('Outlet_Type')['Item_Identifier'].nunique()\n",
        "datos_grafico4"
      ],
      "metadata": {
        "colab": {
          "base_uri": "https://localhost:8080/"
        },
        "id": "WLzXg-f4kM1H",
        "outputId": "25c03ba4-9b71-427a-c63e-591a4734f57d"
      },
      "execution_count": null,
      "outputs": [
        {
          "output_type": "execute_result",
          "data": {
            "text/plain": [
              "Outlet_Type\n",
              "Grocery Store         528\n",
              "Supermarket Type1    1514\n",
              "Supermarket Type2     928\n",
              "Supermarket Type3     935\n",
              "Name: Item_Identifier, dtype: int64"
            ]
          },
          "metadata": {},
          "execution_count": 34
        }
      ]
    },
    {
      "cell_type": "code",
      "source": [
        "grafico_4_ejey =list(datos_grafico4.values)\n",
        "grafico_4_ejex = list(datos_grafico4.keys())  "
      ],
      "metadata": {
        "id": "vVGLBog6mV2R"
      },
      "execution_count": null,
      "outputs": []
    },
    {
      "cell_type": "code",
      "source": [
        "fig4 = plt.figure (figsize=(16,6))\n",
        "\n",
        "ax1 = fig4.add_subplot(1,2,1)\n",
        "ax2= fig4.add_subplot(1,2,2)\n",
        "\n",
        "#confirguramos gráfico 1\n",
        "ax1.bar(grafico_4_ejex, grafico_4_ejey, color= \t'#CD950C')\n",
        "ax1.set_ylabel('N° de productos únicos', fontsize=20)\n",
        "ax1.set_xlabel('Supermercados', fontsize=20)\n",
        "ax1.set_title('Variedad de productos por supermercado',fontsize=20)\n",
        "ax1.tick_params( labelsize=15, rotation=45)\n",
        "#configuramos grafico 2\n",
        "ax2.barh(grafico1_ejex,grafico1_ejey,color='#3CB371')\n",
        "plt.xlabel('Promedio de ventas', fontsize=20)\n",
        "plt.title('Promedio de ventas por supermercado',fontsize=20)\n",
        "plt.xticks(rotation=45,fontsize = 15)\n",
        "plt.yticks(rotation=45,fontsize=15)\n",
        "\n",
        "fig4.tight_layout()\n",
        "\n",
        "\n",
        "pass"
      ],
      "metadata": {
        "colab": {
          "base_uri": "https://localhost:8080/",
          "height": 441
        },
        "id": "CVaH105ch90E",
        "outputId": "3ea1f63c-16eb-473e-e5d1-23ccc05c3117"
      },
      "execution_count": null,
      "outputs": [
        {
          "output_type": "display_data",
          "data": {
            "image/png": "[encoded data removed]",
            "text/plain": [
              "<Figure size 1152x432 with 2 Axes>"
            ]
          },
          "metadata": {
            "needs_background": "light"
          }
        }
      ]
    },
    {
      "cell_type": "markdown",
      "source": [
        "- Comparando tenemos en cuenta que la variedad de productos es mayor en el supermercado tipo 1 pero el mismo no tiene un número superior de ventas\n",
        "- Se debería reconsiderar la variabilidad de productos del Supermercado Tipo 3 porque es el establecimiento que más vende pero no tiene una suficiente variabilidad."
      ],
      "metadata": {
        "id": "_VLzN596teuW"
      }
    },
    {
      "cell_type": "markdown",
      "source": [
        "# Visualización de datos (Histogramas y diagramas de caja)"
      ],
      "metadata": {
        "id": "GNMlsNYmOemg"
      }
    },
    {
      "cell_type": "code",
      "source": [
        "#revisamos que tipos de datos tenemos en la df\n",
        "sales_predictions_df1"
      ],
      "metadata": {
        "colab": {
          "base_uri": "https://localhost:8080/",
          "height": 641
        },
        "id": "ZfgAZTKHOw2A",
        "outputId": "e0593976-7994-4c06-bd32-48a9ffee5105"
      },
      "execution_count": null,
      "outputs": [
        {
          "output_type": "execute_result",
          "data": {
            "text/html": [
              "\n",
              "  <div id=\"df-2d32f38f-9d7e-4ead-bbd3-7c1a5c846a75\">\n",
              "    <div class=\"colab-df-container\">\n",
              "      <div>\n",
              "<style scoped>\n",
              "    .dataframe tbody tr th:only-of-type {\n",
              "        vertical-align: middle;\n",
              "    }\n",
              "\n",
              "    .dataframe tbody tr th {\n",
              "        vertical-align: top;\n",
              "    }\n",
              "\n",
              "    .dataframe thead th {\n",
              "        text-align: right;\n",
              "    }\n",
              "</style>\n",
              "<table border=\"1\" class=\"dataframe\">\n",
              "  <thead>\n",
              "    <tr style=\"text-align: right;\">\n",
              "      <th></th>\n",
              "      <th>Item_Identifier</th>\n",
              "      <th>Item_Weight</th>\n",
              "      <th>Item_Fat_Content</th>\n",
              "      <th>Item_Visibility</th>\n",
              "      <th>Item_Type</th>\n",
              "      <th>Item_MRP</th>\n",
              "      <th>Outlet_Identifier</th>\n",
              "      <th>Outlet_Establishment_Year</th>\n",
              "      <th>Outlet_Size</th>\n",
              "      <th>Outlet_Location_Type</th>\n",
              "      <th>Outlet_Type</th>\n",
              "      <th>Item_Outlet_Sales</th>\n",
              "    </tr>\n",
              "  </thead>\n",
              "  <tbody>\n",
              "    <tr>\n",
              "      <th>0</th>\n",
              "      <td>FDA15</td>\n",
              "      <td>9.300</td>\n",
              "      <td>Low Fat</td>\n",
              "      <td>0.016047</td>\n",
              "      <td>Dairy</td>\n",
              "      <td>249.8092</td>\n",
              "      <td>OUT049</td>\n",
              "      <td>1999</td>\n",
              "      <td>Medium</td>\n",
              "      <td>Tier 1</td>\n",
              "      <td>Supermarket Type1</td>\n",
              "      <td>3735.1380</td>\n",
              "    </tr>\n",
              "    <tr>\n",
              "      <th>1</th>\n",
              "      <td>DRC01</td>\n",
              "      <td>5.920</td>\n",
              "      <td>Regular</td>\n",
              "      <td>0.019278</td>\n",
              "      <td>Soft Drinks</td>\n",
              "      <td>48.2692</td>\n",
              "      <td>OUT018</td>\n",
              "      <td>2009</td>\n",
              "      <td>Medium</td>\n",
              "      <td>Tier 3</td>\n",
              "      <td>Supermarket Type2</td>\n",
              "      <td>443.4228</td>\n",
              "    </tr>\n",
              "    <tr>\n",
              "      <th>2</th>\n",
              "      <td>FDN15</td>\n",
              "      <td>17.500</td>\n",
              "      <td>Low Fat</td>\n",
              "      <td>0.016760</td>\n",
              "      <td>Meat</td>\n",
              "      <td>141.6180</td>\n",
              "      <td>OUT049</td>\n",
              "      <td>1999</td>\n",
              "      <td>Medium</td>\n",
              "      <td>Tier 1</td>\n",
              "      <td>Supermarket Type1</td>\n",
              "      <td>2097.2700</td>\n",
              "    </tr>\n",
              "    <tr>\n",
              "      <th>4</th>\n",
              "      <td>NCD19</td>\n",
              "      <td>8.930</td>\n",
              "      <td>Low Fat</td>\n",
              "      <td>0.000000</td>\n",
              "      <td>Household</td>\n",
              "      <td>53.8614</td>\n",
              "      <td>OUT013</td>\n",
              "      <td>1987</td>\n",
              "      <td>High</td>\n",
              "      <td>Tier 3</td>\n",
              "      <td>Supermarket Type1</td>\n",
              "      <td>994.7052</td>\n",
              "    </tr>\n",
              "    <tr>\n",
              "      <th>5</th>\n",
              "      <td>FDP36</td>\n",
              "      <td>10.395</td>\n",
              "      <td>Regular</td>\n",
              "      <td>0.000000</td>\n",
              "      <td>Baking Goods</td>\n",
              "      <td>51.4008</td>\n",
              "      <td>OUT018</td>\n",
              "      <td>2009</td>\n",
              "      <td>Medium</td>\n",
              "      <td>Tier 3</td>\n",
              "      <td>Supermarket Type2</td>\n",
              "      <td>556.6088</td>\n",
              "    </tr>\n",
              "    <tr>\n",
              "      <th>...</th>\n",
              "      <td>...</td>\n",
              "      <td>...</td>\n",
              "      <td>...</td>\n",
              "      <td>...</td>\n",
              "      <td>...</td>\n",
              "      <td>...</td>\n",
              "      <td>...</td>\n",
              "      <td>...</td>\n",
              "      <td>...</td>\n",
              "      <td>...</td>\n",
              "      <td>...</td>\n",
              "      <td>...</td>\n",
              "    </tr>\n",
              "    <tr>\n",
              "      <th>8517</th>\n",
              "      <td>FDF53</td>\n",
              "      <td>20.750</td>\n",
              "      <td>reg</td>\n",
              "      <td>0.083607</td>\n",
              "      <td>Frozen Foods</td>\n",
              "      <td>178.8318</td>\n",
              "      <td>OUT046</td>\n",
              "      <td>1997</td>\n",
              "      <td>Small</td>\n",
              "      <td>Tier 1</td>\n",
              "      <td>Supermarket Type1</td>\n",
              "      <td>3608.6360</td>\n",
              "    </tr>\n",
              "    <tr>\n",
              "      <th>8518</th>\n",
              "      <td>FDF22</td>\n",
              "      <td>6.865</td>\n",
              "      <td>Low Fat</td>\n",
              "      <td>0.056783</td>\n",
              "      <td>Snack Foods</td>\n",
              "      <td>214.5218</td>\n",
              "      <td>OUT013</td>\n",
              "      <td>1987</td>\n",
              "      <td>High</td>\n",
              "      <td>Tier 3</td>\n",
              "      <td>Supermarket Type1</td>\n",
              "      <td>2778.3834</td>\n",
              "    </tr>\n",
              "    <tr>\n",
              "      <th>8520</th>\n",
              "      <td>NCJ29</td>\n",
              "      <td>10.600</td>\n",
              "      <td>Low Fat</td>\n",
              "      <td>0.035186</td>\n",
              "      <td>Health and Hygiene</td>\n",
              "      <td>85.1224</td>\n",
              "      <td>OUT035</td>\n",
              "      <td>2004</td>\n",
              "      <td>Small</td>\n",
              "      <td>Tier 2</td>\n",
              "      <td>Supermarket Type1</td>\n",
              "      <td>1193.1136</td>\n",
              "    </tr>\n",
              "    <tr>\n",
              "      <th>8521</th>\n",
              "      <td>FDN46</td>\n",
              "      <td>7.210</td>\n",
              "      <td>Regular</td>\n",
              "      <td>0.145221</td>\n",
              "      <td>Snack Foods</td>\n",
              "      <td>103.1332</td>\n",
              "      <td>OUT018</td>\n",
              "      <td>2009</td>\n",
              "      <td>Medium</td>\n",
              "      <td>Tier 3</td>\n",
              "      <td>Supermarket Type2</td>\n",
              "      <td>1845.5976</td>\n",
              "    </tr>\n",
              "    <tr>\n",
              "      <th>8522</th>\n",
              "      <td>DRG01</td>\n",
              "      <td>14.800</td>\n",
              "      <td>Low Fat</td>\n",
              "      <td>0.044878</td>\n",
              "      <td>Soft Drinks</td>\n",
              "      <td>75.4670</td>\n",
              "      <td>OUT046</td>\n",
              "      <td>1997</td>\n",
              "      <td>Small</td>\n",
              "      <td>Tier 1</td>\n",
              "      <td>Supermarket Type1</td>\n",
              "      <td>765.6700</td>\n",
              "    </tr>\n",
              "  </tbody>\n",
              "</table>\n",
              "<p>6113 rows × 12 columns</p>\n",
              "</div>\n",
              "      <button class=\"colab-df-convert\" onclick=\"convertToInteractive('df-2d32f38f-9d7e-4ead-bbd3-7c1a5c846a75')\"\n",
              "              title=\"Convert this dataframe to an interactive table.\"\n",
              "              style=\"display:none;\">\n",
              "        \n",
              "  <svg xmlns=\"http://www.w3.org/2000/svg\" height=\"24px\"viewBox=\"0 0 24 24\"\n",
              "       width=\"24px\">\n",
              "    <path d=\"M0 0h24v24H0V0z\" fill=\"none\"/>\n",
              "    <path d=\"M18.56 5.44l.94 2.06.94-2.06 2.06-.94-2.06-.94-.94-2.06-.94 2.06-2.06.94zm-11 1L8.5 8.5l.94-2.06 2.06-.94-2.06-.94L8.5 2.5l-.94 2.06-2.06.94zm10 10l.94 2.06.94-2.06 2.06-.94-2.06-.94-.94-2.06-.94 2.06-2.06.94z\"/><path d=\"M17.41 7.96l-1.37-1.37c-.4-.4-.92-.59-1.43-.59-.52 0-1.04.2-1.43.59L10.3 9.45l-7.72 7.72c-.78.78-.78 2.05 0 2.83L4 21.41c.39.39.9.59 1.41.59.51 0 1.02-.2 1.41-.59l7.78-7.78 2.81-2.81c.8-.78.8-2.07 0-2.86zM5.41 20L4 18.59l7.72-7.72 1.47 1.35L5.41 20z\"/>\n",
              "  </svg>\n",
              "      </button>\n",
              "      \n",
              "  <style>\n",
              "    .colab-df-container {\n",
              "      display:flex;\n",
              "      flex-wrap:wrap;\n",
              "      gap: 12px;\n",
              "    }\n",
              "\n",
              "    .colab-df-convert {\n",
              "      background-color: #E8F0FE;\n",
              "      border: none;\n",
              "      border-radius: 50%;\n",
              "      cursor: pointer;\n",
              "      display: none;\n",
              "      fill: #1967D2;\n",
              "      height: 32px;\n",
              "      padding: 0 0 0 0;\n",
              "      width: 32px;\n",
              "    }\n",
              "\n",
              "    .colab-df-convert:hover {\n",
              "      background-color: #E2EBFA;\n",
              "      box-shadow: 0px 1px 2px rgba(60, 64, 67, 0.3), 0px 1px 3px 1px rgba(60, 64, 67, 0.15);\n",
              "      fill: #174EA6;\n",
              "    }\n",
              "\n",
              "    [theme=dark] .colab-df-convert {\n",
              "      background-color: #3B4455;\n",
              "      fill: #D2E3FC;\n",
              "    }\n",
              "\n",
              "    [theme=dark] .colab-df-convert:hover {\n",
              "      background-color: #434B5C;\n",
              "      box-shadow: 0px 1px 3px 1px rgba(0, 0, 0, 0.15);\n",
              "      filter: drop-shadow(0px 1px 2px rgba(0, 0, 0, 0.3));\n",
              "      fill: #FFFFFF;\n",
              "    }\n",
              "  </style>\n",
              "\n",
              "      <script>\n",
              "        const buttonEl =\n",
              "          document.querySelector('#df-2d32f38f-9d7e-4ead-bbd3-7c1a5c846a75 button.colab-df-convert');\n",
              "        buttonEl.style.display =\n",
              "          google.colab.kernel.accessAllowed ? 'block' : 'none';\n",
              "\n",
              "        async function convertToInteractive(key) {\n",
              "          const element = document.querySelector('#df-2d32f38f-9d7e-4ead-bbd3-7c1a5c846a75');\n",
              "          const dataTable =\n",
              "            await google.colab.kernel.invokeFunction('convertToInteractive',\n",
              "                                                     [key], {});\n",
              "          if (!dataTable) return;\n",
              "\n",
              "          const docLinkHtml = 'Like what you see? Visit the ' +\n",
              "            '<a target=\"_blank\" href=https://colab.research.google.com/notebooks/data_table.ipynb>data table notebook</a>'\n",
              "            + ' to learn more about interactive tables.';\n",
              "          element.innerHTML = '';\n",
              "          dataTable['output_type'] = 'display_data';\n",
              "          await google.colab.output.renderOutput(dataTable, element);\n",
              "          const docLink = document.createElement('div');\n",
              "          docLink.innerHTML = docLinkHtml;\n",
              "          element.appendChild(docLink);\n",
              "        }\n",
              "      </script>\n",
              "    </div>\n",
              "  </div>\n",
              "  "
            ],
            "text/plain": [
              "     Item_Identifier  Item_Weight  ...        Outlet_Type  Item_Outlet_Sales\n",
              "0              FDA15        9.300  ...  Supermarket Type1          3735.1380\n",
              "1              DRC01        5.920  ...  Supermarket Type2           443.4228\n",
              "2              FDN15       17.500  ...  Supermarket Type1          2097.2700\n",
              "4              NCD19        8.930  ...  Supermarket Type1           994.7052\n",
              "5              FDP36       10.395  ...  Supermarket Type2           556.6088\n",
              "...              ...          ...  ...                ...                ...\n",
              "8517           FDF53       20.750  ...  Supermarket Type1          3608.6360\n",
              "8518           FDF22        6.865  ...  Supermarket Type1          2778.3834\n",
              "8520           NCJ29       10.600  ...  Supermarket Type1          1193.1136\n",
              "8521           FDN46        7.210  ...  Supermarket Type2          1845.5976\n",
              "8522           DRG01       14.800  ...  Supermarket Type1           765.6700\n",
              "\n",
              "[6113 rows x 12 columns]"
            ]
          },
          "metadata": {},
          "execution_count": 37
        }
      ]
    },
    {
      "cell_type": "markdown",
      "source": [
        "##Histogramas "
      ],
      "metadata": {
        "id": "5PbGABxJQKFZ"
      }
    },
    {
      "cell_type": "markdown",
      "source": [
        "- Histograma de acuerdo a la distribución de la columna 'Item_Fat content' (Contenido de grasa del artículo)"
      ],
      "metadata": {
        "id": "iVXfJsOSQNQ0"
      }
    },
    {
      "cell_type": "code",
      "source": [
        "#filtramos la columna con la que queremos realizar el histograma\n",
        "datos_hist1 = sales_predictions_df1.loc[:,'Item_Fat_Content']"
      ],
      "metadata": {
        "id": "-O494nRDRQp9"
      },
      "execution_count": null,
      "outputs": []
    },
    {
      "cell_type": "code",
      "source": [
        "#creamos el primer histograma\n",
        "\n",
        "histograma_1 = plt.figure(figsize= (10,10))\n",
        "ax.figure.gca()\n",
        "sns.histplot(datos_hist1)\n",
        "pass"
      ],
      "metadata": {
        "colab": {
          "base_uri": "https://localhost:8080/",
          "height": 606
        },
        "id": "z8A_lp16Oluj",
        "outputId": "855c4bab-30ff-4cc8-e0c4-4041e0fabe15"
      },
      "execution_count": null,
      "outputs": [
        {
          "output_type": "display_data",
          "data": {
            "image/png": "[encoded data removed]",
            "text/plain": [
              "<Figure size 720x720 with 1 Axes>"
            ]
          },
          "metadata": {
            "needs_background": "light"
          }
        }
      ]
    },
    {
      "cell_type": "code",
      "source": [
        "#mejoramos el gráfico\n",
        "\n",
        "histograma_1 = plt.figure(figsize= (8,8))\n",
        "ax.figure.gca()\n",
        "sns.histplot(datos_hist1,color = '#EEB422')\n",
        "\n",
        "plt.xlabel('') \n",
        "plt.ylabel('Conteo',fontsize=20)\n",
        "plt.title('Histograma de artículos comprados según su contenido de grasa',fontsize = 20)\n",
        "\n",
        "plt.xticks(fontsize=15)\n",
        "plt.yticks(fontsize= 15)\n",
        "plt.grid(alpha= 0.5)\n",
        "pass"
      ],
      "metadata": {
        "colab": {
          "base_uri": "https://localhost:8080/",
          "height": 510
        },
        "id": "y9P3DXVqeSx_",
        "outputId": "b7135b9b-585e-41c6-8919-07848395e7a9"
      },
      "execution_count": null,
      "outputs": [
        {
          "output_type": "display_data",
          "data": {
            "image/png": "[encoded data removed]",
            "text/plain": [
              "<Figure size 576x576 with 1 Axes>"
            ]
          },
          "metadata": {
            "needs_background": "light"
          }
        }
      ]
    },
    {
      "cell_type": "markdown",
      "source": [
        "- El gráfico nos indica que los usuarios compran el doble de artículos bajos en contenidos de grasa respecto a los artículos regulares."
      ],
      "metadata": {
        "id": "GiC95bOhgVrb"
      }
    },
    {
      "cell_type": "markdown",
      "source": [
        "- Histogramaa de acuerdo a la distribución de la columna 'Item_Fat content' (Contenido de grasa del artículo)"
      ],
      "metadata": {
        "id": "M_bjLP-phU-P"
      }
    },
    {
      "cell_type": "code",
      "source": [
        "#filtramos la columna con la que queremos realizar el histograma\n",
        "datos_hist2 = sales_predictions_df1.loc[:,'Item_Type']"
      ],
      "metadata": {
        "id": "oXLXGuTAfVQJ"
      },
      "execution_count": null,
      "outputs": []
    },
    {
      "cell_type": "code",
      "source": [
        "#creamos el segundo histograma\n",
        "histograma_2 = plt.figure(figsize= (10,10))\n",
        "ax.figure.gca()\n",
        "sns.histplot(datos_hist2)\n",
        "\n",
        "pass"
      ],
      "metadata": {
        "colab": {
          "base_uri": "https://localhost:8080/",
          "height": 606
        },
        "id": "Tekie3X7hgMi",
        "outputId": "83cc0176-72e1-4220-9e01-f54f7f3b6079"
      },
      "execution_count": null,
      "outputs": [
        {
          "output_type": "display_data",
          "data": {
            "image/png": "[encoded data removed]",
            "text/plain": [
              "<Figure size 720x720 with 1 Axes>"
            ]
          },
          "metadata": {
            "needs_background": "light"
          }
        }
      ]
    },
    {
      "cell_type": "code",
      "source": [
        "\n",
        "#mejoramos el gráfico \n",
        "histograma_2 = plt.figure(figsize= (15,10))\n",
        "ax.figure.gca()\n",
        "sns.histplot(datos_hist2, color= '#9b59b6')\n",
        "\n",
        "plt.xticks(rotation=45,fontsize= 15)\n",
        "plt.yticks(fontsize= 15)\n",
        "\n",
        "plt.xlabel('') \n",
        "plt.ylabel('Conteo',fontsize=20)\n",
        "plt.title('Histograma de clasificación de los artículos disponibles',fontsize = 20)\n",
        "plt.grid(alpha= 0.5)\n",
        "\n",
        "pass"
      ],
      "metadata": {
        "colab": {
          "base_uri": "https://localhost:8080/",
          "height": 728
        },
        "id": "Mk4AD4ceuaSA",
        "outputId": "819048c9-c81f-4422-d55d-c61f9b4c048a"
      },
      "execution_count": null,
      "outputs": [
        {
          "output_type": "display_data",
          "data": {
            "image/png": "[encoded data removed]",
            "text/plain": [
              "<Figure size 1080x720 with 1 Axes>"
            ]
          },
          "metadata": {
            "needs_background": "light"
          }
        }
      ]
    },
    {
      "cell_type": "markdown",
      "source": [
        "- Se puede notar que hay una gran variedad de artículos de tipo de \"Snacks\" y \"Frutas y Vegetales\",por lo que se puede deducir que es lo que caracteriza a la red de supermercados vender.\n",
        "- Por su contra parte los artículos 'Mariscos' no tienen una gran variedad pero en conjunto con diagramas anteriores, es correcto ya que tienen un mismo promedio de ventas en relación con otros productos.\n",
        "- Cada supermercado debe tener un control en relación a cual artículo es el más vendido dentro las categorías que tienen más variedad ya que de ahí podrían prevenir el mayor número de perdidas en especial dentro dela categoría 'Frutas y Vegetales' porque son productos perecibles. "
      ],
      "metadata": {
        "id": "ThBPaKsuxZUM"
      }
    },
    {
      "cell_type": "markdown",
      "source": [
        "- Diagrama de caja sobre ventas en cada tipo de supermercado"
      ],
      "metadata": {
        "id": "SE4K5RFPyNN2"
      }
    },
    {
      "cell_type": "code",
      "source": [
        "#se filtra cada uno de los datos de los supermercados\n",
        "\n",
        "#Datos para supermarket type 1\n",
        "filtro_supermercado_type1 = sales_predictions_df1.loc[(sales_predictions_df1['Outlet_Type']=='Supermarket Type1'),:]\n",
        "#ahora se convierte en lista el numero de ventas\n",
        "datosv_filtro_supermercado_type1 =  filtro_supermercado_type1['Item_Outlet_Sales'].tolist()\n"
      ],
      "metadata": {
        "id": "liL_VtS_IMHL"
      },
      "execution_count": null,
      "outputs": []
    },
    {
      "cell_type": "code",
      "source": [
        "#Datos para supermarket type 2\n",
        "filtro_supermercado_type2 = sales_predictions_df1.loc[(sales_predictions_df1['Outlet_Type']=='Supermarket Type2'),:]\n",
        "#ahora se convierte en lista el numero de ventas\n",
        "datosv_filtro_supermercado_type2 =  filtro_supermercado_type2['Item_Outlet_Sales'].tolist()\n"
      ],
      "metadata": {
        "id": "g-9K1XuUI2k3"
      },
      "execution_count": null,
      "outputs": []
    },
    {
      "cell_type": "code",
      "source": [
        "#Datos para supermarket type 3\n",
        "filtro_supermercado_type3 = sales_predictions_df1.loc[(sales_predictions_df1['Outlet_Type']=='Supermarket Type3'),:]\n",
        "#ahora se convierte en lista el numero de ventas\n",
        "datosv_filtro_supermercado_type3 =  filtro_supermercado_type3['Item_Outlet_Sales'].tolist()"
      ],
      "metadata": {
        "id": "-9iM8hLmJ2kD"
      },
      "execution_count": null,
      "outputs": []
    },
    {
      "cell_type": "code",
      "source": [
        "#Datos para Grocery Store\n",
        "filtro_grocery_store = sales_predictions_df1.loc[(sales_predictions_df1['Outlet_Type']=='Grocery Store'),:]\n",
        "#ahora se convierte en lista el numero de ventas\n",
        "datosv_filtro_grocery_store = filtro_grocery_store ['Item_Outlet_Sales'].tolist()\n"
      ],
      "metadata": {
        "id": "YN6lBHb6KU81"
      },
      "execution_count": null,
      "outputs": []
    },
    {
      "cell_type": "code",
      "source": [
        "plt.figure(figsize=(18,8))\n",
        "plt.boxplot([datosv_filtro_supermercado_type1,datosv_filtro_supermercado_type2,datosv_filtro_supermercado_type3,datosv_filtro_grocery_store], labels=['Supermarket Type 1', 'Supermarket Type 2', 'Supermarket Type 3', 'Grocery Store']);\n",
        "\n",
        "pass"
      ],
      "metadata": {
        "colab": {
          "base_uri": "https://localhost:8080/",
          "height": 537
        },
        "id": "XXU7_3lwK9C1",
        "outputId": "877e55a2-de18-49ec-801d-fc6498255a89"
      },
      "execution_count": null,
      "outputs": [
        {
          "output_type": "stream",
          "name": "stderr",
          "text": [
            "/usr/local/lib/python3.7/dist-packages/numpy/core/_asarray.py:83: VisibleDeprecationWarning: Creating an ndarray from ragged nested sequences (which is a list-or-tuple of lists-or-tuples-or ndarrays with different lengths or shapes) is deprecated. If you meant to do this, you must specify 'dtype=object' when creating the ndarray\n",
            "  return array(a, dtype, copy=False, order=order)\n"
          ]
        },
        {
          "output_type": "display_data",
          "data": {
            "image/png": "[encoded data removed]",
            "text/plain": [
              "<Figure size 1296x576 with 1 Axes>"
            ]
          },
          "metadata": {
            "needs_background": "light"
          }
        }
      ]
    },
    {
      "cell_type": "code",
      "source": [
        "#mejoramos el gráfico usando\n",
        "fig, axes = plt.subplots(nrows = 1, ncols = 1, figsize = (11,8))\n",
        "boxplots = axes.boxplot([datosv_filtro_supermercado_type1,datosv_filtro_supermercado_type2,datosv_filtro_supermercado_type3,datosv_filtro_grocery_store],\n",
        "           labels=['Supermarket Type 1', 'Supermarket Type 2', 'Supermarket Type 3', 'Grocery Store'],\n",
        "           widths = .7,\n",
        "           patch_artist=True,\n",
        "           medianprops = dict(linestyle='-', linewidth=2, color='#9400D3'),\n",
        "           boxprops = dict(linestyle='--', linewidth=2, color='Black', facecolor = '#ED9121', alpha = .4)\n",
        "          )\n",
        "#cambiando color de boxplot 1\n",
        "boxplot1 = boxplots['boxes'][0]\n",
        "boxplot1.set_facecolor('#2ecc71')\n",
        "\n",
        "#cambiando color de boxplot 2\n",
        "boxplot2 = boxplots['boxes'][1]\n",
        "boxplot2.set_facecolor('#B452CD')\n",
        "\n",
        "#cambiando color de boxplot 3\n",
        "boxplot3 = boxplots['boxes'][2]\n",
        "boxplot3.set_facecolor('#FF7F00')\n",
        "\n",
        "#cambiando color de boxplot 4\n",
        "boxplot4 = boxplots['boxes'][3]\n",
        "boxplot4.set_facecolor('#EE0000')\n",
        "plt.grid(axis='y')\n",
        "pass\n"
      ],
      "metadata": {
        "colab": {
          "base_uri": "https://localhost:8080/",
          "height": 537
        },
        "id": "w88LexkmLaw9",
        "outputId": "045663e6-5040-47d6-e2b2-13d868f70b17"
      },
      "execution_count": null,
      "outputs": [
        {
          "output_type": "stream",
          "name": "stderr",
          "text": [
            "/usr/local/lib/python3.7/dist-packages/numpy/core/_asarray.py:83: VisibleDeprecationWarning: Creating an ndarray from ragged nested sequences (which is a list-or-tuple of lists-or-tuples-or ndarrays with different lengths or shapes) is deprecated. If you meant to do this, you must specify 'dtype=object' when creating the ndarray\n",
            "  return array(a, dtype, copy=False, order=order)\n"
          ]
        },
        {
          "output_type": "display_data",
          "data": {
            "image/png": "[encoded data removed]",
            "text/plain": [
              "<Figure size 792x576 with 1 Axes>"
            ]
          },
          "metadata": {
            "needs_background": "light"
          }
        }
      ]
    },
    {
      "cell_type": "markdown",
      "source": [
        "En este boxplot se puede reafirmar la conclusión de los gráficos anteriores respecto al número de ventas: \n",
        "\n",
        "\n",
        "1.   El supermercado tipo 3 es el que tiene mayor número de ventas y una mediana de ventas superior a las máximas de todos los otros supermercados.\n",
        "2.   El supermercado tipo 1 y tipo 2 tienen un flujo de ventas iguales\n",
        "3. La grocery store cuenta con el menor número de ventas\n",
        "\n"
      ],
      "metadata": {
        "id": "BiPpjp6eP-cN"
      }
    },
    {
      "cell_type": "markdown",
      "source": [
        "- Diagrama de caja para revisar el resumen estadístico de la variable 'Item_Weight"
      ],
      "metadata": {
        "id": "FCFXeO0zQ9K8"
      }
    },
    {
      "cell_type": "code",
      "source": [
        "#se convierte a lista la columna a la que vamos a realizar el boxplot\n",
        "datos_item_weight = sales_predictions_df1['Item_Weight'].tolist()"
      ],
      "metadata": {
        "id": "hehWi4fbP-G5"
      },
      "execution_count": null,
      "outputs": []
    },
    {
      "cell_type": "code",
      "source": [
        "plt.figure(figsize=(8,8))\n",
        "plt.boxplot([datos_item_weight], labels=['Peso artículos'],patch_artist=True, boxprops = dict(facecolor = '#CD7054', linewidth=2, color='Black'));\n",
        "plt.grid()\n",
        "\n",
        "pass"
      ],
      "metadata": {
        "colab": {
          "base_uri": "https://localhost:8080/",
          "height": 482
        },
        "id": "Do4WKx4SN6UJ",
        "outputId": "ab1adf34-3565-401b-cf13-81895cf4a3ff"
      },
      "execution_count": null,
      "outputs": [
        {
          "output_type": "display_data",
          "data": {
            "image/png": "[encoded data removed]",
            "text/plain": [
              "<Figure size 576x576 with 1 Axes>"
            ]
          },
          "metadata": {
            "needs_background": "light"
          }
        }
      ]
    },
    {
      "cell_type": "markdown",
      "source": [
        "En este boxplot se muestra como la mediana de productos pesan un poco más de 12.5 kilos, además de que ningún artículo sobrepasa los 20 kilos, pero tampoco llegan a pesar menos de 4 kilos; por lo que también se podría hacer un estudio  respecto a las preferencias de los clientes en solo comprar artículos unitarios para así, como estrategia, por ejemplo: los productos que esten empaquetados (sixpack, pack de 12 unidades,etc) podrían desempaquetarse para ser vendidos al cliente en unidades y que ya no vayan a la tienda por esos productos, sino tenga más en mente de comprar en los supermercados de nuestra cadena."
      ],
      "metadata": {
        "id": "_CsB3BNpWdAB"
      }
    },
    {
      "cell_type": "markdown",
      "source": [
        "## Modelo regresión lineal"
      ],
      "metadata": {
        "id": "yKUQaNTOxidK"
      }
    },
    {
      "cell_type": "code",
      "source": [
        "#Data frame que usaremos\n",
        "sales_predictions_df1.head()"
      ],
      "metadata": {
        "colab": {
          "base_uri": "https://localhost:8080/",
          "height": 250
        },
        "id": "xJ4sSqonxm_D",
        "outputId": "baf4ade6-4477-4998-97ba-97102231a8f9"
      },
      "execution_count": null,
      "outputs": [
        {
          "output_type": "execute_result",
          "data": {
            "text/html": [
              "\n",
              "  <div id=\"df-d970f6e7-4d8e-45b8-804b-a4a3c1f85fd0\">\n",
              "    <div class=\"colab-df-container\">\n",
              "      <div>\n",
              "<style scoped>\n",
              "    .dataframe tbody tr th:only-of-type {\n",
              "        vertical-align: middle;\n",
              "    }\n",
              "\n",
              "    .dataframe tbody tr th {\n",
              "        vertical-align: top;\n",
              "    }\n",
              "\n",
              "    .dataframe thead th {\n",
              "        text-align: right;\n",
              "    }\n",
              "</style>\n",
              "<table border=\"1\" class=\"dataframe\">\n",
              "  <thead>\n",
              "    <tr style=\"text-align: right;\">\n",
              "      <th></th>\n",
              "      <th>Item_Identifier</th>\n",
              "      <th>Item_Weight</th>\n",
              "      <th>Item_Fat_Content</th>\n",
              "      <th>Item_Visibility</th>\n",
              "      <th>Item_Type</th>\n",
              "      <th>Item_MRP</th>\n",
              "      <th>Outlet_Identifier</th>\n",
              "      <th>Outlet_Establishment_Year</th>\n",
              "      <th>Outlet_Size</th>\n",
              "      <th>Outlet_Location_Type</th>\n",
              "      <th>Outlet_Type</th>\n",
              "      <th>Item_Outlet_Sales</th>\n",
              "    </tr>\n",
              "  </thead>\n",
              "  <tbody>\n",
              "    <tr>\n",
              "      <th>0</th>\n",
              "      <td>FDA15</td>\n",
              "      <td>9.300</td>\n",
              "      <td>Low Fat</td>\n",
              "      <td>0.016047</td>\n",
              "      <td>Dairy</td>\n",
              "      <td>249.8092</td>\n",
              "      <td>OUT049</td>\n",
              "      <td>1999</td>\n",
              "      <td>Medium</td>\n",
              "      <td>Tier 1</td>\n",
              "      <td>Supermarket Type1</td>\n",
              "      <td>3735.1380</td>\n",
              "    </tr>\n",
              "    <tr>\n",
              "      <th>1</th>\n",
              "      <td>DRC01</td>\n",
              "      <td>5.920</td>\n",
              "      <td>Regular</td>\n",
              "      <td>0.019278</td>\n",
              "      <td>Soft Drinks</td>\n",
              "      <td>48.2692</td>\n",
              "      <td>OUT018</td>\n",
              "      <td>2009</td>\n",
              "      <td>Medium</td>\n",
              "      <td>Tier 3</td>\n",
              "      <td>Supermarket Type2</td>\n",
              "      <td>443.4228</td>\n",
              "    </tr>\n",
              "    <tr>\n",
              "      <th>2</th>\n",
              "      <td>FDN15</td>\n",
              "      <td>17.500</td>\n",
              "      <td>Low Fat</td>\n",
              "      <td>0.016760</td>\n",
              "      <td>Meat</td>\n",
              "      <td>141.6180</td>\n",
              "      <td>OUT049</td>\n",
              "      <td>1999</td>\n",
              "      <td>Medium</td>\n",
              "      <td>Tier 1</td>\n",
              "      <td>Supermarket Type1</td>\n",
              "      <td>2097.2700</td>\n",
              "    </tr>\n",
              "    <tr>\n",
              "      <th>4</th>\n",
              "      <td>NCD19</td>\n",
              "      <td>8.930</td>\n",
              "      <td>Low Fat</td>\n",
              "      <td>0.000000</td>\n",
              "      <td>Household</td>\n",
              "      <td>53.8614</td>\n",
              "      <td>OUT013</td>\n",
              "      <td>1987</td>\n",
              "      <td>High</td>\n",
              "      <td>Tier 3</td>\n",
              "      <td>Supermarket Type1</td>\n",
              "      <td>994.7052</td>\n",
              "    </tr>\n",
              "    <tr>\n",
              "      <th>5</th>\n",
              "      <td>FDP36</td>\n",
              "      <td>10.395</td>\n",
              "      <td>Regular</td>\n",
              "      <td>0.000000</td>\n",
              "      <td>Baking Goods</td>\n",
              "      <td>51.4008</td>\n",
              "      <td>OUT018</td>\n",
              "      <td>2009</td>\n",
              "      <td>Medium</td>\n",
              "      <td>Tier 3</td>\n",
              "      <td>Supermarket Type2</td>\n",
              "      <td>556.6088</td>\n",
              "    </tr>\n",
              "  </tbody>\n",
              "</table>\n",
              "</div>\n",
              "      <button class=\"colab-df-convert\" onclick=\"convertToInteractive('df-d970f6e7-4d8e-45b8-804b-a4a3c1f85fd0')\"\n",
              "              title=\"Convert this dataframe to an interactive table.\"\n",
              "              style=\"display:none;\">\n",
              "        \n",
              "  <svg xmlns=\"http://www.w3.org/2000/svg\" height=\"24px\"viewBox=\"0 0 24 24\"\n",
              "       width=\"24px\">\n",
              "    <path d=\"M0 0h24v24H0V0z\" fill=\"none\"/>\n",
              "    <path d=\"M18.56 5.44l.94 2.06.94-2.06 2.06-.94-2.06-.94-.94-2.06-.94 2.06-2.06.94zm-11 1L8.5 8.5l.94-2.06 2.06-.94-2.06-.94L8.5 2.5l-.94 2.06-2.06.94zm10 10l.94 2.06.94-2.06 2.06-.94-2.06-.94-.94-2.06-.94 2.06-2.06.94z\"/><path d=\"M17.41 7.96l-1.37-1.37c-.4-.4-.92-.59-1.43-.59-.52 0-1.04.2-1.43.59L10.3 9.45l-7.72 7.72c-.78.78-.78 2.05 0 2.83L4 21.41c.39.39.9.59 1.41.59.51 0 1.02-.2 1.41-.59l7.78-7.78 2.81-2.81c.8-.78.8-2.07 0-2.86zM5.41 20L4 18.59l7.72-7.72 1.47 1.35L5.41 20z\"/>\n",
              "  </svg>\n",
              "      </button>\n",
              "      \n",
              "  <style>\n",
              "    .colab-df-container {\n",
              "      display:flex;\n",
              "      flex-wrap:wrap;\n",
              "      gap: 12px;\n",
              "    }\n",
              "\n",
              "    .colab-df-convert {\n",
              "      background-color: #E8F0FE;\n",
              "      border: none;\n",
              "      border-radius: 50%;\n",
              "      cursor: pointer;\n",
              "      display: none;\n",
              "      fill: #1967D2;\n",
              "      height: 32px;\n",
              "      padding: 0 0 0 0;\n",
              "      width: 32px;\n",
              "    }\n",
              "\n",
              "    .colab-df-convert:hover {\n",
              "      background-color: #E2EBFA;\n",
              "      box-shadow: 0px 1px 2px rgba(60, 64, 67, 0.3), 0px 1px 3px 1px rgba(60, 64, 67, 0.15);\n",
              "      fill: #174EA6;\n",
              "    }\n",
              "\n",
              "    [theme=dark] .colab-df-convert {\n",
              "      background-color: #3B4455;\n",
              "      fill: #D2E3FC;\n",
              "    }\n",
              "\n",
              "    [theme=dark] .colab-df-convert:hover {\n",
              "      background-color: #434B5C;\n",
              "      box-shadow: 0px 1px 3px 1px rgba(0, 0, 0, 0.15);\n",
              "      filter: drop-shadow(0px 1px 2px rgba(0, 0, 0, 0.3));\n",
              "      fill: #FFFFFF;\n",
              "    }\n",
              "  </style>\n",
              "\n",
              "      <script>\n",
              "        const buttonEl =\n",
              "          document.querySelector('#df-d970f6e7-4d8e-45b8-804b-a4a3c1f85fd0 button.colab-df-convert');\n",
              "        buttonEl.style.display =\n",
              "          google.colab.kernel.accessAllowed ? 'block' : 'none';\n",
              "\n",
              "        async function convertToInteractive(key) {\n",
              "          const element = document.querySelector('#df-d970f6e7-4d8e-45b8-804b-a4a3c1f85fd0');\n",
              "          const dataTable =\n",
              "            await google.colab.kernel.invokeFunction('convertToInteractive',\n",
              "                                                     [key], {});\n",
              "          if (!dataTable) return;\n",
              "\n",
              "          const docLinkHtml = 'Like what you see? Visit the ' +\n",
              "            '<a target=\"_blank\" href=https://colab.research.google.com/notebooks/data_table.ipynb>data table notebook</a>'\n",
              "            + ' to learn more about interactive tables.';\n",
              "          element.innerHTML = '';\n",
              "          dataTable['output_type'] = 'display_data';\n",
              "          await google.colab.output.renderOutput(dataTable, element);\n",
              "          const docLink = document.createElement('div');\n",
              "          docLink.innerHTML = docLinkHtml;\n",
              "          element.appendChild(docLink);\n",
              "        }\n",
              "      </script>\n",
              "    </div>\n",
              "  </div>\n",
              "  "
            ],
            "text/plain": [
              "  Item_Identifier  Item_Weight  ...        Outlet_Type  Item_Outlet_Sales\n",
              "0           FDA15        9.300  ...  Supermarket Type1          3735.1380\n",
              "1           DRC01        5.920  ...  Supermarket Type2           443.4228\n",
              "2           FDN15       17.500  ...  Supermarket Type1          2097.2700\n",
              "4           NCD19        8.930  ...  Supermarket Type1           994.7052\n",
              "5           FDP36       10.395  ...  Supermarket Type2           556.6088\n",
              "\n",
              "[5 rows x 12 columns]"
            ]
          },
          "metadata": {},
          "execution_count": 186
        }
      ]
    },
    {
      "cell_type": "markdown",
      "source": [
        "Primero, vemos que datos tienen variables categóricas y que datos variables continuas"
      ],
      "metadata": {
        "id": "WL79kFp9yM9i"
      }
    },
    {
      "cell_type": "code",
      "source": [
        "sales_predictions_df1.info()"
      ],
      "metadata": {
        "colab": {
          "base_uri": "https://localhost:8080/"
        },
        "id": "0dwcZEkByW_A",
        "outputId": "fea79e3b-1022-418b-c9a9-114d0414a721"
      },
      "execution_count": 326,
      "outputs": [
        {
          "output_type": "stream",
          "name": "stdout",
          "text": [
            "<class 'pandas.core.frame.DataFrame'>\n",
            "Int64Index: 6113 entries, 0 to 8522\n",
            "Data columns (total 12 columns):\n",
            " #   Column                     Non-Null Count  Dtype  \n",
            "---  ------                     --------------  -----  \n",
            " 0   Item_Identifier            6113 non-null   object \n",
            " 1   Item_Weight                6113 non-null   float64\n",
            " 2   Item_Fat_Content           6113 non-null   object \n",
            " 3   Item_Visibility            6113 non-null   float64\n",
            " 4   Item_Type                  6113 non-null   object \n",
            " 5   Item_MRP                   6113 non-null   float64\n",
            " 6   Outlet_Identifier          6113 non-null   object \n",
            " 7   Outlet_Establishment_Year  6113 non-null   int64  \n",
            " 8   Outlet_Size                6113 non-null   object \n",
            " 9   Outlet_Location_Type       6113 non-null   object \n",
            " 10  Outlet_Type                6113 non-null   object \n",
            " 11  Item_Outlet_Sales          6113 non-null   float64\n",
            "dtypes: float64(4), int64(1), object(7)\n",
            "memory usage: 620.9+ KB\n"
          ]
        }
      ]
    },
    {
      "cell_type": "code",
      "source": [
        "#Como variables categóricas tenemos las columnas \n",
        "\n",
        "variables_c_df1 = ['Item_Fat_Content','Item_Type','Outlet_Size','Outlet_Location_Type','Outlet_Type']\n",
        "variables_c_df1"
      ],
      "metadata": {
        "colab": {
          "base_uri": "https://localhost:8080/"
        },
        "id": "qZ53jHXcyDCU",
        "outputId": "76597349-5870-4d4a-f6a1-b0dd3781905c"
      },
      "execution_count": 327,
      "outputs": [
        {
          "output_type": "execute_result",
          "data": {
            "text/plain": [
              "['Item_Fat_Content',\n",
              " 'Item_Type',\n",
              " 'Outlet_Size',\n",
              " 'Outlet_Location_Type',\n",
              " 'Outlet_Type']"
            ]
          },
          "metadata": {},
          "execution_count": 327
        }
      ]
    },
    {
      "cell_type": "markdown",
      "source": [
        " Elegimos estas columnas ya que las otras que son tipo objeto y no cuentan como características para los diferentes productos,ya que podrían surgir diversos problemas como:\n",
        "\n",
        "- Nuestro modelo podrá predecir el 100% de los datos y solo podrá predecir a individuos (en este caso productos) con características específicas, y esto no funciona en la vida real.\n",
        "  * Apoyando a la idea anterior, como otro motivo es que podemos tomar como analogía:\n",
        "        - No porque te llames Juan vas a poder conseguir más ingresos.  ⬇️\n",
        "        - No porque tengas un ID de producto especial o diferente vas a tener más ventas que otros productos."
      ],
      "metadata": {
        "id": "zbMg-8EuzhLG"
      }
    },
    {
      "cell_type": "markdown",
      "source": [
        "Ahora para el algoritmo tendremos que cambiar las variables categóricas en variables \"dummies\" para que el algoritmo trabaje mejor"
      ],
      "metadata": {
        "id": "gvMlx42U0fjm"
      }
    },
    {
      "cell_type": "code",
      "source": [
        "#Primero vemos cuantos tipos de etiquetas tendrá cada variable\n",
        "sales_predictions_df1['Item_Fat_Content'].unique()\n",
        "#esta variable tiene 2 etiquetas (si se puede hacer un one hot encoding 'normal')"
      ],
      "metadata": {
        "colab": {
          "base_uri": "https://localhost:8080/"
        },
        "id": "WkT3yDRQ0oZr",
        "outputId": "0f65e6de-66fc-4f3b-ecf8-023cc992a6b3"
      },
      "execution_count": null,
      "outputs": [
        {
          "output_type": "execute_result",
          "data": {
            "text/plain": [
              "array(['Low Fat', 'Regular'], dtype=object)"
            ]
          },
          "metadata": {},
          "execution_count": 189
        }
      ]
    },
    {
      "cell_type": "code",
      "source": [
        "sales_predictions_df1['Item_Type'].unique() \n",
        "#esta variable tiene 16 variables ( se tendría que hacer un one hot encoding más compacto)"
      ],
      "metadata": {
        "colab": {
          "base_uri": "https://localhost:8080/"
        },
        "id": "ntcWMQtW1AVe",
        "outputId": "319e620f-3f6d-4261-f372-c48f66817b80"
      },
      "execution_count": null,
      "outputs": [
        {
          "output_type": "execute_result",
          "data": {
            "text/plain": [
              "array(['Dairy', 'Soft Drinks', 'Meat', 'Household', 'Baking Goods',\n",
              "       'Snack Foods', 'Fruits and Vegetables', 'Breakfast',\n",
              "       'Health and Hygiene', 'Hard Drinks', 'Frozen Foods', 'Canned',\n",
              "       'Starchy Foods', 'Breads', 'Others', 'Seafood'], dtype=object)"
            ]
          },
          "metadata": {},
          "execution_count": 190
        }
      ]
    },
    {
      "cell_type": "code",
      "source": [
        "sales_predictions_df1['Outlet_Size'].unique()\n",
        "#esta variable tiene 3 etiquetas ( si se puede hacer un hot encoding 'normal')"
      ],
      "metadata": {
        "colab": {
          "base_uri": "https://localhost:8080/"
        },
        "id": "Qgc3KPJN1Ca6",
        "outputId": "33514dc8-bc6f-4bdc-f0ed-76b715a528ab"
      },
      "execution_count": null,
      "outputs": [
        {
          "output_type": "execute_result",
          "data": {
            "text/plain": [
              "array(['Medium', 'High', 'Small'], dtype=object)"
            ]
          },
          "metadata": {},
          "execution_count": 191
        }
      ]
    },
    {
      "cell_type": "code",
      "source": [
        "sales_predictions_df1['Outlet_Location_Type'].unique()\n",
        "#esta variable tiene 3 etiquetas (si se pude hacer un hot encoding 'normal')"
      ],
      "metadata": {
        "colab": {
          "base_uri": "https://localhost:8080/"
        },
        "id": "kWlrGR6O1Dea",
        "outputId": "558de6f3-4741-430c-afad-33b810b4efa4"
      },
      "execution_count": null,
      "outputs": [
        {
          "output_type": "execute_result",
          "data": {
            "text/plain": [
              "array(['Tier 1', 'Tier 3', 'Tier 2'], dtype=object)"
            ]
          },
          "metadata": {},
          "execution_count": 192
        }
      ]
    },
    {
      "cell_type": "code",
      "source": [
        "sales_predictions_df1['Outlet_Type'].unique()\n",
        "#esta variable tiene 4 etiquetas (si se puede hacer un hot encoding 'normal')"
      ],
      "metadata": {
        "colab": {
          "base_uri": "https://localhost:8080/"
        },
        "id": "ytyBKn1c1F9u",
        "outputId": "7cf195f6-fe49-42ef-fa5e-1b28b72bc49f"
      },
      "execution_count": null,
      "outputs": [
        {
          "output_type": "execute_result",
          "data": {
            "text/plain": [
              "array(['Supermarket Type1', 'Supermarket Type2', 'Supermarket Type3',\n",
              "       'Grocery Store'], dtype=object)"
            ]
          },
          "metadata": {},
          "execution_count": 193
        }
      ]
    },
    {
      "cell_type": "markdown",
      "source": [
        "Bien, ya sabemos a que columnas debemos aplicar que tipo de 'hot encoding'"
      ],
      "metadata": {
        "id": "IMWsSdpA2LbO"
      }
    },
    {
      "cell_type": "markdown",
      "source": [
        "### One Hot Encoding variable 'Item Fat content'"
      ],
      "metadata": {
        "id": "5w0fyJqz2XIV"
      }
    },
    {
      "cell_type": "code",
      "source": [
        "#importamos librerías que necesitaremos\n",
        "from sklearn.preprocessing import OneHotEncoder, LabelEncoder"
      ],
      "metadata": {
        "id": "GaiTPcZI2zBe"
      },
      "execution_count": 537,
      "outputs": []
    },
    {
      "cell_type": "markdown",
      "source": [
        "Transformamos en variables numéricas"
      ],
      "metadata": {
        "id": "MVxjEZHj_Keo"
      }
    },
    {
      "cell_type": "code",
      "source": [
        "# transform and map Item_Fat_Content variable\n",
        "\n",
        "sales_predictions_df_reg = sales_predictions_df1\n",
        "sales_predictions_df_reg2 = sales_predictions_df_reg #sp_df_reg2 para aplicar los cambios\n",
        "\n",
        "item_fat_le = LabelEncoder() #instanciamos la función\n",
        "\n",
        "item_fat_labels = item_fat_le.fit_transform(sales_predictions_df_reg2['Item_Fat_Content'])\n",
        "item_fat_labels"
      ],
      "metadata": {
        "colab": {
          "base_uri": "https://localhost:8080/"
        },
        "id": "si9Y96eB1GU6",
        "outputId": "3af705e0-f8b5-4ac2-943d-1e62eafb3309"
      },
      "execution_count": 538,
      "outputs": [
        {
          "output_type": "execute_result",
          "data": {
            "text/plain": [
              "array([0, 1, 0, ..., 0, 1, 0])"
            ]
          },
          "metadata": {},
          "execution_count": 538
        }
      ]
    },
    {
      "cell_type": "code",
      "source": [
        "sales_predictions_df_reg2.shape"
      ],
      "metadata": {
        "colab": {
          "base_uri": "https://localhost:8080/"
        },
        "id": "YOgP0bhiHFXt",
        "outputId": "547c0497-f2e0-456a-9744-0d96a5080144"
      },
      "execution_count": 539,
      "outputs": [
        {
          "output_type": "execute_result",
          "data": {
            "text/plain": [
              "(6113, 12)"
            ]
          },
          "metadata": {},
          "execution_count": 539
        }
      ]
    },
    {
      "cell_type": "code",
      "source": [
        "sales_predictions_df_reg2['Item_Fat_Content'] = item_fat_labels\n",
        "sales_predictions_df_reg2#logramos cambiarlo a variable numérica"
      ],
      "metadata": {
        "colab": {
          "base_uri": "https://localhost:8080/",
          "height": 572
        },
        "id": "QBcZ0TKP_ZJZ",
        "outputId": "e16a4e04-a8bf-49a1-fcbd-da5d5ec170a2"
      },
      "execution_count": 540,
      "outputs": [
        {
          "output_type": "stream",
          "name": "stderr",
          "text": [
            "/usr/local/lib/python3.7/dist-packages/ipykernel_launcher.py:1: SettingWithCopyWarning: \n",
            "A value is trying to be set on a copy of a slice from a DataFrame.\n",
            "Try using .loc[row_indexer,col_indexer] = value instead\n",
            "\n",
            "See the caveats in the documentation: https://pandas.pydata.org/pandas-docs/stable/user_guide/indexing.html#returning-a-view-versus-a-copy\n",
            "  \"\"\"Entry point for launching an IPython kernel.\n"
          ]
        },
        {
          "output_type": "execute_result",
          "data": {
            "text/html": [
              "\n",
              "  <div id=\"df-df0b0b7c-e51a-4396-a9e4-664a90f96a54\">\n",
              "    <div class=\"colab-df-container\">\n",
              "      <div>\n",
              "<style scoped>\n",
              "    .dataframe tbody tr th:only-of-type {\n",
              "        vertical-align: middle;\n",
              "    }\n",
              "\n",
              "    .dataframe tbody tr th {\n",
              "        vertical-align: top;\n",
              "    }\n",
              "\n",
              "    .dataframe thead th {\n",
              "        text-align: right;\n",
              "    }\n",
              "</style>\n",
              "<table border=\"1\" class=\"dataframe\">\n",
              "  <thead>\n",
              "    <tr style=\"text-align: right;\">\n",
              "      <th></th>\n",
              "      <th>Item_Identifier</th>\n",
              "      <th>Item_Weight</th>\n",
              "      <th>Item_Fat_Content</th>\n",
              "      <th>Item_Visibility</th>\n",
              "      <th>Item_Type</th>\n",
              "      <th>Item_MRP</th>\n",
              "      <th>Outlet_Identifier</th>\n",
              "      <th>Outlet_Establishment_Year</th>\n",
              "      <th>Outlet_Size</th>\n",
              "      <th>Outlet_Location_Type</th>\n",
              "      <th>Outlet_Type</th>\n",
              "      <th>Item_Outlet_Sales</th>\n",
              "    </tr>\n",
              "  </thead>\n",
              "  <tbody>\n",
              "    <tr>\n",
              "      <th>0</th>\n",
              "      <td>FDA15</td>\n",
              "      <td>9.300</td>\n",
              "      <td>0</td>\n",
              "      <td>0.016047</td>\n",
              "      <td>Dairy</td>\n",
              "      <td>249.8092</td>\n",
              "      <td>OUT049</td>\n",
              "      <td>1999</td>\n",
              "      <td>1</td>\n",
              "      <td>0</td>\n",
              "      <td>1</td>\n",
              "      <td>3735.1380</td>\n",
              "    </tr>\n",
              "    <tr>\n",
              "      <th>1</th>\n",
              "      <td>DRC01</td>\n",
              "      <td>5.920</td>\n",
              "      <td>1</td>\n",
              "      <td>0.019278</td>\n",
              "      <td>Soft Drinks</td>\n",
              "      <td>48.2692</td>\n",
              "      <td>OUT018</td>\n",
              "      <td>2009</td>\n",
              "      <td>1</td>\n",
              "      <td>2</td>\n",
              "      <td>2</td>\n",
              "      <td>443.4228</td>\n",
              "    </tr>\n",
              "    <tr>\n",
              "      <th>2</th>\n",
              "      <td>FDN15</td>\n",
              "      <td>17.500</td>\n",
              "      <td>0</td>\n",
              "      <td>0.016760</td>\n",
              "      <td>Meat</td>\n",
              "      <td>141.6180</td>\n",
              "      <td>OUT049</td>\n",
              "      <td>1999</td>\n",
              "      <td>1</td>\n",
              "      <td>0</td>\n",
              "      <td>1</td>\n",
              "      <td>2097.2700</td>\n",
              "    </tr>\n",
              "    <tr>\n",
              "      <th>4</th>\n",
              "      <td>NCD19</td>\n",
              "      <td>8.930</td>\n",
              "      <td>0</td>\n",
              "      <td>0.000000</td>\n",
              "      <td>Household</td>\n",
              "      <td>53.8614</td>\n",
              "      <td>OUT013</td>\n",
              "      <td>1987</td>\n",
              "      <td>0</td>\n",
              "      <td>2</td>\n",
              "      <td>1</td>\n",
              "      <td>994.7052</td>\n",
              "    </tr>\n",
              "    <tr>\n",
              "      <th>5</th>\n",
              "      <td>FDP36</td>\n",
              "      <td>10.395</td>\n",
              "      <td>1</td>\n",
              "      <td>0.000000</td>\n",
              "      <td>Baking Goods</td>\n",
              "      <td>51.4008</td>\n",
              "      <td>OUT018</td>\n",
              "      <td>2009</td>\n",
              "      <td>1</td>\n",
              "      <td>2</td>\n",
              "      <td>2</td>\n",
              "      <td>556.6088</td>\n",
              "    </tr>\n",
              "    <tr>\n",
              "      <th>...</th>\n",
              "      <td>...</td>\n",
              "      <td>...</td>\n",
              "      <td>...</td>\n",
              "      <td>...</td>\n",
              "      <td>...</td>\n",
              "      <td>...</td>\n",
              "      <td>...</td>\n",
              "      <td>...</td>\n",
              "      <td>...</td>\n",
              "      <td>...</td>\n",
              "      <td>...</td>\n",
              "      <td>...</td>\n",
              "    </tr>\n",
              "    <tr>\n",
              "      <th>8517</th>\n",
              "      <td>FDF53</td>\n",
              "      <td>20.750</td>\n",
              "      <td>1</td>\n",
              "      <td>0.083607</td>\n",
              "      <td>Frozen Foods</td>\n",
              "      <td>178.8318</td>\n",
              "      <td>OUT046</td>\n",
              "      <td>1997</td>\n",
              "      <td>2</td>\n",
              "      <td>0</td>\n",
              "      <td>1</td>\n",
              "      <td>3608.6360</td>\n",
              "    </tr>\n",
              "    <tr>\n",
              "      <th>8518</th>\n",
              "      <td>FDF22</td>\n",
              "      <td>6.865</td>\n",
              "      <td>0</td>\n",
              "      <td>0.056783</td>\n",
              "      <td>Snack Foods</td>\n",
              "      <td>214.5218</td>\n",
              "      <td>OUT013</td>\n",
              "      <td>1987</td>\n",
              "      <td>0</td>\n",
              "      <td>2</td>\n",
              "      <td>1</td>\n",
              "      <td>2778.3834</td>\n",
              "    </tr>\n",
              "    <tr>\n",
              "      <th>8520</th>\n",
              "      <td>NCJ29</td>\n",
              "      <td>10.600</td>\n",
              "      <td>0</td>\n",
              "      <td>0.035186</td>\n",
              "      <td>Health and Hygiene</td>\n",
              "      <td>85.1224</td>\n",
              "      <td>OUT035</td>\n",
              "      <td>2004</td>\n",
              "      <td>2</td>\n",
              "      <td>1</td>\n",
              "      <td>1</td>\n",
              "      <td>1193.1136</td>\n",
              "    </tr>\n",
              "    <tr>\n",
              "      <th>8521</th>\n",
              "      <td>FDN46</td>\n",
              "      <td>7.210</td>\n",
              "      <td>1</td>\n",
              "      <td>0.145221</td>\n",
              "      <td>Snack Foods</td>\n",
              "      <td>103.1332</td>\n",
              "      <td>OUT018</td>\n",
              "      <td>2009</td>\n",
              "      <td>1</td>\n",
              "      <td>2</td>\n",
              "      <td>2</td>\n",
              "      <td>1845.5976</td>\n",
              "    </tr>\n",
              "    <tr>\n",
              "      <th>8522</th>\n",
              "      <td>DRG01</td>\n",
              "      <td>14.800</td>\n",
              "      <td>0</td>\n",
              "      <td>0.044878</td>\n",
              "      <td>Soft Drinks</td>\n",
              "      <td>75.4670</td>\n",
              "      <td>OUT046</td>\n",
              "      <td>1997</td>\n",
              "      <td>2</td>\n",
              "      <td>0</td>\n",
              "      <td>1</td>\n",
              "      <td>765.6700</td>\n",
              "    </tr>\n",
              "  </tbody>\n",
              "</table>\n",
              "<p>6113 rows × 12 columns</p>\n",
              "</div>\n",
              "      <button class=\"colab-df-convert\" onclick=\"convertToInteractive('df-df0b0b7c-e51a-4396-a9e4-664a90f96a54')\"\n",
              "              title=\"Convert this dataframe to an interactive table.\"\n",
              "              style=\"display:none;\">\n",
              "        \n",
              "  <svg xmlns=\"http://www.w3.org/2000/svg\" height=\"24px\"viewBox=\"0 0 24 24\"\n",
              "       width=\"24px\">\n",
              "    <path d=\"M0 0h24v24H0V0z\" fill=\"none\"/>\n",
              "    <path d=\"M18.56 5.44l.94 2.06.94-2.06 2.06-.94-2.06-.94-.94-2.06-.94 2.06-2.06.94zm-11 1L8.5 8.5l.94-2.06 2.06-.94-2.06-.94L8.5 2.5l-.94 2.06-2.06.94zm10 10l.94 2.06.94-2.06 2.06-.94-2.06-.94-.94-2.06-.94 2.06-2.06.94z\"/><path d=\"M17.41 7.96l-1.37-1.37c-.4-.4-.92-.59-1.43-.59-.52 0-1.04.2-1.43.59L10.3 9.45l-7.72 7.72c-.78.78-.78 2.05 0 2.83L4 21.41c.39.39.9.59 1.41.59.51 0 1.02-.2 1.41-.59l7.78-7.78 2.81-2.81c.8-.78.8-2.07 0-2.86zM5.41 20L4 18.59l7.72-7.72 1.47 1.35L5.41 20z\"/>\n",
              "  </svg>\n",
              "      </button>\n",
              "      \n",
              "  <style>\n",
              "    .colab-df-container {\n",
              "      display:flex;\n",
              "      flex-wrap:wrap;\n",
              "      gap: 12px;\n",
              "    }\n",
              "\n",
              "    .colab-df-convert {\n",
              "      background-color: #E8F0FE;\n",
              "      border: none;\n",
              "      border-radius: 50%;\n",
              "      cursor: pointer;\n",
              "      display: none;\n",
              "      fill: #1967D2;\n",
              "      height: 32px;\n",
              "      padding: 0 0 0 0;\n",
              "      width: 32px;\n",
              "    }\n",
              "\n",
              "    .colab-df-convert:hover {\n",
              "      background-color: #E2EBFA;\n",
              "      box-shadow: 0px 1px 2px rgba(60, 64, 67, 0.3), 0px 1px 3px 1px rgba(60, 64, 67, 0.15);\n",
              "      fill: #174EA6;\n",
              "    }\n",
              "\n",
              "    [theme=dark] .colab-df-convert {\n",
              "      background-color: #3B4455;\n",
              "      fill: #D2E3FC;\n",
              "    }\n",
              "\n",
              "    [theme=dark] .colab-df-convert:hover {\n",
              "      background-color: #434B5C;\n",
              "      box-shadow: 0px 1px 3px 1px rgba(0, 0, 0, 0.15);\n",
              "      filter: drop-shadow(0px 1px 2px rgba(0, 0, 0, 0.3));\n",
              "      fill: #FFFFFF;\n",
              "    }\n",
              "  </style>\n",
              "\n",
              "      <script>\n",
              "        const buttonEl =\n",
              "          document.querySelector('#df-df0b0b7c-e51a-4396-a9e4-664a90f96a54 button.colab-df-convert');\n",
              "        buttonEl.style.display =\n",
              "          google.colab.kernel.accessAllowed ? 'block' : 'none';\n",
              "\n",
              "        async function convertToInteractive(key) {\n",
              "          const element = document.querySelector('#df-df0b0b7c-e51a-4396-a9e4-664a90f96a54');\n",
              "          const dataTable =\n",
              "            await google.colab.kernel.invokeFunction('convertToInteractive',\n",
              "                                                     [key], {});\n",
              "          if (!dataTable) return;\n",
              "\n",
              "          const docLinkHtml = 'Like what you see? Visit the ' +\n",
              "            '<a target=\"_blank\" href=https://colab.research.google.com/notebooks/data_table.ipynb>data table notebook</a>'\n",
              "            + ' to learn more about interactive tables.';\n",
              "          element.innerHTML = '';\n",
              "          dataTable['output_type'] = 'display_data';\n",
              "          await google.colab.output.renderOutput(dataTable, element);\n",
              "          const docLink = document.createElement('div');\n",
              "          docLink.innerHTML = docLinkHtml;\n",
              "          element.appendChild(docLink);\n",
              "        }\n",
              "      </script>\n",
              "    </div>\n",
              "  </div>\n",
              "  "
            ],
            "text/plain": [
              "     Item_Identifier  Item_Weight  ...  Outlet_Type  Item_Outlet_Sales\n",
              "0              FDA15        9.300  ...            1          3735.1380\n",
              "1              DRC01        5.920  ...            2           443.4228\n",
              "2              FDN15       17.500  ...            1          2097.2700\n",
              "4              NCD19        8.930  ...            1           994.7052\n",
              "5              FDP36       10.395  ...            2           556.6088\n",
              "...              ...          ...  ...          ...                ...\n",
              "8517           FDF53       20.750  ...            1          3608.6360\n",
              "8518           FDF22        6.865  ...            1          2778.3834\n",
              "8520           NCJ29       10.600  ...            1          1193.1136\n",
              "8521           FDN46        7.210  ...            2          1845.5976\n",
              "8522           DRG01       14.800  ...            1           765.6700\n",
              "\n",
              "[6113 rows x 12 columns]"
            ]
          },
          "metadata": {},
          "execution_count": 540
        }
      ]
    },
    {
      "cell_type": "markdown",
      "source": [
        "Aplicamos one hot encoding como último paso "
      ],
      "metadata": {
        "id": "Dwa02zDk_EV-"
      }
    },
    {
      "cell_type": "code",
      "source": [
        "item_fat_ohe = OneHotEncoder()\n",
        "if_feature_arr = item_fat_ohe.fit_transform(\n",
        "                              sales_predictions_df_reg2[['Item_Fat_Content']]).toarray() #nos muestra un arreglo\n",
        "if_feature_arr                                                                       #con los diferentes valores en '0' y '1'\n"
      ],
      "metadata": {
        "colab": {
          "base_uri": "https://localhost:8080/"
        },
        "id": "f8vCJ34c5rWR",
        "outputId": "35324166-0b9e-444b-9e82-39b092420800"
      },
      "execution_count": 541,
      "outputs": [
        {
          "output_type": "execute_result",
          "data": {
            "text/plain": [
              "array([[1., 0.],\n",
              "       [0., 1.],\n",
              "       [1., 0.],\n",
              "       ...,\n",
              "       [1., 0.],\n",
              "       [0., 1.],\n",
              "       [1., 0.]])"
            ]
          },
          "metadata": {},
          "execution_count": 541
        }
      ]
    },
    {
      "cell_type": "code",
      "source": [
        " #son los nombres que tendrá la de valores categóricos (ahora numéricos)\n",
        "if_feature_labels = np.array(['IFC_Low_Fat', 'IFC_Regular'])"
      ],
      "metadata": {
        "id": "fu_fddRx6w8d"
      },
      "execution_count": 542,
      "outputs": []
    },
    {
      "cell_type": "code",
      "source": [
        "if_features = pd.DataFrame(if_feature_arr, \n",
        "                            columns=if_feature_labels)\n",
        "if_features #nos muestra un nuevo df para que se puede concatenar al df original\n",
        "if_features.head() #finalmente tenemos la df que proximamente concatenaremos #############"
      ],
      "metadata": {
        "colab": {
          "base_uri": "https://localhost:8080/",
          "height": 206
        },
        "id": "YVUsUZTE86Ep",
        "outputId": "842b55cc-0060-4548-c02f-7a825d88a27b"
      },
      "execution_count": 543,
      "outputs": [
        {
          "output_type": "execute_result",
          "data": {
            "text/html": [
              "\n",
              "  <div id=\"df-83bdf5a5-9527-44cf-9e84-26b72ab48462\">\n",
              "    <div class=\"colab-df-container\">\n",
              "      <div>\n",
              "<style scoped>\n",
              "    .dataframe tbody tr th:only-of-type {\n",
              "        vertical-align: middle;\n",
              "    }\n",
              "\n",
              "    .dataframe tbody tr th {\n",
              "        vertical-align: top;\n",
              "    }\n",
              "\n",
              "    .dataframe thead th {\n",
              "        text-align: right;\n",
              "    }\n",
              "</style>\n",
              "<table border=\"1\" class=\"dataframe\">\n",
              "  <thead>\n",
              "    <tr style=\"text-align: right;\">\n",
              "      <th></th>\n",
              "      <th>IFC_Low_Fat</th>\n",
              "      <th>IFC_Regular</th>\n",
              "    </tr>\n",
              "  </thead>\n",
              "  <tbody>\n",
              "    <tr>\n",
              "      <th>0</th>\n",
              "      <td>1.0</td>\n",
              "      <td>0.0</td>\n",
              "    </tr>\n",
              "    <tr>\n",
              "      <th>1</th>\n",
              "      <td>0.0</td>\n",
              "      <td>1.0</td>\n",
              "    </tr>\n",
              "    <tr>\n",
              "      <th>2</th>\n",
              "      <td>1.0</td>\n",
              "      <td>0.0</td>\n",
              "    </tr>\n",
              "    <tr>\n",
              "      <th>3</th>\n",
              "      <td>1.0</td>\n",
              "      <td>0.0</td>\n",
              "    </tr>\n",
              "    <tr>\n",
              "      <th>4</th>\n",
              "      <td>0.0</td>\n",
              "      <td>1.0</td>\n",
              "    </tr>\n",
              "  </tbody>\n",
              "</table>\n",
              "</div>\n",
              "      <button class=\"colab-df-convert\" onclick=\"convertToInteractive('df-83bdf5a5-9527-44cf-9e84-26b72ab48462')\"\n",
              "              title=\"Convert this dataframe to an interactive table.\"\n",
              "              style=\"display:none;\">\n",
              "        \n",
              "  <svg xmlns=\"http://www.w3.org/2000/svg\" height=\"24px\"viewBox=\"0 0 24 24\"\n",
              "       width=\"24px\">\n",
              "    <path d=\"M0 0h24v24H0V0z\" fill=\"none\"/>\n",
              "    <path d=\"M18.56 5.44l.94 2.06.94-2.06 2.06-.94-2.06-.94-.94-2.06-.94 2.06-2.06.94zm-11 1L8.5 8.5l.94-2.06 2.06-.94-2.06-.94L8.5 2.5l-.94 2.06-2.06.94zm10 10l.94 2.06.94-2.06 2.06-.94-2.06-.94-.94-2.06-.94 2.06-2.06.94z\"/><path d=\"M17.41 7.96l-1.37-1.37c-.4-.4-.92-.59-1.43-.59-.52 0-1.04.2-1.43.59L10.3 9.45l-7.72 7.72c-.78.78-.78 2.05 0 2.83L4 21.41c.39.39.9.59 1.41.59.51 0 1.02-.2 1.41-.59l7.78-7.78 2.81-2.81c.8-.78.8-2.07 0-2.86zM5.41 20L4 18.59l7.72-7.72 1.47 1.35L5.41 20z\"/>\n",
              "  </svg>\n",
              "      </button>\n",
              "      \n",
              "  <style>\n",
              "    .colab-df-container {\n",
              "      display:flex;\n",
              "      flex-wrap:wrap;\n",
              "      gap: 12px;\n",
              "    }\n",
              "\n",
              "    .colab-df-convert {\n",
              "      background-color: #E8F0FE;\n",
              "      border: none;\n",
              "      border-radius: 50%;\n",
              "      cursor: pointer;\n",
              "      display: none;\n",
              "      fill: #1967D2;\n",
              "      height: 32px;\n",
              "      padding: 0 0 0 0;\n",
              "      width: 32px;\n",
              "    }\n",
              "\n",
              "    .colab-df-convert:hover {\n",
              "      background-color: #E2EBFA;\n",
              "      box-shadow: 0px 1px 2px rgba(60, 64, 67, 0.3), 0px 1px 3px 1px rgba(60, 64, 67, 0.15);\n",
              "      fill: #174EA6;\n",
              "    }\n",
              "\n",
              "    [theme=dark] .colab-df-convert {\n",
              "      background-color: #3B4455;\n",
              "      fill: #D2E3FC;\n",
              "    }\n",
              "\n",
              "    [theme=dark] .colab-df-convert:hover {\n",
              "      background-color: #434B5C;\n",
              "      box-shadow: 0px 1px 3px 1px rgba(0, 0, 0, 0.15);\n",
              "      filter: drop-shadow(0px 1px 2px rgba(0, 0, 0, 0.3));\n",
              "      fill: #FFFFFF;\n",
              "    }\n",
              "  </style>\n",
              "\n",
              "      <script>\n",
              "        const buttonEl =\n",
              "          document.querySelector('#df-83bdf5a5-9527-44cf-9e84-26b72ab48462 button.colab-df-convert');\n",
              "        buttonEl.style.display =\n",
              "          google.colab.kernel.accessAllowed ? 'block' : 'none';\n",
              "\n",
              "        async function convertToInteractive(key) {\n",
              "          const element = document.querySelector('#df-83bdf5a5-9527-44cf-9e84-26b72ab48462');\n",
              "          const dataTable =\n",
              "            await google.colab.kernel.invokeFunction('convertToInteractive',\n",
              "                                                     [key], {});\n",
              "          if (!dataTable) return;\n",
              "\n",
              "          const docLinkHtml = 'Like what you see? Visit the ' +\n",
              "            '<a target=\"_blank\" href=https://colab.research.google.com/notebooks/data_table.ipynb>data table notebook</a>'\n",
              "            + ' to learn more about interactive tables.';\n",
              "          element.innerHTML = '';\n",
              "          dataTable['output_type'] = 'display_data';\n",
              "          await google.colab.output.renderOutput(dataTable, element);\n",
              "          const docLink = document.createElement('div');\n",
              "          docLink.innerHTML = docLinkHtml;\n",
              "          element.appendChild(docLink);\n",
              "        }\n",
              "      </script>\n",
              "    </div>\n",
              "  </div>\n",
              "  "
            ],
            "text/plain": [
              "   IFC_Low_Fat  IFC_Regular\n",
              "0          1.0          0.0\n",
              "1          0.0          1.0\n",
              "2          1.0          0.0\n",
              "3          1.0          0.0\n",
              "4          0.0          1.0"
            ]
          },
          "metadata": {},
          "execution_count": 543
        }
      ]
    },
    {
      "cell_type": "code",
      "source": [
        "if_features.shape"
      ],
      "metadata": {
        "colab": {
          "base_uri": "https://localhost:8080/"
        },
        "id": "-3Ylqk0BOGZ7",
        "outputId": "57b14f0d-c56a-4076-afc9-02eea711a13b"
      },
      "execution_count": 544,
      "outputs": [
        {
          "output_type": "execute_result",
          "data": {
            "text/plain": [
              "(6113, 2)"
            ]
          },
          "metadata": {},
          "execution_count": 544
        }
      ]
    },
    {
      "cell_type": "markdown",
      "source": [
        "### One Hot Encoding variable 'Item_Type'"
      ],
      "metadata": {
        "id": "wvuiKp6MJp1A"
      }
    },
    {
      "cell_type": "code",
      "source": [
        "#importamos librería para que nos permita hacer un formato más compacto de hot encoding\n",
        "from sklearn.feature_extraction import FeatureHasher"
      ],
      "metadata": {
        "id": "FIOLsAjpLaGR"
      },
      "execution_count": 545,
      "outputs": []
    },
    {
      "cell_type": "code",
      "source": [
        "fh = FeatureHasher(n_features=16, input_type='string') #instanciamos \n",
        "hashed_features = fh.fit_transform(sales_predictions_df_reg2['Item_Type'])\n",
        "item_type_features = hashed_features.toarray()\n",
        "item_type_features.shape"
      ],
      "metadata": {
        "colab": {
          "base_uri": "https://localhost:8080/"
        },
        "id": "THrHe3pyJpZF",
        "outputId": "29a3322c-bba0-4a60-80b8-450f968cabb6"
      },
      "execution_count": 546,
      "outputs": [
        {
          "output_type": "execute_result",
          "data": {
            "text/plain": [
              "(6113, 16)"
            ]
          },
          "metadata": {},
          "execution_count": 546
        }
      ]
    },
    {
      "cell_type": "code",
      "source": [
        " #son los nombres que tendrá la de valores categóricos (ahora numéricos)\n",
        "it_feature_labels = np.array(['IT_Dairy', 'IT_Soft Drinks', 'IT_Meat', 'IT_Household', 'IT_Baking Goods',\n",
        "       'IT_Snack Foods', 'IT_Fruits and Vegetables', 'IT_Breakfast',\n",
        "       'IT_Health and Hygiene', 'IT_Hard Drinks', 'IT_Frozen Foods', 'IT_Canned',\n",
        "       'IT_Starchy Foods', 'IT_Breads', 'IT_Others', 'IT_Seafood'])"
      ],
      "metadata": {
        "id": "6Yv8uQP9MJzw"
      },
      "execution_count": 547,
      "outputs": []
    },
    {
      "cell_type": "code",
      "source": [
        "it_features = pd.DataFrame(item_type_features, \n",
        "                            columns=it_feature_labels)\n",
        "it_features.head() #df para it que concatenaremos más adelante  ################"
      ],
      "metadata": {
        "colab": {
          "base_uri": "https://localhost:8080/",
          "height": 267
        },
        "id": "Vd3mms_sKgAd",
        "outputId": "6395c283-f0ee-4b81-c7e9-2b02c0ce6023"
      },
      "execution_count": 548,
      "outputs": [
        {
          "output_type": "execute_result",
          "data": {
            "text/html": [
              "\n",
              "  <div id=\"df-f89022ca-4b0c-4d01-a3f3-dd863c627f17\">\n",
              "    <div class=\"colab-df-container\">\n",
              "      <div>\n",
              "<style scoped>\n",
              "    .dataframe tbody tr th:only-of-type {\n",
              "        vertical-align: middle;\n",
              "    }\n",
              "\n",
              "    .dataframe tbody tr th {\n",
              "        vertical-align: top;\n",
              "    }\n",
              "\n",
              "    .dataframe thead th {\n",
              "        text-align: right;\n",
              "    }\n",
              "</style>\n",
              "<table border=\"1\" class=\"dataframe\">\n",
              "  <thead>\n",
              "    <tr style=\"text-align: right;\">\n",
              "      <th></th>\n",
              "      <th>IT_Dairy</th>\n",
              "      <th>IT_Soft Drinks</th>\n",
              "      <th>IT_Meat</th>\n",
              "      <th>IT_Household</th>\n",
              "      <th>IT_Baking Goods</th>\n",
              "      <th>IT_Snack Foods</th>\n",
              "      <th>IT_Fruits and Vegetables</th>\n",
              "      <th>IT_Breakfast</th>\n",
              "      <th>IT_Health and Hygiene</th>\n",
              "      <th>IT_Hard Drinks</th>\n",
              "      <th>IT_Frozen Foods</th>\n",
              "      <th>IT_Canned</th>\n",
              "      <th>IT_Starchy Foods</th>\n",
              "      <th>IT_Breads</th>\n",
              "      <th>IT_Others</th>\n",
              "      <th>IT_Seafood</th>\n",
              "    </tr>\n",
              "  </thead>\n",
              "  <tbody>\n",
              "    <tr>\n",
              "      <th>0</th>\n",
              "      <td>0.0</td>\n",
              "      <td>1.0</td>\n",
              "      <td>1.0</td>\n",
              "      <td>0.0</td>\n",
              "      <td>0.0</td>\n",
              "      <td>-1.0</td>\n",
              "      <td>2.0</td>\n",
              "      <td>0.0</td>\n",
              "      <td>0.0</td>\n",
              "      <td>0.0</td>\n",
              "      <td>0.0</td>\n",
              "      <td>0.0</td>\n",
              "      <td>0.0</td>\n",
              "      <td>0.0</td>\n",
              "      <td>0.0</td>\n",
              "      <td>0.0</td>\n",
              "    </tr>\n",
              "    <tr>\n",
              "      <th>1</th>\n",
              "      <td>0.0</td>\n",
              "      <td>1.0</td>\n",
              "      <td>0.0</td>\n",
              "      <td>0.0</td>\n",
              "      <td>-1.0</td>\n",
              "      <td>-1.0</td>\n",
              "      <td>1.0</td>\n",
              "      <td>0.0</td>\n",
              "      <td>1.0</td>\n",
              "      <td>0.0</td>\n",
              "      <td>0.0</td>\n",
              "      <td>1.0</td>\n",
              "      <td>-1.0</td>\n",
              "      <td>0.0</td>\n",
              "      <td>0.0</td>\n",
              "      <td>-2.0</td>\n",
              "    </tr>\n",
              "    <tr>\n",
              "      <th>2</th>\n",
              "      <td>0.0</td>\n",
              "      <td>0.0</td>\n",
              "      <td>1.0</td>\n",
              "      <td>-1.0</td>\n",
              "      <td>0.0</td>\n",
              "      <td>0.0</td>\n",
              "      <td>0.0</td>\n",
              "      <td>1.0</td>\n",
              "      <td>0.0</td>\n",
              "      <td>0.0</td>\n",
              "      <td>1.0</td>\n",
              "      <td>0.0</td>\n",
              "      <td>0.0</td>\n",
              "      <td>0.0</td>\n",
              "      <td>0.0</td>\n",
              "      <td>0.0</td>\n",
              "    </tr>\n",
              "    <tr>\n",
              "      <th>3</th>\n",
              "      <td>1.0</td>\n",
              "      <td>0.0</td>\n",
              "      <td>0.0</td>\n",
              "      <td>3.0</td>\n",
              "      <td>0.0</td>\n",
              "      <td>0.0</td>\n",
              "      <td>0.0</td>\n",
              "      <td>1.0</td>\n",
              "      <td>0.0</td>\n",
              "      <td>1.0</td>\n",
              "      <td>0.0</td>\n",
              "      <td>0.0</td>\n",
              "      <td>1.0</td>\n",
              "      <td>-1.0</td>\n",
              "      <td>0.0</td>\n",
              "      <td>-1.0</td>\n",
              "    </tr>\n",
              "    <tr>\n",
              "      <th>4</th>\n",
              "      <td>0.0</td>\n",
              "      <td>0.0</td>\n",
              "      <td>1.0</td>\n",
              "      <td>3.0</td>\n",
              "      <td>-1.0</td>\n",
              "      <td>-1.0</td>\n",
              "      <td>-1.0</td>\n",
              "      <td>0.0</td>\n",
              "      <td>1.0</td>\n",
              "      <td>1.0</td>\n",
              "      <td>-1.0</td>\n",
              "      <td>0.0</td>\n",
              "      <td>0.0</td>\n",
              "      <td>0.0</td>\n",
              "      <td>0.0</td>\n",
              "      <td>-2.0</td>\n",
              "    </tr>\n",
              "  </tbody>\n",
              "</table>\n",
              "</div>\n",
              "      <button class=\"colab-df-convert\" onclick=\"convertToInteractive('df-f89022ca-4b0c-4d01-a3f3-dd863c627f17')\"\n",
              "              title=\"Convert this dataframe to an interactive table.\"\n",
              "              style=\"display:none;\">\n",
              "        \n",
              "  <svg xmlns=\"http://www.w3.org/2000/svg\" height=\"24px\"viewBox=\"0 0 24 24\"\n",
              "       width=\"24px\">\n",
              "    <path d=\"M0 0h24v24H0V0z\" fill=\"none\"/>\n",
              "    <path d=\"M18.56 5.44l.94 2.06.94-2.06 2.06-.94-2.06-.94-.94-2.06-.94 2.06-2.06.94zm-11 1L8.5 8.5l.94-2.06 2.06-.94-2.06-.94L8.5 2.5l-.94 2.06-2.06.94zm10 10l.94 2.06.94-2.06 2.06-.94-2.06-.94-.94-2.06-.94 2.06-2.06.94z\"/><path d=\"M17.41 7.96l-1.37-1.37c-.4-.4-.92-.59-1.43-.59-.52 0-1.04.2-1.43.59L10.3 9.45l-7.72 7.72c-.78.78-.78 2.05 0 2.83L4 21.41c.39.39.9.59 1.41.59.51 0 1.02-.2 1.41-.59l7.78-7.78 2.81-2.81c.8-.78.8-2.07 0-2.86zM5.41 20L4 18.59l7.72-7.72 1.47 1.35L5.41 20z\"/>\n",
              "  </svg>\n",
              "      </button>\n",
              "      \n",
              "  <style>\n",
              "    .colab-df-container {\n",
              "      display:flex;\n",
              "      flex-wrap:wrap;\n",
              "      gap: 12px;\n",
              "    }\n",
              "\n",
              "    .colab-df-convert {\n",
              "      background-color: #E8F0FE;\n",
              "      border: none;\n",
              "      border-radius: 50%;\n",
              "      cursor: pointer;\n",
              "      display: none;\n",
              "      fill: #1967D2;\n",
              "      height: 32px;\n",
              "      padding: 0 0 0 0;\n",
              "      width: 32px;\n",
              "    }\n",
              "\n",
              "    .colab-df-convert:hover {\n",
              "      background-color: #E2EBFA;\n",
              "      box-shadow: 0px 1px 2px rgba(60, 64, 67, 0.3), 0px 1px 3px 1px rgba(60, 64, 67, 0.15);\n",
              "      fill: #174EA6;\n",
              "    }\n",
              "\n",
              "    [theme=dark] .colab-df-convert {\n",
              "      background-color: #3B4455;\n",
              "      fill: #D2E3FC;\n",
              "    }\n",
              "\n",
              "    [theme=dark] .colab-df-convert:hover {\n",
              "      background-color: #434B5C;\n",
              "      box-shadow: 0px 1px 3px 1px rgba(0, 0, 0, 0.15);\n",
              "      filter: drop-shadow(0px 1px 2px rgba(0, 0, 0, 0.3));\n",
              "      fill: #FFFFFF;\n",
              "    }\n",
              "  </style>\n",
              "\n",
              "      <script>\n",
              "        const buttonEl =\n",
              "          document.querySelector('#df-f89022ca-4b0c-4d01-a3f3-dd863c627f17 button.colab-df-convert');\n",
              "        buttonEl.style.display =\n",
              "          google.colab.kernel.accessAllowed ? 'block' : 'none';\n",
              "\n",
              "        async function convertToInteractive(key) {\n",
              "          const element = document.querySelector('#df-f89022ca-4b0c-4d01-a3f3-dd863c627f17');\n",
              "          const dataTable =\n",
              "            await google.colab.kernel.invokeFunction('convertToInteractive',\n",
              "                                                     [key], {});\n",
              "          if (!dataTable) return;\n",
              "\n",
              "          const docLinkHtml = 'Like what you see? Visit the ' +\n",
              "            '<a target=\"_blank\" href=https://colab.research.google.com/notebooks/data_table.ipynb>data table notebook</a>'\n",
              "            + ' to learn more about interactive tables.';\n",
              "          element.innerHTML = '';\n",
              "          dataTable['output_type'] = 'display_data';\n",
              "          await google.colab.output.renderOutput(dataTable, element);\n",
              "          const docLink = document.createElement('div');\n",
              "          docLink.innerHTML = docLinkHtml;\n",
              "          element.appendChild(docLink);\n",
              "        }\n",
              "      </script>\n",
              "    </div>\n",
              "  </div>\n",
              "  "
            ],
            "text/plain": [
              "   IT_Dairy  IT_Soft Drinks  IT_Meat  ...  IT_Breads  IT_Others  IT_Seafood\n",
              "0       0.0             1.0      1.0  ...        0.0        0.0         0.0\n",
              "1       0.0             1.0      0.0  ...        0.0        0.0        -2.0\n",
              "2       0.0             0.0      1.0  ...        0.0        0.0         0.0\n",
              "3       1.0             0.0      0.0  ...       -1.0        0.0        -1.0\n",
              "4       0.0             0.0      1.0  ...        0.0        0.0        -2.0\n",
              "\n",
              "[5 rows x 16 columns]"
            ]
          },
          "metadata": {},
          "execution_count": 548
        }
      ]
    },
    {
      "cell_type": "code",
      "source": [
        "it_features.shape #coincide con la dimensión de mi principal df "
      ],
      "metadata": {
        "colab": {
          "base_uri": "https://localhost:8080/"
        },
        "id": "rVtPAiBoN_RC",
        "outputId": "66d8eb49-143d-4423-c121-32349ad345d3"
      },
      "execution_count": 549,
      "outputs": [
        {
          "output_type": "execute_result",
          "data": {
            "text/plain": [
              "(6113, 16)"
            ]
          },
          "metadata": {},
          "execution_count": 549
        }
      ]
    },
    {
      "cell_type": "markdown",
      "source": [
        "### One Hot Encoding variable 'Outlet_Size'"
      ],
      "metadata": {
        "id": "pTPRk6v5_zPS"
      }
    },
    {
      "cell_type": "markdown",
      "source": [
        "En este caso usaremos el mismo código que antes para convertir variables categóricas a variables numéricas (dummies), pero ya más directo"
      ],
      "metadata": {
        "id": "Aq7W4v3jOkqM"
      }
    },
    {
      "cell_type": "code",
      "source": [
        "outlet_size_le = LabelEncoder() #instanciamos la función\n",
        "\n",
        "outlet_size_labels = outlet_size_le.fit_transform(sales_predictions_df_reg2['Outlet_Size'])\n",
        "outlet_size_labels\n",
        "sales_predictions_df_reg2['Outlet_Size'] = outlet_size_labels\n",
        "sales_predictions_df_reg2.head()"
      ],
      "metadata": {
        "colab": {
          "base_uri": "https://localhost:8080/",
          "height": 310
        },
        "id": "QFe5MpIuOfq2",
        "outputId": "83748b88-bae0-4cb7-a860-27b42978b03c"
      },
      "execution_count": 550,
      "outputs": [
        {
          "output_type": "stream",
          "name": "stderr",
          "text": [
            "/usr/local/lib/python3.7/dist-packages/ipykernel_launcher.py:5: SettingWithCopyWarning: \n",
            "A value is trying to be set on a copy of a slice from a DataFrame.\n",
            "Try using .loc[row_indexer,col_indexer] = value instead\n",
            "\n",
            "See the caveats in the documentation: https://pandas.pydata.org/pandas-docs/stable/user_guide/indexing.html#returning-a-view-versus-a-copy\n",
            "  \"\"\"\n"
          ]
        },
        {
          "output_type": "execute_result",
          "data": {
            "text/html": [
              "\n",
              "  <div id=\"df-59fd8b7e-201b-43f7-9fed-f24a067b2b10\">\n",
              "    <div class=\"colab-df-container\">\n",
              "      <div>\n",
              "<style scoped>\n",
              "    .dataframe tbody tr th:only-of-type {\n",
              "        vertical-align: middle;\n",
              "    }\n",
              "\n",
              "    .dataframe tbody tr th {\n",
              "        vertical-align: top;\n",
              "    }\n",
              "\n",
              "    .dataframe thead th {\n",
              "        text-align: right;\n",
              "    }\n",
              "</style>\n",
              "<table border=\"1\" class=\"dataframe\">\n",
              "  <thead>\n",
              "    <tr style=\"text-align: right;\">\n",
              "      <th></th>\n",
              "      <th>Item_Identifier</th>\n",
              "      <th>Item_Weight</th>\n",
              "      <th>Item_Fat_Content</th>\n",
              "      <th>Item_Visibility</th>\n",
              "      <th>Item_Type</th>\n",
              "      <th>Item_MRP</th>\n",
              "      <th>Outlet_Identifier</th>\n",
              "      <th>Outlet_Establishment_Year</th>\n",
              "      <th>Outlet_Size</th>\n",
              "      <th>Outlet_Location_Type</th>\n",
              "      <th>Outlet_Type</th>\n",
              "      <th>Item_Outlet_Sales</th>\n",
              "    </tr>\n",
              "  </thead>\n",
              "  <tbody>\n",
              "    <tr>\n",
              "      <th>0</th>\n",
              "      <td>FDA15</td>\n",
              "      <td>9.300</td>\n",
              "      <td>0</td>\n",
              "      <td>0.016047</td>\n",
              "      <td>Dairy</td>\n",
              "      <td>249.8092</td>\n",
              "      <td>OUT049</td>\n",
              "      <td>1999</td>\n",
              "      <td>1</td>\n",
              "      <td>0</td>\n",
              "      <td>1</td>\n",
              "      <td>3735.1380</td>\n",
              "    </tr>\n",
              "    <tr>\n",
              "      <th>1</th>\n",
              "      <td>DRC01</td>\n",
              "      <td>5.920</td>\n",
              "      <td>1</td>\n",
              "      <td>0.019278</td>\n",
              "      <td>Soft Drinks</td>\n",
              "      <td>48.2692</td>\n",
              "      <td>OUT018</td>\n",
              "      <td>2009</td>\n",
              "      <td>1</td>\n",
              "      <td>2</td>\n",
              "      <td>2</td>\n",
              "      <td>443.4228</td>\n",
              "    </tr>\n",
              "    <tr>\n",
              "      <th>2</th>\n",
              "      <td>FDN15</td>\n",
              "      <td>17.500</td>\n",
              "      <td>0</td>\n",
              "      <td>0.016760</td>\n",
              "      <td>Meat</td>\n",
              "      <td>141.6180</td>\n",
              "      <td>OUT049</td>\n",
              "      <td>1999</td>\n",
              "      <td>1</td>\n",
              "      <td>0</td>\n",
              "      <td>1</td>\n",
              "      <td>2097.2700</td>\n",
              "    </tr>\n",
              "    <tr>\n",
              "      <th>4</th>\n",
              "      <td>NCD19</td>\n",
              "      <td>8.930</td>\n",
              "      <td>0</td>\n",
              "      <td>0.000000</td>\n",
              "      <td>Household</td>\n",
              "      <td>53.8614</td>\n",
              "      <td>OUT013</td>\n",
              "      <td>1987</td>\n",
              "      <td>0</td>\n",
              "      <td>2</td>\n",
              "      <td>1</td>\n",
              "      <td>994.7052</td>\n",
              "    </tr>\n",
              "    <tr>\n",
              "      <th>5</th>\n",
              "      <td>FDP36</td>\n",
              "      <td>10.395</td>\n",
              "      <td>1</td>\n",
              "      <td>0.000000</td>\n",
              "      <td>Baking Goods</td>\n",
              "      <td>51.4008</td>\n",
              "      <td>OUT018</td>\n",
              "      <td>2009</td>\n",
              "      <td>1</td>\n",
              "      <td>2</td>\n",
              "      <td>2</td>\n",
              "      <td>556.6088</td>\n",
              "    </tr>\n",
              "  </tbody>\n",
              "</table>\n",
              "</div>\n",
              "      <button class=\"colab-df-convert\" onclick=\"convertToInteractive('df-59fd8b7e-201b-43f7-9fed-f24a067b2b10')\"\n",
              "              title=\"Convert this dataframe to an interactive table.\"\n",
              "              style=\"display:none;\">\n",
              "        \n",
              "  <svg xmlns=\"http://www.w3.org/2000/svg\" height=\"24px\"viewBox=\"0 0 24 24\"\n",
              "       width=\"24px\">\n",
              "    <path d=\"M0 0h24v24H0V0z\" fill=\"none\"/>\n",
              "    <path d=\"M18.56 5.44l.94 2.06.94-2.06 2.06-.94-2.06-.94-.94-2.06-.94 2.06-2.06.94zm-11 1L8.5 8.5l.94-2.06 2.06-.94-2.06-.94L8.5 2.5l-.94 2.06-2.06.94zm10 10l.94 2.06.94-2.06 2.06-.94-2.06-.94-.94-2.06-.94 2.06-2.06.94z\"/><path d=\"M17.41 7.96l-1.37-1.37c-.4-.4-.92-.59-1.43-.59-.52 0-1.04.2-1.43.59L10.3 9.45l-7.72 7.72c-.78.78-.78 2.05 0 2.83L4 21.41c.39.39.9.59 1.41.59.51 0 1.02-.2 1.41-.59l7.78-7.78 2.81-2.81c.8-.78.8-2.07 0-2.86zM5.41 20L4 18.59l7.72-7.72 1.47 1.35L5.41 20z\"/>\n",
              "  </svg>\n",
              "      </button>\n",
              "      \n",
              "  <style>\n",
              "    .colab-df-container {\n",
              "      display:flex;\n",
              "      flex-wrap:wrap;\n",
              "      gap: 12px;\n",
              "    }\n",
              "\n",
              "    .colab-df-convert {\n",
              "      background-color: #E8F0FE;\n",
              "      border: none;\n",
              "      border-radius: 50%;\n",
              "      cursor: pointer;\n",
              "      display: none;\n",
              "      fill: #1967D2;\n",
              "      height: 32px;\n",
              "      padding: 0 0 0 0;\n",
              "      width: 32px;\n",
              "    }\n",
              "\n",
              "    .colab-df-convert:hover {\n",
              "      background-color: #E2EBFA;\n",
              "      box-shadow: 0px 1px 2px rgba(60, 64, 67, 0.3), 0px 1px 3px 1px rgba(60, 64, 67, 0.15);\n",
              "      fill: #174EA6;\n",
              "    }\n",
              "\n",
              "    [theme=dark] .colab-df-convert {\n",
              "      background-color: #3B4455;\n",
              "      fill: #D2E3FC;\n",
              "    }\n",
              "\n",
              "    [theme=dark] .colab-df-convert:hover {\n",
              "      background-color: #434B5C;\n",
              "      box-shadow: 0px 1px 3px 1px rgba(0, 0, 0, 0.15);\n",
              "      filter: drop-shadow(0px 1px 2px rgba(0, 0, 0, 0.3));\n",
              "      fill: #FFFFFF;\n",
              "    }\n",
              "  </style>\n",
              "\n",
              "      <script>\n",
              "        const buttonEl =\n",
              "          document.querySelector('#df-59fd8b7e-201b-43f7-9fed-f24a067b2b10 button.colab-df-convert');\n",
              "        buttonEl.style.display =\n",
              "          google.colab.kernel.accessAllowed ? 'block' : 'none';\n",
              "\n",
              "        async function convertToInteractive(key) {\n",
              "          const element = document.querySelector('#df-59fd8b7e-201b-43f7-9fed-f24a067b2b10');\n",
              "          const dataTable =\n",
              "            await google.colab.kernel.invokeFunction('convertToInteractive',\n",
              "                                                     [key], {});\n",
              "          if (!dataTable) return;\n",
              "\n",
              "          const docLinkHtml = 'Like what you see? Visit the ' +\n",
              "            '<a target=\"_blank\" href=https://colab.research.google.com/notebooks/data_table.ipynb>data table notebook</a>'\n",
              "            + ' to learn more about interactive tables.';\n",
              "          element.innerHTML = '';\n",
              "          dataTable['output_type'] = 'display_data';\n",
              "          await google.colab.output.renderOutput(dataTable, element);\n",
              "          const docLink = document.createElement('div');\n",
              "          docLink.innerHTML = docLinkHtml;\n",
              "          element.appendChild(docLink);\n",
              "        }\n",
              "      </script>\n",
              "    </div>\n",
              "  </div>\n",
              "  "
            ],
            "text/plain": [
              "  Item_Identifier  Item_Weight  ...  Outlet_Type  Item_Outlet_Sales\n",
              "0           FDA15        9.300  ...            1          3735.1380\n",
              "1           DRC01        5.920  ...            2           443.4228\n",
              "2           FDN15       17.500  ...            1          2097.2700\n",
              "4           NCD19        8.930  ...            1           994.7052\n",
              "5           FDP36       10.395  ...            2           556.6088\n",
              "\n",
              "[5 rows x 12 columns]"
            ]
          },
          "metadata": {},
          "execution_count": 550
        }
      ]
    },
    {
      "cell_type": "markdown",
      "source": [
        "Aplicación one hot coding"
      ],
      "metadata": {
        "id": "miWSldyRQ6iA"
      }
    },
    {
      "cell_type": "code",
      "source": [
        "outlet_size_ohe = OneHotEncoder()\n",
        "os_feature_arr = outlet_size_ohe.fit_transform(\n",
        "                              sales_predictions_df_reg2[['Outlet_Size']]).toarray() #nos muestra un arreglo\n",
        "os_feature_arr                                                                       #con los diferentes valores en '0' y '1'"
      ],
      "metadata": {
        "colab": {
          "base_uri": "https://localhost:8080/"
        },
        "id": "agrEQXFDQ9EK",
        "outputId": "1f495bce-d0f6-49aa-bfab-4f8c8153ba2b"
      },
      "execution_count": 551,
      "outputs": [
        {
          "output_type": "execute_result",
          "data": {
            "text/plain": [
              "array([[0., 1., 0.],\n",
              "       [0., 1., 0.],\n",
              "       [0., 1., 0.],\n",
              "       ...,\n",
              "       [0., 0., 1.],\n",
              "       [0., 1., 0.],\n",
              "       [0., 0., 1.]])"
            ]
          },
          "metadata": {},
          "execution_count": 551
        }
      ]
    },
    {
      "cell_type": "code",
      "source": [
        "os_feature_arr.shape"
      ],
      "metadata": {
        "colab": {
          "base_uri": "https://localhost:8080/"
        },
        "id": "qEBX-mOfRRS2",
        "outputId": "ad6839dc-7549-4724-9504-5f7511ae261d"
      },
      "execution_count": 552,
      "outputs": [
        {
          "output_type": "execute_result",
          "data": {
            "text/plain": [
              "(6113, 3)"
            ]
          },
          "metadata": {},
          "execution_count": 552
        }
      ]
    },
    {
      "cell_type": "code",
      "source": [
        "#nombres de las etiquetas\n",
        "os_feature_labels = np.array(['OS_High', 'OS_Medium', 'OS_Small'])\n"
      ],
      "metadata": {
        "id": "thrR8kVyP3q0"
      },
      "execution_count": 553,
      "outputs": []
    },
    {
      "cell_type": "code",
      "source": [
        "os_features = pd.DataFrame(os_feature_arr, \n",
        "                            columns=os_feature_labels)\n",
        "os_features #nos muestra un nuevo df para que se puede concatenar al df original\n",
        "os_features.head() #finalmente tenemos la df que proximamente concatenaremos #############"
      ],
      "metadata": {
        "colab": {
          "base_uri": "https://localhost:8080/",
          "height": 206
        },
        "id": "MbKT5NmIOjWl",
        "outputId": "db56b05f-d86d-41e0-d684-6eaa22e837ee"
      },
      "execution_count": 554,
      "outputs": [
        {
          "output_type": "execute_result",
          "data": {
            "text/html": [
              "\n",
              "  <div id=\"df-923df9d4-e858-4c77-b7b6-d97d467f412b\">\n",
              "    <div class=\"colab-df-container\">\n",
              "      <div>\n",
              "<style scoped>\n",
              "    .dataframe tbody tr th:only-of-type {\n",
              "        vertical-align: middle;\n",
              "    }\n",
              "\n",
              "    .dataframe tbody tr th {\n",
              "        vertical-align: top;\n",
              "    }\n",
              "\n",
              "    .dataframe thead th {\n",
              "        text-align: right;\n",
              "    }\n",
              "</style>\n",
              "<table border=\"1\" class=\"dataframe\">\n",
              "  <thead>\n",
              "    <tr style=\"text-align: right;\">\n",
              "      <th></th>\n",
              "      <th>OS_High</th>\n",
              "      <th>OS_Medium</th>\n",
              "      <th>OS_Small</th>\n",
              "    </tr>\n",
              "  </thead>\n",
              "  <tbody>\n",
              "    <tr>\n",
              "      <th>0</th>\n",
              "      <td>0.0</td>\n",
              "      <td>1.0</td>\n",
              "      <td>0.0</td>\n",
              "    </tr>\n",
              "    <tr>\n",
              "      <th>1</th>\n",
              "      <td>0.0</td>\n",
              "      <td>1.0</td>\n",
              "      <td>0.0</td>\n",
              "    </tr>\n",
              "    <tr>\n",
              "      <th>2</th>\n",
              "      <td>0.0</td>\n",
              "      <td>1.0</td>\n",
              "      <td>0.0</td>\n",
              "    </tr>\n",
              "    <tr>\n",
              "      <th>3</th>\n",
              "      <td>1.0</td>\n",
              "      <td>0.0</td>\n",
              "      <td>0.0</td>\n",
              "    </tr>\n",
              "    <tr>\n",
              "      <th>4</th>\n",
              "      <td>0.0</td>\n",
              "      <td>1.0</td>\n",
              "      <td>0.0</td>\n",
              "    </tr>\n",
              "  </tbody>\n",
              "</table>\n",
              "</div>\n",
              "      <button class=\"colab-df-convert\" onclick=\"convertToInteractive('df-923df9d4-e858-4c77-b7b6-d97d467f412b')\"\n",
              "              title=\"Convert this dataframe to an interactive table.\"\n",
              "              style=\"display:none;\">\n",
              "        \n",
              "  <svg xmlns=\"http://www.w3.org/2000/svg\" height=\"24px\"viewBox=\"0 0 24 24\"\n",
              "       width=\"24px\">\n",
              "    <path d=\"M0 0h24v24H0V0z\" fill=\"none\"/>\n",
              "    <path d=\"M18.56 5.44l.94 2.06.94-2.06 2.06-.94-2.06-.94-.94-2.06-.94 2.06-2.06.94zm-11 1L8.5 8.5l.94-2.06 2.06-.94-2.06-.94L8.5 2.5l-.94 2.06-2.06.94zm10 10l.94 2.06.94-2.06 2.06-.94-2.06-.94-.94-2.06-.94 2.06-2.06.94z\"/><path d=\"M17.41 7.96l-1.37-1.37c-.4-.4-.92-.59-1.43-.59-.52 0-1.04.2-1.43.59L10.3 9.45l-7.72 7.72c-.78.78-.78 2.05 0 2.83L4 21.41c.39.39.9.59 1.41.59.51 0 1.02-.2 1.41-.59l7.78-7.78 2.81-2.81c.8-.78.8-2.07 0-2.86zM5.41 20L4 18.59l7.72-7.72 1.47 1.35L5.41 20z\"/>\n",
              "  </svg>\n",
              "      </button>\n",
              "      \n",
              "  <style>\n",
              "    .colab-df-container {\n",
              "      display:flex;\n",
              "      flex-wrap:wrap;\n",
              "      gap: 12px;\n",
              "    }\n",
              "\n",
              "    .colab-df-convert {\n",
              "      background-color: #E8F0FE;\n",
              "      border: none;\n",
              "      border-radius: 50%;\n",
              "      cursor: pointer;\n",
              "      display: none;\n",
              "      fill: #1967D2;\n",
              "      height: 32px;\n",
              "      padding: 0 0 0 0;\n",
              "      width: 32px;\n",
              "    }\n",
              "\n",
              "    .colab-df-convert:hover {\n",
              "      background-color: #E2EBFA;\n",
              "      box-shadow: 0px 1px 2px rgba(60, 64, 67, 0.3), 0px 1px 3px 1px rgba(60, 64, 67, 0.15);\n",
              "      fill: #174EA6;\n",
              "    }\n",
              "\n",
              "    [theme=dark] .colab-df-convert {\n",
              "      background-color: #3B4455;\n",
              "      fill: #D2E3FC;\n",
              "    }\n",
              "\n",
              "    [theme=dark] .colab-df-convert:hover {\n",
              "      background-color: #434B5C;\n",
              "      box-shadow: 0px 1px 3px 1px rgba(0, 0, 0, 0.15);\n",
              "      filter: drop-shadow(0px 1px 2px rgba(0, 0, 0, 0.3));\n",
              "      fill: #FFFFFF;\n",
              "    }\n",
              "  </style>\n",
              "\n",
              "      <script>\n",
              "        const buttonEl =\n",
              "          document.querySelector('#df-923df9d4-e858-4c77-b7b6-d97d467f412b button.colab-df-convert');\n",
              "        buttonEl.style.display =\n",
              "          google.colab.kernel.accessAllowed ? 'block' : 'none';\n",
              "\n",
              "        async function convertToInteractive(key) {\n",
              "          const element = document.querySelector('#df-923df9d4-e858-4c77-b7b6-d97d467f412b');\n",
              "          const dataTable =\n",
              "            await google.colab.kernel.invokeFunction('convertToInteractive',\n",
              "                                                     [key], {});\n",
              "          if (!dataTable) return;\n",
              "\n",
              "          const docLinkHtml = 'Like what you see? Visit the ' +\n",
              "            '<a target=\"_blank\" href=https://colab.research.google.com/notebooks/data_table.ipynb>data table notebook</a>'\n",
              "            + ' to learn more about interactive tables.';\n",
              "          element.innerHTML = '';\n",
              "          dataTable['output_type'] = 'display_data';\n",
              "          await google.colab.output.renderOutput(dataTable, element);\n",
              "          const docLink = document.createElement('div');\n",
              "          docLink.innerHTML = docLinkHtml;\n",
              "          element.appendChild(docLink);\n",
              "        }\n",
              "      </script>\n",
              "    </div>\n",
              "  </div>\n",
              "  "
            ],
            "text/plain": [
              "   OS_High  OS_Medium  OS_Small\n",
              "0      0.0        1.0       0.0\n",
              "1      0.0        1.0       0.0\n",
              "2      0.0        1.0       0.0\n",
              "3      1.0        0.0       0.0\n",
              "4      0.0        1.0       0.0"
            ]
          },
          "metadata": {},
          "execution_count": 554
        }
      ]
    },
    {
      "cell_type": "code",
      "source": [
        "os_features.shape #la dimension de filas coincide con mi df original"
      ],
      "metadata": {
        "colab": {
          "base_uri": "https://localhost:8080/"
        },
        "id": "PQ6QXkOPswYL",
        "outputId": "b0019aa6-b39b-4e6e-8f2e-7939c8f1a902"
      },
      "execution_count": 659,
      "outputs": [
        {
          "output_type": "execute_result",
          "data": {
            "text/plain": [
              "(6113, 3)"
            ]
          },
          "metadata": {},
          "execution_count": 659
        }
      ]
    },
    {
      "cell_type": "markdown",
      "source": [
        "### One Hot Encoding variable 'Outlet_Location'"
      ],
      "metadata": {
        "id": "aGqyhMe_IKMI"
      }
    },
    {
      "cell_type": "markdown",
      "source": [
        "En este caso igualmente usaremos el mismo código que antes para convertir variables categóricas a variables numéricas (dummies), pero ya más directo"
      ],
      "metadata": {
        "id": "ywUmkICDScRz"
      }
    },
    {
      "cell_type": "code",
      "source": [
        "outlet_location_le = LabelEncoder() #instanciamos la función\n",
        "\n",
        "outlet_location_labels = outlet_location_le.fit_transform(sales_predictions_df_reg2['Outlet_Location_Type'])\n",
        "outlet_location_labels\n",
        "sales_predictions_df_reg2['Outlet_Location_Type'] = outlet_location_labels\n",
        "sales_predictions_df_reg2.head()\n"
      ],
      "metadata": {
        "colab": {
          "base_uri": "https://localhost:8080/",
          "height": 310
        },
        "id": "1RgHRoNPRybO",
        "outputId": "f22f9b67-2107-41b0-aa92-cb70363d9739"
      },
      "execution_count": 555,
      "outputs": [
        {
          "output_type": "stream",
          "name": "stderr",
          "text": [
            "/usr/local/lib/python3.7/dist-packages/ipykernel_launcher.py:5: SettingWithCopyWarning: \n",
            "A value is trying to be set on a copy of a slice from a DataFrame.\n",
            "Try using .loc[row_indexer,col_indexer] = value instead\n",
            "\n",
            "See the caveats in the documentation: https://pandas.pydata.org/pandas-docs/stable/user_guide/indexing.html#returning-a-view-versus-a-copy\n",
            "  \"\"\"\n"
          ]
        },
        {
          "output_type": "execute_result",
          "data": {
            "text/html": [
              "\n",
              "  <div id=\"df-2c7023cd-ff26-4dcb-9159-03265d404fd4\">\n",
              "    <div class=\"colab-df-container\">\n",
              "      <div>\n",
              "<style scoped>\n",
              "    .dataframe tbody tr th:only-of-type {\n",
              "        vertical-align: middle;\n",
              "    }\n",
              "\n",
              "    .dataframe tbody tr th {\n",
              "        vertical-align: top;\n",
              "    }\n",
              "\n",
              "    .dataframe thead th {\n",
              "        text-align: right;\n",
              "    }\n",
              "</style>\n",
              "<table border=\"1\" class=\"dataframe\">\n",
              "  <thead>\n",
              "    <tr style=\"text-align: right;\">\n",
              "      <th></th>\n",
              "      <th>Item_Identifier</th>\n",
              "      <th>Item_Weight</th>\n",
              "      <th>Item_Fat_Content</th>\n",
              "      <th>Item_Visibility</th>\n",
              "      <th>Item_Type</th>\n",
              "      <th>Item_MRP</th>\n",
              "      <th>Outlet_Identifier</th>\n",
              "      <th>Outlet_Establishment_Year</th>\n",
              "      <th>Outlet_Size</th>\n",
              "      <th>Outlet_Location_Type</th>\n",
              "      <th>Outlet_Type</th>\n",
              "      <th>Item_Outlet_Sales</th>\n",
              "    </tr>\n",
              "  </thead>\n",
              "  <tbody>\n",
              "    <tr>\n",
              "      <th>0</th>\n",
              "      <td>FDA15</td>\n",
              "      <td>9.300</td>\n",
              "      <td>0</td>\n",
              "      <td>0.016047</td>\n",
              "      <td>Dairy</td>\n",
              "      <td>249.8092</td>\n",
              "      <td>OUT049</td>\n",
              "      <td>1999</td>\n",
              "      <td>1</td>\n",
              "      <td>0</td>\n",
              "      <td>1</td>\n",
              "      <td>3735.1380</td>\n",
              "    </tr>\n",
              "    <tr>\n",
              "      <th>1</th>\n",
              "      <td>DRC01</td>\n",
              "      <td>5.920</td>\n",
              "      <td>1</td>\n",
              "      <td>0.019278</td>\n",
              "      <td>Soft Drinks</td>\n",
              "      <td>48.2692</td>\n",
              "      <td>OUT018</td>\n",
              "      <td>2009</td>\n",
              "      <td>1</td>\n",
              "      <td>2</td>\n",
              "      <td>2</td>\n",
              "      <td>443.4228</td>\n",
              "    </tr>\n",
              "    <tr>\n",
              "      <th>2</th>\n",
              "      <td>FDN15</td>\n",
              "      <td>17.500</td>\n",
              "      <td>0</td>\n",
              "      <td>0.016760</td>\n",
              "      <td>Meat</td>\n",
              "      <td>141.6180</td>\n",
              "      <td>OUT049</td>\n",
              "      <td>1999</td>\n",
              "      <td>1</td>\n",
              "      <td>0</td>\n",
              "      <td>1</td>\n",
              "      <td>2097.2700</td>\n",
              "    </tr>\n",
              "    <tr>\n",
              "      <th>4</th>\n",
              "      <td>NCD19</td>\n",
              "      <td>8.930</td>\n",
              "      <td>0</td>\n",
              "      <td>0.000000</td>\n",
              "      <td>Household</td>\n",
              "      <td>53.8614</td>\n",
              "      <td>OUT013</td>\n",
              "      <td>1987</td>\n",
              "      <td>0</td>\n",
              "      <td>2</td>\n",
              "      <td>1</td>\n",
              "      <td>994.7052</td>\n",
              "    </tr>\n",
              "    <tr>\n",
              "      <th>5</th>\n",
              "      <td>FDP36</td>\n",
              "      <td>10.395</td>\n",
              "      <td>1</td>\n",
              "      <td>0.000000</td>\n",
              "      <td>Baking Goods</td>\n",
              "      <td>51.4008</td>\n",
              "      <td>OUT018</td>\n",
              "      <td>2009</td>\n",
              "      <td>1</td>\n",
              "      <td>2</td>\n",
              "      <td>2</td>\n",
              "      <td>556.6088</td>\n",
              "    </tr>\n",
              "  </tbody>\n",
              "</table>\n",
              "</div>\n",
              "      <button class=\"colab-df-convert\" onclick=\"convertToInteractive('df-2c7023cd-ff26-4dcb-9159-03265d404fd4')\"\n",
              "              title=\"Convert this dataframe to an interactive table.\"\n",
              "              style=\"display:none;\">\n",
              "        \n",
              "  <svg xmlns=\"http://www.w3.org/2000/svg\" height=\"24px\"viewBox=\"0 0 24 24\"\n",
              "       width=\"24px\">\n",
              "    <path d=\"M0 0h24v24H0V0z\" fill=\"none\"/>\n",
              "    <path d=\"M18.56 5.44l.94 2.06.94-2.06 2.06-.94-2.06-.94-.94-2.06-.94 2.06-2.06.94zm-11 1L8.5 8.5l.94-2.06 2.06-.94-2.06-.94L8.5 2.5l-.94 2.06-2.06.94zm10 10l.94 2.06.94-2.06 2.06-.94-2.06-.94-.94-2.06-.94 2.06-2.06.94z\"/><path d=\"M17.41 7.96l-1.37-1.37c-.4-.4-.92-.59-1.43-.59-.52 0-1.04.2-1.43.59L10.3 9.45l-7.72 7.72c-.78.78-.78 2.05 0 2.83L4 21.41c.39.39.9.59 1.41.59.51 0 1.02-.2 1.41-.59l7.78-7.78 2.81-2.81c.8-.78.8-2.07 0-2.86zM5.41 20L4 18.59l7.72-7.72 1.47 1.35L5.41 20z\"/>\n",
              "  </svg>\n",
              "      </button>\n",
              "      \n",
              "  <style>\n",
              "    .colab-df-container {\n",
              "      display:flex;\n",
              "      flex-wrap:wrap;\n",
              "      gap: 12px;\n",
              "    }\n",
              "\n",
              "    .colab-df-convert {\n",
              "      background-color: #E8F0FE;\n",
              "      border: none;\n",
              "      border-radius: 50%;\n",
              "      cursor: pointer;\n",
              "      display: none;\n",
              "      fill: #1967D2;\n",
              "      height: 32px;\n",
              "      padding: 0 0 0 0;\n",
              "      width: 32px;\n",
              "    }\n",
              "\n",
              "    .colab-df-convert:hover {\n",
              "      background-color: #E2EBFA;\n",
              "      box-shadow: 0px 1px 2px rgba(60, 64, 67, 0.3), 0px 1px 3px 1px rgba(60, 64, 67, 0.15);\n",
              "      fill: #174EA6;\n",
              "    }\n",
              "\n",
              "    [theme=dark] .colab-df-convert {\n",
              "      background-color: #3B4455;\n",
              "      fill: #D2E3FC;\n",
              "    }\n",
              "\n",
              "    [theme=dark] .colab-df-convert:hover {\n",
              "      background-color: #434B5C;\n",
              "      box-shadow: 0px 1px 3px 1px rgba(0, 0, 0, 0.15);\n",
              "      filter: drop-shadow(0px 1px 2px rgba(0, 0, 0, 0.3));\n",
              "      fill: #FFFFFF;\n",
              "    }\n",
              "  </style>\n",
              "\n",
              "      <script>\n",
              "        const buttonEl =\n",
              "          document.querySelector('#df-2c7023cd-ff26-4dcb-9159-03265d404fd4 button.colab-df-convert');\n",
              "        buttonEl.style.display =\n",
              "          google.colab.kernel.accessAllowed ? 'block' : 'none';\n",
              "\n",
              "        async function convertToInteractive(key) {\n",
              "          const element = document.querySelector('#df-2c7023cd-ff26-4dcb-9159-03265d404fd4');\n",
              "          const dataTable =\n",
              "            await google.colab.kernel.invokeFunction('convertToInteractive',\n",
              "                                                     [key], {});\n",
              "          if (!dataTable) return;\n",
              "\n",
              "          const docLinkHtml = 'Like what you see? Visit the ' +\n",
              "            '<a target=\"_blank\" href=https://colab.research.google.com/notebooks/data_table.ipynb>data table notebook</a>'\n",
              "            + ' to learn more about interactive tables.';\n",
              "          element.innerHTML = '';\n",
              "          dataTable['output_type'] = 'display_data';\n",
              "          await google.colab.output.renderOutput(dataTable, element);\n",
              "          const docLink = document.createElement('div');\n",
              "          docLink.innerHTML = docLinkHtml;\n",
              "          element.appendChild(docLink);\n",
              "        }\n",
              "      </script>\n",
              "    </div>\n",
              "  </div>\n",
              "  "
            ],
            "text/plain": [
              "  Item_Identifier  Item_Weight  ...  Outlet_Type  Item_Outlet_Sales\n",
              "0           FDA15        9.300  ...            1          3735.1380\n",
              "1           DRC01        5.920  ...            2           443.4228\n",
              "2           FDN15       17.500  ...            1          2097.2700\n",
              "4           NCD19        8.930  ...            1           994.7052\n",
              "5           FDP36       10.395  ...            2           556.6088\n",
              "\n",
              "[5 rows x 12 columns]"
            ]
          },
          "metadata": {},
          "execution_count": 555
        }
      ]
    },
    {
      "cell_type": "markdown",
      "source": [
        "Aplicamos one hot encoder"
      ],
      "metadata": {
        "id": "9zbVYH4ATSdP"
      }
    },
    {
      "cell_type": "code",
      "source": [
        "outlet_location_ohe = OneHotEncoder()\n",
        "ol_feature_arr = outlet_location_ohe.fit_transform(\n",
        "                              sales_predictions_df_reg2[['Outlet_Location_Type']]).toarray() #nos muestra un arreglo\n",
        "ol_feature_arr   "
      ],
      "metadata": {
        "colab": {
          "base_uri": "https://localhost:8080/"
        },
        "id": "4oAfmF4ESmos",
        "outputId": "a4414c46-0b91-48d9-a72a-98de4114b0f0"
      },
      "execution_count": 556,
      "outputs": [
        {
          "output_type": "execute_result",
          "data": {
            "text/plain": [
              "array([[1., 0., 0.],\n",
              "       [0., 0., 1.],\n",
              "       [1., 0., 0.],\n",
              "       ...,\n",
              "       [0., 1., 0.],\n",
              "       [0., 0., 1.],\n",
              "       [1., 0., 0.]])"
            ]
          },
          "metadata": {},
          "execution_count": 556
        }
      ]
    },
    {
      "cell_type": "code",
      "source": [
        "os_feature_arr.shape"
      ],
      "metadata": {
        "colab": {
          "base_uri": "https://localhost:8080/"
        },
        "id": "mOEWi6M1Sqd1",
        "outputId": "7ce66f5b-408a-4b7e-e2da-c18f128aaee1"
      },
      "execution_count": 557,
      "outputs": [
        {
          "output_type": "execute_result",
          "data": {
            "text/plain": [
              "(6113, 3)"
            ]
          },
          "metadata": {},
          "execution_count": 557
        }
      ]
    },
    {
      "cell_type": "code",
      "source": [
        "#nombres de las etiquetas\n",
        "ol_feature_labels = np.array(['OL_Tier 1', 'OL_Tier 2', 'OL_Tier 3'])\n"
      ],
      "metadata": {
        "id": "9MQpcvcRSxwy"
      },
      "execution_count": 558,
      "outputs": []
    },
    {
      "cell_type": "code",
      "source": [
        "ol_features = pd.DataFrame(ol_feature_arr, \n",
        "                            columns=ol_feature_labels)\n",
        "ol_features #nos muestra un nuevo df para que se puede concatenar al df original\n",
        "ol_features.head() #finalmente tenemos la df que proximamente concatenaremos #############"
      ],
      "metadata": {
        "colab": {
          "base_uri": "https://localhost:8080/",
          "height": 206
        },
        "id": "6ZXqhOO7S1IU",
        "outputId": "3852ad9d-8606-4395-8bae-7bceb211fd19"
      },
      "execution_count": 559,
      "outputs": [
        {
          "output_type": "execute_result",
          "data": {
            "text/html": [
              "\n",
              "  <div id=\"df-7f32e130-db90-4d5b-83d8-456487df880e\">\n",
              "    <div class=\"colab-df-container\">\n",
              "      <div>\n",
              "<style scoped>\n",
              "    .dataframe tbody tr th:only-of-type {\n",
              "        vertical-align: middle;\n",
              "    }\n",
              "\n",
              "    .dataframe tbody tr th {\n",
              "        vertical-align: top;\n",
              "    }\n",
              "\n",
              "    .dataframe thead th {\n",
              "        text-align: right;\n",
              "    }\n",
              "</style>\n",
              "<table border=\"1\" class=\"dataframe\">\n",
              "  <thead>\n",
              "    <tr style=\"text-align: right;\">\n",
              "      <th></th>\n",
              "      <th>OL_Tier 1</th>\n",
              "      <th>OL_Tier 2</th>\n",
              "      <th>OL_Tier 3</th>\n",
              "    </tr>\n",
              "  </thead>\n",
              "  <tbody>\n",
              "    <tr>\n",
              "      <th>0</th>\n",
              "      <td>1.0</td>\n",
              "      <td>0.0</td>\n",
              "      <td>0.0</td>\n",
              "    </tr>\n",
              "    <tr>\n",
              "      <th>1</th>\n",
              "      <td>0.0</td>\n",
              "      <td>0.0</td>\n",
              "      <td>1.0</td>\n",
              "    </tr>\n",
              "    <tr>\n",
              "      <th>2</th>\n",
              "      <td>1.0</td>\n",
              "      <td>0.0</td>\n",
              "      <td>0.0</td>\n",
              "    </tr>\n",
              "    <tr>\n",
              "      <th>3</th>\n",
              "      <td>0.0</td>\n",
              "      <td>0.0</td>\n",
              "      <td>1.0</td>\n",
              "    </tr>\n",
              "    <tr>\n",
              "      <th>4</th>\n",
              "      <td>0.0</td>\n",
              "      <td>0.0</td>\n",
              "      <td>1.0</td>\n",
              "    </tr>\n",
              "  </tbody>\n",
              "</table>\n",
              "</div>\n",
              "      <button class=\"colab-df-convert\" onclick=\"convertToInteractive('df-7f32e130-db90-4d5b-83d8-456487df880e')\"\n",
              "              title=\"Convert this dataframe to an interactive table.\"\n",
              "              style=\"display:none;\">\n",
              "        \n",
              "  <svg xmlns=\"http://www.w3.org/2000/svg\" height=\"24px\"viewBox=\"0 0 24 24\"\n",
              "       width=\"24px\">\n",
              "    <path d=\"M0 0h24v24H0V0z\" fill=\"none\"/>\n",
              "    <path d=\"M18.56 5.44l.94 2.06.94-2.06 2.06-.94-2.06-.94-.94-2.06-.94 2.06-2.06.94zm-11 1L8.5 8.5l.94-2.06 2.06-.94-2.06-.94L8.5 2.5l-.94 2.06-2.06.94zm10 10l.94 2.06.94-2.06 2.06-.94-2.06-.94-.94-2.06-.94 2.06-2.06.94z\"/><path d=\"M17.41 7.96l-1.37-1.37c-.4-.4-.92-.59-1.43-.59-.52 0-1.04.2-1.43.59L10.3 9.45l-7.72 7.72c-.78.78-.78 2.05 0 2.83L4 21.41c.39.39.9.59 1.41.59.51 0 1.02-.2 1.41-.59l7.78-7.78 2.81-2.81c.8-.78.8-2.07 0-2.86zM5.41 20L4 18.59l7.72-7.72 1.47 1.35L5.41 20z\"/>\n",
              "  </svg>\n",
              "      </button>\n",
              "      \n",
              "  <style>\n",
              "    .colab-df-container {\n",
              "      display:flex;\n",
              "      flex-wrap:wrap;\n",
              "      gap: 12px;\n",
              "    }\n",
              "\n",
              "    .colab-df-convert {\n",
              "      background-color: #E8F0FE;\n",
              "      border: none;\n",
              "      border-radius: 50%;\n",
              "      cursor: pointer;\n",
              "      display: none;\n",
              "      fill: #1967D2;\n",
              "      height: 32px;\n",
              "      padding: 0 0 0 0;\n",
              "      width: 32px;\n",
              "    }\n",
              "\n",
              "    .colab-df-convert:hover {\n",
              "      background-color: #E2EBFA;\n",
              "      box-shadow: 0px 1px 2px rgba(60, 64, 67, 0.3), 0px 1px 3px 1px rgba(60, 64, 67, 0.15);\n",
              "      fill: #174EA6;\n",
              "    }\n",
              "\n",
              "    [theme=dark] .colab-df-convert {\n",
              "      background-color: #3B4455;\n",
              "      fill: #D2E3FC;\n",
              "    }\n",
              "\n",
              "    [theme=dark] .colab-df-convert:hover {\n",
              "      background-color: #434B5C;\n",
              "      box-shadow: 0px 1px 3px 1px rgba(0, 0, 0, 0.15);\n",
              "      filter: drop-shadow(0px 1px 2px rgba(0, 0, 0, 0.3));\n",
              "      fill: #FFFFFF;\n",
              "    }\n",
              "  </style>\n",
              "\n",
              "      <script>\n",
              "        const buttonEl =\n",
              "          document.querySelector('#df-7f32e130-db90-4d5b-83d8-456487df880e button.colab-df-convert');\n",
              "        buttonEl.style.display =\n",
              "          google.colab.kernel.accessAllowed ? 'block' : 'none';\n",
              "\n",
              "        async function convertToInteractive(key) {\n",
              "          const element = document.querySelector('#df-7f32e130-db90-4d5b-83d8-456487df880e');\n",
              "          const dataTable =\n",
              "            await google.colab.kernel.invokeFunction('convertToInteractive',\n",
              "                                                     [key], {});\n",
              "          if (!dataTable) return;\n",
              "\n",
              "          const docLinkHtml = 'Like what you see? Visit the ' +\n",
              "            '<a target=\"_blank\" href=https://colab.research.google.com/notebooks/data_table.ipynb>data table notebook</a>'\n",
              "            + ' to learn more about interactive tables.';\n",
              "          element.innerHTML = '';\n",
              "          dataTable['output_type'] = 'display_data';\n",
              "          await google.colab.output.renderOutput(dataTable, element);\n",
              "          const docLink = document.createElement('div');\n",
              "          docLink.innerHTML = docLinkHtml;\n",
              "          element.appendChild(docLink);\n",
              "        }\n",
              "      </script>\n",
              "    </div>\n",
              "  </div>\n",
              "  "
            ],
            "text/plain": [
              "   OL_Tier 1  OL_Tier 2  OL_Tier 3\n",
              "0        1.0        0.0        0.0\n",
              "1        0.0        0.0        1.0\n",
              "2        1.0        0.0        0.0\n",
              "3        0.0        0.0        1.0\n",
              "4        0.0        0.0        1.0"
            ]
          },
          "metadata": {},
          "execution_count": 559
        }
      ]
    },
    {
      "cell_type": "code",
      "source": [
        "ol_features.shape #la dimension del nuevo df si coincide con mi df original"
      ],
      "metadata": {
        "colab": {
          "base_uri": "https://localhost:8080/"
        },
        "id": "MEWExDq0s6wD",
        "outputId": "d2ebd47b-7311-4d2e-8c34-a16a6e5e0b52"
      },
      "execution_count": 661,
      "outputs": [
        {
          "output_type": "execute_result",
          "data": {
            "text/plain": [
              "(6113, 3)"
            ]
          },
          "metadata": {},
          "execution_count": 661
        }
      ]
    },
    {
      "cell_type": "markdown",
      "source": [
        "### One Hot Encoding variable 'Outlet_Type'"
      ],
      "metadata": {
        "id": "kvz9RCgGVJbF"
      }
    },
    {
      "cell_type": "markdown",
      "source": [
        "En este caso igualmente usaremos el mismo código que antes para convertir variables categóricas a variables numéricas (dummies), pero ya más directo"
      ],
      "metadata": {
        "id": "S4P6GAPEVLMP"
      }
    },
    {
      "cell_type": "code",
      "source": [
        "outlet_type_le = LabelEncoder() #instanciamos la función\n",
        "\n",
        "outlet_type_labels = outlet_type_le.fit_transform(sales_predictions_df_reg2['Outlet_Type'])\n",
        "outlet_type_labels\n",
        "sales_predictions_df_reg2['Outlet_Type'] = outlet_type_labels\n",
        "sales_predictions_df_reg2.head()"
      ],
      "metadata": {
        "colab": {
          "base_uri": "https://localhost:8080/",
          "height": 310
        },
        "id": "KTSuube7Tv4n",
        "outputId": "24c9558f-c02e-4a6b-ce5d-37f6608b5514"
      },
      "execution_count": 560,
      "outputs": [
        {
          "output_type": "stream",
          "name": "stderr",
          "text": [
            "/usr/local/lib/python3.7/dist-packages/ipykernel_launcher.py:5: SettingWithCopyWarning: \n",
            "A value is trying to be set on a copy of a slice from a DataFrame.\n",
            "Try using .loc[row_indexer,col_indexer] = value instead\n",
            "\n",
            "See the caveats in the documentation: https://pandas.pydata.org/pandas-docs/stable/user_guide/indexing.html#returning-a-view-versus-a-copy\n",
            "  \"\"\"\n"
          ]
        },
        {
          "output_type": "execute_result",
          "data": {
            "text/html": [
              "\n",
              "  <div id=\"df-2a6eb34d-dd6b-4f18-9805-bf9b56f0da57\">\n",
              "    <div class=\"colab-df-container\">\n",
              "      <div>\n",
              "<style scoped>\n",
              "    .dataframe tbody tr th:only-of-type {\n",
              "        vertical-align: middle;\n",
              "    }\n",
              "\n",
              "    .dataframe tbody tr th {\n",
              "        vertical-align: top;\n",
              "    }\n",
              "\n",
              "    .dataframe thead th {\n",
              "        text-align: right;\n",
              "    }\n",
              "</style>\n",
              "<table border=\"1\" class=\"dataframe\">\n",
              "  <thead>\n",
              "    <tr style=\"text-align: right;\">\n",
              "      <th></th>\n",
              "      <th>Item_Identifier</th>\n",
              "      <th>Item_Weight</th>\n",
              "      <th>Item_Fat_Content</th>\n",
              "      <th>Item_Visibility</th>\n",
              "      <th>Item_Type</th>\n",
              "      <th>Item_MRP</th>\n",
              "      <th>Outlet_Identifier</th>\n",
              "      <th>Outlet_Establishment_Year</th>\n",
              "      <th>Outlet_Size</th>\n",
              "      <th>Outlet_Location_Type</th>\n",
              "      <th>Outlet_Type</th>\n",
              "      <th>Item_Outlet_Sales</th>\n",
              "    </tr>\n",
              "  </thead>\n",
              "  <tbody>\n",
              "    <tr>\n",
              "      <th>0</th>\n",
              "      <td>FDA15</td>\n",
              "      <td>9.300</td>\n",
              "      <td>0</td>\n",
              "      <td>0.016047</td>\n",
              "      <td>Dairy</td>\n",
              "      <td>249.8092</td>\n",
              "      <td>OUT049</td>\n",
              "      <td>1999</td>\n",
              "      <td>1</td>\n",
              "      <td>0</td>\n",
              "      <td>1</td>\n",
              "      <td>3735.1380</td>\n",
              "    </tr>\n",
              "    <tr>\n",
              "      <th>1</th>\n",
              "      <td>DRC01</td>\n",
              "      <td>5.920</td>\n",
              "      <td>1</td>\n",
              "      <td>0.019278</td>\n",
              "      <td>Soft Drinks</td>\n",
              "      <td>48.2692</td>\n",
              "      <td>OUT018</td>\n",
              "      <td>2009</td>\n",
              "      <td>1</td>\n",
              "      <td>2</td>\n",
              "      <td>2</td>\n",
              "      <td>443.4228</td>\n",
              "    </tr>\n",
              "    <tr>\n",
              "      <th>2</th>\n",
              "      <td>FDN15</td>\n",
              "      <td>17.500</td>\n",
              "      <td>0</td>\n",
              "      <td>0.016760</td>\n",
              "      <td>Meat</td>\n",
              "      <td>141.6180</td>\n",
              "      <td>OUT049</td>\n",
              "      <td>1999</td>\n",
              "      <td>1</td>\n",
              "      <td>0</td>\n",
              "      <td>1</td>\n",
              "      <td>2097.2700</td>\n",
              "    </tr>\n",
              "    <tr>\n",
              "      <th>4</th>\n",
              "      <td>NCD19</td>\n",
              "      <td>8.930</td>\n",
              "      <td>0</td>\n",
              "      <td>0.000000</td>\n",
              "      <td>Household</td>\n",
              "      <td>53.8614</td>\n",
              "      <td>OUT013</td>\n",
              "      <td>1987</td>\n",
              "      <td>0</td>\n",
              "      <td>2</td>\n",
              "      <td>1</td>\n",
              "      <td>994.7052</td>\n",
              "    </tr>\n",
              "    <tr>\n",
              "      <th>5</th>\n",
              "      <td>FDP36</td>\n",
              "      <td>10.395</td>\n",
              "      <td>1</td>\n",
              "      <td>0.000000</td>\n",
              "      <td>Baking Goods</td>\n",
              "      <td>51.4008</td>\n",
              "      <td>OUT018</td>\n",
              "      <td>2009</td>\n",
              "      <td>1</td>\n",
              "      <td>2</td>\n",
              "      <td>2</td>\n",
              "      <td>556.6088</td>\n",
              "    </tr>\n",
              "  </tbody>\n",
              "</table>\n",
              "</div>\n",
              "      <button class=\"colab-df-convert\" onclick=\"convertToInteractive('df-2a6eb34d-dd6b-4f18-9805-bf9b56f0da57')\"\n",
              "              title=\"Convert this dataframe to an interactive table.\"\n",
              "              style=\"display:none;\">\n",
              "        \n",
              "  <svg xmlns=\"http://www.w3.org/2000/svg\" height=\"24px\"viewBox=\"0 0 24 24\"\n",
              "       width=\"24px\">\n",
              "    <path d=\"M0 0h24v24H0V0z\" fill=\"none\"/>\n",
              "    <path d=\"M18.56 5.44l.94 2.06.94-2.06 2.06-.94-2.06-.94-.94-2.06-.94 2.06-2.06.94zm-11 1L8.5 8.5l.94-2.06 2.06-.94-2.06-.94L8.5 2.5l-.94 2.06-2.06.94zm10 10l.94 2.06.94-2.06 2.06-.94-2.06-.94-.94-2.06-.94 2.06-2.06.94z\"/><path d=\"M17.41 7.96l-1.37-1.37c-.4-.4-.92-.59-1.43-.59-.52 0-1.04.2-1.43.59L10.3 9.45l-7.72 7.72c-.78.78-.78 2.05 0 2.83L4 21.41c.39.39.9.59 1.41.59.51 0 1.02-.2 1.41-.59l7.78-7.78 2.81-2.81c.8-.78.8-2.07 0-2.86zM5.41 20L4 18.59l7.72-7.72 1.47 1.35L5.41 20z\"/>\n",
              "  </svg>\n",
              "      </button>\n",
              "      \n",
              "  <style>\n",
              "    .colab-df-container {\n",
              "      display:flex;\n",
              "      flex-wrap:wrap;\n",
              "      gap: 12px;\n",
              "    }\n",
              "\n",
              "    .colab-df-convert {\n",
              "      background-color: #E8F0FE;\n",
              "      border: none;\n",
              "      border-radius: 50%;\n",
              "      cursor: pointer;\n",
              "      display: none;\n",
              "      fill: #1967D2;\n",
              "      height: 32px;\n",
              "      padding: 0 0 0 0;\n",
              "      width: 32px;\n",
              "    }\n",
              "\n",
              "    .colab-df-convert:hover {\n",
              "      background-color: #E2EBFA;\n",
              "      box-shadow: 0px 1px 2px rgba(60, 64, 67, 0.3), 0px 1px 3px 1px rgba(60, 64, 67, 0.15);\n",
              "      fill: #174EA6;\n",
              "    }\n",
              "\n",
              "    [theme=dark] .colab-df-convert {\n",
              "      background-color: #3B4455;\n",
              "      fill: #D2E3FC;\n",
              "    }\n",
              "\n",
              "    [theme=dark] .colab-df-convert:hover {\n",
              "      background-color: #434B5C;\n",
              "      box-shadow: 0px 1px 3px 1px rgba(0, 0, 0, 0.15);\n",
              "      filter: drop-shadow(0px 1px 2px rgba(0, 0, 0, 0.3));\n",
              "      fill: #FFFFFF;\n",
              "    }\n",
              "  </style>\n",
              "\n",
              "      <script>\n",
              "        const buttonEl =\n",
              "          document.querySelector('#df-2a6eb34d-dd6b-4f18-9805-bf9b56f0da57 button.colab-df-convert');\n",
              "        buttonEl.style.display =\n",
              "          google.colab.kernel.accessAllowed ? 'block' : 'none';\n",
              "\n",
              "        async function convertToInteractive(key) {\n",
              "          const element = document.querySelector('#df-2a6eb34d-dd6b-4f18-9805-bf9b56f0da57');\n",
              "          const dataTable =\n",
              "            await google.colab.kernel.invokeFunction('convertToInteractive',\n",
              "                                                     [key], {});\n",
              "          if (!dataTable) return;\n",
              "\n",
              "          const docLinkHtml = 'Like what you see? Visit the ' +\n",
              "            '<a target=\"_blank\" href=https://colab.research.google.com/notebooks/data_table.ipynb>data table notebook</a>'\n",
              "            + ' to learn more about interactive tables.';\n",
              "          element.innerHTML = '';\n",
              "          dataTable['output_type'] = 'display_data';\n",
              "          await google.colab.output.renderOutput(dataTable, element);\n",
              "          const docLink = document.createElement('div');\n",
              "          docLink.innerHTML = docLinkHtml;\n",
              "          element.appendChild(docLink);\n",
              "        }\n",
              "      </script>\n",
              "    </div>\n",
              "  </div>\n",
              "  "
            ],
            "text/plain": [
              "  Item_Identifier  Item_Weight  ...  Outlet_Type  Item_Outlet_Sales\n",
              "0           FDA15        9.300  ...            1          3735.1380\n",
              "1           DRC01        5.920  ...            2           443.4228\n",
              "2           FDN15       17.500  ...            1          2097.2700\n",
              "4           NCD19        8.930  ...            1           994.7052\n",
              "5           FDP36       10.395  ...            2           556.6088\n",
              "\n",
              "[5 rows x 12 columns]"
            ]
          },
          "metadata": {},
          "execution_count": 560
        }
      ]
    },
    {
      "cell_type": "markdown",
      "source": [
        "Aplicamos one hot Encoder"
      ],
      "metadata": {
        "id": "l6Zv2eQpU4eu"
      }
    },
    {
      "cell_type": "code",
      "source": [
        "outlet_type_ohe = OneHotEncoder()\n",
        "ot_feature_arr = outlet_type_ohe.fit_transform(\n",
        "                              sales_predictions_df_reg2[['Outlet_Type']]).toarray() #nos muestra un arreglo\n",
        "ot_feature_arr   "
      ],
      "metadata": {
        "colab": {
          "base_uri": "https://localhost:8080/"
        },
        "id": "hUuycVJYU0QS",
        "outputId": "09392d3b-3c75-40a4-ea87-11b732ad4c81"
      },
      "execution_count": 561,
      "outputs": [
        {
          "output_type": "execute_result",
          "data": {
            "text/plain": [
              "array([[0., 1., 0., 0.],\n",
              "       [0., 0., 1., 0.],\n",
              "       [0., 1., 0., 0.],\n",
              "       ...,\n",
              "       [0., 1., 0., 0.],\n",
              "       [0., 0., 1., 0.],\n",
              "       [0., 1., 0., 0.]])"
            ]
          },
          "metadata": {},
          "execution_count": 561
        }
      ]
    },
    {
      "cell_type": "code",
      "source": [
        "ot_feature_arr.shape"
      ],
      "metadata": {
        "colab": {
          "base_uri": "https://localhost:8080/"
        },
        "id": "Y5Rg15euU94l",
        "outputId": "d54adaae-b015-4b8c-e4ab-43f36b08ef31"
      },
      "execution_count": 562,
      "outputs": [
        {
          "output_type": "execute_result",
          "data": {
            "text/plain": [
              "(6113, 4)"
            ]
          },
          "metadata": {},
          "execution_count": 562
        }
      ]
    },
    {
      "cell_type": "code",
      "source": [
        "#nombres de las etiquetas\n",
        "ot_feature_labels = np.array(['OT_Grocery Store', 'OT_Supermarket Type1', 'OT_Supermarket Type2',\n",
        "       'OT_Supermarket Type3'])\n"
      ],
      "metadata": {
        "id": "Y0neldGxVAxf"
      },
      "execution_count": 563,
      "outputs": []
    },
    {
      "cell_type": "code",
      "source": [
        "ot_features = pd.DataFrame(ot_feature_arr, \n",
        "                            columns=ot_feature_labels)\n",
        "ot_features #nos muestra un nuevo df para que se puede concatenar al df original\n",
        "ot_features.head() #finalmente tenemos la df que proximamente concatenaremos #############"
      ],
      "metadata": {
        "colab": {
          "base_uri": "https://localhost:8080/",
          "height": 206
        },
        "id": "7bLH6I04VEcA",
        "outputId": "b8621ce9-627c-4854-d5ed-7747d80c332e"
      },
      "execution_count": 564,
      "outputs": [
        {
          "output_type": "execute_result",
          "data": {
            "text/html": [
              "\n",
              "  <div id=\"df-696c8196-2dfa-4b2e-8b69-5541b5e65817\">\n",
              "    <div class=\"colab-df-container\">\n",
              "      <div>\n",
              "<style scoped>\n",
              "    .dataframe tbody tr th:only-of-type {\n",
              "        vertical-align: middle;\n",
              "    }\n",
              "\n",
              "    .dataframe tbody tr th {\n",
              "        vertical-align: top;\n",
              "    }\n",
              "\n",
              "    .dataframe thead th {\n",
              "        text-align: right;\n",
              "    }\n",
              "</style>\n",
              "<table border=\"1\" class=\"dataframe\">\n",
              "  <thead>\n",
              "    <tr style=\"text-align: right;\">\n",
              "      <th></th>\n",
              "      <th>OT_Grocery Store</th>\n",
              "      <th>OT_Supermarket Type1</th>\n",
              "      <th>OT_Supermarket Type2</th>\n",
              "      <th>OT_Supermarket Type3</th>\n",
              "    </tr>\n",
              "  </thead>\n",
              "  <tbody>\n",
              "    <tr>\n",
              "      <th>0</th>\n",
              "      <td>0.0</td>\n",
              "      <td>1.0</td>\n",
              "      <td>0.0</td>\n",
              "      <td>0.0</td>\n",
              "    </tr>\n",
              "    <tr>\n",
              "      <th>1</th>\n",
              "      <td>0.0</td>\n",
              "      <td>0.0</td>\n",
              "      <td>1.0</td>\n",
              "      <td>0.0</td>\n",
              "    </tr>\n",
              "    <tr>\n",
              "      <th>2</th>\n",
              "      <td>0.0</td>\n",
              "      <td>1.0</td>\n",
              "      <td>0.0</td>\n",
              "      <td>0.0</td>\n",
              "    </tr>\n",
              "    <tr>\n",
              "      <th>3</th>\n",
              "      <td>0.0</td>\n",
              "      <td>1.0</td>\n",
              "      <td>0.0</td>\n",
              "      <td>0.0</td>\n",
              "    </tr>\n",
              "    <tr>\n",
              "      <th>4</th>\n",
              "      <td>0.0</td>\n",
              "      <td>0.0</td>\n",
              "      <td>1.0</td>\n",
              "      <td>0.0</td>\n",
              "    </tr>\n",
              "  </tbody>\n",
              "</table>\n",
              "</div>\n",
              "      <button class=\"colab-df-convert\" onclick=\"convertToInteractive('df-696c8196-2dfa-4b2e-8b69-5541b5e65817')\"\n",
              "              title=\"Convert this dataframe to an interactive table.\"\n",
              "              style=\"display:none;\">\n",
              "        \n",
              "  <svg xmlns=\"http://www.w3.org/2000/svg\" height=\"24px\"viewBox=\"0 0 24 24\"\n",
              "       width=\"24px\">\n",
              "    <path d=\"M0 0h24v24H0V0z\" fill=\"none\"/>\n",
              "    <path d=\"M18.56 5.44l.94 2.06.94-2.06 2.06-.94-2.06-.94-.94-2.06-.94 2.06-2.06.94zm-11 1L8.5 8.5l.94-2.06 2.06-.94-2.06-.94L8.5 2.5l-.94 2.06-2.06.94zm10 10l.94 2.06.94-2.06 2.06-.94-2.06-.94-.94-2.06-.94 2.06-2.06.94z\"/><path d=\"M17.41 7.96l-1.37-1.37c-.4-.4-.92-.59-1.43-.59-.52 0-1.04.2-1.43.59L10.3 9.45l-7.72 7.72c-.78.78-.78 2.05 0 2.83L4 21.41c.39.39.9.59 1.41.59.51 0 1.02-.2 1.41-.59l7.78-7.78 2.81-2.81c.8-.78.8-2.07 0-2.86zM5.41 20L4 18.59l7.72-7.72 1.47 1.35L5.41 20z\"/>\n",
              "  </svg>\n",
              "      </button>\n",
              "      \n",
              "  <style>\n",
              "    .colab-df-container {\n",
              "      display:flex;\n",
              "      flex-wrap:wrap;\n",
              "      gap: 12px;\n",
              "    }\n",
              "\n",
              "    .colab-df-convert {\n",
              "      background-color: #E8F0FE;\n",
              "      border: none;\n",
              "      border-radius: 50%;\n",
              "      cursor: pointer;\n",
              "      display: none;\n",
              "      fill: #1967D2;\n",
              "      height: 32px;\n",
              "      padding: 0 0 0 0;\n",
              "      width: 32px;\n",
              "    }\n",
              "\n",
              "    .colab-df-convert:hover {\n",
              "      background-color: #E2EBFA;\n",
              "      box-shadow: 0px 1px 2px rgba(60, 64, 67, 0.3), 0px 1px 3px 1px rgba(60, 64, 67, 0.15);\n",
              "      fill: #174EA6;\n",
              "    }\n",
              "\n",
              "    [theme=dark] .colab-df-convert {\n",
              "      background-color: #3B4455;\n",
              "      fill: #D2E3FC;\n",
              "    }\n",
              "\n",
              "    [theme=dark] .colab-df-convert:hover {\n",
              "      background-color: #434B5C;\n",
              "      box-shadow: 0px 1px 3px 1px rgba(0, 0, 0, 0.15);\n",
              "      filter: drop-shadow(0px 1px 2px rgba(0, 0, 0, 0.3));\n",
              "      fill: #FFFFFF;\n",
              "    }\n",
              "  </style>\n",
              "\n",
              "      <script>\n",
              "        const buttonEl =\n",
              "          document.querySelector('#df-696c8196-2dfa-4b2e-8b69-5541b5e65817 button.colab-df-convert');\n",
              "        buttonEl.style.display =\n",
              "          google.colab.kernel.accessAllowed ? 'block' : 'none';\n",
              "\n",
              "        async function convertToInteractive(key) {\n",
              "          const element = document.querySelector('#df-696c8196-2dfa-4b2e-8b69-5541b5e65817');\n",
              "          const dataTable =\n",
              "            await google.colab.kernel.invokeFunction('convertToInteractive',\n",
              "                                                     [key], {});\n",
              "          if (!dataTable) return;\n",
              "\n",
              "          const docLinkHtml = 'Like what you see? Visit the ' +\n",
              "            '<a target=\"_blank\" href=https://colab.research.google.com/notebooks/data_table.ipynb>data table notebook</a>'\n",
              "            + ' to learn more about interactive tables.';\n",
              "          element.innerHTML = '';\n",
              "          dataTable['output_type'] = 'display_data';\n",
              "          await google.colab.output.renderOutput(dataTable, element);\n",
              "          const docLink = document.createElement('div');\n",
              "          docLink.innerHTML = docLinkHtml;\n",
              "          element.appendChild(docLink);\n",
              "        }\n",
              "      </script>\n",
              "    </div>\n",
              "  </div>\n",
              "  "
            ],
            "text/plain": [
              "   OT_Grocery Store  ...  OT_Supermarket Type3\n",
              "0               0.0  ...                   0.0\n",
              "1               0.0  ...                   0.0\n",
              "2               0.0  ...                   0.0\n",
              "3               0.0  ...                   0.0\n",
              "4               0.0  ...                   0.0\n",
              "\n",
              "[5 rows x 4 columns]"
            ]
          },
          "metadata": {},
          "execution_count": 564
        }
      ]
    },
    {
      "cell_type": "code",
      "source": [
        "ot_features.shape #la dimension del df si coincide con el df original"
      ],
      "metadata": {
        "colab": {
          "base_uri": "https://localhost:8080/"
        },
        "id": "XsIaCKuBtGVr",
        "outputId": "93a2598a-a9b9-4882-94a4-4a13c0df3e89"
      },
      "execution_count": 663,
      "outputs": [
        {
          "output_type": "execute_result",
          "data": {
            "text/plain": [
              "(6113, 4)"
            ]
          },
          "metadata": {},
          "execution_count": 663
        }
      ]
    },
    {
      "cell_type": "markdown",
      "source": [
        "Listo, ya tenemos nuestras df con las variables a numéricas para implementarlas en el algoritmo"
      ],
      "metadata": {
        "id": "yfkQwsceXMSJ"
      }
    },
    {
      "cell_type": "markdown",
      "source": [
        "Códigos inspirados de: https://towardsdatascience.com/understanding-feature-engineering-part-2-categorical-data-f54324193e63"
      ],
      "metadata": {
        "id": "m4UPedgEv0A6"
      }
    },
    {
      "cell_type": "markdown",
      "source": [
        "## Modelo para regresión lineal"
      ],
      "metadata": {
        "id": "gYTWI7mdYxaR"
      }
    },
    {
      "cell_type": "code",
      "source": [
        "#Primero concatenaremos para tener la df con todos los variables númericas (dummies)\n",
        "sales_predictions_df_reg2 = pd.concat([if_features,it_features,os_features,ol_features,ot_features], axis=1)\n",
        "sales_predictions_df_reg2.head()\n"
      ],
      "metadata": {
        "colab": {
          "base_uri": "https://localhost:8080/",
          "height": 305
        },
        "id": "G-qAZM35WVul",
        "outputId": "08c19981-86cf-44df-f61b-221f51203872"
      },
      "execution_count": 574,
      "outputs": [
        {
          "output_type": "execute_result",
          "data": {
            "text/html": [
              "\n",
              "  <div id=\"df-39b6ad48-4fb5-41a9-849d-5d0fa369e52d\">\n",
              "    <div class=\"colab-df-container\">\n",
              "      <div>\n",
              "<style scoped>\n",
              "    .dataframe tbody tr th:only-of-type {\n",
              "        vertical-align: middle;\n",
              "    }\n",
              "\n",
              "    .dataframe tbody tr th {\n",
              "        vertical-align: top;\n",
              "    }\n",
              "\n",
              "    .dataframe thead th {\n",
              "        text-align: right;\n",
              "    }\n",
              "</style>\n",
              "<table border=\"1\" class=\"dataframe\">\n",
              "  <thead>\n",
              "    <tr style=\"text-align: right;\">\n",
              "      <th></th>\n",
              "      <th>IFC_Low_Fat</th>\n",
              "      <th>IFC_Regular</th>\n",
              "      <th>IT_Dairy</th>\n",
              "      <th>IT_Soft Drinks</th>\n",
              "      <th>IT_Meat</th>\n",
              "      <th>IT_Household</th>\n",
              "      <th>IT_Baking Goods</th>\n",
              "      <th>IT_Snack Foods</th>\n",
              "      <th>IT_Fruits and Vegetables</th>\n",
              "      <th>IT_Breakfast</th>\n",
              "      <th>IT_Health and Hygiene</th>\n",
              "      <th>IT_Hard Drinks</th>\n",
              "      <th>IT_Frozen Foods</th>\n",
              "      <th>IT_Canned</th>\n",
              "      <th>IT_Starchy Foods</th>\n",
              "      <th>IT_Breads</th>\n",
              "      <th>IT_Others</th>\n",
              "      <th>IT_Seafood</th>\n",
              "      <th>OS_High</th>\n",
              "      <th>OS_Medium</th>\n",
              "      <th>OS_Small</th>\n",
              "      <th>OL_Tier 1</th>\n",
              "      <th>OL_Tier 2</th>\n",
              "      <th>OL_Tier 3</th>\n",
              "      <th>OT_Grocery Store</th>\n",
              "      <th>OT_Supermarket Type1</th>\n",
              "      <th>OT_Supermarket Type2</th>\n",
              "      <th>OT_Supermarket Type3</th>\n",
              "    </tr>\n",
              "  </thead>\n",
              "  <tbody>\n",
              "    <tr>\n",
              "      <th>0</th>\n",
              "      <td>1.0</td>\n",
              "      <td>0.0</td>\n",
              "      <td>0.0</td>\n",
              "      <td>1.0</td>\n",
              "      <td>1.0</td>\n",
              "      <td>0.0</td>\n",
              "      <td>0.0</td>\n",
              "      <td>-1.0</td>\n",
              "      <td>2.0</td>\n",
              "      <td>0.0</td>\n",
              "      <td>0.0</td>\n",
              "      <td>0.0</td>\n",
              "      <td>0.0</td>\n",
              "      <td>0.0</td>\n",
              "      <td>0.0</td>\n",
              "      <td>0.0</td>\n",
              "      <td>0.0</td>\n",
              "      <td>0.0</td>\n",
              "      <td>0.0</td>\n",
              "      <td>1.0</td>\n",
              "      <td>0.0</td>\n",
              "      <td>1.0</td>\n",
              "      <td>0.0</td>\n",
              "      <td>0.0</td>\n",
              "      <td>0.0</td>\n",
              "      <td>1.0</td>\n",
              "      <td>0.0</td>\n",
              "      <td>0.0</td>\n",
              "    </tr>\n",
              "    <tr>\n",
              "      <th>1</th>\n",
              "      <td>0.0</td>\n",
              "      <td>1.0</td>\n",
              "      <td>0.0</td>\n",
              "      <td>1.0</td>\n",
              "      <td>0.0</td>\n",
              "      <td>0.0</td>\n",
              "      <td>-1.0</td>\n",
              "      <td>-1.0</td>\n",
              "      <td>1.0</td>\n",
              "      <td>0.0</td>\n",
              "      <td>1.0</td>\n",
              "      <td>0.0</td>\n",
              "      <td>0.0</td>\n",
              "      <td>1.0</td>\n",
              "      <td>-1.0</td>\n",
              "      <td>0.0</td>\n",
              "      <td>0.0</td>\n",
              "      <td>-2.0</td>\n",
              "      <td>0.0</td>\n",
              "      <td>1.0</td>\n",
              "      <td>0.0</td>\n",
              "      <td>0.0</td>\n",
              "      <td>0.0</td>\n",
              "      <td>1.0</td>\n",
              "      <td>0.0</td>\n",
              "      <td>0.0</td>\n",
              "      <td>1.0</td>\n",
              "      <td>0.0</td>\n",
              "    </tr>\n",
              "    <tr>\n",
              "      <th>2</th>\n",
              "      <td>1.0</td>\n",
              "      <td>0.0</td>\n",
              "      <td>0.0</td>\n",
              "      <td>0.0</td>\n",
              "      <td>1.0</td>\n",
              "      <td>-1.0</td>\n",
              "      <td>0.0</td>\n",
              "      <td>0.0</td>\n",
              "      <td>0.0</td>\n",
              "      <td>1.0</td>\n",
              "      <td>0.0</td>\n",
              "      <td>0.0</td>\n",
              "      <td>1.0</td>\n",
              "      <td>0.0</td>\n",
              "      <td>0.0</td>\n",
              "      <td>0.0</td>\n",
              "      <td>0.0</td>\n",
              "      <td>0.0</td>\n",
              "      <td>0.0</td>\n",
              "      <td>1.0</td>\n",
              "      <td>0.0</td>\n",
              "      <td>1.0</td>\n",
              "      <td>0.0</td>\n",
              "      <td>0.0</td>\n",
              "      <td>0.0</td>\n",
              "      <td>1.0</td>\n",
              "      <td>0.0</td>\n",
              "      <td>0.0</td>\n",
              "    </tr>\n",
              "    <tr>\n",
              "      <th>3</th>\n",
              "      <td>1.0</td>\n",
              "      <td>0.0</td>\n",
              "      <td>1.0</td>\n",
              "      <td>0.0</td>\n",
              "      <td>0.0</td>\n",
              "      <td>3.0</td>\n",
              "      <td>0.0</td>\n",
              "      <td>0.0</td>\n",
              "      <td>0.0</td>\n",
              "      <td>1.0</td>\n",
              "      <td>0.0</td>\n",
              "      <td>1.0</td>\n",
              "      <td>0.0</td>\n",
              "      <td>0.0</td>\n",
              "      <td>1.0</td>\n",
              "      <td>-1.0</td>\n",
              "      <td>0.0</td>\n",
              "      <td>-1.0</td>\n",
              "      <td>1.0</td>\n",
              "      <td>0.0</td>\n",
              "      <td>0.0</td>\n",
              "      <td>0.0</td>\n",
              "      <td>0.0</td>\n",
              "      <td>1.0</td>\n",
              "      <td>0.0</td>\n",
              "      <td>1.0</td>\n",
              "      <td>0.0</td>\n",
              "      <td>0.0</td>\n",
              "    </tr>\n",
              "    <tr>\n",
              "      <th>4</th>\n",
              "      <td>0.0</td>\n",
              "      <td>1.0</td>\n",
              "      <td>0.0</td>\n",
              "      <td>0.0</td>\n",
              "      <td>1.0</td>\n",
              "      <td>3.0</td>\n",
              "      <td>-1.0</td>\n",
              "      <td>-1.0</td>\n",
              "      <td>-1.0</td>\n",
              "      <td>0.0</td>\n",
              "      <td>1.0</td>\n",
              "      <td>1.0</td>\n",
              "      <td>-1.0</td>\n",
              "      <td>0.0</td>\n",
              "      <td>0.0</td>\n",
              "      <td>0.0</td>\n",
              "      <td>0.0</td>\n",
              "      <td>-2.0</td>\n",
              "      <td>0.0</td>\n",
              "      <td>1.0</td>\n",
              "      <td>0.0</td>\n",
              "      <td>0.0</td>\n",
              "      <td>0.0</td>\n",
              "      <td>1.0</td>\n",
              "      <td>0.0</td>\n",
              "      <td>0.0</td>\n",
              "      <td>1.0</td>\n",
              "      <td>0.0</td>\n",
              "    </tr>\n",
              "  </tbody>\n",
              "</table>\n",
              "</div>\n",
              "      <button class=\"colab-df-convert\" onclick=\"convertToInteractive('df-39b6ad48-4fb5-41a9-849d-5d0fa369e52d')\"\n",
              "              title=\"Convert this dataframe to an interactive table.\"\n",
              "              style=\"display:none;\">\n",
              "        \n",
              "  <svg xmlns=\"http://www.w3.org/2000/svg\" height=\"24px\"viewBox=\"0 0 24 24\"\n",
              "       width=\"24px\">\n",
              "    <path d=\"M0 0h24v24H0V0z\" fill=\"none\"/>\n",
              "    <path d=\"M18.56 5.44l.94 2.06.94-2.06 2.06-.94-2.06-.94-.94-2.06-.94 2.06-2.06.94zm-11 1L8.5 8.5l.94-2.06 2.06-.94-2.06-.94L8.5 2.5l-.94 2.06-2.06.94zm10 10l.94 2.06.94-2.06 2.06-.94-2.06-.94-.94-2.06-.94 2.06-2.06.94z\"/><path d=\"M17.41 7.96l-1.37-1.37c-.4-.4-.92-.59-1.43-.59-.52 0-1.04.2-1.43.59L10.3 9.45l-7.72 7.72c-.78.78-.78 2.05 0 2.83L4 21.41c.39.39.9.59 1.41.59.51 0 1.02-.2 1.41-.59l7.78-7.78 2.81-2.81c.8-.78.8-2.07 0-2.86zM5.41 20L4 18.59l7.72-7.72 1.47 1.35L5.41 20z\"/>\n",
              "  </svg>\n",
              "      </button>\n",
              "      \n",
              "  <style>\n",
              "    .colab-df-container {\n",
              "      display:flex;\n",
              "      flex-wrap:wrap;\n",
              "      gap: 12px;\n",
              "    }\n",
              "\n",
              "    .colab-df-convert {\n",
              "      background-color: #E8F0FE;\n",
              "      border: none;\n",
              "      border-radius: 50%;\n",
              "      cursor: pointer;\n",
              "      display: none;\n",
              "      fill: #1967D2;\n",
              "      height: 32px;\n",
              "      padding: 0 0 0 0;\n",
              "      width: 32px;\n",
              "    }\n",
              "\n",
              "    .colab-df-convert:hover {\n",
              "      background-color: #E2EBFA;\n",
              "      box-shadow: 0px 1px 2px rgba(60, 64, 67, 0.3), 0px 1px 3px 1px rgba(60, 64, 67, 0.15);\n",
              "      fill: #174EA6;\n",
              "    }\n",
              "\n",
              "    [theme=dark] .colab-df-convert {\n",
              "      background-color: #3B4455;\n",
              "      fill: #D2E3FC;\n",
              "    }\n",
              "\n",
              "    [theme=dark] .colab-df-convert:hover {\n",
              "      background-color: #434B5C;\n",
              "      box-shadow: 0px 1px 3px 1px rgba(0, 0, 0, 0.15);\n",
              "      filter: drop-shadow(0px 1px 2px rgba(0, 0, 0, 0.3));\n",
              "      fill: #FFFFFF;\n",
              "    }\n",
              "  </style>\n",
              "\n",
              "      <script>\n",
              "        const buttonEl =\n",
              "          document.querySelector('#df-39b6ad48-4fb5-41a9-849d-5d0fa369e52d button.colab-df-convert');\n",
              "        buttonEl.style.display =\n",
              "          google.colab.kernel.accessAllowed ? 'block' : 'none';\n",
              "\n",
              "        async function convertToInteractive(key) {\n",
              "          const element = document.querySelector('#df-39b6ad48-4fb5-41a9-849d-5d0fa369e52d');\n",
              "          const dataTable =\n",
              "            await google.colab.kernel.invokeFunction('convertToInteractive',\n",
              "                                                     [key], {});\n",
              "          if (!dataTable) return;\n",
              "\n",
              "          const docLinkHtml = 'Like what you see? Visit the ' +\n",
              "            '<a target=\"_blank\" href=https://colab.research.google.com/notebooks/data_table.ipynb>data table notebook</a>'\n",
              "            + ' to learn more about interactive tables.';\n",
              "          element.innerHTML = '';\n",
              "          dataTable['output_type'] = 'display_data';\n",
              "          await google.colab.output.renderOutput(dataTable, element);\n",
              "          const docLink = document.createElement('div');\n",
              "          docLink.innerHTML = docLinkHtml;\n",
              "          element.appendChild(docLink);\n",
              "        }\n",
              "      </script>\n",
              "    </div>\n",
              "  </div>\n",
              "  "
            ],
            "text/plain": [
              "   IFC_Low_Fat  IFC_Regular  ...  OT_Supermarket Type2  OT_Supermarket Type3\n",
              "0          1.0          0.0  ...                   0.0                   0.0\n",
              "1          0.0          1.0  ...                   1.0                   0.0\n",
              "2          1.0          0.0  ...                   0.0                   0.0\n",
              "3          1.0          0.0  ...                   0.0                   0.0\n",
              "4          0.0          1.0  ...                   1.0                   0.0\n",
              "\n",
              "[5 rows x 28 columns]"
            ]
          },
          "metadata": {},
          "execution_count": 574
        }
      ]
    },
    {
      "cell_type": "code",
      "source": [
        "#ahora uniremos toda nuestra df \n",
        "sales_predictions_df_reg3 = sales_predictions_df_reg #creamos una nueva df pra aplicar los cambios\n",
        "sales_predictions_df_reg3.head()"
      ],
      "metadata": {
        "colab": {
          "base_uri": "https://localhost:8080/",
          "height": 250
        },
        "id": "rfwrBUq-Z3GS",
        "outputId": "f25d3a80-5983-4afb-aa39-f83d11d3af61"
      },
      "execution_count": 666,
      "outputs": [
        {
          "output_type": "execute_result",
          "data": {
            "text/html": [
              "\n",
              "  <div id=\"df-46a46064-2df0-4546-a5db-83791c812d98\">\n",
              "    <div class=\"colab-df-container\">\n",
              "      <div>\n",
              "<style scoped>\n",
              "    .dataframe tbody tr th:only-of-type {\n",
              "        vertical-align: middle;\n",
              "    }\n",
              "\n",
              "    .dataframe tbody tr th {\n",
              "        vertical-align: top;\n",
              "    }\n",
              "\n",
              "    .dataframe thead th {\n",
              "        text-align: right;\n",
              "    }\n",
              "</style>\n",
              "<table border=\"1\" class=\"dataframe\">\n",
              "  <thead>\n",
              "    <tr style=\"text-align: right;\">\n",
              "      <th></th>\n",
              "      <th>Item_Identifier</th>\n",
              "      <th>Item_Weight</th>\n",
              "      <th>Item_Fat_Content</th>\n",
              "      <th>Item_Visibility</th>\n",
              "      <th>Item_Type</th>\n",
              "      <th>Item_MRP</th>\n",
              "      <th>Outlet_Identifier</th>\n",
              "      <th>Outlet_Establishment_Year</th>\n",
              "      <th>Outlet_Size</th>\n",
              "      <th>Outlet_Location_Type</th>\n",
              "      <th>Outlet_Type</th>\n",
              "      <th>Item_Outlet_Sales</th>\n",
              "      <th>Lugares</th>\n",
              "    </tr>\n",
              "  </thead>\n",
              "  <tbody>\n",
              "    <tr>\n",
              "      <th>0</th>\n",
              "      <td>FDA15</td>\n",
              "      <td>9.300</td>\n",
              "      <td>0</td>\n",
              "      <td>0.016047</td>\n",
              "      <td>Dairy</td>\n",
              "      <td>249.8092</td>\n",
              "      <td>OUT049</td>\n",
              "      <td>1999</td>\n",
              "      <td>1</td>\n",
              "      <td>0</td>\n",
              "      <td>1</td>\n",
              "      <td>3735.1380</td>\n",
              "      <td>0</td>\n",
              "    </tr>\n",
              "    <tr>\n",
              "      <th>1</th>\n",
              "      <td>DRC01</td>\n",
              "      <td>5.920</td>\n",
              "      <td>1</td>\n",
              "      <td>0.019278</td>\n",
              "      <td>Soft Drinks</td>\n",
              "      <td>48.2692</td>\n",
              "      <td>OUT018</td>\n",
              "      <td>2009</td>\n",
              "      <td>1</td>\n",
              "      <td>2</td>\n",
              "      <td>2</td>\n",
              "      <td>443.4228</td>\n",
              "      <td>1</td>\n",
              "    </tr>\n",
              "    <tr>\n",
              "      <th>2</th>\n",
              "      <td>FDN15</td>\n",
              "      <td>17.500</td>\n",
              "      <td>0</td>\n",
              "      <td>0.016760</td>\n",
              "      <td>Meat</td>\n",
              "      <td>141.6180</td>\n",
              "      <td>OUT049</td>\n",
              "      <td>1999</td>\n",
              "      <td>1</td>\n",
              "      <td>0</td>\n",
              "      <td>1</td>\n",
              "      <td>2097.2700</td>\n",
              "      <td>2</td>\n",
              "    </tr>\n",
              "    <tr>\n",
              "      <th>3</th>\n",
              "      <td>NCD19</td>\n",
              "      <td>8.930</td>\n",
              "      <td>0</td>\n",
              "      <td>0.000000</td>\n",
              "      <td>Household</td>\n",
              "      <td>53.8614</td>\n",
              "      <td>OUT013</td>\n",
              "      <td>1987</td>\n",
              "      <td>0</td>\n",
              "      <td>2</td>\n",
              "      <td>1</td>\n",
              "      <td>994.7052</td>\n",
              "      <td>3</td>\n",
              "    </tr>\n",
              "    <tr>\n",
              "      <th>4</th>\n",
              "      <td>FDP36</td>\n",
              "      <td>10.395</td>\n",
              "      <td>1</td>\n",
              "      <td>0.000000</td>\n",
              "      <td>Baking Goods</td>\n",
              "      <td>51.4008</td>\n",
              "      <td>OUT018</td>\n",
              "      <td>2009</td>\n",
              "      <td>1</td>\n",
              "      <td>2</td>\n",
              "      <td>2</td>\n",
              "      <td>556.6088</td>\n",
              "      <td>4</td>\n",
              "    </tr>\n",
              "  </tbody>\n",
              "</table>\n",
              "</div>\n",
              "      <button class=\"colab-df-convert\" onclick=\"convertToInteractive('df-46a46064-2df0-4546-a5db-83791c812d98')\"\n",
              "              title=\"Convert this dataframe to an interactive table.\"\n",
              "              style=\"display:none;\">\n",
              "        \n",
              "  <svg xmlns=\"http://www.w3.org/2000/svg\" height=\"24px\"viewBox=\"0 0 24 24\"\n",
              "       width=\"24px\">\n",
              "    <path d=\"M0 0h24v24H0V0z\" fill=\"none\"/>\n",
              "    <path d=\"M18.56 5.44l.94 2.06.94-2.06 2.06-.94-2.06-.94-.94-2.06-.94 2.06-2.06.94zm-11 1L8.5 8.5l.94-2.06 2.06-.94-2.06-.94L8.5 2.5l-.94 2.06-2.06.94zm10 10l.94 2.06.94-2.06 2.06-.94-2.06-.94-.94-2.06-.94 2.06-2.06.94z\"/><path d=\"M17.41 7.96l-1.37-1.37c-.4-.4-.92-.59-1.43-.59-.52 0-1.04.2-1.43.59L10.3 9.45l-7.72 7.72c-.78.78-.78 2.05 0 2.83L4 21.41c.39.39.9.59 1.41.59.51 0 1.02-.2 1.41-.59l7.78-7.78 2.81-2.81c.8-.78.8-2.07 0-2.86zM5.41 20L4 18.59l7.72-7.72 1.47 1.35L5.41 20z\"/>\n",
              "  </svg>\n",
              "      </button>\n",
              "      \n",
              "  <style>\n",
              "    .colab-df-container {\n",
              "      display:flex;\n",
              "      flex-wrap:wrap;\n",
              "      gap: 12px;\n",
              "    }\n",
              "\n",
              "    .colab-df-convert {\n",
              "      background-color: #E8F0FE;\n",
              "      border: none;\n",
              "      border-radius: 50%;\n",
              "      cursor: pointer;\n",
              "      display: none;\n",
              "      fill: #1967D2;\n",
              "      height: 32px;\n",
              "      padding: 0 0 0 0;\n",
              "      width: 32px;\n",
              "    }\n",
              "\n",
              "    .colab-df-convert:hover {\n",
              "      background-color: #E2EBFA;\n",
              "      box-shadow: 0px 1px 2px rgba(60, 64, 67, 0.3), 0px 1px 3px 1px rgba(60, 64, 67, 0.15);\n",
              "      fill: #174EA6;\n",
              "    }\n",
              "\n",
              "    [theme=dark] .colab-df-convert {\n",
              "      background-color: #3B4455;\n",
              "      fill: #D2E3FC;\n",
              "    }\n",
              "\n",
              "    [theme=dark] .colab-df-convert:hover {\n",
              "      background-color: #434B5C;\n",
              "      box-shadow: 0px 1px 3px 1px rgba(0, 0, 0, 0.15);\n",
              "      filter: drop-shadow(0px 1px 2px rgba(0, 0, 0, 0.3));\n",
              "      fill: #FFFFFF;\n",
              "    }\n",
              "  </style>\n",
              "\n",
              "      <script>\n",
              "        const buttonEl =\n",
              "          document.querySelector('#df-46a46064-2df0-4546-a5db-83791c812d98 button.colab-df-convert');\n",
              "        buttonEl.style.display =\n",
              "          google.colab.kernel.accessAllowed ? 'block' : 'none';\n",
              "\n",
              "        async function convertToInteractive(key) {\n",
              "          const element = document.querySelector('#df-46a46064-2df0-4546-a5db-83791c812d98');\n",
              "          const dataTable =\n",
              "            await google.colab.kernel.invokeFunction('convertToInteractive',\n",
              "                                                     [key], {});\n",
              "          if (!dataTable) return;\n",
              "\n",
              "          const docLinkHtml = 'Like what you see? Visit the ' +\n",
              "            '<a target=\"_blank\" href=https://colab.research.google.com/notebooks/data_table.ipynb>data table notebook</a>'\n",
              "            + ' to learn more about interactive tables.';\n",
              "          element.innerHTML = '';\n",
              "          dataTable['output_type'] = 'display_data';\n",
              "          await google.colab.output.renderOutput(dataTable, element);\n",
              "          const docLink = document.createElement('div');\n",
              "          docLink.innerHTML = docLinkHtml;\n",
              "          element.appendChild(docLink);\n",
              "        }\n",
              "      </script>\n",
              "    </div>\n",
              "  </div>\n",
              "  "
            ],
            "text/plain": [
              "  Item_Identifier  Item_Weight  ...  Item_Outlet_Sales  Lugares\n",
              "0           FDA15        9.300  ...          3735.1380        0\n",
              "1           DRC01        5.920  ...           443.4228        1\n",
              "2           FDN15       17.500  ...          2097.2700        2\n",
              "3           NCD19        8.930  ...           994.7052        3\n",
              "4           FDP36       10.395  ...           556.6088        4\n",
              "\n",
              "[5 rows x 13 columns]"
            ]
          },
          "metadata": {},
          "execution_count": 666
        }
      ]
    },
    {
      "cell_type": "code",
      "source": [
        "lst = list(range(0,6112+1)) #este será el nuevo indice para concatenar nuestros\n",
        "                            #dfs para que al usar la función 'merge' se puedan concatenar"
      ],
      "metadata": {
        "id": "bEXklDtvf8XO"
      },
      "execution_count": 667,
      "outputs": []
    },
    {
      "cell_type": "code",
      "source": [
        "sales_predictions_df_reg3.index = lst\n",
        "sales_predictions_df_reg3.head() #cambiamos los índices del df"
      ],
      "metadata": {
        "colab": {
          "base_uri": "https://localhost:8080/",
          "height": 250
        },
        "id": "0xZ2jlP4hWdg",
        "outputId": "cc1d9c93-e5ab-4cb6-eae6-fe0f79eeccd7"
      },
      "execution_count": 668,
      "outputs": [
        {
          "output_type": "execute_result",
          "data": {
            "text/html": [
              "\n",
              "  <div id=\"df-fcc86643-062b-48b8-8f24-a0f83e8a4b76\">\n",
              "    <div class=\"colab-df-container\">\n",
              "      <div>\n",
              "<style scoped>\n",
              "    .dataframe tbody tr th:only-of-type {\n",
              "        vertical-align: middle;\n",
              "    }\n",
              "\n",
              "    .dataframe tbody tr th {\n",
              "        vertical-align: top;\n",
              "    }\n",
              "\n",
              "    .dataframe thead th {\n",
              "        text-align: right;\n",
              "    }\n",
              "</style>\n",
              "<table border=\"1\" class=\"dataframe\">\n",
              "  <thead>\n",
              "    <tr style=\"text-align: right;\">\n",
              "      <th></th>\n",
              "      <th>Item_Identifier</th>\n",
              "      <th>Item_Weight</th>\n",
              "      <th>Item_Fat_Content</th>\n",
              "      <th>Item_Visibility</th>\n",
              "      <th>Item_Type</th>\n",
              "      <th>Item_MRP</th>\n",
              "      <th>Outlet_Identifier</th>\n",
              "      <th>Outlet_Establishment_Year</th>\n",
              "      <th>Outlet_Size</th>\n",
              "      <th>Outlet_Location_Type</th>\n",
              "      <th>Outlet_Type</th>\n",
              "      <th>Item_Outlet_Sales</th>\n",
              "      <th>Lugares</th>\n",
              "    </tr>\n",
              "  </thead>\n",
              "  <tbody>\n",
              "    <tr>\n",
              "      <th>0</th>\n",
              "      <td>FDA15</td>\n",
              "      <td>9.300</td>\n",
              "      <td>0</td>\n",
              "      <td>0.016047</td>\n",
              "      <td>Dairy</td>\n",
              "      <td>249.8092</td>\n",
              "      <td>OUT049</td>\n",
              "      <td>1999</td>\n",
              "      <td>1</td>\n",
              "      <td>0</td>\n",
              "      <td>1</td>\n",
              "      <td>3735.1380</td>\n",
              "      <td>0</td>\n",
              "    </tr>\n",
              "    <tr>\n",
              "      <th>1</th>\n",
              "      <td>DRC01</td>\n",
              "      <td>5.920</td>\n",
              "      <td>1</td>\n",
              "      <td>0.019278</td>\n",
              "      <td>Soft Drinks</td>\n",
              "      <td>48.2692</td>\n",
              "      <td>OUT018</td>\n",
              "      <td>2009</td>\n",
              "      <td>1</td>\n",
              "      <td>2</td>\n",
              "      <td>2</td>\n",
              "      <td>443.4228</td>\n",
              "      <td>1</td>\n",
              "    </tr>\n",
              "    <tr>\n",
              "      <th>2</th>\n",
              "      <td>FDN15</td>\n",
              "      <td>17.500</td>\n",
              "      <td>0</td>\n",
              "      <td>0.016760</td>\n",
              "      <td>Meat</td>\n",
              "      <td>141.6180</td>\n",
              "      <td>OUT049</td>\n",
              "      <td>1999</td>\n",
              "      <td>1</td>\n",
              "      <td>0</td>\n",
              "      <td>1</td>\n",
              "      <td>2097.2700</td>\n",
              "      <td>2</td>\n",
              "    </tr>\n",
              "    <tr>\n",
              "      <th>3</th>\n",
              "      <td>NCD19</td>\n",
              "      <td>8.930</td>\n",
              "      <td>0</td>\n",
              "      <td>0.000000</td>\n",
              "      <td>Household</td>\n",
              "      <td>53.8614</td>\n",
              "      <td>OUT013</td>\n",
              "      <td>1987</td>\n",
              "      <td>0</td>\n",
              "      <td>2</td>\n",
              "      <td>1</td>\n",
              "      <td>994.7052</td>\n",
              "      <td>3</td>\n",
              "    </tr>\n",
              "    <tr>\n",
              "      <th>4</th>\n",
              "      <td>FDP36</td>\n",
              "      <td>10.395</td>\n",
              "      <td>1</td>\n",
              "      <td>0.000000</td>\n",
              "      <td>Baking Goods</td>\n",
              "      <td>51.4008</td>\n",
              "      <td>OUT018</td>\n",
              "      <td>2009</td>\n",
              "      <td>1</td>\n",
              "      <td>2</td>\n",
              "      <td>2</td>\n",
              "      <td>556.6088</td>\n",
              "      <td>4</td>\n",
              "    </tr>\n",
              "  </tbody>\n",
              "</table>\n",
              "</div>\n",
              "      <button class=\"colab-df-convert\" onclick=\"convertToInteractive('df-fcc86643-062b-48b8-8f24-a0f83e8a4b76')\"\n",
              "              title=\"Convert this dataframe to an interactive table.\"\n",
              "              style=\"display:none;\">\n",
              "        \n",
              "  <svg xmlns=\"http://www.w3.org/2000/svg\" height=\"24px\"viewBox=\"0 0 24 24\"\n",
              "       width=\"24px\">\n",
              "    <path d=\"M0 0h24v24H0V0z\" fill=\"none\"/>\n",
              "    <path d=\"M18.56 5.44l.94 2.06.94-2.06 2.06-.94-2.06-.94-.94-2.06-.94 2.06-2.06.94zm-11 1L8.5 8.5l.94-2.06 2.06-.94-2.06-.94L8.5 2.5l-.94 2.06-2.06.94zm10 10l.94 2.06.94-2.06 2.06-.94-2.06-.94-.94-2.06-.94 2.06-2.06.94z\"/><path d=\"M17.41 7.96l-1.37-1.37c-.4-.4-.92-.59-1.43-.59-.52 0-1.04.2-1.43.59L10.3 9.45l-7.72 7.72c-.78.78-.78 2.05 0 2.83L4 21.41c.39.39.9.59 1.41.59.51 0 1.02-.2 1.41-.59l7.78-7.78 2.81-2.81c.8-.78.8-2.07 0-2.86zM5.41 20L4 18.59l7.72-7.72 1.47 1.35L5.41 20z\"/>\n",
              "  </svg>\n",
              "      </button>\n",
              "      \n",
              "  <style>\n",
              "    .colab-df-container {\n",
              "      display:flex;\n",
              "      flex-wrap:wrap;\n",
              "      gap: 12px;\n",
              "    }\n",
              "\n",
              "    .colab-df-convert {\n",
              "      background-color: #E8F0FE;\n",
              "      border: none;\n",
              "      border-radius: 50%;\n",
              "      cursor: pointer;\n",
              "      display: none;\n",
              "      fill: #1967D2;\n",
              "      height: 32px;\n",
              "      padding: 0 0 0 0;\n",
              "      width: 32px;\n",
              "    }\n",
              "\n",
              "    .colab-df-convert:hover {\n",
              "      background-color: #E2EBFA;\n",
              "      box-shadow: 0px 1px 2px rgba(60, 64, 67, 0.3), 0px 1px 3px 1px rgba(60, 64, 67, 0.15);\n",
              "      fill: #174EA6;\n",
              "    }\n",
              "\n",
              "    [theme=dark] .colab-df-convert {\n",
              "      background-color: #3B4455;\n",
              "      fill: #D2E3FC;\n",
              "    }\n",
              "\n",
              "    [theme=dark] .colab-df-convert:hover {\n",
              "      background-color: #434B5C;\n",
              "      box-shadow: 0px 1px 3px 1px rgba(0, 0, 0, 0.15);\n",
              "      filter: drop-shadow(0px 1px 2px rgba(0, 0, 0, 0.3));\n",
              "      fill: #FFFFFF;\n",
              "    }\n",
              "  </style>\n",
              "\n",
              "      <script>\n",
              "        const buttonEl =\n",
              "          document.querySelector('#df-fcc86643-062b-48b8-8f24-a0f83e8a4b76 button.colab-df-convert');\n",
              "        buttonEl.style.display =\n",
              "          google.colab.kernel.accessAllowed ? 'block' : 'none';\n",
              "\n",
              "        async function convertToInteractive(key) {\n",
              "          const element = document.querySelector('#df-fcc86643-062b-48b8-8f24-a0f83e8a4b76');\n",
              "          const dataTable =\n",
              "            await google.colab.kernel.invokeFunction('convertToInteractive',\n",
              "                                                     [key], {});\n",
              "          if (!dataTable) return;\n",
              "\n",
              "          const docLinkHtml = 'Like what you see? Visit the ' +\n",
              "            '<a target=\"_blank\" href=https://colab.research.google.com/notebooks/data_table.ipynb>data table notebook</a>'\n",
              "            + ' to learn more about interactive tables.';\n",
              "          element.innerHTML = '';\n",
              "          dataTable['output_type'] = 'display_data';\n",
              "          await google.colab.output.renderOutput(dataTable, element);\n",
              "          const docLink = document.createElement('div');\n",
              "          docLink.innerHTML = docLinkHtml;\n",
              "          element.appendChild(docLink);\n",
              "        }\n",
              "      </script>\n",
              "    </div>\n",
              "  </div>\n",
              "  "
            ],
            "text/plain": [
              "  Item_Identifier  Item_Weight  ...  Item_Outlet_Sales  Lugares\n",
              "0           FDA15        9.300  ...          3735.1380        0\n",
              "1           DRC01        5.920  ...           443.4228        1\n",
              "2           FDN15       17.500  ...          2097.2700        2\n",
              "3           NCD19        8.930  ...           994.7052        3\n",
              "4           FDP36       10.395  ...           556.6088        4\n",
              "\n",
              "[5 rows x 13 columns]"
            ]
          },
          "metadata": {},
          "execution_count": 668
        }
      ]
    },
    {
      "cell_type": "code",
      "source": [
        "sales_predictions_df_reg3.shape #sigue manteniendose las dimensiones "
      ],
      "metadata": {
        "colab": {
          "base_uri": "https://localhost:8080/"
        },
        "id": "yRUalOtNhxBL",
        "outputId": "1c386596-2f98-411b-b740-44cc6da3874d"
      },
      "execution_count": 669,
      "outputs": [
        {
          "output_type": "execute_result",
          "data": {
            "text/plain": [
              "(6113, 13)"
            ]
          },
          "metadata": {},
          "execution_count": 669
        }
      ]
    },
    {
      "cell_type": "code",
      "source": [
        "sales_predictions_df_reg2.index = lst #cambiamos el indice del data frame \n",
        "                                      #recordar que esta df tiene las variables dummies"
      ],
      "metadata": {
        "id": "gmW0uR63ilee"
      },
      "execution_count": 670,
      "outputs": []
    },
    {
      "cell_type": "code",
      "source": [
        "sales_predictions_df_reg2.shape #sigue teniendo las mismas dimensiones"
      ],
      "metadata": {
        "colab": {
          "base_uri": "https://localhost:8080/"
        },
        "id": "y2fRG1JKisoB",
        "outputId": "484f1fe1-0c28-4367-fbdf-a24cceee7135"
      },
      "execution_count": 671,
      "outputs": [
        {
          "output_type": "execute_result",
          "data": {
            "text/plain": [
              "(6113, 29)"
            ]
          },
          "metadata": {},
          "execution_count": 671
        }
      ]
    },
    {
      "cell_type": "code",
      "source": [
        "sales_predictions_df_reg3['Lugares'] = lst\n",
        "sales_predictions_df_reg3.head() #para aplicar el merge, debemos tener un punto de referencia con el cual\n",
        "                                #podamos unir las dos dfs\n",
        "\n",
        "#por lo que se asigna una nueva columna con los valores de la lista 'lst'"
      ],
      "metadata": {
        "colab": {
          "base_uri": "https://localhost:8080/",
          "height": 355
        },
        "id": "3kt8d8imjWYE",
        "outputId": "199e8202-a1d9-444f-a12e-f2d0a51eb295"
      },
      "execution_count": 672,
      "outputs": [
        {
          "output_type": "stream",
          "name": "stderr",
          "text": [
            "/usr/local/lib/python3.7/dist-packages/ipykernel_launcher.py:1: SettingWithCopyWarning: \n",
            "A value is trying to be set on a copy of a slice from a DataFrame.\n",
            "Try using .loc[row_indexer,col_indexer] = value instead\n",
            "\n",
            "See the caveats in the documentation: https://pandas.pydata.org/pandas-docs/stable/user_guide/indexing.html#returning-a-view-versus-a-copy\n",
            "  \"\"\"Entry point for launching an IPython kernel.\n"
          ]
        },
        {
          "output_type": "execute_result",
          "data": {
            "text/html": [
              "\n",
              "  <div id=\"df-c1e1ba5e-d942-4495-9c49-a25f30b80137\">\n",
              "    <div class=\"colab-df-container\">\n",
              "      <div>\n",
              "<style scoped>\n",
              "    .dataframe tbody tr th:only-of-type {\n",
              "        vertical-align: middle;\n",
              "    }\n",
              "\n",
              "    .dataframe tbody tr th {\n",
              "        vertical-align: top;\n",
              "    }\n",
              "\n",
              "    .dataframe thead th {\n",
              "        text-align: right;\n",
              "    }\n",
              "</style>\n",
              "<table border=\"1\" class=\"dataframe\">\n",
              "  <thead>\n",
              "    <tr style=\"text-align: right;\">\n",
              "      <th></th>\n",
              "      <th>Item_Identifier</th>\n",
              "      <th>Item_Weight</th>\n",
              "      <th>Item_Fat_Content</th>\n",
              "      <th>Item_Visibility</th>\n",
              "      <th>Item_Type</th>\n",
              "      <th>Item_MRP</th>\n",
              "      <th>Outlet_Identifier</th>\n",
              "      <th>Outlet_Establishment_Year</th>\n",
              "      <th>Outlet_Size</th>\n",
              "      <th>Outlet_Location_Type</th>\n",
              "      <th>Outlet_Type</th>\n",
              "      <th>Item_Outlet_Sales</th>\n",
              "      <th>Lugares</th>\n",
              "    </tr>\n",
              "  </thead>\n",
              "  <tbody>\n",
              "    <tr>\n",
              "      <th>0</th>\n",
              "      <td>FDA15</td>\n",
              "      <td>9.300</td>\n",
              "      <td>0</td>\n",
              "      <td>0.016047</td>\n",
              "      <td>Dairy</td>\n",
              "      <td>249.8092</td>\n",
              "      <td>OUT049</td>\n",
              "      <td>1999</td>\n",
              "      <td>1</td>\n",
              "      <td>0</td>\n",
              "      <td>1</td>\n",
              "      <td>3735.1380</td>\n",
              "      <td>0</td>\n",
              "    </tr>\n",
              "    <tr>\n",
              "      <th>1</th>\n",
              "      <td>DRC01</td>\n",
              "      <td>5.920</td>\n",
              "      <td>1</td>\n",
              "      <td>0.019278</td>\n",
              "      <td>Soft Drinks</td>\n",
              "      <td>48.2692</td>\n",
              "      <td>OUT018</td>\n",
              "      <td>2009</td>\n",
              "      <td>1</td>\n",
              "      <td>2</td>\n",
              "      <td>2</td>\n",
              "      <td>443.4228</td>\n",
              "      <td>1</td>\n",
              "    </tr>\n",
              "    <tr>\n",
              "      <th>2</th>\n",
              "      <td>FDN15</td>\n",
              "      <td>17.500</td>\n",
              "      <td>0</td>\n",
              "      <td>0.016760</td>\n",
              "      <td>Meat</td>\n",
              "      <td>141.6180</td>\n",
              "      <td>OUT049</td>\n",
              "      <td>1999</td>\n",
              "      <td>1</td>\n",
              "      <td>0</td>\n",
              "      <td>1</td>\n",
              "      <td>2097.2700</td>\n",
              "      <td>2</td>\n",
              "    </tr>\n",
              "    <tr>\n",
              "      <th>3</th>\n",
              "      <td>NCD19</td>\n",
              "      <td>8.930</td>\n",
              "      <td>0</td>\n",
              "      <td>0.000000</td>\n",
              "      <td>Household</td>\n",
              "      <td>53.8614</td>\n",
              "      <td>OUT013</td>\n",
              "      <td>1987</td>\n",
              "      <td>0</td>\n",
              "      <td>2</td>\n",
              "      <td>1</td>\n",
              "      <td>994.7052</td>\n",
              "      <td>3</td>\n",
              "    </tr>\n",
              "    <tr>\n",
              "      <th>4</th>\n",
              "      <td>FDP36</td>\n",
              "      <td>10.395</td>\n",
              "      <td>1</td>\n",
              "      <td>0.000000</td>\n",
              "      <td>Baking Goods</td>\n",
              "      <td>51.4008</td>\n",
              "      <td>OUT018</td>\n",
              "      <td>2009</td>\n",
              "      <td>1</td>\n",
              "      <td>2</td>\n",
              "      <td>2</td>\n",
              "      <td>556.6088</td>\n",
              "      <td>4</td>\n",
              "    </tr>\n",
              "  </tbody>\n",
              "</table>\n",
              "</div>\n",
              "      <button class=\"colab-df-convert\" onclick=\"convertToInteractive('df-c1e1ba5e-d942-4495-9c49-a25f30b80137')\"\n",
              "              title=\"Convert this dataframe to an interactive table.\"\n",
              "              style=\"display:none;\">\n",
              "        \n",
              "  <svg xmlns=\"http://www.w3.org/2000/svg\" height=\"24px\"viewBox=\"0 0 24 24\"\n",
              "       width=\"24px\">\n",
              "    <path d=\"M0 0h24v24H0V0z\" fill=\"none\"/>\n",
              "    <path d=\"M18.56 5.44l.94 2.06.94-2.06 2.06-.94-2.06-.94-.94-2.06-.94 2.06-2.06.94zm-11 1L8.5 8.5l.94-2.06 2.06-.94-2.06-.94L8.5 2.5l-.94 2.06-2.06.94zm10 10l.94 2.06.94-2.06 2.06-.94-2.06-.94-.94-2.06-.94 2.06-2.06.94z\"/><path d=\"M17.41 7.96l-1.37-1.37c-.4-.4-.92-.59-1.43-.59-.52 0-1.04.2-1.43.59L10.3 9.45l-7.72 7.72c-.78.78-.78 2.05 0 2.83L4 21.41c.39.39.9.59 1.41.59.51 0 1.02-.2 1.41-.59l7.78-7.78 2.81-2.81c.8-.78.8-2.07 0-2.86zM5.41 20L4 18.59l7.72-7.72 1.47 1.35L5.41 20z\"/>\n",
              "  </svg>\n",
              "      </button>\n",
              "      \n",
              "  <style>\n",
              "    .colab-df-container {\n",
              "      display:flex;\n",
              "      flex-wrap:wrap;\n",
              "      gap: 12px;\n",
              "    }\n",
              "\n",
              "    .colab-df-convert {\n",
              "      background-color: #E8F0FE;\n",
              "      border: none;\n",
              "      border-radius: 50%;\n",
              "      cursor: pointer;\n",
              "      display: none;\n",
              "      fill: #1967D2;\n",
              "      height: 32px;\n",
              "      padding: 0 0 0 0;\n",
              "      width: 32px;\n",
              "    }\n",
              "\n",
              "    .colab-df-convert:hover {\n",
              "      background-color: #E2EBFA;\n",
              "      box-shadow: 0px 1px 2px rgba(60, 64, 67, 0.3), 0px 1px 3px 1px rgba(60, 64, 67, 0.15);\n",
              "      fill: #174EA6;\n",
              "    }\n",
              "\n",
              "    [theme=dark] .colab-df-convert {\n",
              "      background-color: #3B4455;\n",
              "      fill: #D2E3FC;\n",
              "    }\n",
              "\n",
              "    [theme=dark] .colab-df-convert:hover {\n",
              "      background-color: #434B5C;\n",
              "      box-shadow: 0px 1px 3px 1px rgba(0, 0, 0, 0.15);\n",
              "      filter: drop-shadow(0px 1px 2px rgba(0, 0, 0, 0.3));\n",
              "      fill: #FFFFFF;\n",
              "    }\n",
              "  </style>\n",
              "\n",
              "      <script>\n",
              "        const buttonEl =\n",
              "          document.querySelector('#df-c1e1ba5e-d942-4495-9c49-a25f30b80137 button.colab-df-convert');\n",
              "        buttonEl.style.display =\n",
              "          google.colab.kernel.accessAllowed ? 'block' : 'none';\n",
              "\n",
              "        async function convertToInteractive(key) {\n",
              "          const element = document.querySelector('#df-c1e1ba5e-d942-4495-9c49-a25f30b80137');\n",
              "          const dataTable =\n",
              "            await google.colab.kernel.invokeFunction('convertToInteractive',\n",
              "                                                     [key], {});\n",
              "          if (!dataTable) return;\n",
              "\n",
              "          const docLinkHtml = 'Like what you see? Visit the ' +\n",
              "            '<a target=\"_blank\" href=https://colab.research.google.com/notebooks/data_table.ipynb>data table notebook</a>'\n",
              "            + ' to learn more about interactive tables.';\n",
              "          element.innerHTML = '';\n",
              "          dataTable['output_type'] = 'display_data';\n",
              "          await google.colab.output.renderOutput(dataTable, element);\n",
              "          const docLink = document.createElement('div');\n",
              "          docLink.innerHTML = docLinkHtml;\n",
              "          element.appendChild(docLink);\n",
              "        }\n",
              "      </script>\n",
              "    </div>\n",
              "  </div>\n",
              "  "
            ],
            "text/plain": [
              "  Item_Identifier  Item_Weight  ...  Item_Outlet_Sales  Lugares\n",
              "0           FDA15        9.300  ...          3735.1380        0\n",
              "1           DRC01        5.920  ...           443.4228        1\n",
              "2           FDN15       17.500  ...          2097.2700        2\n",
              "3           NCD19        8.930  ...           994.7052        3\n",
              "4           FDP36       10.395  ...           556.6088        4\n",
              "\n",
              "[5 rows x 13 columns]"
            ]
          },
          "metadata": {},
          "execution_count": 672
        }
      ]
    },
    {
      "cell_type": "code",
      "source": [
        "sales_predictions_df_reg2['Lugares'] = lst\n",
        "sales_predictions_df_reg2.head() #aplicamos lo mismo a la df que contiene las variables dummies"
      ],
      "metadata": {
        "colab": {
          "base_uri": "https://localhost:8080/",
          "height": 305
        },
        "id": "QPkMubawkDJc",
        "outputId": "b5d53a45-b655-4dd0-978f-807b4ada89be"
      },
      "execution_count": 673,
      "outputs": [
        {
          "output_type": "execute_result",
          "data": {
            "text/html": [
              "\n",
              "  <div id=\"df-1e1ba3bd-354a-4941-a387-7b7ffb07003f\">\n",
              "    <div class=\"colab-df-container\">\n",
              "      <div>\n",
              "<style scoped>\n",
              "    .dataframe tbody tr th:only-of-type {\n",
              "        vertical-align: middle;\n",
              "    }\n",
              "\n",
              "    .dataframe tbody tr th {\n",
              "        vertical-align: top;\n",
              "    }\n",
              "\n",
              "    .dataframe thead th {\n",
              "        text-align: right;\n",
              "    }\n",
              "</style>\n",
              "<table border=\"1\" class=\"dataframe\">\n",
              "  <thead>\n",
              "    <tr style=\"text-align: right;\">\n",
              "      <th></th>\n",
              "      <th>IFC_Low_Fat</th>\n",
              "      <th>IFC_Regular</th>\n",
              "      <th>IT_Dairy</th>\n",
              "      <th>IT_Soft Drinks</th>\n",
              "      <th>IT_Meat</th>\n",
              "      <th>IT_Household</th>\n",
              "      <th>IT_Baking Goods</th>\n",
              "      <th>IT_Snack Foods</th>\n",
              "      <th>IT_Fruits and Vegetables</th>\n",
              "      <th>IT_Breakfast</th>\n",
              "      <th>IT_Health and Hygiene</th>\n",
              "      <th>IT_Hard Drinks</th>\n",
              "      <th>IT_Frozen Foods</th>\n",
              "      <th>IT_Canned</th>\n",
              "      <th>IT_Starchy Foods</th>\n",
              "      <th>IT_Breads</th>\n",
              "      <th>IT_Others</th>\n",
              "      <th>IT_Seafood</th>\n",
              "      <th>OS_High</th>\n",
              "      <th>OS_Medium</th>\n",
              "      <th>OS_Small</th>\n",
              "      <th>OL_Tier 1</th>\n",
              "      <th>OL_Tier 2</th>\n",
              "      <th>OL_Tier 3</th>\n",
              "      <th>OT_Grocery Store</th>\n",
              "      <th>OT_Supermarket Type1</th>\n",
              "      <th>OT_Supermarket Type2</th>\n",
              "      <th>OT_Supermarket Type3</th>\n",
              "      <th>Lugares</th>\n",
              "    </tr>\n",
              "  </thead>\n",
              "  <tbody>\n",
              "    <tr>\n",
              "      <th>0</th>\n",
              "      <td>1.0</td>\n",
              "      <td>0.0</td>\n",
              "      <td>0.0</td>\n",
              "      <td>1.0</td>\n",
              "      <td>1.0</td>\n",
              "      <td>0.0</td>\n",
              "      <td>0.0</td>\n",
              "      <td>-1.0</td>\n",
              "      <td>2.0</td>\n",
              "      <td>0.0</td>\n",
              "      <td>0.0</td>\n",
              "      <td>0.0</td>\n",
              "      <td>0.0</td>\n",
              "      <td>0.0</td>\n",
              "      <td>0.0</td>\n",
              "      <td>0.0</td>\n",
              "      <td>0.0</td>\n",
              "      <td>0.0</td>\n",
              "      <td>0.0</td>\n",
              "      <td>1.0</td>\n",
              "      <td>0.0</td>\n",
              "      <td>1.0</td>\n",
              "      <td>0.0</td>\n",
              "      <td>0.0</td>\n",
              "      <td>0.0</td>\n",
              "      <td>1.0</td>\n",
              "      <td>0.0</td>\n",
              "      <td>0.0</td>\n",
              "      <td>0</td>\n",
              "    </tr>\n",
              "    <tr>\n",
              "      <th>1</th>\n",
              "      <td>0.0</td>\n",
              "      <td>1.0</td>\n",
              "      <td>0.0</td>\n",
              "      <td>1.0</td>\n",
              "      <td>0.0</td>\n",
              "      <td>0.0</td>\n",
              "      <td>-1.0</td>\n",
              "      <td>-1.0</td>\n",
              "      <td>1.0</td>\n",
              "      <td>0.0</td>\n",
              "      <td>1.0</td>\n",
              "      <td>0.0</td>\n",
              "      <td>0.0</td>\n",
              "      <td>1.0</td>\n",
              "      <td>-1.0</td>\n",
              "      <td>0.0</td>\n",
              "      <td>0.0</td>\n",
              "      <td>-2.0</td>\n",
              "      <td>0.0</td>\n",
              "      <td>1.0</td>\n",
              "      <td>0.0</td>\n",
              "      <td>0.0</td>\n",
              "      <td>0.0</td>\n",
              "      <td>1.0</td>\n",
              "      <td>0.0</td>\n",
              "      <td>0.0</td>\n",
              "      <td>1.0</td>\n",
              "      <td>0.0</td>\n",
              "      <td>1</td>\n",
              "    </tr>\n",
              "    <tr>\n",
              "      <th>2</th>\n",
              "      <td>1.0</td>\n",
              "      <td>0.0</td>\n",
              "      <td>0.0</td>\n",
              "      <td>0.0</td>\n",
              "      <td>1.0</td>\n",
              "      <td>-1.0</td>\n",
              "      <td>0.0</td>\n",
              "      <td>0.0</td>\n",
              "      <td>0.0</td>\n",
              "      <td>1.0</td>\n",
              "      <td>0.0</td>\n",
              "      <td>0.0</td>\n",
              "      <td>1.0</td>\n",
              "      <td>0.0</td>\n",
              "      <td>0.0</td>\n",
              "      <td>0.0</td>\n",
              "      <td>0.0</td>\n",
              "      <td>0.0</td>\n",
              "      <td>0.0</td>\n",
              "      <td>1.0</td>\n",
              "      <td>0.0</td>\n",
              "      <td>1.0</td>\n",
              "      <td>0.0</td>\n",
              "      <td>0.0</td>\n",
              "      <td>0.0</td>\n",
              "      <td>1.0</td>\n",
              "      <td>0.0</td>\n",
              "      <td>0.0</td>\n",
              "      <td>2</td>\n",
              "    </tr>\n",
              "    <tr>\n",
              "      <th>3</th>\n",
              "      <td>1.0</td>\n",
              "      <td>0.0</td>\n",
              "      <td>1.0</td>\n",
              "      <td>0.0</td>\n",
              "      <td>0.0</td>\n",
              "      <td>3.0</td>\n",
              "      <td>0.0</td>\n",
              "      <td>0.0</td>\n",
              "      <td>0.0</td>\n",
              "      <td>1.0</td>\n",
              "      <td>0.0</td>\n",
              "      <td>1.0</td>\n",
              "      <td>0.0</td>\n",
              "      <td>0.0</td>\n",
              "      <td>1.0</td>\n",
              "      <td>-1.0</td>\n",
              "      <td>0.0</td>\n",
              "      <td>-1.0</td>\n",
              "      <td>1.0</td>\n",
              "      <td>0.0</td>\n",
              "      <td>0.0</td>\n",
              "      <td>0.0</td>\n",
              "      <td>0.0</td>\n",
              "      <td>1.0</td>\n",
              "      <td>0.0</td>\n",
              "      <td>1.0</td>\n",
              "      <td>0.0</td>\n",
              "      <td>0.0</td>\n",
              "      <td>3</td>\n",
              "    </tr>\n",
              "    <tr>\n",
              "      <th>4</th>\n",
              "      <td>0.0</td>\n",
              "      <td>1.0</td>\n",
              "      <td>0.0</td>\n",
              "      <td>0.0</td>\n",
              "      <td>1.0</td>\n",
              "      <td>3.0</td>\n",
              "      <td>-1.0</td>\n",
              "      <td>-1.0</td>\n",
              "      <td>-1.0</td>\n",
              "      <td>0.0</td>\n",
              "      <td>1.0</td>\n",
              "      <td>1.0</td>\n",
              "      <td>-1.0</td>\n",
              "      <td>0.0</td>\n",
              "      <td>0.0</td>\n",
              "      <td>0.0</td>\n",
              "      <td>0.0</td>\n",
              "      <td>-2.0</td>\n",
              "      <td>0.0</td>\n",
              "      <td>1.0</td>\n",
              "      <td>0.0</td>\n",
              "      <td>0.0</td>\n",
              "      <td>0.0</td>\n",
              "      <td>1.0</td>\n",
              "      <td>0.0</td>\n",
              "      <td>0.0</td>\n",
              "      <td>1.0</td>\n",
              "      <td>0.0</td>\n",
              "      <td>4</td>\n",
              "    </tr>\n",
              "  </tbody>\n",
              "</table>\n",
              "</div>\n",
              "      <button class=\"colab-df-convert\" onclick=\"convertToInteractive('df-1e1ba3bd-354a-4941-a387-7b7ffb07003f')\"\n",
              "              title=\"Convert this dataframe to an interactive table.\"\n",
              "              style=\"display:none;\">\n",
              "        \n",
              "  <svg xmlns=\"http://www.w3.org/2000/svg\" height=\"24px\"viewBox=\"0 0 24 24\"\n",
              "       width=\"24px\">\n",
              "    <path d=\"M0 0h24v24H0V0z\" fill=\"none\"/>\n",
              "    <path d=\"M18.56 5.44l.94 2.06.94-2.06 2.06-.94-2.06-.94-.94-2.06-.94 2.06-2.06.94zm-11 1L8.5 8.5l.94-2.06 2.06-.94-2.06-.94L8.5 2.5l-.94 2.06-2.06.94zm10 10l.94 2.06.94-2.06 2.06-.94-2.06-.94-.94-2.06-.94 2.06-2.06.94z\"/><path d=\"M17.41 7.96l-1.37-1.37c-.4-.4-.92-.59-1.43-.59-.52 0-1.04.2-1.43.59L10.3 9.45l-7.72 7.72c-.78.78-.78 2.05 0 2.83L4 21.41c.39.39.9.59 1.41.59.51 0 1.02-.2 1.41-.59l7.78-7.78 2.81-2.81c.8-.78.8-2.07 0-2.86zM5.41 20L4 18.59l7.72-7.72 1.47 1.35L5.41 20z\"/>\n",
              "  </svg>\n",
              "      </button>\n",
              "      \n",
              "  <style>\n",
              "    .colab-df-container {\n",
              "      display:flex;\n",
              "      flex-wrap:wrap;\n",
              "      gap: 12px;\n",
              "    }\n",
              "\n",
              "    .colab-df-convert {\n",
              "      background-color: #E8F0FE;\n",
              "      border: none;\n",
              "      border-radius: 50%;\n",
              "      cursor: pointer;\n",
              "      display: none;\n",
              "      fill: #1967D2;\n",
              "      height: 32px;\n",
              "      padding: 0 0 0 0;\n",
              "      width: 32px;\n",
              "    }\n",
              "\n",
              "    .colab-df-convert:hover {\n",
              "      background-color: #E2EBFA;\n",
              "      box-shadow: 0px 1px 2px rgba(60, 64, 67, 0.3), 0px 1px 3px 1px rgba(60, 64, 67, 0.15);\n",
              "      fill: #174EA6;\n",
              "    }\n",
              "\n",
              "    [theme=dark] .colab-df-convert {\n",
              "      background-color: #3B4455;\n",
              "      fill: #D2E3FC;\n",
              "    }\n",
              "\n",
              "    [theme=dark] .colab-df-convert:hover {\n",
              "      background-color: #434B5C;\n",
              "      box-shadow: 0px 1px 3px 1px rgba(0, 0, 0, 0.15);\n",
              "      filter: drop-shadow(0px 1px 2px rgba(0, 0, 0, 0.3));\n",
              "      fill: #FFFFFF;\n",
              "    }\n",
              "  </style>\n",
              "\n",
              "      <script>\n",
              "        const buttonEl =\n",
              "          document.querySelector('#df-1e1ba3bd-354a-4941-a387-7b7ffb07003f button.colab-df-convert');\n",
              "        buttonEl.style.display =\n",
              "          google.colab.kernel.accessAllowed ? 'block' : 'none';\n",
              "\n",
              "        async function convertToInteractive(key) {\n",
              "          const element = document.querySelector('#df-1e1ba3bd-354a-4941-a387-7b7ffb07003f');\n",
              "          const dataTable =\n",
              "            await google.colab.kernel.invokeFunction('convertToInteractive',\n",
              "                                                     [key], {});\n",
              "          if (!dataTable) return;\n",
              "\n",
              "          const docLinkHtml = 'Like what you see? Visit the ' +\n",
              "            '<a target=\"_blank\" href=https://colab.research.google.com/notebooks/data_table.ipynb>data table notebook</a>'\n",
              "            + ' to learn more about interactive tables.';\n",
              "          element.innerHTML = '';\n",
              "          dataTable['output_type'] = 'display_data';\n",
              "          await google.colab.output.renderOutput(dataTable, element);\n",
              "          const docLink = document.createElement('div');\n",
              "          docLink.innerHTML = docLinkHtml;\n",
              "          element.appendChild(docLink);\n",
              "        }\n",
              "      </script>\n",
              "    </div>\n",
              "  </div>\n",
              "  "
            ],
            "text/plain": [
              "   IFC_Low_Fat  IFC_Regular  ...  OT_Supermarket Type3  Lugares\n",
              "0          1.0          0.0  ...                   0.0        0\n",
              "1          0.0          1.0  ...                   0.0        1\n",
              "2          1.0          0.0  ...                   0.0        2\n",
              "3          1.0          0.0  ...                   0.0        3\n",
              "4          0.0          1.0  ...                   0.0        4\n",
              "\n",
              "[5 rows x 29 columns]"
            ]
          },
          "metadata": {},
          "execution_count": 673
        }
      ]
    },
    {
      "cell_type": "code",
      "source": [
        "sales_predictions_regresion =sales_predictions_df_reg3.merge(sales_predictions_df_reg2, on='Lugares', how=\"left\")\n",
        "sales_predictions_regresion.head() #aplicamos la función merge"
      ],
      "metadata": {
        "colab": {
          "base_uri": "https://localhost:8080/",
          "height": 322
        },
        "id": "6vVd26n2iOYW",
        "outputId": "6bffafa1-9d85-414a-b64a-c587429880df"
      },
      "execution_count": 674,
      "outputs": [
        {
          "output_type": "execute_result",
          "data": {
            "text/html": [
              "\n",
              "  <div id=\"df-df254032-af24-437b-8042-05f7bfd606b9\">\n",
              "    <div class=\"colab-df-container\">\n",
              "      <div>\n",
              "<style scoped>\n",
              "    .dataframe tbody tr th:only-of-type {\n",
              "        vertical-align: middle;\n",
              "    }\n",
              "\n",
              "    .dataframe tbody tr th {\n",
              "        vertical-align: top;\n",
              "    }\n",
              "\n",
              "    .dataframe thead th {\n",
              "        text-align: right;\n",
              "    }\n",
              "</style>\n",
              "<table border=\"1\" class=\"dataframe\">\n",
              "  <thead>\n",
              "    <tr style=\"text-align: right;\">\n",
              "      <th></th>\n",
              "      <th>Item_Identifier</th>\n",
              "      <th>Item_Weight</th>\n",
              "      <th>Item_Fat_Content</th>\n",
              "      <th>Item_Visibility</th>\n",
              "      <th>Item_Type</th>\n",
              "      <th>Item_MRP</th>\n",
              "      <th>Outlet_Identifier</th>\n",
              "      <th>Outlet_Establishment_Year</th>\n",
              "      <th>Outlet_Size</th>\n",
              "      <th>Outlet_Location_Type</th>\n",
              "      <th>Outlet_Type</th>\n",
              "      <th>Item_Outlet_Sales</th>\n",
              "      <th>Lugares</th>\n",
              "      <th>IFC_Low_Fat</th>\n",
              "      <th>IFC_Regular</th>\n",
              "      <th>IT_Dairy</th>\n",
              "      <th>IT_Soft Drinks</th>\n",
              "      <th>IT_Meat</th>\n",
              "      <th>IT_Household</th>\n",
              "      <th>IT_Baking Goods</th>\n",
              "      <th>IT_Snack Foods</th>\n",
              "      <th>IT_Fruits and Vegetables</th>\n",
              "      <th>IT_Breakfast</th>\n",
              "      <th>IT_Health and Hygiene</th>\n",
              "      <th>IT_Hard Drinks</th>\n",
              "      <th>IT_Frozen Foods</th>\n",
              "      <th>IT_Canned</th>\n",
              "      <th>IT_Starchy Foods</th>\n",
              "      <th>IT_Breads</th>\n",
              "      <th>IT_Others</th>\n",
              "      <th>IT_Seafood</th>\n",
              "      <th>OS_High</th>\n",
              "      <th>OS_Medium</th>\n",
              "      <th>OS_Small</th>\n",
              "      <th>OL_Tier 1</th>\n",
              "      <th>OL_Tier 2</th>\n",
              "      <th>OL_Tier 3</th>\n",
              "      <th>OT_Grocery Store</th>\n",
              "      <th>OT_Supermarket Type1</th>\n",
              "      <th>OT_Supermarket Type2</th>\n",
              "      <th>OT_Supermarket Type3</th>\n",
              "    </tr>\n",
              "  </thead>\n",
              "  <tbody>\n",
              "    <tr>\n",
              "      <th>0</th>\n",
              "      <td>FDA15</td>\n",
              "      <td>9.300</td>\n",
              "      <td>0</td>\n",
              "      <td>0.016047</td>\n",
              "      <td>Dairy</td>\n",
              "      <td>249.8092</td>\n",
              "      <td>OUT049</td>\n",
              "      <td>1999</td>\n",
              "      <td>1</td>\n",
              "      <td>0</td>\n",
              "      <td>1</td>\n",
              "      <td>3735.1380</td>\n",
              "      <td>0</td>\n",
              "      <td>1.0</td>\n",
              "      <td>0.0</td>\n",
              "      <td>0.0</td>\n",
              "      <td>1.0</td>\n",
              "      <td>1.0</td>\n",
              "      <td>0.0</td>\n",
              "      <td>0.0</td>\n",
              "      <td>-1.0</td>\n",
              "      <td>2.0</td>\n",
              "      <td>0.0</td>\n",
              "      <td>0.0</td>\n",
              "      <td>0.0</td>\n",
              "      <td>0.0</td>\n",
              "      <td>0.0</td>\n",
              "      <td>0.0</td>\n",
              "      <td>0.0</td>\n",
              "      <td>0.0</td>\n",
              "      <td>0.0</td>\n",
              "      <td>0.0</td>\n",
              "      <td>1.0</td>\n",
              "      <td>0.0</td>\n",
              "      <td>1.0</td>\n",
              "      <td>0.0</td>\n",
              "      <td>0.0</td>\n",
              "      <td>0.0</td>\n",
              "      <td>1.0</td>\n",
              "      <td>0.0</td>\n",
              "      <td>0.0</td>\n",
              "    </tr>\n",
              "    <tr>\n",
              "      <th>1</th>\n",
              "      <td>DRC01</td>\n",
              "      <td>5.920</td>\n",
              "      <td>1</td>\n",
              "      <td>0.019278</td>\n",
              "      <td>Soft Drinks</td>\n",
              "      <td>48.2692</td>\n",
              "      <td>OUT018</td>\n",
              "      <td>2009</td>\n",
              "      <td>1</td>\n",
              "      <td>2</td>\n",
              "      <td>2</td>\n",
              "      <td>443.4228</td>\n",
              "      <td>1</td>\n",
              "      <td>0.0</td>\n",
              "      <td>1.0</td>\n",
              "      <td>0.0</td>\n",
              "      <td>1.0</td>\n",
              "      <td>0.0</td>\n",
              "      <td>0.0</td>\n",
              "      <td>-1.0</td>\n",
              "      <td>-1.0</td>\n",
              "      <td>1.0</td>\n",
              "      <td>0.0</td>\n",
              "      <td>1.0</td>\n",
              "      <td>0.0</td>\n",
              "      <td>0.0</td>\n",
              "      <td>1.0</td>\n",
              "      <td>-1.0</td>\n",
              "      <td>0.0</td>\n",
              "      <td>0.0</td>\n",
              "      <td>-2.0</td>\n",
              "      <td>0.0</td>\n",
              "      <td>1.0</td>\n",
              "      <td>0.0</td>\n",
              "      <td>0.0</td>\n",
              "      <td>0.0</td>\n",
              "      <td>1.0</td>\n",
              "      <td>0.0</td>\n",
              "      <td>0.0</td>\n",
              "      <td>1.0</td>\n",
              "      <td>0.0</td>\n",
              "    </tr>\n",
              "    <tr>\n",
              "      <th>2</th>\n",
              "      <td>FDN15</td>\n",
              "      <td>17.500</td>\n",
              "      <td>0</td>\n",
              "      <td>0.016760</td>\n",
              "      <td>Meat</td>\n",
              "      <td>141.6180</td>\n",
              "      <td>OUT049</td>\n",
              "      <td>1999</td>\n",
              "      <td>1</td>\n",
              "      <td>0</td>\n",
              "      <td>1</td>\n",
              "      <td>2097.2700</td>\n",
              "      <td>2</td>\n",
              "      <td>1.0</td>\n",
              "      <td>0.0</td>\n",
              "      <td>0.0</td>\n",
              "      <td>0.0</td>\n",
              "      <td>1.0</td>\n",
              "      <td>-1.0</td>\n",
              "      <td>0.0</td>\n",
              "      <td>0.0</td>\n",
              "      <td>0.0</td>\n",
              "      <td>1.0</td>\n",
              "      <td>0.0</td>\n",
              "      <td>0.0</td>\n",
              "      <td>1.0</td>\n",
              "      <td>0.0</td>\n",
              "      <td>0.0</td>\n",
              "      <td>0.0</td>\n",
              "      <td>0.0</td>\n",
              "      <td>0.0</td>\n",
              "      <td>0.0</td>\n",
              "      <td>1.0</td>\n",
              "      <td>0.0</td>\n",
              "      <td>1.0</td>\n",
              "      <td>0.0</td>\n",
              "      <td>0.0</td>\n",
              "      <td>0.0</td>\n",
              "      <td>1.0</td>\n",
              "      <td>0.0</td>\n",
              "      <td>0.0</td>\n",
              "    </tr>\n",
              "    <tr>\n",
              "      <th>3</th>\n",
              "      <td>NCD19</td>\n",
              "      <td>8.930</td>\n",
              "      <td>0</td>\n",
              "      <td>0.000000</td>\n",
              "      <td>Household</td>\n",
              "      <td>53.8614</td>\n",
              "      <td>OUT013</td>\n",
              "      <td>1987</td>\n",
              "      <td>0</td>\n",
              "      <td>2</td>\n",
              "      <td>1</td>\n",
              "      <td>994.7052</td>\n",
              "      <td>3</td>\n",
              "      <td>1.0</td>\n",
              "      <td>0.0</td>\n",
              "      <td>1.0</td>\n",
              "      <td>0.0</td>\n",
              "      <td>0.0</td>\n",
              "      <td>3.0</td>\n",
              "      <td>0.0</td>\n",
              "      <td>0.0</td>\n",
              "      <td>0.0</td>\n",
              "      <td>1.0</td>\n",
              "      <td>0.0</td>\n",
              "      <td>1.0</td>\n",
              "      <td>0.0</td>\n",
              "      <td>0.0</td>\n",
              "      <td>1.0</td>\n",
              "      <td>-1.0</td>\n",
              "      <td>0.0</td>\n",
              "      <td>-1.0</td>\n",
              "      <td>1.0</td>\n",
              "      <td>0.0</td>\n",
              "      <td>0.0</td>\n",
              "      <td>0.0</td>\n",
              "      <td>0.0</td>\n",
              "      <td>1.0</td>\n",
              "      <td>0.0</td>\n",
              "      <td>1.0</td>\n",
              "      <td>0.0</td>\n",
              "      <td>0.0</td>\n",
              "    </tr>\n",
              "    <tr>\n",
              "      <th>4</th>\n",
              "      <td>FDP36</td>\n",
              "      <td>10.395</td>\n",
              "      <td>1</td>\n",
              "      <td>0.000000</td>\n",
              "      <td>Baking Goods</td>\n",
              "      <td>51.4008</td>\n",
              "      <td>OUT018</td>\n",
              "      <td>2009</td>\n",
              "      <td>1</td>\n",
              "      <td>2</td>\n",
              "      <td>2</td>\n",
              "      <td>556.6088</td>\n",
              "      <td>4</td>\n",
              "      <td>0.0</td>\n",
              "      <td>1.0</td>\n",
              "      <td>0.0</td>\n",
              "      <td>0.0</td>\n",
              "      <td>1.0</td>\n",
              "      <td>3.0</td>\n",
              "      <td>-1.0</td>\n",
              "      <td>-1.0</td>\n",
              "      <td>-1.0</td>\n",
              "      <td>0.0</td>\n",
              "      <td>1.0</td>\n",
              "      <td>1.0</td>\n",
              "      <td>-1.0</td>\n",
              "      <td>0.0</td>\n",
              "      <td>0.0</td>\n",
              "      <td>0.0</td>\n",
              "      <td>0.0</td>\n",
              "      <td>-2.0</td>\n",
              "      <td>0.0</td>\n",
              "      <td>1.0</td>\n",
              "      <td>0.0</td>\n",
              "      <td>0.0</td>\n",
              "      <td>0.0</td>\n",
              "      <td>1.0</td>\n",
              "      <td>0.0</td>\n",
              "      <td>0.0</td>\n",
              "      <td>1.0</td>\n",
              "      <td>0.0</td>\n",
              "    </tr>\n",
              "  </tbody>\n",
              "</table>\n",
              "</div>\n",
              "      <button class=\"colab-df-convert\" onclick=\"convertToInteractive('df-df254032-af24-437b-8042-05f7bfd606b9')\"\n",
              "              title=\"Convert this dataframe to an interactive table.\"\n",
              "              style=\"display:none;\">\n",
              "        \n",
              "  <svg xmlns=\"http://www.w3.org/2000/svg\" height=\"24px\"viewBox=\"0 0 24 24\"\n",
              "       width=\"24px\">\n",
              "    <path d=\"M0 0h24v24H0V0z\" fill=\"none\"/>\n",
              "    <path d=\"M18.56 5.44l.94 2.06.94-2.06 2.06-.94-2.06-.94-.94-2.06-.94 2.06-2.06.94zm-11 1L8.5 8.5l.94-2.06 2.06-.94-2.06-.94L8.5 2.5l-.94 2.06-2.06.94zm10 10l.94 2.06.94-2.06 2.06-.94-2.06-.94-.94-2.06-.94 2.06-2.06.94z\"/><path d=\"M17.41 7.96l-1.37-1.37c-.4-.4-.92-.59-1.43-.59-.52 0-1.04.2-1.43.59L10.3 9.45l-7.72 7.72c-.78.78-.78 2.05 0 2.83L4 21.41c.39.39.9.59 1.41.59.51 0 1.02-.2 1.41-.59l7.78-7.78 2.81-2.81c.8-.78.8-2.07 0-2.86zM5.41 20L4 18.59l7.72-7.72 1.47 1.35L5.41 20z\"/>\n",
              "  </svg>\n",
              "      </button>\n",
              "      \n",
              "  <style>\n",
              "    .colab-df-container {\n",
              "      display:flex;\n",
              "      flex-wrap:wrap;\n",
              "      gap: 12px;\n",
              "    }\n",
              "\n",
              "    .colab-df-convert {\n",
              "      background-color: #E8F0FE;\n",
              "      border: none;\n",
              "      border-radius: 50%;\n",
              "      cursor: pointer;\n",
              "      display: none;\n",
              "      fill: #1967D2;\n",
              "      height: 32px;\n",
              "      padding: 0 0 0 0;\n",
              "      width: 32px;\n",
              "    }\n",
              "\n",
              "    .colab-df-convert:hover {\n",
              "      background-color: #E2EBFA;\n",
              "      box-shadow: 0px 1px 2px rgba(60, 64, 67, 0.3), 0px 1px 3px 1px rgba(60, 64, 67, 0.15);\n",
              "      fill: #174EA6;\n",
              "    }\n",
              "\n",
              "    [theme=dark] .colab-df-convert {\n",
              "      background-color: #3B4455;\n",
              "      fill: #D2E3FC;\n",
              "    }\n",
              "\n",
              "    [theme=dark] .colab-df-convert:hover {\n",
              "      background-color: #434B5C;\n",
              "      box-shadow: 0px 1px 3px 1px rgba(0, 0, 0, 0.15);\n",
              "      filter: drop-shadow(0px 1px 2px rgba(0, 0, 0, 0.3));\n",
              "      fill: #FFFFFF;\n",
              "    }\n",
              "  </style>\n",
              "\n",
              "      <script>\n",
              "        const buttonEl =\n",
              "          document.querySelector('#df-df254032-af24-437b-8042-05f7bfd606b9 button.colab-df-convert');\n",
              "        buttonEl.style.display =\n",
              "          google.colab.kernel.accessAllowed ? 'block' : 'none';\n",
              "\n",
              "        async function convertToInteractive(key) {\n",
              "          const element = document.querySelector('#df-df254032-af24-437b-8042-05f7bfd606b9');\n",
              "          const dataTable =\n",
              "            await google.colab.kernel.invokeFunction('convertToInteractive',\n",
              "                                                     [key], {});\n",
              "          if (!dataTable) return;\n",
              "\n",
              "          const docLinkHtml = 'Like what you see? Visit the ' +\n",
              "            '<a target=\"_blank\" href=https://colab.research.google.com/notebooks/data_table.ipynb>data table notebook</a>'\n",
              "            + ' to learn more about interactive tables.';\n",
              "          element.innerHTML = '';\n",
              "          dataTable['output_type'] = 'display_data';\n",
              "          await google.colab.output.renderOutput(dataTable, element);\n",
              "          const docLink = document.createElement('div');\n",
              "          docLink.innerHTML = docLinkHtml;\n",
              "          element.appendChild(docLink);\n",
              "        }\n",
              "      </script>\n",
              "    </div>\n",
              "  </div>\n",
              "  "
            ],
            "text/plain": [
              "  Item_Identifier  Item_Weight  ...  OT_Supermarket Type2  OT_Supermarket Type3\n",
              "0           FDA15        9.300  ...                   0.0                   0.0\n",
              "1           DRC01        5.920  ...                   1.0                   0.0\n",
              "2           FDN15       17.500  ...                   0.0                   0.0\n",
              "3           NCD19        8.930  ...                   0.0                   0.0\n",
              "4           FDP36       10.395  ...                   1.0                   0.0\n",
              "\n",
              "[5 rows x 41 columns]"
            ]
          },
          "metadata": {},
          "execution_count": 674
        }
      ]
    },
    {
      "cell_type": "markdown",
      "source": [
        "Listo, tenemos nuestra df con las variables continuas y las variables dummies, ahora siendo numéricas"
      ],
      "metadata": {
        "id": "llpA8z3kumL-"
      }
    },
    {
      "cell_type": "markdown",
      "source": [
        "Código inspirado de:\n",
        "1. https://es.stackoverflow.com/questions/403245/c%C3%B3mo-unir-dataframes-en-pandas\n",
        "2. https://programmerclick.com/article/5268501955/\n",
        "3. https://www.delftstack.com/es/howto/python/python-list-from-1-to-n/"
      ],
      "metadata": {
        "id": "zbjYEVFTwGxU"
      }
    },
    {
      "cell_type": "markdown",
      "source": [
        "  Ahora separaremos las columnas para que sean nuestras variables dependientes en el modelo lineal"
      ],
      "metadata": {
        "id": "DZQzuzPruuK5"
      }
    },
    {
      "cell_type": "code",
      "source": [
        "#Datos para la regresión lineal (X)\n",
        "\n",
        "X = sales_predictions_regresion.loc [:,['Item_Weight','Item_Visibility','Item_MRP',\n",
        "                                    'IFC_Low_Fat', 'IFC_Regular','IT_Dairy', 'IT_Soft Drinks', 'IT_Meat', 'IT_Household', 'IT_Baking Goods',\n",
        "       'IT_Snack Foods', 'IT_Fruits and Vegetables', 'IT_Breakfast',\n",
        "       'IT_Health and Hygiene', 'IT_Hard Drinks', 'IT_Frozen Foods', 'IT_Canned',\n",
        "       'IT_Starchy Foods', 'IT_Breads', 'IT_Others', 'IT_Seafood',\n",
        "       'OS_High', 'OS_Medium', 'OS_Small','OL_Tier 1', 'OL_Tier 2', 'OL_Tier 3','OT_Grocery Store', 'OT_Supermarket Type1', 'OT_Supermarket Type2',\n",
        "       'OT_Supermarket Type3'\n",
        "       ]].values\n",
        "X.shape"
      ],
      "metadata": {
        "colab": {
          "base_uri": "https://localhost:8080/"
        },
        "id": "6Rb0x14BkMXC",
        "outputId": "8e34f4d1-99c5-441e-f0f7-ecddb90f1a46"
      },
      "execution_count": 625,
      "outputs": [
        {
          "output_type": "execute_result",
          "data": {
            "text/plain": [
              "(6113, 31)"
            ]
          },
          "metadata": {},
          "execution_count": 625
        }
      ]
    },
    {
      "cell_type": "markdown",
      "source": [
        "Igualmente separamos la columna de nuestro vector objetivo (variable independiente)"
      ],
      "metadata": {
        "id": "dfR-qd3Ku1tB"
      }
    },
    {
      "cell_type": "code",
      "source": [
        "#Datos para la regresión lineal (y)\n",
        "y = sales_predictions_regresion.loc[:,'Item_Outlet_Sales'].values\n",
        "y.shape"
      ],
      "metadata": {
        "colab": {
          "base_uri": "https://localhost:8080/"
        },
        "id": "IeSxTRbImaaZ",
        "outputId": "5b36f253-d956-4251-a384-2ff121a84936"
      },
      "execution_count": 627,
      "outputs": [
        {
          "output_type": "execute_result",
          "data": {
            "text/plain": [
              "(6113,)"
            ]
          },
          "metadata": {},
          "execution_count": 627
        }
      ]
    },
    {
      "cell_type": "markdown",
      "source": [
        "Aplicamos el modelo de regresión "
      ],
      "metadata": {
        "id": "-X2_JBuwoO0a"
      }
    },
    {
      "cell_type": "code",
      "source": [
        "#importamos librería que nos permitira aplicar un algoritmo de regresión \n",
        "from sklearn import datasets,linear_model\n",
        "from sklearn.model_selection import train_test_split\n",
        "import matplotlib.pyplot as plt"
      ],
      "metadata": {
        "id": "OK4DHkXcnUtP"
      },
      "execution_count": 630,
      "outputs": []
    },
    {
      "cell_type": "code",
      "source": [
        "#Separar los df de entrenamiento con los de prueba \n",
        "X_train, X_test,y_train,y_test = train_test_split(X,y,test_size=0.2)\n"
      ],
      "metadata": {
        "id": "c9pWZDQ_mEoS"
      },
      "execution_count": 650,
      "outputs": []
    },
    {
      "cell_type": "markdown",
      "source": [
        "Definimos el algoritmo a utilizar "
      ],
      "metadata": {
        "id": "muZLlmLqvIGC"
      }
    },
    {
      "cell_type": "code",
      "source": [
        "lr = linear_model.LinearRegression()"
      ],
      "metadata": {
        "id": "j4DKrL8-opQY"
      },
      "execution_count": 651,
      "outputs": []
    },
    {
      "cell_type": "markdown",
      "source": [
        "Entrenamos el algoritmo"
      ],
      "metadata": {
        "id": "YyO-W4pSvfcY"
      }
    },
    {
      "cell_type": "code",
      "source": [
        "lr.fit(X_train,y_train)"
      ],
      "metadata": {
        "colab": {
          "base_uri": "https://localhost:8080/"
        },
        "id": "d1QjAikSo45m",
        "outputId": "ea9afdcf-0d87-4c45-d05d-6c67556d6656"
      },
      "execution_count": 652,
      "outputs": [
        {
          "output_type": "execute_result",
          "data": {
            "text/plain": [
              "LinearRegression()"
            ]
          },
          "metadata": {},
          "execution_count": 652
        }
      ]
    },
    {
      "cell_type": "markdown",
      "source": [
        "Realizamos una predicción"
      ],
      "metadata": {
        "id": "L68luk0ZvjPP"
      }
    },
    {
      "cell_type": "code",
      "source": [
        "y_pred = lr.predict(X_test)"
      ],
      "metadata": {
        "id": "XuKGt53Hoowb"
      },
      "execution_count": 653,
      "outputs": []
    },
    {
      "cell_type": "markdown",
      "source": [
        "Calificamos el modelo"
      ],
      "metadata": {
        "id": "jT_h-q-Mvpjl"
      }
    },
    {
      "cell_type": "code",
      "source": [
        "print('La precisión del modelo es de: ')\n",
        "print(lr.score(X_train,y_train))"
      ],
      "metadata": {
        "colab": {
          "base_uri": "https://localhost:8080/"
        },
        "id": "Z6si8cngqAU9",
        "outputId": "77cf3fa2-9e28-443f-d014-643358f50db6"
      },
      "execution_count": 675,
      "outputs": [
        {
          "output_type": "stream",
          "name": "stdout",
          "text": [
            "La precisión del modelo es de: \n",
            "0.566189533989001\n"
          ]
        }
      ]
    },
    {
      "cell_type": "markdown",
      "source": [
        "Código inspirado de: https://www.youtube.com/watch?v=YLGhVBB5rGU"
      ],
      "metadata": {
        "id": "Gh_v6Dd0vr61"
      }
    }
  ]
}